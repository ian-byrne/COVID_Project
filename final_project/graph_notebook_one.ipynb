{
 "cells": [
  {
   "cell_type": "markdown",
   "metadata": {},
   "source": [
    "# Select a date to view the top 10 mentioned words \n",
    "**Note:** For the below functions to work allTokenizedTweetsSingleWord.csv, covidTimeSeries.csv, graph_package_one.py will need to located in the same directory as this notebook. \n",
    "\n",
    "Packages used in this Notebook:\n",
    "- CPython 3.6.10\n",
    "- IPython 7.16.1\n",
    "- pandas 1.1.1\n",
    "- plotly 4.10.0\n",
    "- ipywidgets 7.5.1"
   ]
  },
  {
   "cell_type": "code",
   "execution_count": 1,
   "metadata": {
    "ExecuteTime": {
     "end_time": "2020-09-28T02:00:50.053231Z",
     "start_time": "2020-09-28T02:00:47.135615Z"
    }
   },
   "outputs": [],
   "source": [
    "import graph_package_one as gp1\n",
    "import ipywidgets as widgets"
   ]
  },
  {
   "cell_type": "code",
   "execution_count": 2,
   "metadata": {
    "ExecuteTime": {
     "end_time": "2020-09-28T02:00:54.618943Z",
     "start_time": "2020-09-28T02:00:50.055518Z"
    }
   },
   "outputs": [],
   "source": [
    " df = gp1.read_day_counts()"
   ]
  },
  {
   "cell_type": "markdown",
   "metadata": {},
   "source": [
    "If you wish to select and view a new date, please select a new date with the drop down and re run the ```daily_top10_barchart()``` cell. "
   ]
  },
  {
   "cell_type": "code",
   "execution_count": 3,
   "metadata": {
    "ExecuteTime": {
     "end_time": "2020-09-28T02:00:54.672683Z",
     "start_time": "2020-09-28T02:00:54.621838Z"
    },
    "code_folding": [
     1
    ]
   },
   "outputs": [
    {
     "data": {
      "application/vnd.jupyter.widget-view+json": {
       "model_id": "b5cd954ba45d41c1b86a281e4edc91df",
       "version_major": 2,
       "version_minor": 0
      },
      "text/plain": [
       "Dropdown(description='Date:', options=('2020-03-19', '2020-03-20', '2020-03-21', '2020-03-22', '2020-03-23', '…"
      ]
     },
     "metadata": {},
     "output_type": "display_data"
    }
   ],
   "source": [
    "dates = gp1.get_dates(df)\n",
    "date_selector = widgets.Dropdown(\n",
    "                   options=dates, \n",
    "                   value='2020-03-19',\n",
    "                   description='Date:',\n",
    "                   disabled=False,\n",
    "                   )\n",
    "display(date_selector)"
   ]
  },
  {
   "cell_type": "code",
   "execution_count": 9,
   "metadata": {
    "ExecuteTime": {
     "end_time": "2020-09-28T02:03:58.103430Z",
     "start_time": "2020-09-28T02:03:58.009138Z"
    }
   },
   "outputs": [
    {
     "data": {
      "application/vnd.plotly.v1+json": {
       "config": {
        "plotlyServerURL": "https://plot.ly"
       },
       "data": [
        {
         "alignmentgroup": "True",
         "hovertemplate": "tokenized=%{x}<br>counts=%{y}<extra></extra>",
         "legendgroup": "virus",
         "marker": {
          "color": "#636efa",
          "opacity": 0.9
         },
         "name": "virus",
         "offsetgroup": "virus",
         "orientation": "v",
         "showlegend": true,
         "textposition": "auto",
         "type": "bar",
         "x": [
          "virus"
         ],
         "xaxis": "x",
         "y": [
          975
         ],
         "yaxis": "y"
        },
        {
         "alignmentgroup": "True",
         "hovertemplate": "tokenized=%{x}<br>counts=%{y}<extra></extra>",
         "legendgroup": "people",
         "marker": {
          "color": "#EF553B",
          "opacity": 0.9
         },
         "name": "people",
         "offsetgroup": "people",
         "orientation": "v",
         "showlegend": true,
         "textposition": "auto",
         "type": "bar",
         "x": [
          "people"
         ],
         "xaxis": "x",
         "y": [
          385
         ],
         "yaxis": "y"
        },
        {
         "alignmentgroup": "True",
         "hovertemplate": "tokenized=%{x}<br>counts=%{y}<extra></extra>",
         "legendgroup": "ha",
         "marker": {
          "color": "#00cc96",
          "opacity": 0.9
         },
         "name": "ha",
         "offsetgroup": "ha",
         "orientation": "v",
         "showlegend": true,
         "textposition": "auto",
         "type": "bar",
         "x": [
          "ha"
         ],
         "xaxis": "x",
         "y": [
          377
         ],
         "yaxis": "y"
        },
        {
         "alignmentgroup": "True",
         "hovertemplate": "tokenized=%{x}<br>counts=%{y}<extra></extra>",
         "legendgroup": "..",
         "marker": {
          "color": "#ab63fa",
          "opacity": 0.9
         },
         "name": "..",
         "offsetgroup": "..",
         "orientation": "v",
         "showlegend": true,
         "textposition": "auto",
         "type": "bar",
         "x": [
          ".."
         ],
         "xaxis": "x",
         "y": [
          306
         ],
         "yaxis": "y"
        },
        {
         "alignmentgroup": "True",
         "hovertemplate": "tokenized=%{x}<br>counts=%{y}<extra></extra>",
         "legendgroup": "wa",
         "marker": {
          "color": "#FFA15A",
          "opacity": 0.9
         },
         "name": "wa",
         "offsetgroup": "wa",
         "orientation": "v",
         "showlegend": true,
         "textposition": "auto",
         "type": "bar",
         "x": [
          "wa"
         ],
         "xaxis": "x",
         "y": [
          293
         ],
         "yaxis": "y"
        },
        {
         "alignmentgroup": "True",
         "hovertemplate": "tokenized=%{x}<br>counts=%{y}<extra></extra>",
         "legendgroup": "china",
         "marker": {
          "color": "#19d3f3",
          "opacity": 0.9
         },
         "name": "china",
         "offsetgroup": "china",
         "orientation": "v",
         "showlegend": true,
         "textposition": "auto",
         "type": "bar",
         "x": [
          "china"
         ],
         "xaxis": "x",
         "y": [
          245
         ],
         "yaxis": "y"
        },
        {
         "alignmentgroup": "True",
         "hovertemplate": "tokenized=%{x}<br>counts=%{y}<extra></extra>",
         "legendgroup": "get",
         "marker": {
          "color": "#FF6692",
          "opacity": 0.9
         },
         "name": "get",
         "offsetgroup": "get",
         "orientation": "v",
         "showlegend": true,
         "textposition": "auto",
         "type": "bar",
         "x": [
          "get"
         ],
         "xaxis": "x",
         "y": [
          245
         ],
         "yaxis": "y"
        },
        {
         "alignmentgroup": "True",
         "hovertemplate": "tokenized=%{x}<br>counts=%{y}<extra></extra>",
         "legendgroup": "world",
         "marker": {
          "color": "#B6E880",
          "opacity": 0.9
         },
         "name": "world",
         "offsetgroup": "world",
         "orientation": "v",
         "showlegend": true,
         "textposition": "auto",
         "type": "bar",
         "x": [
          "world"
         ],
         "xaxis": "x",
         "y": [
          225
         ],
         "yaxis": "y"
        },
        {
         "alignmentgroup": "True",
         "hovertemplate": "tokenized=%{x}<br>counts=%{y}<extra></extra>",
         "legendgroup": "lockdown",
         "marker": {
          "color": "#FF97FF",
          "opacity": 0.9
         },
         "name": "lockdown",
         "offsetgroup": "lockdown",
         "orientation": "v",
         "showlegend": true,
         "textposition": "auto",
         "type": "bar",
         "x": [
          "lockdown"
         ],
         "xaxis": "x",
         "y": [
          223
         ],
         "yaxis": "y"
        },
        {
         "alignmentgroup": "True",
         "hovertemplate": "tokenized=%{x}<br>counts=%{y}<extra></extra>",
         "legendgroup": "like",
         "marker": {
          "color": "#FECB52",
          "opacity": 0.9
         },
         "name": "like",
         "offsetgroup": "like",
         "orientation": "v",
         "showlegend": true,
         "textposition": "auto",
         "type": "bar",
         "x": [
          "like"
         ],
         "xaxis": "x",
         "y": [
          214
         ],
         "yaxis": "y"
        }
       ],
       "layout": {
        "barmode": "relative",
        "legend": {
         "title": {
          "text": "tokenized"
         },
         "tracegroupgap": 0
        },
        "margin": {
         "t": 60
        },
        "template": {
         "data": {
          "bar": [
           {
            "error_x": {
             "color": "#2a3f5f"
            },
            "error_y": {
             "color": "#2a3f5f"
            },
            "marker": {
             "line": {
              "color": "#E5ECF6",
              "width": 0.5
             }
            },
            "type": "bar"
           }
          ],
          "barpolar": [
           {
            "marker": {
             "line": {
              "color": "#E5ECF6",
              "width": 0.5
             }
            },
            "type": "barpolar"
           }
          ],
          "carpet": [
           {
            "aaxis": {
             "endlinecolor": "#2a3f5f",
             "gridcolor": "white",
             "linecolor": "white",
             "minorgridcolor": "white",
             "startlinecolor": "#2a3f5f"
            },
            "baxis": {
             "endlinecolor": "#2a3f5f",
             "gridcolor": "white",
             "linecolor": "white",
             "minorgridcolor": "white",
             "startlinecolor": "#2a3f5f"
            },
            "type": "carpet"
           }
          ],
          "choropleth": [
           {
            "colorbar": {
             "outlinewidth": 0,
             "ticks": ""
            },
            "type": "choropleth"
           }
          ],
          "contour": [
           {
            "colorbar": {
             "outlinewidth": 0,
             "ticks": ""
            },
            "colorscale": [
             [
              0,
              "#0d0887"
             ],
             [
              0.1111111111111111,
              "#46039f"
             ],
             [
              0.2222222222222222,
              "#7201a8"
             ],
             [
              0.3333333333333333,
              "#9c179e"
             ],
             [
              0.4444444444444444,
              "#bd3786"
             ],
             [
              0.5555555555555556,
              "#d8576b"
             ],
             [
              0.6666666666666666,
              "#ed7953"
             ],
             [
              0.7777777777777778,
              "#fb9f3a"
             ],
             [
              0.8888888888888888,
              "#fdca26"
             ],
             [
              1,
              "#f0f921"
             ]
            ],
            "type": "contour"
           }
          ],
          "contourcarpet": [
           {
            "colorbar": {
             "outlinewidth": 0,
             "ticks": ""
            },
            "type": "contourcarpet"
           }
          ],
          "heatmap": [
           {
            "colorbar": {
             "outlinewidth": 0,
             "ticks": ""
            },
            "colorscale": [
             [
              0,
              "#0d0887"
             ],
             [
              0.1111111111111111,
              "#46039f"
             ],
             [
              0.2222222222222222,
              "#7201a8"
             ],
             [
              0.3333333333333333,
              "#9c179e"
             ],
             [
              0.4444444444444444,
              "#bd3786"
             ],
             [
              0.5555555555555556,
              "#d8576b"
             ],
             [
              0.6666666666666666,
              "#ed7953"
             ],
             [
              0.7777777777777778,
              "#fb9f3a"
             ],
             [
              0.8888888888888888,
              "#fdca26"
             ],
             [
              1,
              "#f0f921"
             ]
            ],
            "type": "heatmap"
           }
          ],
          "heatmapgl": [
           {
            "colorbar": {
             "outlinewidth": 0,
             "ticks": ""
            },
            "colorscale": [
             [
              0,
              "#0d0887"
             ],
             [
              0.1111111111111111,
              "#46039f"
             ],
             [
              0.2222222222222222,
              "#7201a8"
             ],
             [
              0.3333333333333333,
              "#9c179e"
             ],
             [
              0.4444444444444444,
              "#bd3786"
             ],
             [
              0.5555555555555556,
              "#d8576b"
             ],
             [
              0.6666666666666666,
              "#ed7953"
             ],
             [
              0.7777777777777778,
              "#fb9f3a"
             ],
             [
              0.8888888888888888,
              "#fdca26"
             ],
             [
              1,
              "#f0f921"
             ]
            ],
            "type": "heatmapgl"
           }
          ],
          "histogram": [
           {
            "marker": {
             "colorbar": {
              "outlinewidth": 0,
              "ticks": ""
             }
            },
            "type": "histogram"
           }
          ],
          "histogram2d": [
           {
            "colorbar": {
             "outlinewidth": 0,
             "ticks": ""
            },
            "colorscale": [
             [
              0,
              "#0d0887"
             ],
             [
              0.1111111111111111,
              "#46039f"
             ],
             [
              0.2222222222222222,
              "#7201a8"
             ],
             [
              0.3333333333333333,
              "#9c179e"
             ],
             [
              0.4444444444444444,
              "#bd3786"
             ],
             [
              0.5555555555555556,
              "#d8576b"
             ],
             [
              0.6666666666666666,
              "#ed7953"
             ],
             [
              0.7777777777777778,
              "#fb9f3a"
             ],
             [
              0.8888888888888888,
              "#fdca26"
             ],
             [
              1,
              "#f0f921"
             ]
            ],
            "type": "histogram2d"
           }
          ],
          "histogram2dcontour": [
           {
            "colorbar": {
             "outlinewidth": 0,
             "ticks": ""
            },
            "colorscale": [
             [
              0,
              "#0d0887"
             ],
             [
              0.1111111111111111,
              "#46039f"
             ],
             [
              0.2222222222222222,
              "#7201a8"
             ],
             [
              0.3333333333333333,
              "#9c179e"
             ],
             [
              0.4444444444444444,
              "#bd3786"
             ],
             [
              0.5555555555555556,
              "#d8576b"
             ],
             [
              0.6666666666666666,
              "#ed7953"
             ],
             [
              0.7777777777777778,
              "#fb9f3a"
             ],
             [
              0.8888888888888888,
              "#fdca26"
             ],
             [
              1,
              "#f0f921"
             ]
            ],
            "type": "histogram2dcontour"
           }
          ],
          "mesh3d": [
           {
            "colorbar": {
             "outlinewidth": 0,
             "ticks": ""
            },
            "type": "mesh3d"
           }
          ],
          "parcoords": [
           {
            "line": {
             "colorbar": {
              "outlinewidth": 0,
              "ticks": ""
             }
            },
            "type": "parcoords"
           }
          ],
          "pie": [
           {
            "automargin": true,
            "type": "pie"
           }
          ],
          "scatter": [
           {
            "marker": {
             "colorbar": {
              "outlinewidth": 0,
              "ticks": ""
             }
            },
            "type": "scatter"
           }
          ],
          "scatter3d": [
           {
            "line": {
             "colorbar": {
              "outlinewidth": 0,
              "ticks": ""
             }
            },
            "marker": {
             "colorbar": {
              "outlinewidth": 0,
              "ticks": ""
             }
            },
            "type": "scatter3d"
           }
          ],
          "scattercarpet": [
           {
            "marker": {
             "colorbar": {
              "outlinewidth": 0,
              "ticks": ""
             }
            },
            "type": "scattercarpet"
           }
          ],
          "scattergeo": [
           {
            "marker": {
             "colorbar": {
              "outlinewidth": 0,
              "ticks": ""
             }
            },
            "type": "scattergeo"
           }
          ],
          "scattergl": [
           {
            "marker": {
             "colorbar": {
              "outlinewidth": 0,
              "ticks": ""
             }
            },
            "type": "scattergl"
           }
          ],
          "scattermapbox": [
           {
            "marker": {
             "colorbar": {
              "outlinewidth": 0,
              "ticks": ""
             }
            },
            "type": "scattermapbox"
           }
          ],
          "scatterpolar": [
           {
            "marker": {
             "colorbar": {
              "outlinewidth": 0,
              "ticks": ""
             }
            },
            "type": "scatterpolar"
           }
          ],
          "scatterpolargl": [
           {
            "marker": {
             "colorbar": {
              "outlinewidth": 0,
              "ticks": ""
             }
            },
            "type": "scatterpolargl"
           }
          ],
          "scatterternary": [
           {
            "marker": {
             "colorbar": {
              "outlinewidth": 0,
              "ticks": ""
             }
            },
            "type": "scatterternary"
           }
          ],
          "surface": [
           {
            "colorbar": {
             "outlinewidth": 0,
             "ticks": ""
            },
            "colorscale": [
             [
              0,
              "#0d0887"
             ],
             [
              0.1111111111111111,
              "#46039f"
             ],
             [
              0.2222222222222222,
              "#7201a8"
             ],
             [
              0.3333333333333333,
              "#9c179e"
             ],
             [
              0.4444444444444444,
              "#bd3786"
             ],
             [
              0.5555555555555556,
              "#d8576b"
             ],
             [
              0.6666666666666666,
              "#ed7953"
             ],
             [
              0.7777777777777778,
              "#fb9f3a"
             ],
             [
              0.8888888888888888,
              "#fdca26"
             ],
             [
              1,
              "#f0f921"
             ]
            ],
            "type": "surface"
           }
          ],
          "table": [
           {
            "cells": {
             "fill": {
              "color": "#EBF0F8"
             },
             "line": {
              "color": "white"
             }
            },
            "header": {
             "fill": {
              "color": "#C8D4E3"
             },
             "line": {
              "color": "white"
             }
            },
            "type": "table"
           }
          ]
         },
         "layout": {
          "annotationdefaults": {
           "arrowcolor": "#2a3f5f",
           "arrowhead": 0,
           "arrowwidth": 1
          },
          "coloraxis": {
           "colorbar": {
            "outlinewidth": 0,
            "ticks": ""
           }
          },
          "colorscale": {
           "diverging": [
            [
             0,
             "#8e0152"
            ],
            [
             0.1,
             "#c51b7d"
            ],
            [
             0.2,
             "#de77ae"
            ],
            [
             0.3,
             "#f1b6da"
            ],
            [
             0.4,
             "#fde0ef"
            ],
            [
             0.5,
             "#f7f7f7"
            ],
            [
             0.6,
             "#e6f5d0"
            ],
            [
             0.7,
             "#b8e186"
            ],
            [
             0.8,
             "#7fbc41"
            ],
            [
             0.9,
             "#4d9221"
            ],
            [
             1,
             "#276419"
            ]
           ],
           "sequential": [
            [
             0,
             "#0d0887"
            ],
            [
             0.1111111111111111,
             "#46039f"
            ],
            [
             0.2222222222222222,
             "#7201a8"
            ],
            [
             0.3333333333333333,
             "#9c179e"
            ],
            [
             0.4444444444444444,
             "#bd3786"
            ],
            [
             0.5555555555555556,
             "#d8576b"
            ],
            [
             0.6666666666666666,
             "#ed7953"
            ],
            [
             0.7777777777777778,
             "#fb9f3a"
            ],
            [
             0.8888888888888888,
             "#fdca26"
            ],
            [
             1,
             "#f0f921"
            ]
           ],
           "sequentialminus": [
            [
             0,
             "#0d0887"
            ],
            [
             0.1111111111111111,
             "#46039f"
            ],
            [
             0.2222222222222222,
             "#7201a8"
            ],
            [
             0.3333333333333333,
             "#9c179e"
            ],
            [
             0.4444444444444444,
             "#bd3786"
            ],
            [
             0.5555555555555556,
             "#d8576b"
            ],
            [
             0.6666666666666666,
             "#ed7953"
            ],
            [
             0.7777777777777778,
             "#fb9f3a"
            ],
            [
             0.8888888888888888,
             "#fdca26"
            ],
            [
             1,
             "#f0f921"
            ]
           ]
          },
          "colorway": [
           "#636efa",
           "#EF553B",
           "#00cc96",
           "#ab63fa",
           "#FFA15A",
           "#19d3f3",
           "#FF6692",
           "#B6E880",
           "#FF97FF",
           "#FECB52"
          ],
          "font": {
           "color": "#2a3f5f"
          },
          "geo": {
           "bgcolor": "white",
           "lakecolor": "white",
           "landcolor": "#E5ECF6",
           "showlakes": true,
           "showland": true,
           "subunitcolor": "white"
          },
          "hoverlabel": {
           "align": "left"
          },
          "hovermode": "closest",
          "mapbox": {
           "style": "light"
          },
          "paper_bgcolor": "white",
          "plot_bgcolor": "#E5ECF6",
          "polar": {
           "angularaxis": {
            "gridcolor": "white",
            "linecolor": "white",
            "ticks": ""
           },
           "bgcolor": "#E5ECF6",
           "radialaxis": {
            "gridcolor": "white",
            "linecolor": "white",
            "ticks": ""
           }
          },
          "scene": {
           "xaxis": {
            "backgroundcolor": "#E5ECF6",
            "gridcolor": "white",
            "gridwidth": 2,
            "linecolor": "white",
            "showbackground": true,
            "ticks": "",
            "zerolinecolor": "white"
           },
           "yaxis": {
            "backgroundcolor": "#E5ECF6",
            "gridcolor": "white",
            "gridwidth": 2,
            "linecolor": "white",
            "showbackground": true,
            "ticks": "",
            "zerolinecolor": "white"
           },
           "zaxis": {
            "backgroundcolor": "#E5ECF6",
            "gridcolor": "white",
            "gridwidth": 2,
            "linecolor": "white",
            "showbackground": true,
            "ticks": "",
            "zerolinecolor": "white"
           }
          },
          "shapedefaults": {
           "line": {
            "color": "#2a3f5f"
           }
          },
          "ternary": {
           "aaxis": {
            "gridcolor": "white",
            "linecolor": "white",
            "ticks": ""
           },
           "baxis": {
            "gridcolor": "white",
            "linecolor": "white",
            "ticks": ""
           },
           "bgcolor": "#E5ECF6",
           "caxis": {
            "gridcolor": "white",
            "linecolor": "white",
            "ticks": ""
           }
          },
          "title": {
           "x": 0.05
          },
          "xaxis": {
           "automargin": true,
           "gridcolor": "white",
           "linecolor": "white",
           "ticks": "",
           "title": {
            "standoff": 15
           },
           "zerolinecolor": "white",
           "zerolinewidth": 2
          },
          "yaxis": {
           "automargin": true,
           "gridcolor": "white",
           "linecolor": "white",
           "ticks": "",
           "title": {
            "standoff": 15
           },
           "zerolinecolor": "white",
           "zerolinewidth": 2
          }
         }
        },
        "xaxis": {
         "anchor": "y",
         "categoryarray": [
          "virus",
          "people",
          "ha",
          "..",
          "wa",
          "china",
          "get",
          "world",
          "lockdown",
          "like"
         ],
         "categoryorder": "array",
         "domain": [
          0,
          1
         ],
         "title": {
          "text": "tokenized"
         }
        },
        "yaxis": {
         "anchor": "x",
         "domain": [
          0,
          1
         ],
         "title": {
          "text": "counts"
         }
        }
       }
      },
      "text/html": [
       "<div>                            <div id=\"83206a8f-be1f-4a5c-bf92-c822d422e962\" class=\"plotly-graph-div\" style=\"height:525px; width:100%;\"></div>            <script type=\"text/javascript\">                require([\"plotly\"], function(Plotly) {                    window.PLOTLYENV=window.PLOTLYENV || {};                                    if (document.getElementById(\"83206a8f-be1f-4a5c-bf92-c822d422e962\")) {                    Plotly.newPlot(                        \"83206a8f-be1f-4a5c-bf92-c822d422e962\",                        [{\"alignmentgroup\": \"True\", \"hovertemplate\": \"tokenized=%{x}<br>counts=%{y}<extra></extra>\", \"legendgroup\": \"virus\", \"marker\": {\"color\": \"#636efa\", \"opacity\": 0.9}, \"name\": \"virus\", \"offsetgroup\": \"virus\", \"orientation\": \"v\", \"showlegend\": true, \"textposition\": \"auto\", \"type\": \"bar\", \"x\": [\"virus\"], \"xaxis\": \"x\", \"y\": [975], \"yaxis\": \"y\"}, {\"alignmentgroup\": \"True\", \"hovertemplate\": \"tokenized=%{x}<br>counts=%{y}<extra></extra>\", \"legendgroup\": \"people\", \"marker\": {\"color\": \"#EF553B\", \"opacity\": 0.9}, \"name\": \"people\", \"offsetgroup\": \"people\", \"orientation\": \"v\", \"showlegend\": true, \"textposition\": \"auto\", \"type\": \"bar\", \"x\": [\"people\"], \"xaxis\": \"x\", \"y\": [385], \"yaxis\": \"y\"}, {\"alignmentgroup\": \"True\", \"hovertemplate\": \"tokenized=%{x}<br>counts=%{y}<extra></extra>\", \"legendgroup\": \"ha\", \"marker\": {\"color\": \"#00cc96\", \"opacity\": 0.9}, \"name\": \"ha\", \"offsetgroup\": \"ha\", \"orientation\": \"v\", \"showlegend\": true, \"textposition\": \"auto\", \"type\": \"bar\", \"x\": [\"ha\"], \"xaxis\": \"x\", \"y\": [377], \"yaxis\": \"y\"}, {\"alignmentgroup\": \"True\", \"hovertemplate\": \"tokenized=%{x}<br>counts=%{y}<extra></extra>\", \"legendgroup\": \"..\", \"marker\": {\"color\": \"#ab63fa\", \"opacity\": 0.9}, \"name\": \"..\", \"offsetgroup\": \"..\", \"orientation\": \"v\", \"showlegend\": true, \"textposition\": \"auto\", \"type\": \"bar\", \"x\": [\"..\"], \"xaxis\": \"x\", \"y\": [306], \"yaxis\": \"y\"}, {\"alignmentgroup\": \"True\", \"hovertemplate\": \"tokenized=%{x}<br>counts=%{y}<extra></extra>\", \"legendgroup\": \"wa\", \"marker\": {\"color\": \"#FFA15A\", \"opacity\": 0.9}, \"name\": \"wa\", \"offsetgroup\": \"wa\", \"orientation\": \"v\", \"showlegend\": true, \"textposition\": \"auto\", \"type\": \"bar\", \"x\": [\"wa\"], \"xaxis\": \"x\", \"y\": [293], \"yaxis\": \"y\"}, {\"alignmentgroup\": \"True\", \"hovertemplate\": \"tokenized=%{x}<br>counts=%{y}<extra></extra>\", \"legendgroup\": \"china\", \"marker\": {\"color\": \"#19d3f3\", \"opacity\": 0.9}, \"name\": \"china\", \"offsetgroup\": \"china\", \"orientation\": \"v\", \"showlegend\": true, \"textposition\": \"auto\", \"type\": \"bar\", \"x\": [\"china\"], \"xaxis\": \"x\", \"y\": [245], \"yaxis\": \"y\"}, {\"alignmentgroup\": \"True\", \"hovertemplate\": \"tokenized=%{x}<br>counts=%{y}<extra></extra>\", \"legendgroup\": \"get\", \"marker\": {\"color\": \"#FF6692\", \"opacity\": 0.9}, \"name\": \"get\", \"offsetgroup\": \"get\", \"orientation\": \"v\", \"showlegend\": true, \"textposition\": \"auto\", \"type\": \"bar\", \"x\": [\"get\"], \"xaxis\": \"x\", \"y\": [245], \"yaxis\": \"y\"}, {\"alignmentgroup\": \"True\", \"hovertemplate\": \"tokenized=%{x}<br>counts=%{y}<extra></extra>\", \"legendgroup\": \"world\", \"marker\": {\"color\": \"#B6E880\", \"opacity\": 0.9}, \"name\": \"world\", \"offsetgroup\": \"world\", \"orientation\": \"v\", \"showlegend\": true, \"textposition\": \"auto\", \"type\": \"bar\", \"x\": [\"world\"], \"xaxis\": \"x\", \"y\": [225], \"yaxis\": \"y\"}, {\"alignmentgroup\": \"True\", \"hovertemplate\": \"tokenized=%{x}<br>counts=%{y}<extra></extra>\", \"legendgroup\": \"lockdown\", \"marker\": {\"color\": \"#FF97FF\", \"opacity\": 0.9}, \"name\": \"lockdown\", \"offsetgroup\": \"lockdown\", \"orientation\": \"v\", \"showlegend\": true, \"textposition\": \"auto\", \"type\": \"bar\", \"x\": [\"lockdown\"], \"xaxis\": \"x\", \"y\": [223], \"yaxis\": \"y\"}, {\"alignmentgroup\": \"True\", \"hovertemplate\": \"tokenized=%{x}<br>counts=%{y}<extra></extra>\", \"legendgroup\": \"like\", \"marker\": {\"color\": \"#FECB52\", \"opacity\": 0.9}, \"name\": \"like\", \"offsetgroup\": \"like\", \"orientation\": \"v\", \"showlegend\": true, \"textposition\": \"auto\", \"type\": \"bar\", \"x\": [\"like\"], \"xaxis\": \"x\", \"y\": [214], \"yaxis\": \"y\"}],                        {\"barmode\": \"relative\", \"legend\": {\"title\": {\"text\": \"tokenized\"}, \"tracegroupgap\": 0}, \"margin\": {\"t\": 60}, \"template\": {\"data\": {\"bar\": [{\"error_x\": {\"color\": \"#2a3f5f\"}, \"error_y\": {\"color\": \"#2a3f5f\"}, \"marker\": {\"line\": {\"color\": \"#E5ECF6\", \"width\": 0.5}}, \"type\": \"bar\"}], \"barpolar\": [{\"marker\": {\"line\": {\"color\": \"#E5ECF6\", \"width\": 0.5}}, \"type\": \"barpolar\"}], \"carpet\": [{\"aaxis\": {\"endlinecolor\": \"#2a3f5f\", \"gridcolor\": \"white\", \"linecolor\": \"white\", \"minorgridcolor\": \"white\", \"startlinecolor\": \"#2a3f5f\"}, \"baxis\": {\"endlinecolor\": \"#2a3f5f\", \"gridcolor\": \"white\", \"linecolor\": \"white\", \"minorgridcolor\": \"white\", \"startlinecolor\": \"#2a3f5f\"}, \"type\": \"carpet\"}], \"choropleth\": [{\"colorbar\": {\"outlinewidth\": 0, \"ticks\": \"\"}, \"type\": \"choropleth\"}], \"contour\": [{\"colorbar\": {\"outlinewidth\": 0, \"ticks\": \"\"}, \"colorscale\": [[0.0, \"#0d0887\"], [0.1111111111111111, \"#46039f\"], [0.2222222222222222, \"#7201a8\"], [0.3333333333333333, \"#9c179e\"], [0.4444444444444444, \"#bd3786\"], [0.5555555555555556, \"#d8576b\"], [0.6666666666666666, \"#ed7953\"], [0.7777777777777778, \"#fb9f3a\"], [0.8888888888888888, \"#fdca26\"], [1.0, \"#f0f921\"]], \"type\": \"contour\"}], \"contourcarpet\": [{\"colorbar\": {\"outlinewidth\": 0, \"ticks\": \"\"}, \"type\": \"contourcarpet\"}], \"heatmap\": [{\"colorbar\": {\"outlinewidth\": 0, \"ticks\": \"\"}, \"colorscale\": [[0.0, \"#0d0887\"], [0.1111111111111111, \"#46039f\"], [0.2222222222222222, \"#7201a8\"], [0.3333333333333333, \"#9c179e\"], [0.4444444444444444, \"#bd3786\"], [0.5555555555555556, \"#d8576b\"], [0.6666666666666666, \"#ed7953\"], [0.7777777777777778, \"#fb9f3a\"], [0.8888888888888888, \"#fdca26\"], [1.0, \"#f0f921\"]], \"type\": \"heatmap\"}], \"heatmapgl\": [{\"colorbar\": {\"outlinewidth\": 0, \"ticks\": \"\"}, \"colorscale\": [[0.0, \"#0d0887\"], [0.1111111111111111, \"#46039f\"], [0.2222222222222222, \"#7201a8\"], [0.3333333333333333, \"#9c179e\"], [0.4444444444444444, \"#bd3786\"], [0.5555555555555556, \"#d8576b\"], [0.6666666666666666, \"#ed7953\"], [0.7777777777777778, \"#fb9f3a\"], [0.8888888888888888, \"#fdca26\"], [1.0, \"#f0f921\"]], \"type\": \"heatmapgl\"}], \"histogram\": [{\"marker\": {\"colorbar\": {\"outlinewidth\": 0, \"ticks\": \"\"}}, \"type\": \"histogram\"}], \"histogram2d\": [{\"colorbar\": {\"outlinewidth\": 0, \"ticks\": \"\"}, \"colorscale\": [[0.0, \"#0d0887\"], [0.1111111111111111, \"#46039f\"], [0.2222222222222222, \"#7201a8\"], [0.3333333333333333, \"#9c179e\"], [0.4444444444444444, \"#bd3786\"], [0.5555555555555556, \"#d8576b\"], [0.6666666666666666, \"#ed7953\"], [0.7777777777777778, \"#fb9f3a\"], [0.8888888888888888, \"#fdca26\"], [1.0, \"#f0f921\"]], \"type\": \"histogram2d\"}], \"histogram2dcontour\": [{\"colorbar\": {\"outlinewidth\": 0, \"ticks\": \"\"}, \"colorscale\": [[0.0, \"#0d0887\"], [0.1111111111111111, \"#46039f\"], [0.2222222222222222, \"#7201a8\"], [0.3333333333333333, \"#9c179e\"], [0.4444444444444444, \"#bd3786\"], [0.5555555555555556, \"#d8576b\"], [0.6666666666666666, \"#ed7953\"], [0.7777777777777778, \"#fb9f3a\"], [0.8888888888888888, \"#fdca26\"], [1.0, \"#f0f921\"]], \"type\": \"histogram2dcontour\"}], \"mesh3d\": [{\"colorbar\": {\"outlinewidth\": 0, \"ticks\": \"\"}, \"type\": \"mesh3d\"}], \"parcoords\": [{\"line\": {\"colorbar\": {\"outlinewidth\": 0, \"ticks\": \"\"}}, \"type\": \"parcoords\"}], \"pie\": [{\"automargin\": true, \"type\": \"pie\"}], \"scatter\": [{\"marker\": {\"colorbar\": {\"outlinewidth\": 0, \"ticks\": \"\"}}, \"type\": \"scatter\"}], \"scatter3d\": [{\"line\": {\"colorbar\": {\"outlinewidth\": 0, \"ticks\": \"\"}}, \"marker\": {\"colorbar\": {\"outlinewidth\": 0, \"ticks\": \"\"}}, \"type\": \"scatter3d\"}], \"scattercarpet\": [{\"marker\": {\"colorbar\": {\"outlinewidth\": 0, \"ticks\": \"\"}}, \"type\": \"scattercarpet\"}], \"scattergeo\": [{\"marker\": {\"colorbar\": {\"outlinewidth\": 0, \"ticks\": \"\"}}, \"type\": \"scattergeo\"}], \"scattergl\": [{\"marker\": {\"colorbar\": {\"outlinewidth\": 0, \"ticks\": \"\"}}, \"type\": \"scattergl\"}], \"scattermapbox\": [{\"marker\": {\"colorbar\": {\"outlinewidth\": 0, \"ticks\": \"\"}}, \"type\": \"scattermapbox\"}], \"scatterpolar\": [{\"marker\": {\"colorbar\": {\"outlinewidth\": 0, \"ticks\": \"\"}}, \"type\": \"scatterpolar\"}], \"scatterpolargl\": [{\"marker\": {\"colorbar\": {\"outlinewidth\": 0, \"ticks\": \"\"}}, \"type\": \"scatterpolargl\"}], \"scatterternary\": [{\"marker\": {\"colorbar\": {\"outlinewidth\": 0, \"ticks\": \"\"}}, \"type\": \"scatterternary\"}], \"surface\": [{\"colorbar\": {\"outlinewidth\": 0, \"ticks\": \"\"}, \"colorscale\": [[0.0, \"#0d0887\"], [0.1111111111111111, \"#46039f\"], [0.2222222222222222, \"#7201a8\"], [0.3333333333333333, \"#9c179e\"], [0.4444444444444444, \"#bd3786\"], [0.5555555555555556, \"#d8576b\"], [0.6666666666666666, \"#ed7953\"], [0.7777777777777778, \"#fb9f3a\"], [0.8888888888888888, \"#fdca26\"], [1.0, \"#f0f921\"]], \"type\": \"surface\"}], \"table\": [{\"cells\": {\"fill\": {\"color\": \"#EBF0F8\"}, \"line\": {\"color\": \"white\"}}, \"header\": {\"fill\": {\"color\": \"#C8D4E3\"}, \"line\": {\"color\": \"white\"}}, \"type\": \"table\"}]}, \"layout\": {\"annotationdefaults\": {\"arrowcolor\": \"#2a3f5f\", \"arrowhead\": 0, \"arrowwidth\": 1}, \"coloraxis\": {\"colorbar\": {\"outlinewidth\": 0, \"ticks\": \"\"}}, \"colorscale\": {\"diverging\": [[0, \"#8e0152\"], [0.1, \"#c51b7d\"], [0.2, \"#de77ae\"], [0.3, \"#f1b6da\"], [0.4, \"#fde0ef\"], [0.5, \"#f7f7f7\"], [0.6, \"#e6f5d0\"], [0.7, \"#b8e186\"], [0.8, \"#7fbc41\"], [0.9, \"#4d9221\"], [1, \"#276419\"]], \"sequential\": [[0.0, \"#0d0887\"], [0.1111111111111111, \"#46039f\"], [0.2222222222222222, \"#7201a8\"], [0.3333333333333333, \"#9c179e\"], [0.4444444444444444, \"#bd3786\"], [0.5555555555555556, \"#d8576b\"], [0.6666666666666666, \"#ed7953\"], [0.7777777777777778, \"#fb9f3a\"], [0.8888888888888888, \"#fdca26\"], [1.0, \"#f0f921\"]], \"sequentialminus\": [[0.0, \"#0d0887\"], [0.1111111111111111, \"#46039f\"], [0.2222222222222222, \"#7201a8\"], [0.3333333333333333, \"#9c179e\"], [0.4444444444444444, \"#bd3786\"], [0.5555555555555556, \"#d8576b\"], [0.6666666666666666, \"#ed7953\"], [0.7777777777777778, \"#fb9f3a\"], [0.8888888888888888, \"#fdca26\"], [1.0, \"#f0f921\"]]}, \"colorway\": [\"#636efa\", \"#EF553B\", \"#00cc96\", \"#ab63fa\", \"#FFA15A\", \"#19d3f3\", \"#FF6692\", \"#B6E880\", \"#FF97FF\", \"#FECB52\"], \"font\": {\"color\": \"#2a3f5f\"}, \"geo\": {\"bgcolor\": \"white\", \"lakecolor\": \"white\", \"landcolor\": \"#E5ECF6\", \"showlakes\": true, \"showland\": true, \"subunitcolor\": \"white\"}, \"hoverlabel\": {\"align\": \"left\"}, \"hovermode\": \"closest\", \"mapbox\": {\"style\": \"light\"}, \"paper_bgcolor\": \"white\", \"plot_bgcolor\": \"#E5ECF6\", \"polar\": {\"angularaxis\": {\"gridcolor\": \"white\", \"linecolor\": \"white\", \"ticks\": \"\"}, \"bgcolor\": \"#E5ECF6\", \"radialaxis\": {\"gridcolor\": \"white\", \"linecolor\": \"white\", \"ticks\": \"\"}}, \"scene\": {\"xaxis\": {\"backgroundcolor\": \"#E5ECF6\", \"gridcolor\": \"white\", \"gridwidth\": 2, \"linecolor\": \"white\", \"showbackground\": true, \"ticks\": \"\", \"zerolinecolor\": \"white\"}, \"yaxis\": {\"backgroundcolor\": \"#E5ECF6\", \"gridcolor\": \"white\", \"gridwidth\": 2, \"linecolor\": \"white\", \"showbackground\": true, \"ticks\": \"\", \"zerolinecolor\": \"white\"}, \"zaxis\": {\"backgroundcolor\": \"#E5ECF6\", \"gridcolor\": \"white\", \"gridwidth\": 2, \"linecolor\": \"white\", \"showbackground\": true, \"ticks\": \"\", \"zerolinecolor\": \"white\"}}, \"shapedefaults\": {\"line\": {\"color\": \"#2a3f5f\"}}, \"ternary\": {\"aaxis\": {\"gridcolor\": \"white\", \"linecolor\": \"white\", \"ticks\": \"\"}, \"baxis\": {\"gridcolor\": \"white\", \"linecolor\": \"white\", \"ticks\": \"\"}, \"bgcolor\": \"#E5ECF6\", \"caxis\": {\"gridcolor\": \"white\", \"linecolor\": \"white\", \"ticks\": \"\"}}, \"title\": {\"x\": 0.05}, \"xaxis\": {\"automargin\": true, \"gridcolor\": \"white\", \"linecolor\": \"white\", \"ticks\": \"\", \"title\": {\"standoff\": 15}, \"zerolinecolor\": \"white\", \"zerolinewidth\": 2}, \"yaxis\": {\"automargin\": true, \"gridcolor\": \"white\", \"linecolor\": \"white\", \"ticks\": \"\", \"title\": {\"standoff\": 15}, \"zerolinecolor\": \"white\", \"zerolinewidth\": 2}}}, \"xaxis\": {\"anchor\": \"y\", \"categoryarray\": [\"virus\", \"people\", \"ha\", \"..\", \"wa\", \"china\", \"get\", \"world\", \"lockdown\", \"like\"], \"categoryorder\": \"array\", \"domain\": [0.0, 1.0], \"title\": {\"text\": \"tokenized\"}}, \"yaxis\": {\"anchor\": \"x\", \"domain\": [0.0, 1.0], \"title\": {\"text\": \"counts\"}}},                        {\"responsive\": true}                    ).then(function(){\n",
       "                            \n",
       "var gd = document.getElementById('83206a8f-be1f-4a5c-bf92-c822d422e962');\n",
       "var x = new MutationObserver(function (mutations, observer) {{\n",
       "        var display = window.getComputedStyle(gd).display;\n",
       "        if (!display || display === 'none') {{\n",
       "            console.log([gd, 'removed!']);\n",
       "            Plotly.purge(gd);\n",
       "            observer.disconnect();\n",
       "        }}\n",
       "}});\n",
       "\n",
       "// Listen for the removal of the full notebook cells\n",
       "var notebookContainer = gd.closest('#notebook-container');\n",
       "if (notebookContainer) {{\n",
       "    x.observe(notebookContainer, {childList: true});\n",
       "}}\n",
       "\n",
       "// Listen for the clearing of the current output cell\n",
       "var outputEl = gd.closest('.output');\n",
       "if (outputEl) {{\n",
       "    x.observe(outputEl, {childList: true});\n",
       "}}\n",
       "\n",
       "                        })                };                });            </script>        </div>"
      ]
     },
     "metadata": {},
     "output_type": "display_data"
    }
   ],
   "source": [
    "gp1.daily_top10_barchart(df, date_selector.value)"
   ]
  },
  {
   "cell_type": "markdown",
   "metadata": {},
   "source": [
    "# Selected Line Charts"
   ]
  },
  {
   "cell_type": "markdown",
   "metadata": {},
   "source": [
    "## Interesting Pandemic related words and Total Cases\n",
    "- We wanted to get a look at mentions of 'Lockdown', 'Pandemic', and 'Virus' compared to the increase in total COVID-19 cases throughout the world and as various measures were taken to slow the spread of the virus."
   ]
  },
  {
   "cell_type": "code",
   "execution_count": 5,
   "metadata": {
    "ExecuteTime": {
     "end_time": "2020-09-28T02:01:02.593482Z",
     "start_time": "2020-09-28T02:00:57.269383Z"
    }
   },
   "outputs": [
    {
     "data": {
      "application/vnd.plotly.v1+json": {
       "config": {
        "plotlyServerURL": "https://plot.ly"
       },
       "data": [
        {
         "name": "Lockdown mentions",
         "type": "scatter",
         "x": [
          "2020-03-20T00:00:00",
          "2020-03-21T00:00:00",
          "2020-03-22T00:00:00",
          "2020-03-23T00:00:00",
          "2020-03-24T00:00:00",
          "2020-03-25T00:00:00",
          "2020-03-26T00:00:00",
          "2020-03-27T00:00:00",
          "2020-03-28T00:00:00",
          "2020-03-29T00:00:00",
          "2020-03-30T00:00:00",
          "2020-03-31T00:00:00",
          "2020-04-01T00:00:00",
          "2020-04-02T00:00:00",
          "2020-04-03T00:00:00",
          "2020-04-04T00:00:00",
          "2020-04-05T00:00:00",
          "2020-04-06T00:00:00",
          "2020-04-07T00:00:00",
          "2020-04-08T00:00:00",
          "2020-04-09T00:00:00",
          "2020-04-10T00:00:00",
          "2020-04-11T00:00:00",
          "2020-04-12T00:00:00",
          "2020-04-13T00:00:00",
          "2020-04-14T00:00:00",
          "2020-04-15T00:00:00",
          "2020-04-16T00:00:00",
          "2020-04-17T00:00:00",
          "2020-04-18T00:00:00",
          "2020-04-19T00:00:00",
          "2020-04-20T00:00:00",
          "2020-04-21T00:00:00",
          "2020-04-22T00:00:00",
          "2020-04-23T00:00:00",
          "2020-04-24T00:00:00",
          "2020-04-25T00:00:00",
          "2020-04-26T00:00:00",
          "2020-04-27T00:00:00",
          "2020-04-28T00:00:00",
          "2020-04-29T00:00:00",
          "2020-04-30T00:00:00",
          "2020-05-01T00:00:00",
          "2020-05-02T00:00:00",
          "2020-05-03T00:00:00",
          "2020-05-04T00:00:00",
          "2020-05-05T00:00:00",
          "2020-05-06T00:00:00",
          "2020-05-07T00:00:00",
          "2020-05-08T00:00:00",
          "2020-05-09T00:00:00",
          "2020-05-10T00:00:00",
          "2020-05-11T00:00:00",
          "2020-05-12T00:00:00",
          "2020-05-13T00:00:00",
          "2020-05-14T00:00:00",
          "2020-05-15T00:00:00",
          "2020-05-16T00:00:00",
          "2020-05-17T00:00:00",
          "2020-05-18T00:00:00",
          "2020-05-19T00:00:00",
          "2020-05-20T00:00:00",
          "2020-05-21T00:00:00",
          "2020-05-22T00:00:00",
          "2020-05-23T00:00:00",
          "2020-05-24T00:00:00",
          "2020-05-25T00:00:00",
          "2020-05-26T00:00:00",
          "2020-05-27T00:00:00",
          "2020-05-28T00:00:00",
          "2020-05-29T00:00:00",
          "2020-05-30T00:00:00",
          "2020-05-31T00:00:00",
          "2020-06-01T00:00:00",
          "2020-06-02T00:00:00",
          "2020-06-03T00:00:00",
          "2020-06-04T00:00:00",
          "2020-06-05T00:00:00",
          "2020-06-06T00:00:00",
          "2020-06-07T00:00:00",
          "2020-06-08T00:00:00",
          "2020-06-09T00:00:00",
          "2020-06-10T00:00:00",
          "2020-06-11T00:00:00",
          "2020-06-12T00:00:00",
          "2020-06-13T00:00:00",
          "2020-06-14T00:00:00",
          "2020-06-15T00:00:00",
          "2020-06-16T00:00:00",
          "2020-06-17T00:00:00",
          "2020-06-18T00:00:00",
          "2020-06-19T00:00:00",
          "2020-06-20T00:00:00",
          "2020-06-21T00:00:00",
          "2020-06-22T00:00:00",
          "2020-06-23T00:00:00",
          "2020-06-24T00:00:00",
          "2020-06-25T00:00:00",
          "2020-06-26T00:00:00",
          "2020-06-27T00:00:00",
          "2020-06-28T00:00:00",
          "2020-06-29T00:00:00",
          "2020-06-30T00:00:00",
          "2020-07-01T00:00:00",
          "2020-07-02T00:00:00",
          "2020-07-03T00:00:00",
          "2020-07-04T00:00:00",
          "2020-07-05T00:00:00",
          "2020-07-06T00:00:00",
          "2020-07-07T00:00:00",
          "2020-07-08T00:00:00",
          "2020-07-09T00:00:00",
          "2020-07-10T00:00:00",
          "2020-07-11T00:00:00",
          "2020-07-12T00:00:00",
          "2020-07-13T00:00:00",
          "2020-07-14T00:00:00",
          "2020-07-15T00:00:00",
          "2020-07-16T00:00:00",
          "2020-07-17T00:00:00",
          "2020-07-18T00:00:00",
          "2020-07-19T00:00:00",
          "2020-07-20T00:00:00",
          "2020-07-21T00:00:00",
          "2020-07-22T00:00:00",
          "2020-07-23T00:00:00",
          "2020-07-24T00:00:00",
          "2020-07-25T00:00:00",
          "2020-07-26T00:00:00",
          "2020-07-27T00:00:00",
          "2020-07-28T00:00:00",
          "2020-07-29T00:00:00",
          "2020-07-30T00:00:00",
          "2020-07-31T00:00:00",
          "2020-08-01T00:00:00",
          "2020-08-02T00:00:00",
          "2020-08-03T00:00:00",
          "2020-08-04T00:00:00",
          "2020-08-05T00:00:00",
          "2020-08-06T00:00:00",
          "2020-08-07T00:00:00",
          "2020-08-08T00:00:00",
          "2020-08-09T00:00:00",
          "2020-08-10T00:00:00",
          "2020-08-11T00:00:00",
          "2020-08-12T00:00:00",
          "2020-08-13T00:00:00",
          "2020-08-14T00:00:00",
          "2020-08-15T00:00:00",
          "2020-08-16T00:00:00",
          "2020-08-17T00:00:00",
          "2020-08-18T00:00:00",
          "2020-08-19T00:00:00",
          "2020-08-20T00:00:00",
          "2020-08-21T00:00:00",
          "2020-08-22T00:00:00",
          "2020-08-23T00:00:00",
          "2020-08-24T00:00:00",
          "2020-08-25T00:00:00",
          "2020-08-26T00:00:00",
          "2020-08-27T00:00:00",
          "2020-08-28T00:00:00",
          "2020-08-29T00:00:00",
          "2020-08-30T00:00:00",
          "2020-08-31T00:00:00",
          "2020-09-01T00:00:00"
         ],
         "xaxis": "x",
         "y": [
          87,
          197,
          357,
          629,
          934,
          1266,
          1520,
          1741,
          2026,
          2114,
          2330,
          2605,
          2870,
          3213,
          3379,
          3624,
          3817,
          4043,
          4221,
          4373,
          4488,
          4724,
          4947,
          5271,
          5469,
          5700,
          5832,
          6034,
          6160,
          6764,
          7423,
          8311,
          9086,
          9694,
          10328,
          10876,
          11502,
          12278,
          13054,
          13822,
          14422,
          15107,
          15886,
          16664,
          17546,
          18325,
          18977,
          19731,
          20473,
          21234,
          21950,
          22874,
          23752,
          24441,
          25210,
          25845,
          26618,
          27641,
          28929,
          30099,
          31121,
          32044,
          33092,
          34464,
          36139,
          37414,
          38808,
          39896,
          40887,
          41969,
          43148,
          44792,
          45922,
          47099,
          48121,
          49135,
          49760,
          50587,
          51473,
          52281,
          53028,
          53829,
          54666,
          55394,
          56037,
          56706,
          57350,
          59735,
          62443,
          65283,
          67705,
          69888,
          71652,
          73210,
          74903,
          76912,
          78908,
          80609,
          82304,
          84263,
          86537,
          89737,
          92433,
          94797,
          97027,
          99312,
          101889,
          104060,
          105784,
          107669,
          109533,
          111721,
          113756,
          115760,
          117636,
          119516,
          121624,
          123329,
          125795,
          127776,
          129326,
          131034,
          132671,
          134540,
          136198,
          137939,
          139694,
          141320,
          143022,
          144408,
          145847,
          147219,
          148846,
          151055,
          152659,
          155208,
          157175,
          158938,
          160825,
          162382,
          164141,
          165620,
          167334,
          168934,
          170789,
          172818,
          174504,
          176085,
          177480,
          178907,
          180644,
          182306,
          183918,
          185522,
          187099,
          188856,
          190622,
          192739,
          194266,
          196008,
          197400,
          198973,
          201049,
          202579,
          204194,
          204396
         ],
         "yaxis": "y"
        },
        {
         "name": "Pandemic mentions",
         "type": "scatter",
         "x": [
          "2020-03-19T00:00:00",
          "2020-03-20T00:00:00",
          "2020-03-21T00:00:00",
          "2020-03-22T00:00:00",
          "2020-03-23T00:00:00",
          "2020-03-24T00:00:00",
          "2020-03-25T00:00:00",
          "2020-03-26T00:00:00",
          "2020-03-27T00:00:00",
          "2020-03-28T00:00:00",
          "2020-03-29T00:00:00",
          "2020-03-30T00:00:00",
          "2020-03-31T00:00:00",
          "2020-04-01T00:00:00",
          "2020-04-02T00:00:00",
          "2020-04-03T00:00:00",
          "2020-04-04T00:00:00",
          "2020-04-05T00:00:00",
          "2020-04-06T00:00:00",
          "2020-04-07T00:00:00",
          "2020-04-08T00:00:00",
          "2020-04-09T00:00:00",
          "2020-04-10T00:00:00",
          "2020-04-11T00:00:00",
          "2020-04-12T00:00:00",
          "2020-04-13T00:00:00",
          "2020-04-14T00:00:00",
          "2020-04-15T00:00:00",
          "2020-04-16T00:00:00",
          "2020-04-17T00:00:00",
          "2020-04-18T00:00:00",
          "2020-04-19T00:00:00",
          "2020-04-20T00:00:00",
          "2020-04-21T00:00:00",
          "2020-04-22T00:00:00",
          "2020-04-23T00:00:00",
          "2020-04-24T00:00:00",
          "2020-04-25T00:00:00",
          "2020-04-26T00:00:00",
          "2020-04-27T00:00:00",
          "2020-04-28T00:00:00",
          "2020-04-29T00:00:00",
          "2020-04-30T00:00:00",
          "2020-05-01T00:00:00",
          "2020-05-02T00:00:00",
          "2020-05-03T00:00:00",
          "2020-05-04T00:00:00",
          "2020-05-05T00:00:00",
          "2020-05-06T00:00:00",
          "2020-05-07T00:00:00",
          "2020-05-08T00:00:00",
          "2020-05-09T00:00:00",
          "2020-05-10T00:00:00",
          "2020-05-11T00:00:00",
          "2020-05-12T00:00:00",
          "2020-05-13T00:00:00",
          "2020-05-14T00:00:00",
          "2020-05-15T00:00:00",
          "2020-05-16T00:00:00",
          "2020-05-17T00:00:00",
          "2020-05-18T00:00:00",
          "2020-05-19T00:00:00",
          "2020-05-20T00:00:00",
          "2020-05-21T00:00:00",
          "2020-05-22T00:00:00",
          "2020-05-23T00:00:00",
          "2020-05-24T00:00:00",
          "2020-05-25T00:00:00",
          "2020-05-26T00:00:00",
          "2020-05-27T00:00:00",
          "2020-05-28T00:00:00",
          "2020-05-29T00:00:00",
          "2020-05-30T00:00:00",
          "2020-05-31T00:00:00",
          "2020-06-01T00:00:00",
          "2020-06-02T00:00:00",
          "2020-06-03T00:00:00",
          "2020-06-04T00:00:00",
          "2020-06-05T00:00:00",
          "2020-06-06T00:00:00",
          "2020-06-07T00:00:00",
          "2020-06-08T00:00:00",
          "2020-06-09T00:00:00",
          "2020-06-10T00:00:00",
          "2020-06-11T00:00:00",
          "2020-06-12T00:00:00",
          "2020-06-13T00:00:00",
          "2020-06-14T00:00:00",
          "2020-06-15T00:00:00",
          "2020-06-16T00:00:00",
          "2020-06-17T00:00:00",
          "2020-06-18T00:00:00",
          "2020-06-19T00:00:00",
          "2020-06-20T00:00:00",
          "2020-06-21T00:00:00",
          "2020-06-22T00:00:00",
          "2020-06-23T00:00:00",
          "2020-06-24T00:00:00",
          "2020-06-25T00:00:00",
          "2020-06-26T00:00:00",
          "2020-06-27T00:00:00",
          "2020-06-28T00:00:00",
          "2020-06-29T00:00:00",
          "2020-06-30T00:00:00",
          "2020-07-01T00:00:00",
          "2020-07-02T00:00:00",
          "2020-07-03T00:00:00",
          "2020-07-04T00:00:00",
          "2020-07-05T00:00:00",
          "2020-07-06T00:00:00",
          "2020-07-07T00:00:00",
          "2020-07-08T00:00:00",
          "2020-07-09T00:00:00",
          "2020-07-10T00:00:00",
          "2020-07-11T00:00:00",
          "2020-07-12T00:00:00",
          "2020-07-13T00:00:00",
          "2020-07-14T00:00:00",
          "2020-07-15T00:00:00",
          "2020-07-16T00:00:00",
          "2020-07-17T00:00:00",
          "2020-07-18T00:00:00",
          "2020-07-19T00:00:00",
          "2020-07-20T00:00:00",
          "2020-07-21T00:00:00",
          "2020-07-22T00:00:00",
          "2020-07-23T00:00:00",
          "2020-07-24T00:00:00",
          "2020-07-25T00:00:00",
          "2020-07-26T00:00:00",
          "2020-07-27T00:00:00",
          "2020-07-28T00:00:00",
          "2020-07-29T00:00:00",
          "2020-07-30T00:00:00",
          "2020-07-31T00:00:00",
          "2020-08-01T00:00:00",
          "2020-08-02T00:00:00",
          "2020-08-03T00:00:00",
          "2020-08-04T00:00:00",
          "2020-08-05T00:00:00",
          "2020-08-06T00:00:00",
          "2020-08-07T00:00:00",
          "2020-08-08T00:00:00",
          "2020-08-09T00:00:00",
          "2020-08-10T00:00:00",
          "2020-08-11T00:00:00",
          "2020-08-12T00:00:00",
          "2020-08-13T00:00:00",
          "2020-08-14T00:00:00",
          "2020-08-15T00:00:00",
          "2020-08-16T00:00:00",
          "2020-08-17T00:00:00",
          "2020-08-18T00:00:00",
          "2020-08-19T00:00:00",
          "2020-08-20T00:00:00",
          "2020-08-21T00:00:00",
          "2020-08-22T00:00:00",
          "2020-08-23T00:00:00",
          "2020-08-24T00:00:00",
          "2020-08-25T00:00:00",
          "2020-08-26T00:00:00",
          "2020-08-27T00:00:00",
          "2020-08-28T00:00:00",
          "2020-08-29T00:00:00",
          "2020-08-30T00:00:00",
          "2020-08-31T00:00:00",
          "2020-09-01T00:00:00"
         ],
         "xaxis": "x",
         "y": [
          87,
          370,
          532,
          974,
          1310,
          1578,
          1847,
          2864,
          3162,
          3387,
          3470,
          3616,
          3916,
          4198,
          4408,
          4641,
          4873,
          5049,
          5377,
          5597,
          5781,
          5954,
          6117,
          6294,
          6518,
          6661,
          6760,
          6934,
          7130,
          7281,
          8585,
          9853,
          11006,
          12168,
          13358,
          14801,
          15869,
          16981,
          18077,
          19258,
          20588,
          21823,
          23160,
          24482,
          25712,
          27038,
          28291,
          29398,
          30494,
          31731,
          33027,
          34173,
          35322,
          36429,
          37975,
          39133,
          40470,
          41874,
          43703,
          45600,
          47692,
          49861,
          51976,
          53890,
          55644,
          57319,
          58940,
          60694,
          62596,
          64382,
          66709,
          68378,
          69835,
          72069,
          74380,
          75885,
          77498,
          78573,
          82977,
          88306,
          92626,
          96724,
          101028,
          105294,
          110036,
          114649,
          119993,
          124745,
          129567,
          133719,
          137818,
          142400,
          147180,
          151012,
          155202,
          160266,
          165056,
          170016,
          175064,
          182071,
          187837,
          193454,
          198498,
          204643,
          211041,
          216771,
          221880,
          226240,
          230191,
          235028,
          242094,
          247858,
          253437,
          259045,
          263939,
          268716,
          274322,
          280500,
          286990,
          293521,
          298964,
          304262,
          309170,
          314202,
          319688,
          325212,
          331147,
          336782,
          341467,
          346627,
          352707,
          359085,
          364872,
          370047,
          376540,
          382034,
          387593,
          393714,
          400726,
          406851,
          412190,
          417408,
          422462,
          428498,
          435147,
          441840,
          446925,
          453243,
          458803,
          464409,
          470346,
          476365,
          481877,
          487200,
          492991,
          500880,
          507551,
          514309,
          520163,
          526831,
          533808,
          540084,
          546328,
          550417,
          554650,
          559337,
          560207
         ],
         "yaxis": "y"
        },
        {
         "name": "Virus mentions",
         "type": "scatter",
         "x": [
          "2020-03-19T00:00:00",
          "2020-03-20T00:00:00",
          "2020-03-21T00:00:00",
          "2020-03-22T00:00:00",
          "2020-03-23T00:00:00",
          "2020-03-24T00:00:00",
          "2020-03-25T00:00:00",
          "2020-03-26T00:00:00",
          "2020-03-27T00:00:00",
          "2020-03-28T00:00:00",
          "2020-03-29T00:00:00",
          "2020-03-30T00:00:00",
          "2020-03-31T00:00:00",
          "2020-04-01T00:00:00",
          "2020-04-02T00:00:00",
          "2020-04-03T00:00:00",
          "2020-04-04T00:00:00",
          "2020-04-05T00:00:00",
          "2020-04-06T00:00:00",
          "2020-04-07T00:00:00",
          "2020-04-08T00:00:00",
          "2020-04-09T00:00:00",
          "2020-04-10T00:00:00",
          "2020-04-11T00:00:00",
          "2020-04-12T00:00:00",
          "2020-04-13T00:00:00",
          "2020-04-14T00:00:00",
          "2020-04-15T00:00:00",
          "2020-04-16T00:00:00",
          "2020-04-17T00:00:00",
          "2020-04-18T00:00:00",
          "2020-04-19T00:00:00",
          "2020-04-20T00:00:00",
          "2020-04-21T00:00:00",
          "2020-04-22T00:00:00",
          "2020-04-23T00:00:00",
          "2020-04-24T00:00:00",
          "2020-04-25T00:00:00",
          "2020-04-26T00:00:00",
          "2020-04-27T00:00:00",
          "2020-04-28T00:00:00",
          "2020-04-29T00:00:00",
          "2020-04-30T00:00:00",
          "2020-05-01T00:00:00",
          "2020-05-02T00:00:00",
          "2020-05-03T00:00:00",
          "2020-05-04T00:00:00",
          "2020-05-05T00:00:00",
          "2020-05-06T00:00:00",
          "2020-05-07T00:00:00",
          "2020-05-08T00:00:00",
          "2020-05-09T00:00:00",
          "2020-05-10T00:00:00",
          "2020-05-11T00:00:00",
          "2020-05-12T00:00:00",
          "2020-05-13T00:00:00",
          "2020-05-14T00:00:00",
          "2020-05-15T00:00:00",
          "2020-05-16T00:00:00",
          "2020-05-17T00:00:00",
          "2020-05-18T00:00:00",
          "2020-05-19T00:00:00",
          "2020-05-20T00:00:00",
          "2020-05-21T00:00:00",
          "2020-05-22T00:00:00",
          "2020-05-23T00:00:00",
          "2020-05-24T00:00:00",
          "2020-05-25T00:00:00",
          "2020-05-26T00:00:00",
          "2020-05-27T00:00:00",
          "2020-05-28T00:00:00",
          "2020-05-29T00:00:00",
          "2020-05-30T00:00:00",
          "2020-05-31T00:00:00",
          "2020-06-01T00:00:00",
          "2020-06-02T00:00:00",
          "2020-06-03T00:00:00",
          "2020-06-04T00:00:00",
          "2020-06-05T00:00:00",
          "2020-06-06T00:00:00",
          "2020-06-07T00:00:00",
          "2020-06-08T00:00:00",
          "2020-06-09T00:00:00",
          "2020-06-10T00:00:00",
          "2020-06-11T00:00:00",
          "2020-06-12T00:00:00",
          "2020-06-13T00:00:00",
          "2020-06-14T00:00:00",
          "2020-06-15T00:00:00",
          "2020-06-16T00:00:00",
          "2020-06-17T00:00:00",
          "2020-06-18T00:00:00",
          "2020-06-19T00:00:00",
          "2020-06-20T00:00:00",
          "2020-06-21T00:00:00",
          "2020-06-22T00:00:00",
          "2020-06-23T00:00:00",
          "2020-06-24T00:00:00",
          "2020-06-25T00:00:00",
          "2020-06-26T00:00:00",
          "2020-06-27T00:00:00",
          "2020-06-28T00:00:00",
          "2020-06-29T00:00:00",
          "2020-06-30T00:00:00",
          "2020-07-01T00:00:00",
          "2020-07-02T00:00:00",
          "2020-07-03T00:00:00",
          "2020-07-04T00:00:00",
          "2020-07-05T00:00:00",
          "2020-07-06T00:00:00",
          "2020-07-07T00:00:00",
          "2020-07-08T00:00:00",
          "2020-07-09T00:00:00",
          "2020-07-10T00:00:00",
          "2020-07-11T00:00:00",
          "2020-07-12T00:00:00",
          "2020-07-13T00:00:00",
          "2020-07-14T00:00:00",
          "2020-07-15T00:00:00",
          "2020-07-16T00:00:00",
          "2020-07-17T00:00:00",
          "2020-07-18T00:00:00",
          "2020-07-19T00:00:00",
          "2020-07-20T00:00:00",
          "2020-07-21T00:00:00",
          "2020-07-22T00:00:00",
          "2020-07-23T00:00:00",
          "2020-07-24T00:00:00",
          "2020-07-25T00:00:00",
          "2020-07-26T00:00:00",
          "2020-07-27T00:00:00",
          "2020-07-28T00:00:00",
          "2020-07-29T00:00:00",
          "2020-07-30T00:00:00",
          "2020-07-31T00:00:00",
          "2020-08-01T00:00:00",
          "2020-08-02T00:00:00",
          "2020-08-03T00:00:00",
          "2020-08-04T00:00:00",
          "2020-08-05T00:00:00",
          "2020-08-06T00:00:00",
          "2020-08-07T00:00:00",
          "2020-08-08T00:00:00",
          "2020-08-09T00:00:00",
          "2020-08-10T00:00:00",
          "2020-08-11T00:00:00",
          "2020-08-12T00:00:00",
          "2020-08-13T00:00:00",
          "2020-08-14T00:00:00",
          "2020-08-15T00:00:00",
          "2020-08-16T00:00:00",
          "2020-08-17T00:00:00",
          "2020-08-18T00:00:00",
          "2020-08-19T00:00:00",
          "2020-08-20T00:00:00",
          "2020-08-21T00:00:00",
          "2020-08-22T00:00:00",
          "2020-08-23T00:00:00",
          "2020-08-24T00:00:00",
          "2020-08-25T00:00:00",
          "2020-08-26T00:00:00",
          "2020-08-27T00:00:00",
          "2020-08-28T00:00:00",
          "2020-08-29T00:00:00",
          "2020-08-30T00:00:00",
          "2020-08-31T00:00:00",
          "2020-09-01T00:00:00"
         ],
         "xaxis": "x",
         "y": [
          599,
          4120,
          7625,
          11903,
          16570,
          20975,
          23784,
          26186,
          28842,
          30830,
          31565,
          32772,
          34374,
          36444,
          38048,
          39570,
          40871,
          42152,
          43560,
          44560,
          45705,
          46828,
          47938,
          48913,
          49805,
          50482,
          51178,
          51965,
          52758,
          53399,
          54569,
          55690,
          56628,
          57500,
          58363,
          59340,
          60283,
          61297,
          62485,
          63562,
          64534,
          65459,
          66528,
          67615,
          68478,
          69455,
          70588,
          71583,
          72336,
          73113,
          74088,
          75068,
          76095,
          76924,
          77716,
          78653,
          79508,
          80436,
          81563,
          82741,
          84071,
          85360,
          86612,
          87972,
          89189,
          90653,
          91988,
          93585,
          94969,
          96325,
          97908,
          100634,
          105275,
          106544,
          107723,
          109049,
          110757,
          111604,
          112418,
          113205,
          113997,
          114905,
          115761,
          116580,
          117447,
          118522,
          119843,
          122025,
          123694,
          124833,
          126376,
          127510,
          128767,
          129882,
          130856,
          131953,
          133026,
          134279,
          135600,
          136782,
          138201,
          139604,
          140675,
          142388,
          143696,
          144910,
          146446,
          148255,
          150008,
          152058,
          153849,
          155406,
          156695,
          158054,
          159425,
          160801,
          162298,
          163641,
          164714,
          165881,
          167141,
          168543,
          170002,
          171519,
          173255,
          174927,
          176332,
          177714,
          179240,
          180653,
          182193,
          183400,
          184683,
          186310,
          187955,
          189717,
          191208,
          192518,
          193862,
          194973,
          196394,
          197742,
          198873,
          200166,
          201458,
          202702,
          203813,
          204974,
          206247,
          207440,
          208529,
          209690,
          211435,
          212976,
          214194,
          215166,
          216082,
          217234,
          218328,
          219712,
          220987,
          222177,
          223313,
          224583,
          226246,
          227945,
          228170
         ],
         "yaxis": "y"
        },
        {
         "line": {
          "color": "black",
          "dash": "dash",
          "width": 4
         },
         "name": "Total Covid Cases",
         "type": "scatter",
         "x": [
          "2020-01-22",
          "2020-01-23",
          "2020-01-24",
          "2020-01-25",
          "2020-01-26",
          "2020-01-27",
          "2020-01-28",
          "2020-01-29",
          "2020-01-30",
          "2020-01-31",
          "2020-02-01",
          "2020-02-02",
          "2020-02-03",
          "2020-02-04",
          "2020-02-05",
          "2020-02-06",
          "2020-02-07",
          "2020-02-08",
          "2020-02-09",
          "2020-02-10",
          "2020-02-11",
          "2020-02-12",
          "2020-02-13",
          "2020-02-14",
          "2020-02-15",
          "2020-02-16",
          "2020-02-17",
          "2020-02-18",
          "2020-02-19",
          "2020-02-20",
          "2020-02-21",
          "2020-02-22",
          "2020-02-23",
          "2020-02-24",
          "2020-02-25",
          "2020-02-26",
          "2020-02-27",
          "2020-02-28",
          "2020-02-29",
          "2020-03-01",
          "2020-03-02",
          "2020-03-03",
          "2020-03-04",
          "2020-03-05",
          "2020-03-06",
          "2020-03-07",
          "2020-03-08",
          "2020-03-09",
          "2020-03-10",
          "2020-03-11",
          "2020-03-12",
          "2020-03-13",
          "2020-03-14",
          "2020-03-15",
          "2020-03-16",
          "2020-03-17",
          "2020-03-18",
          "2020-03-19",
          "2020-03-20",
          "2020-03-21",
          "2020-03-22",
          "2020-03-23",
          "2020-03-24",
          "2020-03-25",
          "2020-03-26",
          "2020-03-27",
          "2020-03-28",
          "2020-03-29",
          "2020-03-30",
          "2020-03-31",
          "2020-04-01",
          "2020-04-02",
          "2020-04-03",
          "2020-04-04",
          "2020-04-05",
          "2020-04-06",
          "2020-04-07",
          "2020-04-08",
          "2020-04-09",
          "2020-04-10",
          "2020-04-11",
          "2020-04-12",
          "2020-04-13",
          "2020-04-14",
          "2020-04-15",
          "2020-04-16",
          "2020-04-17",
          "2020-04-18",
          "2020-04-19",
          "2020-04-20",
          "2020-04-21",
          "2020-04-22",
          "2020-04-23",
          "2020-04-24",
          "2020-04-25",
          "2020-04-26",
          "2020-04-27",
          "2020-04-28",
          "2020-04-29",
          "2020-04-30",
          "2020-05-01",
          "2020-05-02",
          "2020-05-03",
          "2020-05-04",
          "2020-05-05",
          "2020-05-06",
          "2020-05-07",
          "2020-05-08",
          "2020-05-09",
          "2020-05-10",
          "2020-05-11",
          "2020-05-12",
          "2020-05-13",
          "2020-05-14",
          "2020-05-15",
          "2020-05-16",
          "2020-05-17",
          "2020-05-18",
          "2020-05-19",
          "2020-05-20",
          "2020-05-21",
          "2020-05-22",
          "2020-05-23",
          "2020-05-24",
          "2020-05-25",
          "2020-05-26",
          "2020-05-27",
          "2020-05-28",
          "2020-05-29",
          "2020-05-30",
          "2020-05-31",
          "2020-06-01",
          "2020-06-02",
          "2020-06-03",
          "2020-06-04",
          "2020-06-05",
          "2020-06-06",
          "2020-06-07",
          "2020-06-08",
          "2020-06-09",
          "2020-06-10",
          "2020-06-11",
          "2020-06-12",
          "2020-06-13",
          "2020-06-14",
          "2020-06-15",
          "2020-06-16",
          "2020-06-17",
          "2020-06-18",
          "2020-06-19",
          "2020-06-20",
          "2020-06-21",
          "2020-06-22",
          "2020-06-23",
          "2020-06-24",
          "2020-06-25",
          "2020-06-26",
          "2020-06-27",
          "2020-06-28",
          "2020-06-29",
          "2020-06-30",
          "2020-07-01",
          "2020-07-02",
          "2020-07-03",
          "2020-07-04",
          "2020-07-05",
          "2020-07-06",
          "2020-07-07",
          "2020-07-08",
          "2020-07-09",
          "2020-07-10",
          "2020-07-11",
          "2020-07-12",
          "2020-07-13",
          "2020-07-14",
          "2020-07-15",
          "2020-07-16",
          "2020-07-17",
          "2020-07-18",
          "2020-07-19",
          "2020-07-20",
          "2020-07-21",
          "2020-07-22",
          "2020-07-23",
          "2020-07-24",
          "2020-07-25",
          "2020-07-26",
          "2020-07-27",
          "2020-07-28",
          "2020-07-29",
          "2020-07-30",
          "2020-07-31",
          "2020-08-01",
          "2020-08-02",
          "2020-08-03",
          "2020-08-04",
          "2020-08-05",
          "2020-08-06",
          "2020-08-07",
          "2020-08-08",
          "2020-08-09",
          "2020-08-10",
          "2020-08-11",
          "2020-08-12",
          "2020-08-13",
          "2020-08-14",
          "2020-08-15",
          "2020-08-16",
          "2020-08-17",
          "2020-08-18",
          "2020-08-19",
          "2020-08-20",
          "2020-08-21",
          "2020-08-22",
          "2020-08-23",
          "2020-08-24",
          "2020-08-25",
          "2020-08-26",
          "2020-08-27",
          "2020-08-28",
          "2020-08-29",
          "2020-08-30",
          "2020-08-31",
          "2020-09-01",
          "2020-09-02",
          "2020-09-03",
          "2020-09-04",
          "2020-09-05",
          "2020-09-06",
          "2020-09-07",
          "2020-09-08",
          "2020-09-09",
          "2020-09-10",
          "2020-09-11",
          "2020-09-12",
          "2020-09-13",
          "2020-09-14",
          "2020-09-15",
          "2020-09-16",
          "2020-09-17",
          "2020-09-18",
          "2020-09-19",
          "2020-09-20"
         ],
         "xaxis": "x",
         "y": [
          555,
          654,
          941,
          1434,
          2118,
          2927,
          5578,
          6166,
          8234,
          9926,
          12038,
          16787,
          19887,
          23898,
          27643,
          30802,
          34395,
          37129,
          40159,
          42768,
          44810,
          45228,
          60381,
          66908,
          69050,
          71234,
          73269,
          75151,
          75651,
          76211,
          76840,
          78601,
          78981,
          79545,
          80398,
          81375,
          82735,
          84120,
          86013,
          88395,
          90372,
          92957,
          95272,
          98028,
          102018,
          106036,
          109993,
          113946,
          118967,
          126675,
          132450,
          146783,
          157801,
          169032,
          183677,
          199391,
          218683,
          245633,
          275963,
          307709,
          341784,
          384630,
          425787,
          476680,
          539069,
          603910,
          671653,
          731267,
          795997,
          872495,
          948663,
          1030010,
          1113203,
          1193711,
          1265377,
          1338067,
          1415186,
          1498895,
          1585483,
          1672988,
          1749872,
          1846819,
          1916464,
          1986284,
          2067245,
          2163941,
          2251672,
          2325485,
          2406054,
          2479522,
          2554727,
          2631781,
          2720583,
          2807495,
          2892296,
          2965076,
          3034072,
          3109425,
          3186589,
          3270117,
          3357276,
          3438689,
          3516333,
          3592506,
          3672660,
          3762727,
          3851894,
          3943470,
          4029169,
          4105292,
          4181640,
          4265367,
          4350206,
          4447281,
          4543711,
          4639021,
          4717335,
          4805823,
          4902461,
          5005574,
          5111869,
          5218664,
          5323977,
          5419242,
          5506311,
          5598982,
          5701734,
          5821183,
          5942378,
          6080002,
          6187396,
          6282981,
          6403944,
          6522099,
          6649014,
          6779972,
          6915760,
          7027674,
          7130092,
          7254608,
          7389151,
          7527086,
          7656149,
          7791901,
          7925110,
          8044663,
          8186473,
          8328685,
          8468705,
          8648774,
          8806595,
          8935273,
          9073260,
          9238052,
          9409498,
          9587195,
          9778566,
          9957498,
          10119644,
          10275992,
          10449832,
          10666930,
          10874417,
          11077903,
          11271954,
          11454850,
          11620802,
          11831641,
          12043466,
          12271553,
          12503942,
          12720381,
          12913142,
          13105192,
          13326971,
          13557898,
          13810459,
          14052261,
          14290096,
          14504853,
          14710995,
          14944726,
          15225164,
          15507881,
          15789074,
          16044757,
          16258079,
          16484206,
          16736727,
          17025889,
          17306523,
          17596559,
          17847574,
          18076718,
          18278778,
          18537524,
          18808754,
          19093901,
          19374812,
          19634542,
          19858792,
          20086280,
          20341107,
          20618174,
          20904123,
          21208474,
          21456826,
          21669376,
          21878471,
          22134679,
          22408212,
          22675329,
          22946050,
          23211563,
          23417506,
          23643854,
          23885885,
          24173746,
          24452944,
          24734448,
          24996456,
          25222709,
          25484767,
          25749642,
          26031410,
          26304856,
          26617971,
          26881547,
          27103845,
          27337760,
          27570742,
          27862680,
          28161434,
          28481322,
          28758945,
          28995373,
          29274650,
          29557942,
          29861949,
          30175313,
          30499534,
          30780755,
          31021972
         ],
         "yaxis": "y2"
        }
       ],
       "layout": {
        "template": {
         "data": {
          "bar": [
           {
            "error_x": {
             "color": "#2a3f5f"
            },
            "error_y": {
             "color": "#2a3f5f"
            },
            "marker": {
             "line": {
              "color": "#E5ECF6",
              "width": 0.5
             }
            },
            "type": "bar"
           }
          ],
          "barpolar": [
           {
            "marker": {
             "line": {
              "color": "#E5ECF6",
              "width": 0.5
             }
            },
            "type": "barpolar"
           }
          ],
          "carpet": [
           {
            "aaxis": {
             "endlinecolor": "#2a3f5f",
             "gridcolor": "white",
             "linecolor": "white",
             "minorgridcolor": "white",
             "startlinecolor": "#2a3f5f"
            },
            "baxis": {
             "endlinecolor": "#2a3f5f",
             "gridcolor": "white",
             "linecolor": "white",
             "minorgridcolor": "white",
             "startlinecolor": "#2a3f5f"
            },
            "type": "carpet"
           }
          ],
          "choropleth": [
           {
            "colorbar": {
             "outlinewidth": 0,
             "ticks": ""
            },
            "type": "choropleth"
           }
          ],
          "contour": [
           {
            "colorbar": {
             "outlinewidth": 0,
             "ticks": ""
            },
            "colorscale": [
             [
              0,
              "#0d0887"
             ],
             [
              0.1111111111111111,
              "#46039f"
             ],
             [
              0.2222222222222222,
              "#7201a8"
             ],
             [
              0.3333333333333333,
              "#9c179e"
             ],
             [
              0.4444444444444444,
              "#bd3786"
             ],
             [
              0.5555555555555556,
              "#d8576b"
             ],
             [
              0.6666666666666666,
              "#ed7953"
             ],
             [
              0.7777777777777778,
              "#fb9f3a"
             ],
             [
              0.8888888888888888,
              "#fdca26"
             ],
             [
              1,
              "#f0f921"
             ]
            ],
            "type": "contour"
           }
          ],
          "contourcarpet": [
           {
            "colorbar": {
             "outlinewidth": 0,
             "ticks": ""
            },
            "type": "contourcarpet"
           }
          ],
          "heatmap": [
           {
            "colorbar": {
             "outlinewidth": 0,
             "ticks": ""
            },
            "colorscale": [
             [
              0,
              "#0d0887"
             ],
             [
              0.1111111111111111,
              "#46039f"
             ],
             [
              0.2222222222222222,
              "#7201a8"
             ],
             [
              0.3333333333333333,
              "#9c179e"
             ],
             [
              0.4444444444444444,
              "#bd3786"
             ],
             [
              0.5555555555555556,
              "#d8576b"
             ],
             [
              0.6666666666666666,
              "#ed7953"
             ],
             [
              0.7777777777777778,
              "#fb9f3a"
             ],
             [
              0.8888888888888888,
              "#fdca26"
             ],
             [
              1,
              "#f0f921"
             ]
            ],
            "type": "heatmap"
           }
          ],
          "heatmapgl": [
           {
            "colorbar": {
             "outlinewidth": 0,
             "ticks": ""
            },
            "colorscale": [
             [
              0,
              "#0d0887"
             ],
             [
              0.1111111111111111,
              "#46039f"
             ],
             [
              0.2222222222222222,
              "#7201a8"
             ],
             [
              0.3333333333333333,
              "#9c179e"
             ],
             [
              0.4444444444444444,
              "#bd3786"
             ],
             [
              0.5555555555555556,
              "#d8576b"
             ],
             [
              0.6666666666666666,
              "#ed7953"
             ],
             [
              0.7777777777777778,
              "#fb9f3a"
             ],
             [
              0.8888888888888888,
              "#fdca26"
             ],
             [
              1,
              "#f0f921"
             ]
            ],
            "type": "heatmapgl"
           }
          ],
          "histogram": [
           {
            "marker": {
             "colorbar": {
              "outlinewidth": 0,
              "ticks": ""
             }
            },
            "type": "histogram"
           }
          ],
          "histogram2d": [
           {
            "colorbar": {
             "outlinewidth": 0,
             "ticks": ""
            },
            "colorscale": [
             [
              0,
              "#0d0887"
             ],
             [
              0.1111111111111111,
              "#46039f"
             ],
             [
              0.2222222222222222,
              "#7201a8"
             ],
             [
              0.3333333333333333,
              "#9c179e"
             ],
             [
              0.4444444444444444,
              "#bd3786"
             ],
             [
              0.5555555555555556,
              "#d8576b"
             ],
             [
              0.6666666666666666,
              "#ed7953"
             ],
             [
              0.7777777777777778,
              "#fb9f3a"
             ],
             [
              0.8888888888888888,
              "#fdca26"
             ],
             [
              1,
              "#f0f921"
             ]
            ],
            "type": "histogram2d"
           }
          ],
          "histogram2dcontour": [
           {
            "colorbar": {
             "outlinewidth": 0,
             "ticks": ""
            },
            "colorscale": [
             [
              0,
              "#0d0887"
             ],
             [
              0.1111111111111111,
              "#46039f"
             ],
             [
              0.2222222222222222,
              "#7201a8"
             ],
             [
              0.3333333333333333,
              "#9c179e"
             ],
             [
              0.4444444444444444,
              "#bd3786"
             ],
             [
              0.5555555555555556,
              "#d8576b"
             ],
             [
              0.6666666666666666,
              "#ed7953"
             ],
             [
              0.7777777777777778,
              "#fb9f3a"
             ],
             [
              0.8888888888888888,
              "#fdca26"
             ],
             [
              1,
              "#f0f921"
             ]
            ],
            "type": "histogram2dcontour"
           }
          ],
          "mesh3d": [
           {
            "colorbar": {
             "outlinewidth": 0,
             "ticks": ""
            },
            "type": "mesh3d"
           }
          ],
          "parcoords": [
           {
            "line": {
             "colorbar": {
              "outlinewidth": 0,
              "ticks": ""
             }
            },
            "type": "parcoords"
           }
          ],
          "pie": [
           {
            "automargin": true,
            "type": "pie"
           }
          ],
          "scatter": [
           {
            "marker": {
             "colorbar": {
              "outlinewidth": 0,
              "ticks": ""
             }
            },
            "type": "scatter"
           }
          ],
          "scatter3d": [
           {
            "line": {
             "colorbar": {
              "outlinewidth": 0,
              "ticks": ""
             }
            },
            "marker": {
             "colorbar": {
              "outlinewidth": 0,
              "ticks": ""
             }
            },
            "type": "scatter3d"
           }
          ],
          "scattercarpet": [
           {
            "marker": {
             "colorbar": {
              "outlinewidth": 0,
              "ticks": ""
             }
            },
            "type": "scattercarpet"
           }
          ],
          "scattergeo": [
           {
            "marker": {
             "colorbar": {
              "outlinewidth": 0,
              "ticks": ""
             }
            },
            "type": "scattergeo"
           }
          ],
          "scattergl": [
           {
            "marker": {
             "colorbar": {
              "outlinewidth": 0,
              "ticks": ""
             }
            },
            "type": "scattergl"
           }
          ],
          "scattermapbox": [
           {
            "marker": {
             "colorbar": {
              "outlinewidth": 0,
              "ticks": ""
             }
            },
            "type": "scattermapbox"
           }
          ],
          "scatterpolar": [
           {
            "marker": {
             "colorbar": {
              "outlinewidth": 0,
              "ticks": ""
             }
            },
            "type": "scatterpolar"
           }
          ],
          "scatterpolargl": [
           {
            "marker": {
             "colorbar": {
              "outlinewidth": 0,
              "ticks": ""
             }
            },
            "type": "scatterpolargl"
           }
          ],
          "scatterternary": [
           {
            "marker": {
             "colorbar": {
              "outlinewidth": 0,
              "ticks": ""
             }
            },
            "type": "scatterternary"
           }
          ],
          "surface": [
           {
            "colorbar": {
             "outlinewidth": 0,
             "ticks": ""
            },
            "colorscale": [
             [
              0,
              "#0d0887"
             ],
             [
              0.1111111111111111,
              "#46039f"
             ],
             [
              0.2222222222222222,
              "#7201a8"
             ],
             [
              0.3333333333333333,
              "#9c179e"
             ],
             [
              0.4444444444444444,
              "#bd3786"
             ],
             [
              0.5555555555555556,
              "#d8576b"
             ],
             [
              0.6666666666666666,
              "#ed7953"
             ],
             [
              0.7777777777777778,
              "#fb9f3a"
             ],
             [
              0.8888888888888888,
              "#fdca26"
             ],
             [
              1,
              "#f0f921"
             ]
            ],
            "type": "surface"
           }
          ],
          "table": [
           {
            "cells": {
             "fill": {
              "color": "#EBF0F8"
             },
             "line": {
              "color": "white"
             }
            },
            "header": {
             "fill": {
              "color": "#C8D4E3"
             },
             "line": {
              "color": "white"
             }
            },
            "type": "table"
           }
          ]
         },
         "layout": {
          "annotationdefaults": {
           "arrowcolor": "#2a3f5f",
           "arrowhead": 0,
           "arrowwidth": 1
          },
          "coloraxis": {
           "colorbar": {
            "outlinewidth": 0,
            "ticks": ""
           }
          },
          "colorscale": {
           "diverging": [
            [
             0,
             "#8e0152"
            ],
            [
             0.1,
             "#c51b7d"
            ],
            [
             0.2,
             "#de77ae"
            ],
            [
             0.3,
             "#f1b6da"
            ],
            [
             0.4,
             "#fde0ef"
            ],
            [
             0.5,
             "#f7f7f7"
            ],
            [
             0.6,
             "#e6f5d0"
            ],
            [
             0.7,
             "#b8e186"
            ],
            [
             0.8,
             "#7fbc41"
            ],
            [
             0.9,
             "#4d9221"
            ],
            [
             1,
             "#276419"
            ]
           ],
           "sequential": [
            [
             0,
             "#0d0887"
            ],
            [
             0.1111111111111111,
             "#46039f"
            ],
            [
             0.2222222222222222,
             "#7201a8"
            ],
            [
             0.3333333333333333,
             "#9c179e"
            ],
            [
             0.4444444444444444,
             "#bd3786"
            ],
            [
             0.5555555555555556,
             "#d8576b"
            ],
            [
             0.6666666666666666,
             "#ed7953"
            ],
            [
             0.7777777777777778,
             "#fb9f3a"
            ],
            [
             0.8888888888888888,
             "#fdca26"
            ],
            [
             1,
             "#f0f921"
            ]
           ],
           "sequentialminus": [
            [
             0,
             "#0d0887"
            ],
            [
             0.1111111111111111,
             "#46039f"
            ],
            [
             0.2222222222222222,
             "#7201a8"
            ],
            [
             0.3333333333333333,
             "#9c179e"
            ],
            [
             0.4444444444444444,
             "#bd3786"
            ],
            [
             0.5555555555555556,
             "#d8576b"
            ],
            [
             0.6666666666666666,
             "#ed7953"
            ],
            [
             0.7777777777777778,
             "#fb9f3a"
            ],
            [
             0.8888888888888888,
             "#fdca26"
            ],
            [
             1,
             "#f0f921"
            ]
           ]
          },
          "colorway": [
           "#636efa",
           "#EF553B",
           "#00cc96",
           "#ab63fa",
           "#FFA15A",
           "#19d3f3",
           "#FF6692",
           "#B6E880",
           "#FF97FF",
           "#FECB52"
          ],
          "font": {
           "color": "#2a3f5f"
          },
          "geo": {
           "bgcolor": "white",
           "lakecolor": "white",
           "landcolor": "#E5ECF6",
           "showlakes": true,
           "showland": true,
           "subunitcolor": "white"
          },
          "hoverlabel": {
           "align": "left"
          },
          "hovermode": "closest",
          "mapbox": {
           "style": "light"
          },
          "paper_bgcolor": "white",
          "plot_bgcolor": "#E5ECF6",
          "polar": {
           "angularaxis": {
            "gridcolor": "white",
            "linecolor": "white",
            "ticks": ""
           },
           "bgcolor": "#E5ECF6",
           "radialaxis": {
            "gridcolor": "white",
            "linecolor": "white",
            "ticks": ""
           }
          },
          "scene": {
           "xaxis": {
            "backgroundcolor": "#E5ECF6",
            "gridcolor": "white",
            "gridwidth": 2,
            "linecolor": "white",
            "showbackground": true,
            "ticks": "",
            "zerolinecolor": "white"
           },
           "yaxis": {
            "backgroundcolor": "#E5ECF6",
            "gridcolor": "white",
            "gridwidth": 2,
            "linecolor": "white",
            "showbackground": true,
            "ticks": "",
            "zerolinecolor": "white"
           },
           "zaxis": {
            "backgroundcolor": "#E5ECF6",
            "gridcolor": "white",
            "gridwidth": 2,
            "linecolor": "white",
            "showbackground": true,
            "ticks": "",
            "zerolinecolor": "white"
           }
          },
          "shapedefaults": {
           "line": {
            "color": "#2a3f5f"
           }
          },
          "ternary": {
           "aaxis": {
            "gridcolor": "white",
            "linecolor": "white",
            "ticks": ""
           },
           "baxis": {
            "gridcolor": "white",
            "linecolor": "white",
            "ticks": ""
           },
           "bgcolor": "#E5ECF6",
           "caxis": {
            "gridcolor": "white",
            "linecolor": "white",
            "ticks": ""
           }
          },
          "title": {
           "x": 0.05
          },
          "xaxis": {
           "automargin": true,
           "gridcolor": "white",
           "linecolor": "white",
           "ticks": "",
           "title": {
            "standoff": 15
           },
           "zerolinecolor": "white",
           "zerolinewidth": 2
          },
          "yaxis": {
           "automargin": true,
           "gridcolor": "white",
           "linecolor": "white",
           "ticks": "",
           "title": {
            "standoff": 15
           },
           "zerolinecolor": "white",
           "zerolinewidth": 2
          }
         }
        },
        "title": {
         "text": "'Lockdown', 'Pandemic', and 'Virus' mentions with Total Cases"
        },
        "xaxis": {
         "anchor": "y",
         "domain": [
          0,
          0.94
         ]
        },
        "yaxis": {
         "anchor": "x",
         "domain": [
          0,
          1
         ],
         "title": {
          "text": "<b>Mention Counts</b>"
         }
        },
        "yaxis2": {
         "anchor": "x",
         "overlaying": "y",
         "side": "right",
         "title": {
          "text": "<b>COVID Case totals</b>"
         }
        }
       }
      },
      "text/html": [
       "<div>                            <div id=\"f0e6a180-80e0-4953-953a-f15bde830e8a\" class=\"plotly-graph-div\" style=\"height:525px; width:100%;\"></div>            <script type=\"text/javascript\">                require([\"plotly\"], function(Plotly) {                    window.PLOTLYENV=window.PLOTLYENV || {};                                    if (document.getElementById(\"f0e6a180-80e0-4953-953a-f15bde830e8a\")) {                    Plotly.newPlot(                        \"f0e6a180-80e0-4953-953a-f15bde830e8a\",                        [{\"name\": \"Lockdown mentions\", \"type\": \"scatter\", \"x\": [\"2020-03-20T00:00:00\", \"2020-03-21T00:00:00\", \"2020-03-22T00:00:00\", \"2020-03-23T00:00:00\", \"2020-03-24T00:00:00\", \"2020-03-25T00:00:00\", \"2020-03-26T00:00:00\", \"2020-03-27T00:00:00\", \"2020-03-28T00:00:00\", \"2020-03-29T00:00:00\", \"2020-03-30T00:00:00\", \"2020-03-31T00:00:00\", \"2020-04-01T00:00:00\", \"2020-04-02T00:00:00\", \"2020-04-03T00:00:00\", \"2020-04-04T00:00:00\", \"2020-04-05T00:00:00\", \"2020-04-06T00:00:00\", \"2020-04-07T00:00:00\", \"2020-04-08T00:00:00\", \"2020-04-09T00:00:00\", \"2020-04-10T00:00:00\", \"2020-04-11T00:00:00\", \"2020-04-12T00:00:00\", \"2020-04-13T00:00:00\", \"2020-04-14T00:00:00\", \"2020-04-15T00:00:00\", \"2020-04-16T00:00:00\", \"2020-04-17T00:00:00\", \"2020-04-18T00:00:00\", \"2020-04-19T00:00:00\", \"2020-04-20T00:00:00\", \"2020-04-21T00:00:00\", \"2020-04-22T00:00:00\", \"2020-04-23T00:00:00\", \"2020-04-24T00:00:00\", \"2020-04-25T00:00:00\", \"2020-04-26T00:00:00\", \"2020-04-27T00:00:00\", \"2020-04-28T00:00:00\", \"2020-04-29T00:00:00\", \"2020-04-30T00:00:00\", \"2020-05-01T00:00:00\", \"2020-05-02T00:00:00\", \"2020-05-03T00:00:00\", \"2020-05-04T00:00:00\", \"2020-05-05T00:00:00\", \"2020-05-06T00:00:00\", \"2020-05-07T00:00:00\", \"2020-05-08T00:00:00\", \"2020-05-09T00:00:00\", \"2020-05-10T00:00:00\", \"2020-05-11T00:00:00\", \"2020-05-12T00:00:00\", \"2020-05-13T00:00:00\", \"2020-05-14T00:00:00\", \"2020-05-15T00:00:00\", \"2020-05-16T00:00:00\", \"2020-05-17T00:00:00\", \"2020-05-18T00:00:00\", \"2020-05-19T00:00:00\", \"2020-05-20T00:00:00\", \"2020-05-21T00:00:00\", \"2020-05-22T00:00:00\", \"2020-05-23T00:00:00\", \"2020-05-24T00:00:00\", \"2020-05-25T00:00:00\", \"2020-05-26T00:00:00\", \"2020-05-27T00:00:00\", \"2020-05-28T00:00:00\", \"2020-05-29T00:00:00\", \"2020-05-30T00:00:00\", \"2020-05-31T00:00:00\", \"2020-06-01T00:00:00\", \"2020-06-02T00:00:00\", \"2020-06-03T00:00:00\", \"2020-06-04T00:00:00\", \"2020-06-05T00:00:00\", \"2020-06-06T00:00:00\", \"2020-06-07T00:00:00\", \"2020-06-08T00:00:00\", \"2020-06-09T00:00:00\", \"2020-06-10T00:00:00\", \"2020-06-11T00:00:00\", \"2020-06-12T00:00:00\", \"2020-06-13T00:00:00\", \"2020-06-14T00:00:00\", \"2020-06-15T00:00:00\", \"2020-06-16T00:00:00\", \"2020-06-17T00:00:00\", \"2020-06-18T00:00:00\", \"2020-06-19T00:00:00\", \"2020-06-20T00:00:00\", \"2020-06-21T00:00:00\", \"2020-06-22T00:00:00\", \"2020-06-23T00:00:00\", \"2020-06-24T00:00:00\", \"2020-06-25T00:00:00\", \"2020-06-26T00:00:00\", \"2020-06-27T00:00:00\", \"2020-06-28T00:00:00\", \"2020-06-29T00:00:00\", \"2020-06-30T00:00:00\", \"2020-07-01T00:00:00\", \"2020-07-02T00:00:00\", \"2020-07-03T00:00:00\", \"2020-07-04T00:00:00\", \"2020-07-05T00:00:00\", \"2020-07-06T00:00:00\", \"2020-07-07T00:00:00\", \"2020-07-08T00:00:00\", \"2020-07-09T00:00:00\", \"2020-07-10T00:00:00\", \"2020-07-11T00:00:00\", \"2020-07-12T00:00:00\", \"2020-07-13T00:00:00\", \"2020-07-14T00:00:00\", \"2020-07-15T00:00:00\", \"2020-07-16T00:00:00\", \"2020-07-17T00:00:00\", \"2020-07-18T00:00:00\", \"2020-07-19T00:00:00\", \"2020-07-20T00:00:00\", \"2020-07-21T00:00:00\", \"2020-07-22T00:00:00\", \"2020-07-23T00:00:00\", \"2020-07-24T00:00:00\", \"2020-07-25T00:00:00\", \"2020-07-26T00:00:00\", \"2020-07-27T00:00:00\", \"2020-07-28T00:00:00\", \"2020-07-29T00:00:00\", \"2020-07-30T00:00:00\", \"2020-07-31T00:00:00\", \"2020-08-01T00:00:00\", \"2020-08-02T00:00:00\", \"2020-08-03T00:00:00\", \"2020-08-04T00:00:00\", \"2020-08-05T00:00:00\", \"2020-08-06T00:00:00\", \"2020-08-07T00:00:00\", \"2020-08-08T00:00:00\", \"2020-08-09T00:00:00\", \"2020-08-10T00:00:00\", \"2020-08-11T00:00:00\", \"2020-08-12T00:00:00\", \"2020-08-13T00:00:00\", \"2020-08-14T00:00:00\", \"2020-08-15T00:00:00\", \"2020-08-16T00:00:00\", \"2020-08-17T00:00:00\", \"2020-08-18T00:00:00\", \"2020-08-19T00:00:00\", \"2020-08-20T00:00:00\", \"2020-08-21T00:00:00\", \"2020-08-22T00:00:00\", \"2020-08-23T00:00:00\", \"2020-08-24T00:00:00\", \"2020-08-25T00:00:00\", \"2020-08-26T00:00:00\", \"2020-08-27T00:00:00\", \"2020-08-28T00:00:00\", \"2020-08-29T00:00:00\", \"2020-08-30T00:00:00\", \"2020-08-31T00:00:00\", \"2020-09-01T00:00:00\"], \"xaxis\": \"x\", \"y\": [87, 197, 357, 629, 934, 1266, 1520, 1741, 2026, 2114, 2330, 2605, 2870, 3213, 3379, 3624, 3817, 4043, 4221, 4373, 4488, 4724, 4947, 5271, 5469, 5700, 5832, 6034, 6160, 6764, 7423, 8311, 9086, 9694, 10328, 10876, 11502, 12278, 13054, 13822, 14422, 15107, 15886, 16664, 17546, 18325, 18977, 19731, 20473, 21234, 21950, 22874, 23752, 24441, 25210, 25845, 26618, 27641, 28929, 30099, 31121, 32044, 33092, 34464, 36139, 37414, 38808, 39896, 40887, 41969, 43148, 44792, 45922, 47099, 48121, 49135, 49760, 50587, 51473, 52281, 53028, 53829, 54666, 55394, 56037, 56706, 57350, 59735, 62443, 65283, 67705, 69888, 71652, 73210, 74903, 76912, 78908, 80609, 82304, 84263, 86537, 89737, 92433, 94797, 97027, 99312, 101889, 104060, 105784, 107669, 109533, 111721, 113756, 115760, 117636, 119516, 121624, 123329, 125795, 127776, 129326, 131034, 132671, 134540, 136198, 137939, 139694, 141320, 143022, 144408, 145847, 147219, 148846, 151055, 152659, 155208, 157175, 158938, 160825, 162382, 164141, 165620, 167334, 168934, 170789, 172818, 174504, 176085, 177480, 178907, 180644, 182306, 183918, 185522, 187099, 188856, 190622, 192739, 194266, 196008, 197400, 198973, 201049, 202579, 204194, 204396], \"yaxis\": \"y\"}, {\"name\": \"Pandemic mentions\", \"type\": \"scatter\", \"x\": [\"2020-03-19T00:00:00\", \"2020-03-20T00:00:00\", \"2020-03-21T00:00:00\", \"2020-03-22T00:00:00\", \"2020-03-23T00:00:00\", \"2020-03-24T00:00:00\", \"2020-03-25T00:00:00\", \"2020-03-26T00:00:00\", \"2020-03-27T00:00:00\", \"2020-03-28T00:00:00\", \"2020-03-29T00:00:00\", \"2020-03-30T00:00:00\", \"2020-03-31T00:00:00\", \"2020-04-01T00:00:00\", \"2020-04-02T00:00:00\", \"2020-04-03T00:00:00\", \"2020-04-04T00:00:00\", \"2020-04-05T00:00:00\", \"2020-04-06T00:00:00\", \"2020-04-07T00:00:00\", \"2020-04-08T00:00:00\", \"2020-04-09T00:00:00\", \"2020-04-10T00:00:00\", \"2020-04-11T00:00:00\", \"2020-04-12T00:00:00\", \"2020-04-13T00:00:00\", \"2020-04-14T00:00:00\", \"2020-04-15T00:00:00\", \"2020-04-16T00:00:00\", \"2020-04-17T00:00:00\", \"2020-04-18T00:00:00\", \"2020-04-19T00:00:00\", \"2020-04-20T00:00:00\", \"2020-04-21T00:00:00\", \"2020-04-22T00:00:00\", \"2020-04-23T00:00:00\", \"2020-04-24T00:00:00\", \"2020-04-25T00:00:00\", \"2020-04-26T00:00:00\", \"2020-04-27T00:00:00\", \"2020-04-28T00:00:00\", \"2020-04-29T00:00:00\", \"2020-04-30T00:00:00\", \"2020-05-01T00:00:00\", \"2020-05-02T00:00:00\", \"2020-05-03T00:00:00\", \"2020-05-04T00:00:00\", \"2020-05-05T00:00:00\", \"2020-05-06T00:00:00\", \"2020-05-07T00:00:00\", \"2020-05-08T00:00:00\", \"2020-05-09T00:00:00\", \"2020-05-10T00:00:00\", \"2020-05-11T00:00:00\", \"2020-05-12T00:00:00\", \"2020-05-13T00:00:00\", \"2020-05-14T00:00:00\", \"2020-05-15T00:00:00\", \"2020-05-16T00:00:00\", \"2020-05-17T00:00:00\", \"2020-05-18T00:00:00\", \"2020-05-19T00:00:00\", \"2020-05-20T00:00:00\", \"2020-05-21T00:00:00\", \"2020-05-22T00:00:00\", \"2020-05-23T00:00:00\", \"2020-05-24T00:00:00\", \"2020-05-25T00:00:00\", \"2020-05-26T00:00:00\", \"2020-05-27T00:00:00\", \"2020-05-28T00:00:00\", \"2020-05-29T00:00:00\", \"2020-05-30T00:00:00\", \"2020-05-31T00:00:00\", \"2020-06-01T00:00:00\", \"2020-06-02T00:00:00\", \"2020-06-03T00:00:00\", \"2020-06-04T00:00:00\", \"2020-06-05T00:00:00\", \"2020-06-06T00:00:00\", \"2020-06-07T00:00:00\", \"2020-06-08T00:00:00\", \"2020-06-09T00:00:00\", \"2020-06-10T00:00:00\", \"2020-06-11T00:00:00\", \"2020-06-12T00:00:00\", \"2020-06-13T00:00:00\", \"2020-06-14T00:00:00\", \"2020-06-15T00:00:00\", \"2020-06-16T00:00:00\", \"2020-06-17T00:00:00\", \"2020-06-18T00:00:00\", \"2020-06-19T00:00:00\", \"2020-06-20T00:00:00\", \"2020-06-21T00:00:00\", \"2020-06-22T00:00:00\", \"2020-06-23T00:00:00\", \"2020-06-24T00:00:00\", \"2020-06-25T00:00:00\", \"2020-06-26T00:00:00\", \"2020-06-27T00:00:00\", \"2020-06-28T00:00:00\", \"2020-06-29T00:00:00\", \"2020-06-30T00:00:00\", \"2020-07-01T00:00:00\", \"2020-07-02T00:00:00\", \"2020-07-03T00:00:00\", \"2020-07-04T00:00:00\", \"2020-07-05T00:00:00\", \"2020-07-06T00:00:00\", \"2020-07-07T00:00:00\", \"2020-07-08T00:00:00\", \"2020-07-09T00:00:00\", \"2020-07-10T00:00:00\", \"2020-07-11T00:00:00\", \"2020-07-12T00:00:00\", \"2020-07-13T00:00:00\", \"2020-07-14T00:00:00\", \"2020-07-15T00:00:00\", \"2020-07-16T00:00:00\", \"2020-07-17T00:00:00\", \"2020-07-18T00:00:00\", \"2020-07-19T00:00:00\", \"2020-07-20T00:00:00\", \"2020-07-21T00:00:00\", \"2020-07-22T00:00:00\", \"2020-07-23T00:00:00\", \"2020-07-24T00:00:00\", \"2020-07-25T00:00:00\", \"2020-07-26T00:00:00\", \"2020-07-27T00:00:00\", \"2020-07-28T00:00:00\", \"2020-07-29T00:00:00\", \"2020-07-30T00:00:00\", \"2020-07-31T00:00:00\", \"2020-08-01T00:00:00\", \"2020-08-02T00:00:00\", \"2020-08-03T00:00:00\", \"2020-08-04T00:00:00\", \"2020-08-05T00:00:00\", \"2020-08-06T00:00:00\", \"2020-08-07T00:00:00\", \"2020-08-08T00:00:00\", \"2020-08-09T00:00:00\", \"2020-08-10T00:00:00\", \"2020-08-11T00:00:00\", \"2020-08-12T00:00:00\", \"2020-08-13T00:00:00\", \"2020-08-14T00:00:00\", \"2020-08-15T00:00:00\", \"2020-08-16T00:00:00\", \"2020-08-17T00:00:00\", \"2020-08-18T00:00:00\", \"2020-08-19T00:00:00\", \"2020-08-20T00:00:00\", \"2020-08-21T00:00:00\", \"2020-08-22T00:00:00\", \"2020-08-23T00:00:00\", \"2020-08-24T00:00:00\", \"2020-08-25T00:00:00\", \"2020-08-26T00:00:00\", \"2020-08-27T00:00:00\", \"2020-08-28T00:00:00\", \"2020-08-29T00:00:00\", \"2020-08-30T00:00:00\", \"2020-08-31T00:00:00\", \"2020-09-01T00:00:00\"], \"xaxis\": \"x\", \"y\": [87, 370, 532, 974, 1310, 1578, 1847, 2864, 3162, 3387, 3470, 3616, 3916, 4198, 4408, 4641, 4873, 5049, 5377, 5597, 5781, 5954, 6117, 6294, 6518, 6661, 6760, 6934, 7130, 7281, 8585, 9853, 11006, 12168, 13358, 14801, 15869, 16981, 18077, 19258, 20588, 21823, 23160, 24482, 25712, 27038, 28291, 29398, 30494, 31731, 33027, 34173, 35322, 36429, 37975, 39133, 40470, 41874, 43703, 45600, 47692, 49861, 51976, 53890, 55644, 57319, 58940, 60694, 62596, 64382, 66709, 68378, 69835, 72069, 74380, 75885, 77498, 78573, 82977, 88306, 92626, 96724, 101028, 105294, 110036, 114649, 119993, 124745, 129567, 133719, 137818, 142400, 147180, 151012, 155202, 160266, 165056, 170016, 175064, 182071, 187837, 193454, 198498, 204643, 211041, 216771, 221880, 226240, 230191, 235028, 242094, 247858, 253437, 259045, 263939, 268716, 274322, 280500, 286990, 293521, 298964, 304262, 309170, 314202, 319688, 325212, 331147, 336782, 341467, 346627, 352707, 359085, 364872, 370047, 376540, 382034, 387593, 393714, 400726, 406851, 412190, 417408, 422462, 428498, 435147, 441840, 446925, 453243, 458803, 464409, 470346, 476365, 481877, 487200, 492991, 500880, 507551, 514309, 520163, 526831, 533808, 540084, 546328, 550417, 554650, 559337, 560207], \"yaxis\": \"y\"}, {\"name\": \"Virus mentions\", \"type\": \"scatter\", \"x\": [\"2020-03-19T00:00:00\", \"2020-03-20T00:00:00\", \"2020-03-21T00:00:00\", \"2020-03-22T00:00:00\", \"2020-03-23T00:00:00\", \"2020-03-24T00:00:00\", \"2020-03-25T00:00:00\", \"2020-03-26T00:00:00\", \"2020-03-27T00:00:00\", \"2020-03-28T00:00:00\", \"2020-03-29T00:00:00\", \"2020-03-30T00:00:00\", \"2020-03-31T00:00:00\", \"2020-04-01T00:00:00\", \"2020-04-02T00:00:00\", \"2020-04-03T00:00:00\", \"2020-04-04T00:00:00\", \"2020-04-05T00:00:00\", \"2020-04-06T00:00:00\", \"2020-04-07T00:00:00\", \"2020-04-08T00:00:00\", \"2020-04-09T00:00:00\", \"2020-04-10T00:00:00\", \"2020-04-11T00:00:00\", \"2020-04-12T00:00:00\", \"2020-04-13T00:00:00\", \"2020-04-14T00:00:00\", \"2020-04-15T00:00:00\", \"2020-04-16T00:00:00\", \"2020-04-17T00:00:00\", \"2020-04-18T00:00:00\", \"2020-04-19T00:00:00\", \"2020-04-20T00:00:00\", \"2020-04-21T00:00:00\", \"2020-04-22T00:00:00\", \"2020-04-23T00:00:00\", \"2020-04-24T00:00:00\", \"2020-04-25T00:00:00\", \"2020-04-26T00:00:00\", \"2020-04-27T00:00:00\", \"2020-04-28T00:00:00\", \"2020-04-29T00:00:00\", \"2020-04-30T00:00:00\", \"2020-05-01T00:00:00\", \"2020-05-02T00:00:00\", \"2020-05-03T00:00:00\", \"2020-05-04T00:00:00\", \"2020-05-05T00:00:00\", \"2020-05-06T00:00:00\", \"2020-05-07T00:00:00\", \"2020-05-08T00:00:00\", \"2020-05-09T00:00:00\", \"2020-05-10T00:00:00\", \"2020-05-11T00:00:00\", \"2020-05-12T00:00:00\", \"2020-05-13T00:00:00\", \"2020-05-14T00:00:00\", \"2020-05-15T00:00:00\", \"2020-05-16T00:00:00\", \"2020-05-17T00:00:00\", \"2020-05-18T00:00:00\", \"2020-05-19T00:00:00\", \"2020-05-20T00:00:00\", \"2020-05-21T00:00:00\", \"2020-05-22T00:00:00\", \"2020-05-23T00:00:00\", \"2020-05-24T00:00:00\", \"2020-05-25T00:00:00\", \"2020-05-26T00:00:00\", \"2020-05-27T00:00:00\", \"2020-05-28T00:00:00\", \"2020-05-29T00:00:00\", \"2020-05-30T00:00:00\", \"2020-05-31T00:00:00\", \"2020-06-01T00:00:00\", \"2020-06-02T00:00:00\", \"2020-06-03T00:00:00\", \"2020-06-04T00:00:00\", \"2020-06-05T00:00:00\", \"2020-06-06T00:00:00\", \"2020-06-07T00:00:00\", \"2020-06-08T00:00:00\", \"2020-06-09T00:00:00\", \"2020-06-10T00:00:00\", \"2020-06-11T00:00:00\", \"2020-06-12T00:00:00\", \"2020-06-13T00:00:00\", \"2020-06-14T00:00:00\", \"2020-06-15T00:00:00\", \"2020-06-16T00:00:00\", \"2020-06-17T00:00:00\", \"2020-06-18T00:00:00\", \"2020-06-19T00:00:00\", \"2020-06-20T00:00:00\", \"2020-06-21T00:00:00\", \"2020-06-22T00:00:00\", \"2020-06-23T00:00:00\", \"2020-06-24T00:00:00\", \"2020-06-25T00:00:00\", \"2020-06-26T00:00:00\", \"2020-06-27T00:00:00\", \"2020-06-28T00:00:00\", \"2020-06-29T00:00:00\", \"2020-06-30T00:00:00\", \"2020-07-01T00:00:00\", \"2020-07-02T00:00:00\", \"2020-07-03T00:00:00\", \"2020-07-04T00:00:00\", \"2020-07-05T00:00:00\", \"2020-07-06T00:00:00\", \"2020-07-07T00:00:00\", \"2020-07-08T00:00:00\", \"2020-07-09T00:00:00\", \"2020-07-10T00:00:00\", \"2020-07-11T00:00:00\", \"2020-07-12T00:00:00\", \"2020-07-13T00:00:00\", \"2020-07-14T00:00:00\", \"2020-07-15T00:00:00\", \"2020-07-16T00:00:00\", \"2020-07-17T00:00:00\", \"2020-07-18T00:00:00\", \"2020-07-19T00:00:00\", \"2020-07-20T00:00:00\", \"2020-07-21T00:00:00\", \"2020-07-22T00:00:00\", \"2020-07-23T00:00:00\", \"2020-07-24T00:00:00\", \"2020-07-25T00:00:00\", \"2020-07-26T00:00:00\", \"2020-07-27T00:00:00\", \"2020-07-28T00:00:00\", \"2020-07-29T00:00:00\", \"2020-07-30T00:00:00\", \"2020-07-31T00:00:00\", \"2020-08-01T00:00:00\", \"2020-08-02T00:00:00\", \"2020-08-03T00:00:00\", \"2020-08-04T00:00:00\", \"2020-08-05T00:00:00\", \"2020-08-06T00:00:00\", \"2020-08-07T00:00:00\", \"2020-08-08T00:00:00\", \"2020-08-09T00:00:00\", \"2020-08-10T00:00:00\", \"2020-08-11T00:00:00\", \"2020-08-12T00:00:00\", \"2020-08-13T00:00:00\", \"2020-08-14T00:00:00\", \"2020-08-15T00:00:00\", \"2020-08-16T00:00:00\", \"2020-08-17T00:00:00\", \"2020-08-18T00:00:00\", \"2020-08-19T00:00:00\", \"2020-08-20T00:00:00\", \"2020-08-21T00:00:00\", \"2020-08-22T00:00:00\", \"2020-08-23T00:00:00\", \"2020-08-24T00:00:00\", \"2020-08-25T00:00:00\", \"2020-08-26T00:00:00\", \"2020-08-27T00:00:00\", \"2020-08-28T00:00:00\", \"2020-08-29T00:00:00\", \"2020-08-30T00:00:00\", \"2020-08-31T00:00:00\", \"2020-09-01T00:00:00\"], \"xaxis\": \"x\", \"y\": [599, 4120, 7625, 11903, 16570, 20975, 23784, 26186, 28842, 30830, 31565, 32772, 34374, 36444, 38048, 39570, 40871, 42152, 43560, 44560, 45705, 46828, 47938, 48913, 49805, 50482, 51178, 51965, 52758, 53399, 54569, 55690, 56628, 57500, 58363, 59340, 60283, 61297, 62485, 63562, 64534, 65459, 66528, 67615, 68478, 69455, 70588, 71583, 72336, 73113, 74088, 75068, 76095, 76924, 77716, 78653, 79508, 80436, 81563, 82741, 84071, 85360, 86612, 87972, 89189, 90653, 91988, 93585, 94969, 96325, 97908, 100634, 105275, 106544, 107723, 109049, 110757, 111604, 112418, 113205, 113997, 114905, 115761, 116580, 117447, 118522, 119843, 122025, 123694, 124833, 126376, 127510, 128767, 129882, 130856, 131953, 133026, 134279, 135600, 136782, 138201, 139604, 140675, 142388, 143696, 144910, 146446, 148255, 150008, 152058, 153849, 155406, 156695, 158054, 159425, 160801, 162298, 163641, 164714, 165881, 167141, 168543, 170002, 171519, 173255, 174927, 176332, 177714, 179240, 180653, 182193, 183400, 184683, 186310, 187955, 189717, 191208, 192518, 193862, 194973, 196394, 197742, 198873, 200166, 201458, 202702, 203813, 204974, 206247, 207440, 208529, 209690, 211435, 212976, 214194, 215166, 216082, 217234, 218328, 219712, 220987, 222177, 223313, 224583, 226246, 227945, 228170], \"yaxis\": \"y\"}, {\"line\": {\"color\": \"black\", \"dash\": \"dash\", \"width\": 4}, \"name\": \"Total Covid Cases\", \"type\": \"scatter\", \"x\": [\"2020-01-22\", \"2020-01-23\", \"2020-01-24\", \"2020-01-25\", \"2020-01-26\", \"2020-01-27\", \"2020-01-28\", \"2020-01-29\", \"2020-01-30\", \"2020-01-31\", \"2020-02-01\", \"2020-02-02\", \"2020-02-03\", \"2020-02-04\", \"2020-02-05\", \"2020-02-06\", \"2020-02-07\", \"2020-02-08\", \"2020-02-09\", \"2020-02-10\", \"2020-02-11\", \"2020-02-12\", \"2020-02-13\", \"2020-02-14\", \"2020-02-15\", \"2020-02-16\", \"2020-02-17\", \"2020-02-18\", \"2020-02-19\", \"2020-02-20\", \"2020-02-21\", \"2020-02-22\", \"2020-02-23\", \"2020-02-24\", \"2020-02-25\", \"2020-02-26\", \"2020-02-27\", \"2020-02-28\", \"2020-02-29\", \"2020-03-01\", \"2020-03-02\", \"2020-03-03\", \"2020-03-04\", \"2020-03-05\", \"2020-03-06\", \"2020-03-07\", \"2020-03-08\", \"2020-03-09\", \"2020-03-10\", \"2020-03-11\", \"2020-03-12\", \"2020-03-13\", \"2020-03-14\", \"2020-03-15\", \"2020-03-16\", \"2020-03-17\", \"2020-03-18\", \"2020-03-19\", \"2020-03-20\", \"2020-03-21\", \"2020-03-22\", \"2020-03-23\", \"2020-03-24\", \"2020-03-25\", \"2020-03-26\", \"2020-03-27\", \"2020-03-28\", \"2020-03-29\", \"2020-03-30\", \"2020-03-31\", \"2020-04-01\", \"2020-04-02\", \"2020-04-03\", \"2020-04-04\", \"2020-04-05\", \"2020-04-06\", \"2020-04-07\", \"2020-04-08\", \"2020-04-09\", \"2020-04-10\", \"2020-04-11\", \"2020-04-12\", \"2020-04-13\", \"2020-04-14\", \"2020-04-15\", \"2020-04-16\", \"2020-04-17\", \"2020-04-18\", \"2020-04-19\", \"2020-04-20\", \"2020-04-21\", \"2020-04-22\", \"2020-04-23\", \"2020-04-24\", \"2020-04-25\", \"2020-04-26\", \"2020-04-27\", \"2020-04-28\", \"2020-04-29\", \"2020-04-30\", \"2020-05-01\", \"2020-05-02\", \"2020-05-03\", \"2020-05-04\", \"2020-05-05\", \"2020-05-06\", \"2020-05-07\", \"2020-05-08\", \"2020-05-09\", \"2020-05-10\", \"2020-05-11\", \"2020-05-12\", \"2020-05-13\", \"2020-05-14\", \"2020-05-15\", \"2020-05-16\", \"2020-05-17\", \"2020-05-18\", \"2020-05-19\", \"2020-05-20\", \"2020-05-21\", \"2020-05-22\", \"2020-05-23\", \"2020-05-24\", \"2020-05-25\", \"2020-05-26\", \"2020-05-27\", \"2020-05-28\", \"2020-05-29\", \"2020-05-30\", \"2020-05-31\", \"2020-06-01\", \"2020-06-02\", \"2020-06-03\", \"2020-06-04\", \"2020-06-05\", \"2020-06-06\", \"2020-06-07\", \"2020-06-08\", \"2020-06-09\", \"2020-06-10\", \"2020-06-11\", \"2020-06-12\", \"2020-06-13\", \"2020-06-14\", \"2020-06-15\", \"2020-06-16\", \"2020-06-17\", \"2020-06-18\", \"2020-06-19\", \"2020-06-20\", \"2020-06-21\", \"2020-06-22\", \"2020-06-23\", \"2020-06-24\", \"2020-06-25\", \"2020-06-26\", \"2020-06-27\", \"2020-06-28\", \"2020-06-29\", \"2020-06-30\", \"2020-07-01\", \"2020-07-02\", \"2020-07-03\", \"2020-07-04\", \"2020-07-05\", \"2020-07-06\", \"2020-07-07\", \"2020-07-08\", \"2020-07-09\", \"2020-07-10\", \"2020-07-11\", \"2020-07-12\", \"2020-07-13\", \"2020-07-14\", \"2020-07-15\", \"2020-07-16\", \"2020-07-17\", \"2020-07-18\", \"2020-07-19\", \"2020-07-20\", \"2020-07-21\", \"2020-07-22\", \"2020-07-23\", \"2020-07-24\", \"2020-07-25\", \"2020-07-26\", \"2020-07-27\", \"2020-07-28\", \"2020-07-29\", \"2020-07-30\", \"2020-07-31\", \"2020-08-01\", \"2020-08-02\", \"2020-08-03\", \"2020-08-04\", \"2020-08-05\", \"2020-08-06\", \"2020-08-07\", \"2020-08-08\", \"2020-08-09\", \"2020-08-10\", \"2020-08-11\", \"2020-08-12\", \"2020-08-13\", \"2020-08-14\", \"2020-08-15\", \"2020-08-16\", \"2020-08-17\", \"2020-08-18\", \"2020-08-19\", \"2020-08-20\", \"2020-08-21\", \"2020-08-22\", \"2020-08-23\", \"2020-08-24\", \"2020-08-25\", \"2020-08-26\", \"2020-08-27\", \"2020-08-28\", \"2020-08-29\", \"2020-08-30\", \"2020-08-31\", \"2020-09-01\", \"2020-09-02\", \"2020-09-03\", \"2020-09-04\", \"2020-09-05\", \"2020-09-06\", \"2020-09-07\", \"2020-09-08\", \"2020-09-09\", \"2020-09-10\", \"2020-09-11\", \"2020-09-12\", \"2020-09-13\", \"2020-09-14\", \"2020-09-15\", \"2020-09-16\", \"2020-09-17\", \"2020-09-18\", \"2020-09-19\", \"2020-09-20\"], \"xaxis\": \"x\", \"y\": [555, 654, 941, 1434, 2118, 2927, 5578, 6166, 8234, 9926, 12038, 16787, 19887, 23898, 27643, 30802, 34395, 37129, 40159, 42768, 44810, 45228, 60381, 66908, 69050, 71234, 73269, 75151, 75651, 76211, 76840, 78601, 78981, 79545, 80398, 81375, 82735, 84120, 86013, 88395, 90372, 92957, 95272, 98028, 102018, 106036, 109993, 113946, 118967, 126675, 132450, 146783, 157801, 169032, 183677, 199391, 218683, 245633, 275963, 307709, 341784, 384630, 425787, 476680, 539069, 603910, 671653, 731267, 795997, 872495, 948663, 1030010, 1113203, 1193711, 1265377, 1338067, 1415186, 1498895, 1585483, 1672988, 1749872, 1846819, 1916464, 1986284, 2067245, 2163941, 2251672, 2325485, 2406054, 2479522, 2554727, 2631781, 2720583, 2807495, 2892296, 2965076, 3034072, 3109425, 3186589, 3270117, 3357276, 3438689, 3516333, 3592506, 3672660, 3762727, 3851894, 3943470, 4029169, 4105292, 4181640, 4265367, 4350206, 4447281, 4543711, 4639021, 4717335, 4805823, 4902461, 5005574, 5111869, 5218664, 5323977, 5419242, 5506311, 5598982, 5701734, 5821183, 5942378, 6080002, 6187396, 6282981, 6403944, 6522099, 6649014, 6779972, 6915760, 7027674, 7130092, 7254608, 7389151, 7527086, 7656149, 7791901, 7925110, 8044663, 8186473, 8328685, 8468705, 8648774, 8806595, 8935273, 9073260, 9238052, 9409498, 9587195, 9778566, 9957498, 10119644, 10275992, 10449832, 10666930, 10874417, 11077903, 11271954, 11454850, 11620802, 11831641, 12043466, 12271553, 12503942, 12720381, 12913142, 13105192, 13326971, 13557898, 13810459, 14052261, 14290096, 14504853, 14710995, 14944726, 15225164, 15507881, 15789074, 16044757, 16258079, 16484206, 16736727, 17025889, 17306523, 17596559, 17847574, 18076718, 18278778, 18537524, 18808754, 19093901, 19374812, 19634542, 19858792, 20086280, 20341107, 20618174, 20904123, 21208474, 21456826, 21669376, 21878471, 22134679, 22408212, 22675329, 22946050, 23211563, 23417506, 23643854, 23885885, 24173746, 24452944, 24734448, 24996456, 25222709, 25484767, 25749642, 26031410, 26304856, 26617971, 26881547, 27103845, 27337760, 27570742, 27862680, 28161434, 28481322, 28758945, 28995373, 29274650, 29557942, 29861949, 30175313, 30499534, 30780755, 31021972], \"yaxis\": \"y2\"}],                        {\"template\": {\"data\": {\"bar\": [{\"error_x\": {\"color\": \"#2a3f5f\"}, \"error_y\": {\"color\": \"#2a3f5f\"}, \"marker\": {\"line\": {\"color\": \"#E5ECF6\", \"width\": 0.5}}, \"type\": \"bar\"}], \"barpolar\": [{\"marker\": {\"line\": {\"color\": \"#E5ECF6\", \"width\": 0.5}}, \"type\": \"barpolar\"}], \"carpet\": [{\"aaxis\": {\"endlinecolor\": \"#2a3f5f\", \"gridcolor\": \"white\", \"linecolor\": \"white\", \"minorgridcolor\": \"white\", \"startlinecolor\": \"#2a3f5f\"}, \"baxis\": {\"endlinecolor\": \"#2a3f5f\", \"gridcolor\": \"white\", \"linecolor\": \"white\", \"minorgridcolor\": \"white\", \"startlinecolor\": \"#2a3f5f\"}, \"type\": \"carpet\"}], \"choropleth\": [{\"colorbar\": {\"outlinewidth\": 0, \"ticks\": \"\"}, \"type\": \"choropleth\"}], \"contour\": [{\"colorbar\": {\"outlinewidth\": 0, \"ticks\": \"\"}, \"colorscale\": [[0.0, \"#0d0887\"], [0.1111111111111111, \"#46039f\"], [0.2222222222222222, \"#7201a8\"], [0.3333333333333333, \"#9c179e\"], [0.4444444444444444, \"#bd3786\"], [0.5555555555555556, \"#d8576b\"], [0.6666666666666666, \"#ed7953\"], [0.7777777777777778, \"#fb9f3a\"], [0.8888888888888888, \"#fdca26\"], [1.0, \"#f0f921\"]], \"type\": \"contour\"}], \"contourcarpet\": [{\"colorbar\": {\"outlinewidth\": 0, \"ticks\": \"\"}, \"type\": \"contourcarpet\"}], \"heatmap\": [{\"colorbar\": {\"outlinewidth\": 0, \"ticks\": \"\"}, \"colorscale\": [[0.0, \"#0d0887\"], [0.1111111111111111, \"#46039f\"], [0.2222222222222222, \"#7201a8\"], [0.3333333333333333, \"#9c179e\"], [0.4444444444444444, \"#bd3786\"], [0.5555555555555556, \"#d8576b\"], [0.6666666666666666, \"#ed7953\"], [0.7777777777777778, \"#fb9f3a\"], [0.8888888888888888, \"#fdca26\"], [1.0, \"#f0f921\"]], \"type\": \"heatmap\"}], \"heatmapgl\": [{\"colorbar\": {\"outlinewidth\": 0, \"ticks\": \"\"}, \"colorscale\": [[0.0, \"#0d0887\"], [0.1111111111111111, \"#46039f\"], [0.2222222222222222, \"#7201a8\"], [0.3333333333333333, \"#9c179e\"], [0.4444444444444444, \"#bd3786\"], [0.5555555555555556, \"#d8576b\"], [0.6666666666666666, \"#ed7953\"], [0.7777777777777778, \"#fb9f3a\"], [0.8888888888888888, \"#fdca26\"], [1.0, \"#f0f921\"]], \"type\": \"heatmapgl\"}], \"histogram\": [{\"marker\": {\"colorbar\": {\"outlinewidth\": 0, \"ticks\": \"\"}}, \"type\": \"histogram\"}], \"histogram2d\": [{\"colorbar\": {\"outlinewidth\": 0, \"ticks\": \"\"}, \"colorscale\": [[0.0, \"#0d0887\"], [0.1111111111111111, \"#46039f\"], [0.2222222222222222, \"#7201a8\"], [0.3333333333333333, \"#9c179e\"], [0.4444444444444444, \"#bd3786\"], [0.5555555555555556, \"#d8576b\"], [0.6666666666666666, \"#ed7953\"], [0.7777777777777778, \"#fb9f3a\"], [0.8888888888888888, \"#fdca26\"], [1.0, \"#f0f921\"]], \"type\": \"histogram2d\"}], \"histogram2dcontour\": [{\"colorbar\": {\"outlinewidth\": 0, \"ticks\": \"\"}, \"colorscale\": [[0.0, \"#0d0887\"], [0.1111111111111111, \"#46039f\"], [0.2222222222222222, \"#7201a8\"], [0.3333333333333333, \"#9c179e\"], [0.4444444444444444, \"#bd3786\"], [0.5555555555555556, \"#d8576b\"], [0.6666666666666666, \"#ed7953\"], [0.7777777777777778, \"#fb9f3a\"], [0.8888888888888888, \"#fdca26\"], [1.0, \"#f0f921\"]], \"type\": \"histogram2dcontour\"}], \"mesh3d\": [{\"colorbar\": {\"outlinewidth\": 0, \"ticks\": \"\"}, \"type\": \"mesh3d\"}], \"parcoords\": [{\"line\": {\"colorbar\": {\"outlinewidth\": 0, \"ticks\": \"\"}}, \"type\": \"parcoords\"}], \"pie\": [{\"automargin\": true, \"type\": \"pie\"}], \"scatter\": [{\"marker\": {\"colorbar\": {\"outlinewidth\": 0, \"ticks\": \"\"}}, \"type\": \"scatter\"}], \"scatter3d\": [{\"line\": {\"colorbar\": {\"outlinewidth\": 0, \"ticks\": \"\"}}, \"marker\": {\"colorbar\": {\"outlinewidth\": 0, \"ticks\": \"\"}}, \"type\": \"scatter3d\"}], \"scattercarpet\": [{\"marker\": {\"colorbar\": {\"outlinewidth\": 0, \"ticks\": \"\"}}, \"type\": \"scattercarpet\"}], \"scattergeo\": [{\"marker\": {\"colorbar\": {\"outlinewidth\": 0, \"ticks\": \"\"}}, \"type\": \"scattergeo\"}], \"scattergl\": [{\"marker\": {\"colorbar\": {\"outlinewidth\": 0, \"ticks\": \"\"}}, \"type\": \"scattergl\"}], \"scattermapbox\": [{\"marker\": {\"colorbar\": {\"outlinewidth\": 0, \"ticks\": \"\"}}, \"type\": \"scattermapbox\"}], \"scatterpolar\": [{\"marker\": {\"colorbar\": {\"outlinewidth\": 0, \"ticks\": \"\"}}, \"type\": \"scatterpolar\"}], \"scatterpolargl\": [{\"marker\": {\"colorbar\": {\"outlinewidth\": 0, \"ticks\": \"\"}}, \"type\": \"scatterpolargl\"}], \"scatterternary\": [{\"marker\": {\"colorbar\": {\"outlinewidth\": 0, \"ticks\": \"\"}}, \"type\": \"scatterternary\"}], \"surface\": [{\"colorbar\": {\"outlinewidth\": 0, \"ticks\": \"\"}, \"colorscale\": [[0.0, \"#0d0887\"], [0.1111111111111111, \"#46039f\"], [0.2222222222222222, \"#7201a8\"], [0.3333333333333333, \"#9c179e\"], [0.4444444444444444, \"#bd3786\"], [0.5555555555555556, \"#d8576b\"], [0.6666666666666666, \"#ed7953\"], [0.7777777777777778, \"#fb9f3a\"], [0.8888888888888888, \"#fdca26\"], [1.0, \"#f0f921\"]], \"type\": \"surface\"}], \"table\": [{\"cells\": {\"fill\": {\"color\": \"#EBF0F8\"}, \"line\": {\"color\": \"white\"}}, \"header\": {\"fill\": {\"color\": \"#C8D4E3\"}, \"line\": {\"color\": \"white\"}}, \"type\": \"table\"}]}, \"layout\": {\"annotationdefaults\": {\"arrowcolor\": \"#2a3f5f\", \"arrowhead\": 0, \"arrowwidth\": 1}, \"coloraxis\": {\"colorbar\": {\"outlinewidth\": 0, \"ticks\": \"\"}}, \"colorscale\": {\"diverging\": [[0, \"#8e0152\"], [0.1, \"#c51b7d\"], [0.2, \"#de77ae\"], [0.3, \"#f1b6da\"], [0.4, \"#fde0ef\"], [0.5, \"#f7f7f7\"], [0.6, \"#e6f5d0\"], [0.7, \"#b8e186\"], [0.8, \"#7fbc41\"], [0.9, \"#4d9221\"], [1, \"#276419\"]], \"sequential\": [[0.0, \"#0d0887\"], [0.1111111111111111, \"#46039f\"], [0.2222222222222222, \"#7201a8\"], [0.3333333333333333, \"#9c179e\"], [0.4444444444444444, \"#bd3786\"], [0.5555555555555556, \"#d8576b\"], [0.6666666666666666, \"#ed7953\"], [0.7777777777777778, \"#fb9f3a\"], [0.8888888888888888, \"#fdca26\"], [1.0, \"#f0f921\"]], \"sequentialminus\": [[0.0, \"#0d0887\"], [0.1111111111111111, \"#46039f\"], [0.2222222222222222, \"#7201a8\"], [0.3333333333333333, \"#9c179e\"], [0.4444444444444444, \"#bd3786\"], [0.5555555555555556, \"#d8576b\"], [0.6666666666666666, \"#ed7953\"], [0.7777777777777778, \"#fb9f3a\"], [0.8888888888888888, \"#fdca26\"], [1.0, \"#f0f921\"]]}, \"colorway\": [\"#636efa\", \"#EF553B\", \"#00cc96\", \"#ab63fa\", \"#FFA15A\", \"#19d3f3\", \"#FF6692\", \"#B6E880\", \"#FF97FF\", \"#FECB52\"], \"font\": {\"color\": \"#2a3f5f\"}, \"geo\": {\"bgcolor\": \"white\", \"lakecolor\": \"white\", \"landcolor\": \"#E5ECF6\", \"showlakes\": true, \"showland\": true, \"subunitcolor\": \"white\"}, \"hoverlabel\": {\"align\": \"left\"}, \"hovermode\": \"closest\", \"mapbox\": {\"style\": \"light\"}, \"paper_bgcolor\": \"white\", \"plot_bgcolor\": \"#E5ECF6\", \"polar\": {\"angularaxis\": {\"gridcolor\": \"white\", \"linecolor\": \"white\", \"ticks\": \"\"}, \"bgcolor\": \"#E5ECF6\", \"radialaxis\": {\"gridcolor\": \"white\", \"linecolor\": \"white\", \"ticks\": \"\"}}, \"scene\": {\"xaxis\": {\"backgroundcolor\": \"#E5ECF6\", \"gridcolor\": \"white\", \"gridwidth\": 2, \"linecolor\": \"white\", \"showbackground\": true, \"ticks\": \"\", \"zerolinecolor\": \"white\"}, \"yaxis\": {\"backgroundcolor\": \"#E5ECF6\", \"gridcolor\": \"white\", \"gridwidth\": 2, \"linecolor\": \"white\", \"showbackground\": true, \"ticks\": \"\", \"zerolinecolor\": \"white\"}, \"zaxis\": {\"backgroundcolor\": \"#E5ECF6\", \"gridcolor\": \"white\", \"gridwidth\": 2, \"linecolor\": \"white\", \"showbackground\": true, \"ticks\": \"\", \"zerolinecolor\": \"white\"}}, \"shapedefaults\": {\"line\": {\"color\": \"#2a3f5f\"}}, \"ternary\": {\"aaxis\": {\"gridcolor\": \"white\", \"linecolor\": \"white\", \"ticks\": \"\"}, \"baxis\": {\"gridcolor\": \"white\", \"linecolor\": \"white\", \"ticks\": \"\"}, \"bgcolor\": \"#E5ECF6\", \"caxis\": {\"gridcolor\": \"white\", \"linecolor\": \"white\", \"ticks\": \"\"}}, \"title\": {\"x\": 0.05}, \"xaxis\": {\"automargin\": true, \"gridcolor\": \"white\", \"linecolor\": \"white\", \"ticks\": \"\", \"title\": {\"standoff\": 15}, \"zerolinecolor\": \"white\", \"zerolinewidth\": 2}, \"yaxis\": {\"automargin\": true, \"gridcolor\": \"white\", \"linecolor\": \"white\", \"ticks\": \"\", \"title\": {\"standoff\": 15}, \"zerolinecolor\": \"white\", \"zerolinewidth\": 2}}}, \"title\": {\"text\": \"'Lockdown', 'Pandemic', and 'Virus' mentions with Total Cases\"}, \"xaxis\": {\"anchor\": \"y\", \"domain\": [0.0, 0.94]}, \"yaxis\": {\"anchor\": \"x\", \"domain\": [0.0, 1.0], \"title\": {\"text\": \"<b>Mention Counts</b>\"}}, \"yaxis2\": {\"anchor\": \"x\", \"overlaying\": \"y\", \"side\": \"right\", \"title\": {\"text\": \"<b>COVID Case totals</b>\"}}},                        {\"responsive\": true}                    ).then(function(){\n",
       "                            \n",
       "var gd = document.getElementById('f0e6a180-80e0-4953-953a-f15bde830e8a');\n",
       "var x = new MutationObserver(function (mutations, observer) {{\n",
       "        var display = window.getComputedStyle(gd).display;\n",
       "        if (!display || display === 'none') {{\n",
       "            console.log([gd, 'removed!']);\n",
       "            Plotly.purge(gd);\n",
       "            observer.disconnect();\n",
       "        }}\n",
       "}});\n",
       "\n",
       "// Listen for the removal of the full notebook cells\n",
       "var notebookContainer = gd.closest('#notebook-container');\n",
       "if (notebookContainer) {{\n",
       "    x.observe(notebookContainer, {childList: true});\n",
       "}}\n",
       "\n",
       "// Listen for the clearing of the current output cell\n",
       "var outputEl = gd.closest('.output');\n",
       "if (outputEl) {{\n",
       "    x.observe(outputEl, {childList: true});\n",
       "}}\n",
       "\n",
       "                        })                };                });            </script>        </div>"
      ]
     },
     "metadata": {},
     "output_type": "display_data"
    }
   ],
   "source": [
    "gp1.words_linechart_one()"
   ]
  },
  {
   "cell_type": "markdown",
   "metadata": {},
   "source": [
    "## Top 6 most meaningful words within the Top 10 most mentioned\n",
    "- There were several highly mentioned terms such as 'ha', and 'wa' that were removed from this list as they were not deemed to be particularly meaningful. "
   ]
  },
  {
   "cell_type": "code",
   "execution_count": 6,
   "metadata": {
    "ExecuteTime": {
     "end_time": "2020-09-28T02:01:07.713518Z",
     "start_time": "2020-09-28T02:01:02.595460Z"
    }
   },
   "outputs": [
    {
     "data": {
      "application/vnd.plotly.v1+json": {
       "config": {
        "plotlyServerURL": "https://plot.ly"
       },
       "data": [
        {
         "name": "Pandemic mentions (1)",
         "type": "scatter",
         "x": [
          "2020-03-19T00:00:00",
          "2020-03-20T00:00:00",
          "2020-03-21T00:00:00",
          "2020-03-22T00:00:00",
          "2020-03-23T00:00:00",
          "2020-03-24T00:00:00",
          "2020-03-25T00:00:00",
          "2020-03-26T00:00:00",
          "2020-03-27T00:00:00",
          "2020-03-28T00:00:00",
          "2020-03-29T00:00:00",
          "2020-03-30T00:00:00",
          "2020-03-31T00:00:00",
          "2020-04-01T00:00:00",
          "2020-04-02T00:00:00",
          "2020-04-03T00:00:00",
          "2020-04-04T00:00:00",
          "2020-04-05T00:00:00",
          "2020-04-06T00:00:00",
          "2020-04-07T00:00:00",
          "2020-04-08T00:00:00",
          "2020-04-09T00:00:00",
          "2020-04-10T00:00:00",
          "2020-04-11T00:00:00",
          "2020-04-12T00:00:00",
          "2020-04-13T00:00:00",
          "2020-04-14T00:00:00",
          "2020-04-15T00:00:00",
          "2020-04-16T00:00:00",
          "2020-04-17T00:00:00",
          "2020-04-18T00:00:00",
          "2020-04-19T00:00:00",
          "2020-04-20T00:00:00",
          "2020-04-21T00:00:00",
          "2020-04-22T00:00:00",
          "2020-04-23T00:00:00",
          "2020-04-24T00:00:00",
          "2020-04-25T00:00:00",
          "2020-04-26T00:00:00",
          "2020-04-27T00:00:00",
          "2020-04-28T00:00:00",
          "2020-04-29T00:00:00",
          "2020-04-30T00:00:00",
          "2020-05-01T00:00:00",
          "2020-05-02T00:00:00",
          "2020-05-03T00:00:00",
          "2020-05-04T00:00:00",
          "2020-05-05T00:00:00",
          "2020-05-06T00:00:00",
          "2020-05-07T00:00:00",
          "2020-05-08T00:00:00",
          "2020-05-09T00:00:00",
          "2020-05-10T00:00:00",
          "2020-05-11T00:00:00",
          "2020-05-12T00:00:00",
          "2020-05-13T00:00:00",
          "2020-05-14T00:00:00",
          "2020-05-15T00:00:00",
          "2020-05-16T00:00:00",
          "2020-05-17T00:00:00",
          "2020-05-18T00:00:00",
          "2020-05-19T00:00:00",
          "2020-05-20T00:00:00",
          "2020-05-21T00:00:00",
          "2020-05-22T00:00:00",
          "2020-05-23T00:00:00",
          "2020-05-24T00:00:00",
          "2020-05-25T00:00:00",
          "2020-05-26T00:00:00",
          "2020-05-27T00:00:00",
          "2020-05-28T00:00:00",
          "2020-05-29T00:00:00",
          "2020-05-30T00:00:00",
          "2020-05-31T00:00:00",
          "2020-06-01T00:00:00",
          "2020-06-02T00:00:00",
          "2020-06-03T00:00:00",
          "2020-06-04T00:00:00",
          "2020-06-05T00:00:00",
          "2020-06-06T00:00:00",
          "2020-06-07T00:00:00",
          "2020-06-08T00:00:00",
          "2020-06-09T00:00:00",
          "2020-06-10T00:00:00",
          "2020-06-11T00:00:00",
          "2020-06-12T00:00:00",
          "2020-06-13T00:00:00",
          "2020-06-14T00:00:00",
          "2020-06-15T00:00:00",
          "2020-06-16T00:00:00",
          "2020-06-17T00:00:00",
          "2020-06-18T00:00:00",
          "2020-06-19T00:00:00",
          "2020-06-20T00:00:00",
          "2020-06-21T00:00:00",
          "2020-06-22T00:00:00",
          "2020-06-23T00:00:00",
          "2020-06-24T00:00:00",
          "2020-06-25T00:00:00",
          "2020-06-26T00:00:00",
          "2020-06-27T00:00:00",
          "2020-06-28T00:00:00",
          "2020-06-29T00:00:00",
          "2020-06-30T00:00:00",
          "2020-07-01T00:00:00",
          "2020-07-02T00:00:00",
          "2020-07-03T00:00:00",
          "2020-07-04T00:00:00",
          "2020-07-05T00:00:00",
          "2020-07-06T00:00:00",
          "2020-07-07T00:00:00",
          "2020-07-08T00:00:00",
          "2020-07-09T00:00:00",
          "2020-07-10T00:00:00",
          "2020-07-11T00:00:00",
          "2020-07-12T00:00:00",
          "2020-07-13T00:00:00",
          "2020-07-14T00:00:00",
          "2020-07-15T00:00:00",
          "2020-07-16T00:00:00",
          "2020-07-17T00:00:00",
          "2020-07-18T00:00:00",
          "2020-07-19T00:00:00",
          "2020-07-20T00:00:00",
          "2020-07-21T00:00:00",
          "2020-07-22T00:00:00",
          "2020-07-23T00:00:00",
          "2020-07-24T00:00:00",
          "2020-07-25T00:00:00",
          "2020-07-26T00:00:00",
          "2020-07-27T00:00:00",
          "2020-07-28T00:00:00",
          "2020-07-29T00:00:00",
          "2020-07-30T00:00:00",
          "2020-07-31T00:00:00",
          "2020-08-01T00:00:00",
          "2020-08-02T00:00:00",
          "2020-08-03T00:00:00",
          "2020-08-04T00:00:00",
          "2020-08-05T00:00:00",
          "2020-08-06T00:00:00",
          "2020-08-07T00:00:00",
          "2020-08-08T00:00:00",
          "2020-08-09T00:00:00",
          "2020-08-10T00:00:00",
          "2020-08-11T00:00:00",
          "2020-08-12T00:00:00",
          "2020-08-13T00:00:00",
          "2020-08-14T00:00:00",
          "2020-08-15T00:00:00",
          "2020-08-16T00:00:00",
          "2020-08-17T00:00:00",
          "2020-08-18T00:00:00",
          "2020-08-19T00:00:00",
          "2020-08-20T00:00:00",
          "2020-08-21T00:00:00",
          "2020-08-22T00:00:00",
          "2020-08-23T00:00:00",
          "2020-08-24T00:00:00",
          "2020-08-25T00:00:00",
          "2020-08-26T00:00:00",
          "2020-08-27T00:00:00",
          "2020-08-28T00:00:00",
          "2020-08-29T00:00:00",
          "2020-08-30T00:00:00",
          "2020-08-31T00:00:00",
          "2020-09-01T00:00:00"
         ],
         "xaxis": "x",
         "y": [
          87,
          370,
          532,
          974,
          1310,
          1578,
          1847,
          2864,
          3162,
          3387,
          3470,
          3616,
          3916,
          4198,
          4408,
          4641,
          4873,
          5049,
          5377,
          5597,
          5781,
          5954,
          6117,
          6294,
          6518,
          6661,
          6760,
          6934,
          7130,
          7281,
          8585,
          9853,
          11006,
          12168,
          13358,
          14801,
          15869,
          16981,
          18077,
          19258,
          20588,
          21823,
          23160,
          24482,
          25712,
          27038,
          28291,
          29398,
          30494,
          31731,
          33027,
          34173,
          35322,
          36429,
          37975,
          39133,
          40470,
          41874,
          43703,
          45600,
          47692,
          49861,
          51976,
          53890,
          55644,
          57319,
          58940,
          60694,
          62596,
          64382,
          66709,
          68378,
          69835,
          72069,
          74380,
          75885,
          77498,
          78573,
          82977,
          88306,
          92626,
          96724,
          101028,
          105294,
          110036,
          114649,
          119993,
          124745,
          129567,
          133719,
          137818,
          142400,
          147180,
          151012,
          155202,
          160266,
          165056,
          170016,
          175064,
          182071,
          187837,
          193454,
          198498,
          204643,
          211041,
          216771,
          221880,
          226240,
          230191,
          235028,
          242094,
          247858,
          253437,
          259045,
          263939,
          268716,
          274322,
          280500,
          286990,
          293521,
          298964,
          304262,
          309170,
          314202,
          319688,
          325212,
          331147,
          336782,
          341467,
          346627,
          352707,
          359085,
          364872,
          370047,
          376540,
          382034,
          387593,
          393714,
          400726,
          406851,
          412190,
          417408,
          422462,
          428498,
          435147,
          441840,
          446925,
          453243,
          458803,
          464409,
          470346,
          476365,
          481877,
          487200,
          492991,
          500880,
          507551,
          514309,
          520163,
          526831,
          533808,
          540084,
          546328,
          550417,
          554650,
          559337,
          560207
         ],
         "yaxis": "y"
        },
        {
         "name": "People mentions (3)",
         "type": "scatter",
         "x": [
          "2020-03-19T00:00:00",
          "2020-03-20T00:00:00",
          "2020-03-21T00:00:00",
          "2020-03-22T00:00:00",
          "2020-03-23T00:00:00",
          "2020-03-24T00:00:00",
          "2020-03-25T00:00:00",
          "2020-03-26T00:00:00",
          "2020-03-27T00:00:00",
          "2020-03-28T00:00:00",
          "2020-03-29T00:00:00",
          "2020-03-30T00:00:00",
          "2020-03-31T00:00:00",
          "2020-04-01T00:00:00",
          "2020-04-02T00:00:00",
          "2020-04-03T00:00:00",
          "2020-04-04T00:00:00",
          "2020-04-05T00:00:00",
          "2020-04-06T00:00:00",
          "2020-04-07T00:00:00",
          "2020-04-08T00:00:00",
          "2020-04-09T00:00:00",
          "2020-04-10T00:00:00",
          "2020-04-11T00:00:00",
          "2020-04-12T00:00:00",
          "2020-04-13T00:00:00",
          "2020-04-14T00:00:00",
          "2020-04-15T00:00:00",
          "2020-04-16T00:00:00",
          "2020-04-17T00:00:00",
          "2020-04-18T00:00:00",
          "2020-04-19T00:00:00",
          "2020-04-20T00:00:00",
          "2020-04-21T00:00:00",
          "2020-04-22T00:00:00",
          "2020-04-23T00:00:00",
          "2020-04-24T00:00:00",
          "2020-04-25T00:00:00",
          "2020-04-26T00:00:00",
          "2020-04-27T00:00:00",
          "2020-04-28T00:00:00",
          "2020-04-29T00:00:00",
          "2020-04-30T00:00:00",
          "2020-05-01T00:00:00",
          "2020-05-02T00:00:00",
          "2020-05-03T00:00:00",
          "2020-05-04T00:00:00",
          "2020-05-05T00:00:00",
          "2020-05-06T00:00:00",
          "2020-05-07T00:00:00",
          "2020-05-08T00:00:00",
          "2020-05-09T00:00:00",
          "2020-05-10T00:00:00",
          "2020-05-11T00:00:00",
          "2020-05-12T00:00:00",
          "2020-05-13T00:00:00",
          "2020-05-14T00:00:00",
          "2020-05-15T00:00:00",
          "2020-05-16T00:00:00",
          "2020-05-17T00:00:00",
          "2020-05-18T00:00:00",
          "2020-05-19T00:00:00",
          "2020-05-20T00:00:00",
          "2020-05-21T00:00:00",
          "2020-05-22T00:00:00",
          "2020-05-23T00:00:00",
          "2020-05-24T00:00:00",
          "2020-05-25T00:00:00",
          "2020-05-26T00:00:00",
          "2020-05-27T00:00:00",
          "2020-05-28T00:00:00",
          "2020-05-29T00:00:00",
          "2020-05-30T00:00:00",
          "2020-05-31T00:00:00",
          "2020-06-01T00:00:00",
          "2020-06-02T00:00:00",
          "2020-06-03T00:00:00",
          "2020-06-04T00:00:00",
          "2020-06-05T00:00:00",
          "2020-06-06T00:00:00",
          "2020-06-07T00:00:00",
          "2020-06-08T00:00:00",
          "2020-06-09T00:00:00",
          "2020-06-10T00:00:00",
          "2020-06-11T00:00:00",
          "2020-06-12T00:00:00",
          "2020-06-13T00:00:00",
          "2020-06-14T00:00:00",
          "2020-06-15T00:00:00",
          "2020-06-16T00:00:00",
          "2020-06-17T00:00:00",
          "2020-06-18T00:00:00",
          "2020-06-19T00:00:00",
          "2020-06-20T00:00:00",
          "2020-06-21T00:00:00",
          "2020-06-22T00:00:00",
          "2020-06-23T00:00:00",
          "2020-06-24T00:00:00",
          "2020-06-25T00:00:00",
          "2020-06-26T00:00:00",
          "2020-06-27T00:00:00",
          "2020-06-28T00:00:00",
          "2020-06-29T00:00:00",
          "2020-06-30T00:00:00",
          "2020-07-01T00:00:00",
          "2020-07-02T00:00:00",
          "2020-07-03T00:00:00",
          "2020-07-04T00:00:00",
          "2020-07-05T00:00:00",
          "2020-07-06T00:00:00",
          "2020-07-07T00:00:00",
          "2020-07-08T00:00:00",
          "2020-07-09T00:00:00",
          "2020-07-10T00:00:00",
          "2020-07-11T00:00:00",
          "2020-07-12T00:00:00",
          "2020-07-13T00:00:00",
          "2020-07-14T00:00:00",
          "2020-07-15T00:00:00",
          "2020-07-16T00:00:00",
          "2020-07-17T00:00:00",
          "2020-07-18T00:00:00",
          "2020-07-19T00:00:00",
          "2020-07-20T00:00:00",
          "2020-07-21T00:00:00",
          "2020-07-22T00:00:00",
          "2020-07-23T00:00:00",
          "2020-07-24T00:00:00",
          "2020-07-25T00:00:00",
          "2020-07-26T00:00:00",
          "2020-07-27T00:00:00",
          "2020-07-28T00:00:00",
          "2020-07-29T00:00:00",
          "2020-07-30T00:00:00",
          "2020-07-31T00:00:00",
          "2020-08-01T00:00:00",
          "2020-08-02T00:00:00",
          "2020-08-03T00:00:00",
          "2020-08-04T00:00:00",
          "2020-08-05T00:00:00",
          "2020-08-06T00:00:00",
          "2020-08-07T00:00:00",
          "2020-08-08T00:00:00",
          "2020-08-09T00:00:00",
          "2020-08-10T00:00:00",
          "2020-08-11T00:00:00",
          "2020-08-12T00:00:00",
          "2020-08-13T00:00:00",
          "2020-08-14T00:00:00",
          "2020-08-15T00:00:00",
          "2020-08-16T00:00:00",
          "2020-08-17T00:00:00",
          "2020-08-18T00:00:00",
          "2020-08-19T00:00:00",
          "2020-08-20T00:00:00",
          "2020-08-21T00:00:00",
          "2020-08-22T00:00:00",
          "2020-08-23T00:00:00",
          "2020-08-24T00:00:00",
          "2020-08-25T00:00:00",
          "2020-08-26T00:00:00",
          "2020-08-27T00:00:00",
          "2020-08-28T00:00:00",
          "2020-08-29T00:00:00",
          "2020-08-30T00:00:00",
          "2020-08-31T00:00:00",
          "2020-09-01T00:00:00"
         ],
         "xaxis": "x",
         "y": [
          192,
          1641,
          2754,
          3833,
          4975,
          6085,
          7138,
          7932,
          8689,
          9380,
          9622,
          10283,
          11194,
          11963,
          12634,
          13165,
          13741,
          14326,
          14797,
          15190,
          15627,
          16282,
          16797,
          17182,
          17641,
          17963,
          18257,
          18599,
          19077,
          19437,
          21402,
          23486,
          25455,
          27278,
          29235,
          30890,
          32796,
          34773,
          36792,
          38489,
          40352,
          42230,
          44166,
          46135,
          48090,
          49999,
          51933,
          53719,
          55667,
          57684,
          59768,
          61919,
          63877,
          65947,
          67669,
          69600,
          71488,
          73273,
          75884,
          78847,
          82319,
          85698,
          89149,
          92392,
          95281,
          98626,
          102755,
          106449,
          109953,
          112812,
          115751,
          120161,
          127636,
          131068,
          135057,
          138416,
          141670,
          143695,
          147111,
          150924,
          154972,
          158526,
          161931,
          164852,
          167829,
          171242,
          174711,
          178770,
          183906,
          188032,
          192316,
          196466,
          200443,
          204405,
          210743,
          214452,
          218611,
          222806,
          227499,
          231186,
          235702,
          240198,
          244210,
          248331,
          253255,
          258126,
          262628,
          266169,
          270592,
          274623,
          278299,
          282017,
          286505,
          290361,
          293628,
          297142,
          300599,
          304510,
          308978,
          313159,
          316765,
          320570,
          323851,
          327185,
          330843,
          334730,
          338166,
          341439,
          344950,
          348613,
          352740,
          356790,
          360162,
          364720,
          369118,
          372936,
          378075,
          381819,
          385494,
          389909,
          393924,
          397173,
          400725,
          404778,
          408018,
          411253,
          414021,
          417313,
          421367,
          424521,
          427359,
          430728,
          433945,
          437339,
          440514,
          443185,
          446534,
          449715,
          453022,
          456122,
          459492,
          463410,
          467236,
          471583,
          475699,
          480126,
          481122
         ],
         "yaxis": "y"
        },
        {
         "name": "Case mentions (5)",
         "type": "scatter",
         "x": [
          "2020-03-19T00:00:00",
          "2020-03-20T00:00:00",
          "2020-03-21T00:00:00",
          "2020-03-22T00:00:00",
          "2020-03-23T00:00:00",
          "2020-03-24T00:00:00",
          "2020-03-25T00:00:00",
          "2020-03-26T00:00:00",
          "2020-03-27T00:00:00",
          "2020-03-28T00:00:00",
          "2020-03-29T00:00:00",
          "2020-03-30T00:00:00",
          "2020-03-31T00:00:00",
          "2020-04-01T00:00:00",
          "2020-04-02T00:00:00",
          "2020-04-03T00:00:00",
          "2020-04-04T00:00:00",
          "2020-04-05T00:00:00",
          "2020-04-06T00:00:00",
          "2020-04-07T00:00:00",
          "2020-04-08T00:00:00",
          "2020-04-09T00:00:00",
          "2020-04-10T00:00:00",
          "2020-04-11T00:00:00",
          "2020-04-12T00:00:00",
          "2020-04-13T00:00:00",
          "2020-04-14T00:00:00",
          "2020-04-15T00:00:00",
          "2020-04-16T00:00:00",
          "2020-04-17T00:00:00",
          "2020-04-18T00:00:00",
          "2020-04-19T00:00:00",
          "2020-04-20T00:00:00",
          "2020-04-21T00:00:00",
          "2020-04-22T00:00:00",
          "2020-04-23T00:00:00",
          "2020-04-24T00:00:00",
          "2020-04-25T00:00:00",
          "2020-04-26T00:00:00",
          "2020-04-27T00:00:00",
          "2020-04-28T00:00:00",
          "2020-04-29T00:00:00",
          "2020-04-30T00:00:00",
          "2020-05-01T00:00:00",
          "2020-05-02T00:00:00",
          "2020-05-03T00:00:00",
          "2020-05-04T00:00:00",
          "2020-05-05T00:00:00",
          "2020-05-06T00:00:00",
          "2020-05-07T00:00:00",
          "2020-05-08T00:00:00",
          "2020-05-09T00:00:00",
          "2020-05-10T00:00:00",
          "2020-05-11T00:00:00",
          "2020-05-12T00:00:00",
          "2020-05-13T00:00:00",
          "2020-05-14T00:00:00",
          "2020-05-15T00:00:00",
          "2020-05-16T00:00:00",
          "2020-05-17T00:00:00",
          "2020-05-18T00:00:00",
          "2020-05-19T00:00:00",
          "2020-05-20T00:00:00",
          "2020-05-21T00:00:00",
          "2020-05-22T00:00:00",
          "2020-05-23T00:00:00",
          "2020-05-24T00:00:00",
          "2020-05-25T00:00:00",
          "2020-05-26T00:00:00",
          "2020-05-27T00:00:00",
          "2020-05-28T00:00:00",
          "2020-05-29T00:00:00",
          "2020-05-30T00:00:00",
          "2020-05-31T00:00:00",
          "2020-06-01T00:00:00",
          "2020-06-02T00:00:00",
          "2020-06-03T00:00:00",
          "2020-06-04T00:00:00",
          "2020-06-05T00:00:00",
          "2020-06-06T00:00:00",
          "2020-06-07T00:00:00",
          "2020-06-08T00:00:00",
          "2020-06-09T00:00:00",
          "2020-06-10T00:00:00",
          "2020-06-11T00:00:00",
          "2020-06-12T00:00:00",
          "2020-06-13T00:00:00",
          "2020-06-14T00:00:00",
          "2020-06-15T00:00:00",
          "2020-06-16T00:00:00",
          "2020-06-17T00:00:00",
          "2020-06-18T00:00:00",
          "2020-06-19T00:00:00",
          "2020-06-20T00:00:00",
          "2020-06-21T00:00:00",
          "2020-06-22T00:00:00",
          "2020-06-23T00:00:00",
          "2020-06-24T00:00:00",
          "2020-06-25T00:00:00",
          "2020-06-26T00:00:00",
          "2020-06-27T00:00:00",
          "2020-06-28T00:00:00",
          "2020-06-29T00:00:00",
          "2020-06-30T00:00:00",
          "2020-07-01T00:00:00",
          "2020-07-02T00:00:00",
          "2020-07-03T00:00:00",
          "2020-07-04T00:00:00",
          "2020-07-05T00:00:00",
          "2020-07-06T00:00:00",
          "2020-07-07T00:00:00",
          "2020-07-08T00:00:00",
          "2020-07-09T00:00:00",
          "2020-07-10T00:00:00",
          "2020-07-11T00:00:00",
          "2020-07-12T00:00:00",
          "2020-07-13T00:00:00",
          "2020-07-14T00:00:00",
          "2020-07-15T00:00:00",
          "2020-07-16T00:00:00",
          "2020-07-17T00:00:00",
          "2020-07-18T00:00:00",
          "2020-07-19T00:00:00",
          "2020-07-20T00:00:00",
          "2020-07-21T00:00:00",
          "2020-07-22T00:00:00",
          "2020-07-23T00:00:00",
          "2020-07-24T00:00:00",
          "2020-07-25T00:00:00",
          "2020-07-26T00:00:00",
          "2020-07-27T00:00:00",
          "2020-07-28T00:00:00",
          "2020-07-29T00:00:00",
          "2020-07-30T00:00:00",
          "2020-07-31T00:00:00",
          "2020-08-01T00:00:00",
          "2020-08-02T00:00:00",
          "2020-08-03T00:00:00",
          "2020-08-04T00:00:00",
          "2020-08-05T00:00:00",
          "2020-08-06T00:00:00",
          "2020-08-07T00:00:00",
          "2020-08-08T00:00:00",
          "2020-08-09T00:00:00",
          "2020-08-10T00:00:00",
          "2020-08-11T00:00:00",
          "2020-08-12T00:00:00",
          "2020-08-13T00:00:00",
          "2020-08-14T00:00:00",
          "2020-08-15T00:00:00",
          "2020-08-16T00:00:00",
          "2020-08-17T00:00:00",
          "2020-08-18T00:00:00",
          "2020-08-19T00:00:00",
          "2020-08-20T00:00:00",
          "2020-08-21T00:00:00",
          "2020-08-22T00:00:00",
          "2020-08-23T00:00:00",
          "2020-08-24T00:00:00",
          "2020-08-25T00:00:00",
          "2020-08-26T00:00:00",
          "2020-08-27T00:00:00",
          "2020-08-28T00:00:00",
          "2020-08-29T00:00:00",
          "2020-08-30T00:00:00",
          "2020-08-31T00:00:00",
          "2020-09-01T00:00:00"
         ],
         "xaxis": "x",
         "y": [
          62,
          628,
          1114,
          1488,
          1931,
          2212,
          2523,
          2838,
          3488,
          3881,
          3994,
          4245,
          4609,
          5201,
          5547,
          5808,
          6061,
          6290,
          6535,
          6841,
          7038,
          7267,
          7464,
          7643,
          7878,
          8087,
          8285,
          8437,
          8619,
          8756,
          10153,
          11796,
          13139,
          14521,
          15673,
          16805,
          17993,
          19289,
          20639,
          22009,
          23301,
          24970,
          26649,
          28276,
          29875,
          31409,
          32918,
          34411,
          35640,
          36955,
          38364,
          39855,
          41257,
          42618,
          43907,
          45287,
          46552,
          47993,
          50144,
          52772,
          55693,
          57819,
          60010,
          62142,
          64069,
          66090,
          69045,
          71246,
          73308,
          75844,
          77885,
          79785,
          81588,
          83557,
          85353,
          86969,
          88995,
          91500,
          93412,
          95313,
          97489,
          100589,
          102998,
          105688,
          108534,
          111543,
          114438,
          116927,
          119689,
          122995,
          126146,
          129076,
          132120,
          135217,
          137994,
          141292,
          144517,
          148737,
          152568,
          156966,
          161215,
          165772,
          169587,
          172599,
          176454,
          180705,
          184309,
          187287,
          190316,
          194615,
          198341,
          202462,
          206173,
          209281,
          212500,
          215996,
          219118,
          222138,
          224758,
          228451,
          232010,
          235059,
          237811,
          240259,
          243245,
          245446,
          248080,
          250708,
          253049,
          255475,
          258249,
          259967,
          261726,
          263432,
          265584,
          267788,
          269931,
          271815,
          273766,
          275794,
          277683,
          280060,
          281947,
          285431,
          288023,
          290252,
          292042,
          293975,
          296087,
          297537,
          299442,
          301735,
          303827,
          306021,
          308149,
          310936,
          313162,
          315536,
          318155,
          320601,
          322932,
          325724,
          328591,
          331016,
          333821,
          336573,
          336964
         ],
         "yaxis": "y"
        },
        {
         "name": "Trump mentions (6)",
         "type": "scatter",
         "x": [
          "2020-03-19T00:00:00",
          "2020-03-20T00:00:00",
          "2020-03-21T00:00:00",
          "2020-03-22T00:00:00",
          "2020-03-23T00:00:00",
          "2020-03-24T00:00:00",
          "2020-03-25T00:00:00",
          "2020-03-26T00:00:00",
          "2020-03-27T00:00:00",
          "2020-03-28T00:00:00",
          "2020-03-29T00:00:00",
          "2020-03-30T00:00:00",
          "2020-03-31T00:00:00",
          "2020-04-01T00:00:00",
          "2020-04-02T00:00:00",
          "2020-04-03T00:00:00",
          "2020-04-04T00:00:00",
          "2020-04-05T00:00:00",
          "2020-04-06T00:00:00",
          "2020-04-07T00:00:00",
          "2020-04-08T00:00:00",
          "2020-04-09T00:00:00",
          "2020-04-10T00:00:00",
          "2020-04-11T00:00:00",
          "2020-04-12T00:00:00",
          "2020-04-13T00:00:00",
          "2020-04-14T00:00:00",
          "2020-04-15T00:00:00",
          "2020-04-16T00:00:00",
          "2020-04-17T00:00:00",
          "2020-04-18T00:00:00",
          "2020-04-19T00:00:00",
          "2020-04-20T00:00:00",
          "2020-04-21T00:00:00",
          "2020-04-22T00:00:00",
          "2020-04-23T00:00:00",
          "2020-04-24T00:00:00",
          "2020-04-25T00:00:00",
          "2020-04-26T00:00:00",
          "2020-04-27T00:00:00",
          "2020-04-28T00:00:00",
          "2020-04-29T00:00:00",
          "2020-04-30T00:00:00",
          "2020-05-01T00:00:00",
          "2020-05-02T00:00:00",
          "2020-05-03T00:00:00",
          "2020-05-04T00:00:00",
          "2020-05-05T00:00:00",
          "2020-05-06T00:00:00",
          "2020-05-07T00:00:00",
          "2020-05-08T00:00:00",
          "2020-05-09T00:00:00",
          "2020-05-10T00:00:00",
          "2020-05-11T00:00:00",
          "2020-05-12T00:00:00",
          "2020-05-13T00:00:00",
          "2020-05-14T00:00:00",
          "2020-05-15T00:00:00",
          "2020-05-16T00:00:00",
          "2020-05-17T00:00:00",
          "2020-05-18T00:00:00",
          "2020-05-19T00:00:00",
          "2020-05-20T00:00:00",
          "2020-05-21T00:00:00",
          "2020-05-22T00:00:00",
          "2020-05-23T00:00:00",
          "2020-05-24T00:00:00",
          "2020-05-25T00:00:00",
          "2020-05-26T00:00:00",
          "2020-05-27T00:00:00",
          "2020-05-28T00:00:00",
          "2020-05-29T00:00:00",
          "2020-05-30T00:00:00",
          "2020-05-31T00:00:00",
          "2020-06-01T00:00:00",
          "2020-06-02T00:00:00",
          "2020-06-03T00:00:00",
          "2020-06-04T00:00:00",
          "2020-06-05T00:00:00",
          "2020-06-06T00:00:00",
          "2020-06-07T00:00:00",
          "2020-06-08T00:00:00",
          "2020-06-09T00:00:00",
          "2020-06-10T00:00:00",
          "2020-06-11T00:00:00",
          "2020-06-12T00:00:00",
          "2020-06-13T00:00:00",
          "2020-06-14T00:00:00",
          "2020-06-15T00:00:00",
          "2020-06-16T00:00:00",
          "2020-06-17T00:00:00",
          "2020-06-18T00:00:00",
          "2020-06-19T00:00:00",
          "2020-06-20T00:00:00",
          "2020-06-21T00:00:00",
          "2020-06-22T00:00:00",
          "2020-06-23T00:00:00",
          "2020-06-24T00:00:00",
          "2020-06-25T00:00:00",
          "2020-06-26T00:00:00",
          "2020-06-27T00:00:00",
          "2020-06-28T00:00:00",
          "2020-06-29T00:00:00",
          "2020-06-30T00:00:00",
          "2020-07-01T00:00:00",
          "2020-07-02T00:00:00",
          "2020-07-03T00:00:00",
          "2020-07-04T00:00:00",
          "2020-07-05T00:00:00",
          "2020-07-06T00:00:00",
          "2020-07-07T00:00:00",
          "2020-07-08T00:00:00",
          "2020-07-09T00:00:00",
          "2020-07-10T00:00:00",
          "2020-07-11T00:00:00",
          "2020-07-12T00:00:00",
          "2020-07-13T00:00:00",
          "2020-07-14T00:00:00",
          "2020-07-15T00:00:00",
          "2020-07-16T00:00:00",
          "2020-07-17T00:00:00",
          "2020-07-18T00:00:00",
          "2020-07-19T00:00:00",
          "2020-07-20T00:00:00",
          "2020-07-21T00:00:00",
          "2020-07-22T00:00:00",
          "2020-07-23T00:00:00",
          "2020-07-24T00:00:00",
          "2020-07-25T00:00:00",
          "2020-07-26T00:00:00",
          "2020-07-27T00:00:00",
          "2020-07-28T00:00:00",
          "2020-07-29T00:00:00",
          "2020-07-30T00:00:00",
          "2020-07-31T00:00:00",
          "2020-08-01T00:00:00",
          "2020-08-02T00:00:00",
          "2020-08-03T00:00:00",
          "2020-08-04T00:00:00",
          "2020-08-05T00:00:00",
          "2020-08-06T00:00:00",
          "2020-08-07T00:00:00",
          "2020-08-08T00:00:00",
          "2020-08-09T00:00:00",
          "2020-08-10T00:00:00",
          "2020-08-11T00:00:00",
          "2020-08-12T00:00:00",
          "2020-08-13T00:00:00",
          "2020-08-14T00:00:00",
          "2020-08-15T00:00:00",
          "2020-08-16T00:00:00",
          "2020-08-17T00:00:00",
          "2020-08-18T00:00:00",
          "2020-08-19T00:00:00",
          "2020-08-20T00:00:00",
          "2020-08-21T00:00:00",
          "2020-08-22T00:00:00",
          "2020-08-23T00:00:00",
          "2020-08-24T00:00:00",
          "2020-08-25T00:00:00",
          "2020-08-26T00:00:00",
          "2020-08-27T00:00:00",
          "2020-08-28T00:00:00",
          "2020-08-29T00:00:00",
          "2020-08-30T00:00:00",
          "2020-08-31T00:00:00",
          "2020-09-01T00:00:00"
         ],
         "xaxis": "x",
         "y": [
          172,
          483,
          633,
          796,
          916,
          1109,
          1267,
          1452,
          1598,
          1745,
          1800,
          1941,
          2299,
          2560,
          2716,
          2829,
          2978,
          3116,
          3275,
          3425,
          3609,
          3830,
          3942,
          4085,
          4190,
          4247,
          4362,
          4457,
          4615,
          4698,
          5914,
          7575,
          9247,
          10850,
          12300,
          13850,
          16607,
          18683,
          20187,
          21439,
          22921,
          24425,
          25709,
          26735,
          27895,
          29113,
          30559,
          32081,
          33663,
          35162,
          36807,
          38407,
          39842,
          41400,
          43132,
          44372,
          45677,
          46957,
          49081,
          51748,
          54071,
          56824,
          59351,
          62023,
          64478,
          66703,
          68626,
          70166,
          71782,
          73640,
          75623,
          79011,
          83018,
          84501,
          85622,
          86918,
          87811,
          88278,
          89449,
          90764,
          92117,
          93378,
          94342,
          95590,
          98168,
          101232,
          103321,
          104326,
          106419,
          108364,
          110543,
          112932,
          115594,
          119751,
          126492,
          129678,
          132907,
          135791,
          139287,
          143091,
          146258,
          149623,
          151618,
          153402,
          155364,
          157628,
          159994,
          163163,
          165291,
          168295,
          171445,
          174401,
          177134,
          179346,
          181441,
          184124,
          187194,
          189952,
          193221,
          197625,
          201349,
          204104,
          207582,
          210260,
          213385,
          216481,
          219372,
          221610,
          223690,
          225731,
          227946,
          231021,
          233827,
          236884,
          239297,
          242919,
          245374,
          248347,
          251648,
          254379,
          257701,
          260205,
          263583,
          266747,
          269229,
          272204,
          274262,
          277597,
          280364,
          282104,
          284544,
          286737,
          289726,
          291188,
          292723,
          294483,
          295769,
          298059,
          300183,
          302375,
          305121,
          308253,
          311706,
          313965,
          316337,
          319186,
          319940
         ],
         "yaxis": "y"
        },
        {
         "name": "Death mentions (7)",
         "type": "scatter",
         "x": [
          "2020-03-19T00:00:00",
          "2020-03-20T00:00:00",
          "2020-03-21T00:00:00",
          "2020-03-22T00:00:00",
          "2020-03-23T00:00:00",
          "2020-03-24T00:00:00",
          "2020-03-25T00:00:00",
          "2020-03-26T00:00:00",
          "2020-03-27T00:00:00",
          "2020-03-28T00:00:00",
          "2020-03-29T00:00:00",
          "2020-03-30T00:00:00",
          "2020-03-31T00:00:00",
          "2020-04-01T00:00:00",
          "2020-04-02T00:00:00",
          "2020-04-03T00:00:00",
          "2020-04-04T00:00:00",
          "2020-04-05T00:00:00",
          "2020-04-06T00:00:00",
          "2020-04-07T00:00:00",
          "2020-04-08T00:00:00",
          "2020-04-09T00:00:00",
          "2020-04-10T00:00:00",
          "2020-04-11T00:00:00",
          "2020-04-12T00:00:00",
          "2020-04-13T00:00:00",
          "2020-04-14T00:00:00",
          "2020-04-15T00:00:00",
          "2020-04-16T00:00:00",
          "2020-04-17T00:00:00",
          "2020-04-18T00:00:00",
          "2020-04-19T00:00:00",
          "2020-04-20T00:00:00",
          "2020-04-21T00:00:00",
          "2020-04-22T00:00:00",
          "2020-04-23T00:00:00",
          "2020-04-24T00:00:00",
          "2020-04-25T00:00:00",
          "2020-04-26T00:00:00",
          "2020-04-27T00:00:00",
          "2020-04-28T00:00:00",
          "2020-04-29T00:00:00",
          "2020-04-30T00:00:00",
          "2020-05-01T00:00:00",
          "2020-05-02T00:00:00",
          "2020-05-03T00:00:00",
          "2020-05-04T00:00:00",
          "2020-05-05T00:00:00",
          "2020-05-06T00:00:00",
          "2020-05-07T00:00:00",
          "2020-05-08T00:00:00",
          "2020-05-09T00:00:00",
          "2020-05-10T00:00:00",
          "2020-05-11T00:00:00",
          "2020-05-12T00:00:00",
          "2020-05-13T00:00:00",
          "2020-05-14T00:00:00",
          "2020-05-15T00:00:00",
          "2020-05-16T00:00:00",
          "2020-05-17T00:00:00",
          "2020-05-18T00:00:00",
          "2020-05-19T00:00:00",
          "2020-05-20T00:00:00",
          "2020-05-21T00:00:00",
          "2020-05-22T00:00:00",
          "2020-05-23T00:00:00",
          "2020-05-24T00:00:00",
          "2020-05-25T00:00:00",
          "2020-05-26T00:00:00",
          "2020-05-27T00:00:00",
          "2020-05-28T00:00:00",
          "2020-05-29T00:00:00",
          "2020-05-30T00:00:00",
          "2020-05-31T00:00:00",
          "2020-06-01T00:00:00",
          "2020-06-02T00:00:00",
          "2020-06-03T00:00:00",
          "2020-06-04T00:00:00",
          "2020-06-05T00:00:00",
          "2020-06-06T00:00:00",
          "2020-06-07T00:00:00",
          "2020-06-08T00:00:00",
          "2020-06-09T00:00:00",
          "2020-06-10T00:00:00",
          "2020-06-11T00:00:00",
          "2020-06-12T00:00:00",
          "2020-06-13T00:00:00",
          "2020-06-14T00:00:00",
          "2020-06-15T00:00:00",
          "2020-06-16T00:00:00",
          "2020-06-17T00:00:00",
          "2020-06-18T00:00:00",
          "2020-06-19T00:00:00",
          "2020-06-20T00:00:00",
          "2020-06-21T00:00:00",
          "2020-06-22T00:00:00",
          "2020-06-23T00:00:00",
          "2020-06-24T00:00:00",
          "2020-06-25T00:00:00",
          "2020-06-26T00:00:00",
          "2020-06-27T00:00:00",
          "2020-06-28T00:00:00",
          "2020-06-29T00:00:00",
          "2020-06-30T00:00:00",
          "2020-07-01T00:00:00",
          "2020-07-02T00:00:00",
          "2020-07-03T00:00:00",
          "2020-07-04T00:00:00",
          "2020-07-05T00:00:00",
          "2020-07-06T00:00:00",
          "2020-07-07T00:00:00",
          "2020-07-08T00:00:00",
          "2020-07-09T00:00:00",
          "2020-07-10T00:00:00",
          "2020-07-11T00:00:00",
          "2020-07-12T00:00:00",
          "2020-07-13T00:00:00",
          "2020-07-14T00:00:00",
          "2020-07-15T00:00:00",
          "2020-07-16T00:00:00",
          "2020-07-17T00:00:00",
          "2020-07-18T00:00:00",
          "2020-07-19T00:00:00",
          "2020-07-20T00:00:00",
          "2020-07-21T00:00:00",
          "2020-07-22T00:00:00",
          "2020-07-23T00:00:00",
          "2020-07-24T00:00:00",
          "2020-07-25T00:00:00",
          "2020-07-26T00:00:00",
          "2020-07-27T00:00:00",
          "2020-07-28T00:00:00",
          "2020-07-29T00:00:00",
          "2020-07-30T00:00:00",
          "2020-07-31T00:00:00",
          "2020-08-01T00:00:00",
          "2020-08-02T00:00:00",
          "2020-08-03T00:00:00",
          "2020-08-04T00:00:00",
          "2020-08-05T00:00:00",
          "2020-08-06T00:00:00",
          "2020-08-07T00:00:00",
          "2020-08-08T00:00:00",
          "2020-08-09T00:00:00",
          "2020-08-10T00:00:00",
          "2020-08-11T00:00:00",
          "2020-08-12T00:00:00",
          "2020-08-13T00:00:00",
          "2020-08-14T00:00:00",
          "2020-08-15T00:00:00",
          "2020-08-16T00:00:00",
          "2020-08-17T00:00:00",
          "2020-08-18T00:00:00",
          "2020-08-19T00:00:00",
          "2020-08-20T00:00:00",
          "2020-08-21T00:00:00",
          "2020-08-22T00:00:00",
          "2020-08-23T00:00:00",
          "2020-08-24T00:00:00",
          "2020-08-25T00:00:00",
          "2020-08-26T00:00:00",
          "2020-08-27T00:00:00",
          "2020-08-28T00:00:00",
          "2020-08-29T00:00:00",
          "2020-08-30T00:00:00",
          "2020-08-31T00:00:00",
          "2020-09-01T00:00:00"
         ],
         "xaxis": "x",
         "y": [
          32,
          222,
          433,
          677,
          863,
          1058,
          1248,
          1482,
          1760,
          1987,
          2114,
          2323,
          2611,
          2815,
          3068,
          3232,
          3439,
          3637,
          4154,
          4415,
          4663,
          4830,
          4984,
          5180,
          5341,
          5516,
          5644,
          5741,
          5853,
          6011,
          7521,
          9179,
          10533,
          11995,
          13776,
          15126,
          16333,
          18071,
          19941,
          21944,
          23634,
          25300,
          27317,
          29125,
          31204,
          33339,
          35009,
          37342,
          39348,
          41279,
          42988,
          44513,
          46241,
          47954,
          49526,
          51255,
          52585,
          54196,
          56995,
          59653,
          62128,
          64509,
          67182,
          69519,
          72630,
          75112,
          77906,
          80656,
          83547,
          86370,
          90485,
          93325,
          95478,
          98348,
          100015,
          101906,
          103837,
          105471,
          107292,
          108793,
          110618,
          112308,
          113990,
          115458,
          117105,
          118759,
          120634,
          122481,
          124638,
          126755,
          128438,
          129779,
          131040,
          132367,
          134157,
          136070,
          137922,
          139795,
          141508,
          143755,
          145820,
          148235,
          149975,
          151543,
          153292,
          155275,
          157768,
          159575,
          161847,
          164456,
          167279,
          169997,
          172461,
          174657,
          176923,
          179425,
          182308,
          185090,
          187071,
          189370,
          192295,
          194714,
          197220,
          199424,
          201349,
          203421,
          205796,
          208247,
          210827,
          213377,
          215406,
          217670,
          219654,
          222057,
          223996,
          225921,
          228114,
          230721,
          233369,
          235875,
          237794,
          239654,
          241437,
          242957,
          245363,
          247433,
          249920,
          252112,
          253806,
          255186,
          257261,
          259277,
          262005,
          263844,
          265265,
          266853,
          268636,
          270921,
          272358,
          273742,
          275519,
          277303,
          278975,
          280807,
          285245,
          289749,
          290555
         ],
         "yaxis": "y"
        },
        {
         "name": "Mask mentions (8)",
         "type": "scatter",
         "x": [
          "2020-03-20T00:00:00",
          "2020-03-21T00:00:00",
          "2020-03-22T00:00:00",
          "2020-03-23T00:00:00",
          "2020-03-24T00:00:00",
          "2020-03-25T00:00:00",
          "2020-03-26T00:00:00",
          "2020-03-27T00:00:00",
          "2020-03-28T00:00:00",
          "2020-03-29T00:00:00",
          "2020-03-30T00:00:00",
          "2020-03-31T00:00:00",
          "2020-04-01T00:00:00",
          "2020-04-02T00:00:00",
          "2020-04-03T00:00:00",
          "2020-04-04T00:00:00",
          "2020-04-05T00:00:00",
          "2020-04-06T00:00:00",
          "2020-04-07T00:00:00",
          "2020-04-08T00:00:00",
          "2020-04-09T00:00:00",
          "2020-04-10T00:00:00",
          "2020-04-11T00:00:00",
          "2020-04-12T00:00:00",
          "2020-04-13T00:00:00",
          "2020-04-14T00:00:00",
          "2020-04-15T00:00:00",
          "2020-04-16T00:00:00",
          "2020-04-17T00:00:00",
          "2020-04-18T00:00:00",
          "2020-04-19T00:00:00",
          "2020-04-20T00:00:00",
          "2020-04-21T00:00:00",
          "2020-04-22T00:00:00",
          "2020-04-23T00:00:00",
          "2020-04-24T00:00:00",
          "2020-04-25T00:00:00",
          "2020-04-26T00:00:00",
          "2020-04-27T00:00:00",
          "2020-04-28T00:00:00",
          "2020-04-29T00:00:00",
          "2020-04-30T00:00:00",
          "2020-05-01T00:00:00",
          "2020-05-02T00:00:00",
          "2020-05-03T00:00:00",
          "2020-05-04T00:00:00",
          "2020-05-05T00:00:00",
          "2020-05-06T00:00:00",
          "2020-05-07T00:00:00",
          "2020-05-08T00:00:00",
          "2020-05-09T00:00:00",
          "2020-05-10T00:00:00",
          "2020-05-11T00:00:00",
          "2020-05-12T00:00:00",
          "2020-05-13T00:00:00",
          "2020-05-14T00:00:00",
          "2020-05-15T00:00:00",
          "2020-05-16T00:00:00",
          "2020-05-17T00:00:00",
          "2020-05-18T00:00:00",
          "2020-05-19T00:00:00",
          "2020-05-20T00:00:00",
          "2020-05-21T00:00:00",
          "2020-05-22T00:00:00",
          "2020-05-23T00:00:00",
          "2020-05-24T00:00:00",
          "2020-05-25T00:00:00",
          "2020-05-26T00:00:00",
          "2020-05-27T00:00:00",
          "2020-05-28T00:00:00",
          "2020-05-29T00:00:00",
          "2020-05-30T00:00:00",
          "2020-05-31T00:00:00",
          "2020-06-01T00:00:00",
          "2020-06-02T00:00:00",
          "2020-06-03T00:00:00",
          "2020-06-04T00:00:00",
          "2020-06-05T00:00:00",
          "2020-06-06T00:00:00",
          "2020-06-07T00:00:00",
          "2020-06-08T00:00:00",
          "2020-06-09T00:00:00",
          "2020-06-10T00:00:00",
          "2020-06-11T00:00:00",
          "2020-06-12T00:00:00",
          "2020-06-13T00:00:00",
          "2020-06-14T00:00:00",
          "2020-06-15T00:00:00",
          "2020-06-16T00:00:00",
          "2020-06-17T00:00:00",
          "2020-06-18T00:00:00",
          "2020-06-19T00:00:00",
          "2020-06-20T00:00:00",
          "2020-06-21T00:00:00",
          "2020-06-22T00:00:00",
          "2020-06-23T00:00:00",
          "2020-06-24T00:00:00",
          "2020-06-25T00:00:00",
          "2020-06-26T00:00:00",
          "2020-06-27T00:00:00",
          "2020-06-28T00:00:00",
          "2020-06-29T00:00:00",
          "2020-06-30T00:00:00",
          "2020-07-01T00:00:00",
          "2020-07-02T00:00:00",
          "2020-07-03T00:00:00",
          "2020-07-04T00:00:00",
          "2020-07-05T00:00:00",
          "2020-07-06T00:00:00",
          "2020-07-07T00:00:00",
          "2020-07-08T00:00:00",
          "2020-07-09T00:00:00",
          "2020-07-10T00:00:00",
          "2020-07-11T00:00:00",
          "2020-07-12T00:00:00",
          "2020-07-13T00:00:00",
          "2020-07-14T00:00:00",
          "2020-07-15T00:00:00",
          "2020-07-16T00:00:00",
          "2020-07-17T00:00:00",
          "2020-07-18T00:00:00",
          "2020-07-19T00:00:00",
          "2020-07-20T00:00:00",
          "2020-07-21T00:00:00",
          "2020-07-22T00:00:00",
          "2020-07-23T00:00:00",
          "2020-07-24T00:00:00",
          "2020-07-25T00:00:00",
          "2020-07-26T00:00:00",
          "2020-07-27T00:00:00",
          "2020-07-28T00:00:00",
          "2020-07-29T00:00:00",
          "2020-07-30T00:00:00",
          "2020-07-31T00:00:00",
          "2020-08-01T00:00:00",
          "2020-08-02T00:00:00",
          "2020-08-03T00:00:00",
          "2020-08-04T00:00:00",
          "2020-08-05T00:00:00",
          "2020-08-06T00:00:00",
          "2020-08-07T00:00:00",
          "2020-08-08T00:00:00",
          "2020-08-09T00:00:00",
          "2020-08-10T00:00:00",
          "2020-08-11T00:00:00",
          "2020-08-12T00:00:00",
          "2020-08-13T00:00:00",
          "2020-08-14T00:00:00",
          "2020-08-15T00:00:00",
          "2020-08-16T00:00:00",
          "2020-08-17T00:00:00",
          "2020-08-18T00:00:00",
          "2020-08-19T00:00:00",
          "2020-08-20T00:00:00",
          "2020-08-21T00:00:00",
          "2020-08-22T00:00:00",
          "2020-08-23T00:00:00",
          "2020-08-24T00:00:00",
          "2020-08-25T00:00:00",
          "2020-08-26T00:00:00",
          "2020-08-27T00:00:00",
          "2020-08-28T00:00:00",
          "2020-08-29T00:00:00",
          "2020-08-30T00:00:00",
          "2020-08-31T00:00:00",
          "2020-09-01T00:00:00"
         ],
         "xaxis": "x",
         "y": [
          70,
          133,
          407,
          548,
          700,
          769,
          839,
          915,
          997,
          1022,
          1069,
          1227,
          1322,
          1400,
          1483,
          1568,
          1660,
          1736,
          1823,
          2012,
          2252,
          2335,
          2428,
          2476,
          2508,
          2582,
          2641,
          2687,
          2740,
          3092,
          3370,
          3655,
          3955,
          4219,
          4573,
          4818,
          5067,
          5407,
          5714,
          6156,
          6793,
          7152,
          7528,
          7899,
          8239,
          8690,
          9123,
          9537,
          9948,
          10397,
          11026,
          11634,
          12273,
          12688,
          13084,
          13589,
          13997,
          14579,
          15514,
          16785,
          17929,
          18859,
          19657,
          20772,
          21836,
          22744,
          23669,
          24759,
          25822,
          26719,
          27531,
          28292,
          30124,
          30715,
          31408,
          32097,
          32553,
          34147,
          35550,
          36642,
          37444,
          38504,
          39732,
          41143,
          42613,
          44239,
          46224,
          48755,
          50853,
          53781,
          56437,
          59685,
          64789,
          66731,
          68249,
          70470,
          73279,
          76608,
          78886,
          81368,
          84360,
          88199,
          90573,
          92693,
          95270,
          98066,
          100949,
          103229,
          105413,
          107729,
          110551,
          113011,
          115301,
          117673,
          120420,
          122847,
          126233,
          129318,
          132599,
          135429,
          138343,
          141149,
          143483,
          145709,
          149464,
          151504,
          154000,
          156163,
          157863,
          159454,
          161172,
          164551,
          167824,
          170106,
          171843,
          173390,
          174983,
          176592,
          178506,
          181502,
          184344,
          186986,
          189316,
          191743,
          193885,
          196760,
          199441,
          202085,
          204085,
          206348,
          209158,
          211442,
          213904,
          215900,
          218414,
          220384,
          223384,
          225803,
          228110,
          230417,
          232109,
          234238,
          236164,
          238200,
          241004,
          241497
         ],
         "yaxis": "y"
        },
        {
         "line": {
          "color": "black",
          "dash": "dash",
          "width": 4
         },
         "name": "Total Covid Cases",
         "type": "scatter",
         "x": [
          "2020-01-22",
          "2020-01-23",
          "2020-01-24",
          "2020-01-25",
          "2020-01-26",
          "2020-01-27",
          "2020-01-28",
          "2020-01-29",
          "2020-01-30",
          "2020-01-31",
          "2020-02-01",
          "2020-02-02",
          "2020-02-03",
          "2020-02-04",
          "2020-02-05",
          "2020-02-06",
          "2020-02-07",
          "2020-02-08",
          "2020-02-09",
          "2020-02-10",
          "2020-02-11",
          "2020-02-12",
          "2020-02-13",
          "2020-02-14",
          "2020-02-15",
          "2020-02-16",
          "2020-02-17",
          "2020-02-18",
          "2020-02-19",
          "2020-02-20",
          "2020-02-21",
          "2020-02-22",
          "2020-02-23",
          "2020-02-24",
          "2020-02-25",
          "2020-02-26",
          "2020-02-27",
          "2020-02-28",
          "2020-02-29",
          "2020-03-01",
          "2020-03-02",
          "2020-03-03",
          "2020-03-04",
          "2020-03-05",
          "2020-03-06",
          "2020-03-07",
          "2020-03-08",
          "2020-03-09",
          "2020-03-10",
          "2020-03-11",
          "2020-03-12",
          "2020-03-13",
          "2020-03-14",
          "2020-03-15",
          "2020-03-16",
          "2020-03-17",
          "2020-03-18",
          "2020-03-19",
          "2020-03-20",
          "2020-03-21",
          "2020-03-22",
          "2020-03-23",
          "2020-03-24",
          "2020-03-25",
          "2020-03-26",
          "2020-03-27",
          "2020-03-28",
          "2020-03-29",
          "2020-03-30",
          "2020-03-31",
          "2020-04-01",
          "2020-04-02",
          "2020-04-03",
          "2020-04-04",
          "2020-04-05",
          "2020-04-06",
          "2020-04-07",
          "2020-04-08",
          "2020-04-09",
          "2020-04-10",
          "2020-04-11",
          "2020-04-12",
          "2020-04-13",
          "2020-04-14",
          "2020-04-15",
          "2020-04-16",
          "2020-04-17",
          "2020-04-18",
          "2020-04-19",
          "2020-04-20",
          "2020-04-21",
          "2020-04-22",
          "2020-04-23",
          "2020-04-24",
          "2020-04-25",
          "2020-04-26",
          "2020-04-27",
          "2020-04-28",
          "2020-04-29",
          "2020-04-30",
          "2020-05-01",
          "2020-05-02",
          "2020-05-03",
          "2020-05-04",
          "2020-05-05",
          "2020-05-06",
          "2020-05-07",
          "2020-05-08",
          "2020-05-09",
          "2020-05-10",
          "2020-05-11",
          "2020-05-12",
          "2020-05-13",
          "2020-05-14",
          "2020-05-15",
          "2020-05-16",
          "2020-05-17",
          "2020-05-18",
          "2020-05-19",
          "2020-05-20",
          "2020-05-21",
          "2020-05-22",
          "2020-05-23",
          "2020-05-24",
          "2020-05-25",
          "2020-05-26",
          "2020-05-27",
          "2020-05-28",
          "2020-05-29",
          "2020-05-30",
          "2020-05-31",
          "2020-06-01",
          "2020-06-02",
          "2020-06-03",
          "2020-06-04",
          "2020-06-05",
          "2020-06-06",
          "2020-06-07",
          "2020-06-08",
          "2020-06-09",
          "2020-06-10",
          "2020-06-11",
          "2020-06-12",
          "2020-06-13",
          "2020-06-14",
          "2020-06-15",
          "2020-06-16",
          "2020-06-17",
          "2020-06-18",
          "2020-06-19",
          "2020-06-20",
          "2020-06-21",
          "2020-06-22",
          "2020-06-23",
          "2020-06-24",
          "2020-06-25",
          "2020-06-26",
          "2020-06-27",
          "2020-06-28",
          "2020-06-29",
          "2020-06-30",
          "2020-07-01",
          "2020-07-02",
          "2020-07-03",
          "2020-07-04",
          "2020-07-05",
          "2020-07-06",
          "2020-07-07",
          "2020-07-08",
          "2020-07-09",
          "2020-07-10",
          "2020-07-11",
          "2020-07-12",
          "2020-07-13",
          "2020-07-14",
          "2020-07-15",
          "2020-07-16",
          "2020-07-17",
          "2020-07-18",
          "2020-07-19",
          "2020-07-20",
          "2020-07-21",
          "2020-07-22",
          "2020-07-23",
          "2020-07-24",
          "2020-07-25",
          "2020-07-26",
          "2020-07-27",
          "2020-07-28",
          "2020-07-29",
          "2020-07-30",
          "2020-07-31",
          "2020-08-01",
          "2020-08-02",
          "2020-08-03",
          "2020-08-04",
          "2020-08-05",
          "2020-08-06",
          "2020-08-07",
          "2020-08-08",
          "2020-08-09",
          "2020-08-10",
          "2020-08-11",
          "2020-08-12",
          "2020-08-13",
          "2020-08-14",
          "2020-08-15",
          "2020-08-16",
          "2020-08-17",
          "2020-08-18",
          "2020-08-19",
          "2020-08-20",
          "2020-08-21",
          "2020-08-22",
          "2020-08-23",
          "2020-08-24",
          "2020-08-25",
          "2020-08-26",
          "2020-08-27",
          "2020-08-28",
          "2020-08-29",
          "2020-08-30",
          "2020-08-31",
          "2020-09-01",
          "2020-09-02",
          "2020-09-03",
          "2020-09-04",
          "2020-09-05",
          "2020-09-06",
          "2020-09-07",
          "2020-09-08",
          "2020-09-09",
          "2020-09-10",
          "2020-09-11",
          "2020-09-12",
          "2020-09-13",
          "2020-09-14",
          "2020-09-15",
          "2020-09-16",
          "2020-09-17",
          "2020-09-18",
          "2020-09-19",
          "2020-09-20"
         ],
         "xaxis": "x",
         "y": [
          555,
          654,
          941,
          1434,
          2118,
          2927,
          5578,
          6166,
          8234,
          9926,
          12038,
          16787,
          19887,
          23898,
          27643,
          30802,
          34395,
          37129,
          40159,
          42768,
          44810,
          45228,
          60381,
          66908,
          69050,
          71234,
          73269,
          75151,
          75651,
          76211,
          76840,
          78601,
          78981,
          79545,
          80398,
          81375,
          82735,
          84120,
          86013,
          88395,
          90372,
          92957,
          95272,
          98028,
          102018,
          106036,
          109993,
          113946,
          118967,
          126675,
          132450,
          146783,
          157801,
          169032,
          183677,
          199391,
          218683,
          245633,
          275963,
          307709,
          341784,
          384630,
          425787,
          476680,
          539069,
          603910,
          671653,
          731267,
          795997,
          872495,
          948663,
          1030010,
          1113203,
          1193711,
          1265377,
          1338067,
          1415186,
          1498895,
          1585483,
          1672988,
          1749872,
          1846819,
          1916464,
          1986284,
          2067245,
          2163941,
          2251672,
          2325485,
          2406054,
          2479522,
          2554727,
          2631781,
          2720583,
          2807495,
          2892296,
          2965076,
          3034072,
          3109425,
          3186589,
          3270117,
          3357276,
          3438689,
          3516333,
          3592506,
          3672660,
          3762727,
          3851894,
          3943470,
          4029169,
          4105292,
          4181640,
          4265367,
          4350206,
          4447281,
          4543711,
          4639021,
          4717335,
          4805823,
          4902461,
          5005574,
          5111869,
          5218664,
          5323977,
          5419242,
          5506311,
          5598982,
          5701734,
          5821183,
          5942378,
          6080002,
          6187396,
          6282981,
          6403944,
          6522099,
          6649014,
          6779972,
          6915760,
          7027674,
          7130092,
          7254608,
          7389151,
          7527086,
          7656149,
          7791901,
          7925110,
          8044663,
          8186473,
          8328685,
          8468705,
          8648774,
          8806595,
          8935273,
          9073260,
          9238052,
          9409498,
          9587195,
          9778566,
          9957498,
          10119644,
          10275992,
          10449832,
          10666930,
          10874417,
          11077903,
          11271954,
          11454850,
          11620802,
          11831641,
          12043466,
          12271553,
          12503942,
          12720381,
          12913142,
          13105192,
          13326971,
          13557898,
          13810459,
          14052261,
          14290096,
          14504853,
          14710995,
          14944726,
          15225164,
          15507881,
          15789074,
          16044757,
          16258079,
          16484206,
          16736727,
          17025889,
          17306523,
          17596559,
          17847574,
          18076718,
          18278778,
          18537524,
          18808754,
          19093901,
          19374812,
          19634542,
          19858792,
          20086280,
          20341107,
          20618174,
          20904123,
          21208474,
          21456826,
          21669376,
          21878471,
          22134679,
          22408212,
          22675329,
          22946050,
          23211563,
          23417506,
          23643854,
          23885885,
          24173746,
          24452944,
          24734448,
          24996456,
          25222709,
          25484767,
          25749642,
          26031410,
          26304856,
          26617971,
          26881547,
          27103845,
          27337760,
          27570742,
          27862680,
          28161434,
          28481322,
          28758945,
          28995373,
          29274650,
          29557942,
          29861949,
          30175313,
          30499534,
          30780755,
          31021972
         ],
         "yaxis": "y2"
        }
       ],
       "layout": {
        "template": {
         "data": {
          "bar": [
           {
            "error_x": {
             "color": "#2a3f5f"
            },
            "error_y": {
             "color": "#2a3f5f"
            },
            "marker": {
             "line": {
              "color": "#E5ECF6",
              "width": 0.5
             }
            },
            "type": "bar"
           }
          ],
          "barpolar": [
           {
            "marker": {
             "line": {
              "color": "#E5ECF6",
              "width": 0.5
             }
            },
            "type": "barpolar"
           }
          ],
          "carpet": [
           {
            "aaxis": {
             "endlinecolor": "#2a3f5f",
             "gridcolor": "white",
             "linecolor": "white",
             "minorgridcolor": "white",
             "startlinecolor": "#2a3f5f"
            },
            "baxis": {
             "endlinecolor": "#2a3f5f",
             "gridcolor": "white",
             "linecolor": "white",
             "minorgridcolor": "white",
             "startlinecolor": "#2a3f5f"
            },
            "type": "carpet"
           }
          ],
          "choropleth": [
           {
            "colorbar": {
             "outlinewidth": 0,
             "ticks": ""
            },
            "type": "choropleth"
           }
          ],
          "contour": [
           {
            "colorbar": {
             "outlinewidth": 0,
             "ticks": ""
            },
            "colorscale": [
             [
              0,
              "#0d0887"
             ],
             [
              0.1111111111111111,
              "#46039f"
             ],
             [
              0.2222222222222222,
              "#7201a8"
             ],
             [
              0.3333333333333333,
              "#9c179e"
             ],
             [
              0.4444444444444444,
              "#bd3786"
             ],
             [
              0.5555555555555556,
              "#d8576b"
             ],
             [
              0.6666666666666666,
              "#ed7953"
             ],
             [
              0.7777777777777778,
              "#fb9f3a"
             ],
             [
              0.8888888888888888,
              "#fdca26"
             ],
             [
              1,
              "#f0f921"
             ]
            ],
            "type": "contour"
           }
          ],
          "contourcarpet": [
           {
            "colorbar": {
             "outlinewidth": 0,
             "ticks": ""
            },
            "type": "contourcarpet"
           }
          ],
          "heatmap": [
           {
            "colorbar": {
             "outlinewidth": 0,
             "ticks": ""
            },
            "colorscale": [
             [
              0,
              "#0d0887"
             ],
             [
              0.1111111111111111,
              "#46039f"
             ],
             [
              0.2222222222222222,
              "#7201a8"
             ],
             [
              0.3333333333333333,
              "#9c179e"
             ],
             [
              0.4444444444444444,
              "#bd3786"
             ],
             [
              0.5555555555555556,
              "#d8576b"
             ],
             [
              0.6666666666666666,
              "#ed7953"
             ],
             [
              0.7777777777777778,
              "#fb9f3a"
             ],
             [
              0.8888888888888888,
              "#fdca26"
             ],
             [
              1,
              "#f0f921"
             ]
            ],
            "type": "heatmap"
           }
          ],
          "heatmapgl": [
           {
            "colorbar": {
             "outlinewidth": 0,
             "ticks": ""
            },
            "colorscale": [
             [
              0,
              "#0d0887"
             ],
             [
              0.1111111111111111,
              "#46039f"
             ],
             [
              0.2222222222222222,
              "#7201a8"
             ],
             [
              0.3333333333333333,
              "#9c179e"
             ],
             [
              0.4444444444444444,
              "#bd3786"
             ],
             [
              0.5555555555555556,
              "#d8576b"
             ],
             [
              0.6666666666666666,
              "#ed7953"
             ],
             [
              0.7777777777777778,
              "#fb9f3a"
             ],
             [
              0.8888888888888888,
              "#fdca26"
             ],
             [
              1,
              "#f0f921"
             ]
            ],
            "type": "heatmapgl"
           }
          ],
          "histogram": [
           {
            "marker": {
             "colorbar": {
              "outlinewidth": 0,
              "ticks": ""
             }
            },
            "type": "histogram"
           }
          ],
          "histogram2d": [
           {
            "colorbar": {
             "outlinewidth": 0,
             "ticks": ""
            },
            "colorscale": [
             [
              0,
              "#0d0887"
             ],
             [
              0.1111111111111111,
              "#46039f"
             ],
             [
              0.2222222222222222,
              "#7201a8"
             ],
             [
              0.3333333333333333,
              "#9c179e"
             ],
             [
              0.4444444444444444,
              "#bd3786"
             ],
             [
              0.5555555555555556,
              "#d8576b"
             ],
             [
              0.6666666666666666,
              "#ed7953"
             ],
             [
              0.7777777777777778,
              "#fb9f3a"
             ],
             [
              0.8888888888888888,
              "#fdca26"
             ],
             [
              1,
              "#f0f921"
             ]
            ],
            "type": "histogram2d"
           }
          ],
          "histogram2dcontour": [
           {
            "colorbar": {
             "outlinewidth": 0,
             "ticks": ""
            },
            "colorscale": [
             [
              0,
              "#0d0887"
             ],
             [
              0.1111111111111111,
              "#46039f"
             ],
             [
              0.2222222222222222,
              "#7201a8"
             ],
             [
              0.3333333333333333,
              "#9c179e"
             ],
             [
              0.4444444444444444,
              "#bd3786"
             ],
             [
              0.5555555555555556,
              "#d8576b"
             ],
             [
              0.6666666666666666,
              "#ed7953"
             ],
             [
              0.7777777777777778,
              "#fb9f3a"
             ],
             [
              0.8888888888888888,
              "#fdca26"
             ],
             [
              1,
              "#f0f921"
             ]
            ],
            "type": "histogram2dcontour"
           }
          ],
          "mesh3d": [
           {
            "colorbar": {
             "outlinewidth": 0,
             "ticks": ""
            },
            "type": "mesh3d"
           }
          ],
          "parcoords": [
           {
            "line": {
             "colorbar": {
              "outlinewidth": 0,
              "ticks": ""
             }
            },
            "type": "parcoords"
           }
          ],
          "pie": [
           {
            "automargin": true,
            "type": "pie"
           }
          ],
          "scatter": [
           {
            "marker": {
             "colorbar": {
              "outlinewidth": 0,
              "ticks": ""
             }
            },
            "type": "scatter"
           }
          ],
          "scatter3d": [
           {
            "line": {
             "colorbar": {
              "outlinewidth": 0,
              "ticks": ""
             }
            },
            "marker": {
             "colorbar": {
              "outlinewidth": 0,
              "ticks": ""
             }
            },
            "type": "scatter3d"
           }
          ],
          "scattercarpet": [
           {
            "marker": {
             "colorbar": {
              "outlinewidth": 0,
              "ticks": ""
             }
            },
            "type": "scattercarpet"
           }
          ],
          "scattergeo": [
           {
            "marker": {
             "colorbar": {
              "outlinewidth": 0,
              "ticks": ""
             }
            },
            "type": "scattergeo"
           }
          ],
          "scattergl": [
           {
            "marker": {
             "colorbar": {
              "outlinewidth": 0,
              "ticks": ""
             }
            },
            "type": "scattergl"
           }
          ],
          "scattermapbox": [
           {
            "marker": {
             "colorbar": {
              "outlinewidth": 0,
              "ticks": ""
             }
            },
            "type": "scattermapbox"
           }
          ],
          "scatterpolar": [
           {
            "marker": {
             "colorbar": {
              "outlinewidth": 0,
              "ticks": ""
             }
            },
            "type": "scatterpolar"
           }
          ],
          "scatterpolargl": [
           {
            "marker": {
             "colorbar": {
              "outlinewidth": 0,
              "ticks": ""
             }
            },
            "type": "scatterpolargl"
           }
          ],
          "scatterternary": [
           {
            "marker": {
             "colorbar": {
              "outlinewidth": 0,
              "ticks": ""
             }
            },
            "type": "scatterternary"
           }
          ],
          "surface": [
           {
            "colorbar": {
             "outlinewidth": 0,
             "ticks": ""
            },
            "colorscale": [
             [
              0,
              "#0d0887"
             ],
             [
              0.1111111111111111,
              "#46039f"
             ],
             [
              0.2222222222222222,
              "#7201a8"
             ],
             [
              0.3333333333333333,
              "#9c179e"
             ],
             [
              0.4444444444444444,
              "#bd3786"
             ],
             [
              0.5555555555555556,
              "#d8576b"
             ],
             [
              0.6666666666666666,
              "#ed7953"
             ],
             [
              0.7777777777777778,
              "#fb9f3a"
             ],
             [
              0.8888888888888888,
              "#fdca26"
             ],
             [
              1,
              "#f0f921"
             ]
            ],
            "type": "surface"
           }
          ],
          "table": [
           {
            "cells": {
             "fill": {
              "color": "#EBF0F8"
             },
             "line": {
              "color": "white"
             }
            },
            "header": {
             "fill": {
              "color": "#C8D4E3"
             },
             "line": {
              "color": "white"
             }
            },
            "type": "table"
           }
          ]
         },
         "layout": {
          "annotationdefaults": {
           "arrowcolor": "#2a3f5f",
           "arrowhead": 0,
           "arrowwidth": 1
          },
          "coloraxis": {
           "colorbar": {
            "outlinewidth": 0,
            "ticks": ""
           }
          },
          "colorscale": {
           "diverging": [
            [
             0,
             "#8e0152"
            ],
            [
             0.1,
             "#c51b7d"
            ],
            [
             0.2,
             "#de77ae"
            ],
            [
             0.3,
             "#f1b6da"
            ],
            [
             0.4,
             "#fde0ef"
            ],
            [
             0.5,
             "#f7f7f7"
            ],
            [
             0.6,
             "#e6f5d0"
            ],
            [
             0.7,
             "#b8e186"
            ],
            [
             0.8,
             "#7fbc41"
            ],
            [
             0.9,
             "#4d9221"
            ],
            [
             1,
             "#276419"
            ]
           ],
           "sequential": [
            [
             0,
             "#0d0887"
            ],
            [
             0.1111111111111111,
             "#46039f"
            ],
            [
             0.2222222222222222,
             "#7201a8"
            ],
            [
             0.3333333333333333,
             "#9c179e"
            ],
            [
             0.4444444444444444,
             "#bd3786"
            ],
            [
             0.5555555555555556,
             "#d8576b"
            ],
            [
             0.6666666666666666,
             "#ed7953"
            ],
            [
             0.7777777777777778,
             "#fb9f3a"
            ],
            [
             0.8888888888888888,
             "#fdca26"
            ],
            [
             1,
             "#f0f921"
            ]
           ],
           "sequentialminus": [
            [
             0,
             "#0d0887"
            ],
            [
             0.1111111111111111,
             "#46039f"
            ],
            [
             0.2222222222222222,
             "#7201a8"
            ],
            [
             0.3333333333333333,
             "#9c179e"
            ],
            [
             0.4444444444444444,
             "#bd3786"
            ],
            [
             0.5555555555555556,
             "#d8576b"
            ],
            [
             0.6666666666666666,
             "#ed7953"
            ],
            [
             0.7777777777777778,
             "#fb9f3a"
            ],
            [
             0.8888888888888888,
             "#fdca26"
            ],
            [
             1,
             "#f0f921"
            ]
           ]
          },
          "colorway": [
           "#636efa",
           "#EF553B",
           "#00cc96",
           "#ab63fa",
           "#FFA15A",
           "#19d3f3",
           "#FF6692",
           "#B6E880",
           "#FF97FF",
           "#FECB52"
          ],
          "font": {
           "color": "#2a3f5f"
          },
          "geo": {
           "bgcolor": "white",
           "lakecolor": "white",
           "landcolor": "#E5ECF6",
           "showlakes": true,
           "showland": true,
           "subunitcolor": "white"
          },
          "hoverlabel": {
           "align": "left"
          },
          "hovermode": "closest",
          "mapbox": {
           "style": "light"
          },
          "paper_bgcolor": "white",
          "plot_bgcolor": "#E5ECF6",
          "polar": {
           "angularaxis": {
            "gridcolor": "white",
            "linecolor": "white",
            "ticks": ""
           },
           "bgcolor": "#E5ECF6",
           "radialaxis": {
            "gridcolor": "white",
            "linecolor": "white",
            "ticks": ""
           }
          },
          "scene": {
           "xaxis": {
            "backgroundcolor": "#E5ECF6",
            "gridcolor": "white",
            "gridwidth": 2,
            "linecolor": "white",
            "showbackground": true,
            "ticks": "",
            "zerolinecolor": "white"
           },
           "yaxis": {
            "backgroundcolor": "#E5ECF6",
            "gridcolor": "white",
            "gridwidth": 2,
            "linecolor": "white",
            "showbackground": true,
            "ticks": "",
            "zerolinecolor": "white"
           },
           "zaxis": {
            "backgroundcolor": "#E5ECF6",
            "gridcolor": "white",
            "gridwidth": 2,
            "linecolor": "white",
            "showbackground": true,
            "ticks": "",
            "zerolinecolor": "white"
           }
          },
          "shapedefaults": {
           "line": {
            "color": "#2a3f5f"
           }
          },
          "ternary": {
           "aaxis": {
            "gridcolor": "white",
            "linecolor": "white",
            "ticks": ""
           },
           "baxis": {
            "gridcolor": "white",
            "linecolor": "white",
            "ticks": ""
           },
           "bgcolor": "#E5ECF6",
           "caxis": {
            "gridcolor": "white",
            "linecolor": "white",
            "ticks": ""
           }
          },
          "title": {
           "x": 0.05
          },
          "xaxis": {
           "automargin": true,
           "gridcolor": "white",
           "linecolor": "white",
           "ticks": "",
           "title": {
            "standoff": 15
           },
           "zerolinecolor": "white",
           "zerolinewidth": 2
          },
          "yaxis": {
           "automargin": true,
           "gridcolor": "white",
           "linecolor": "white",
           "ticks": "",
           "title": {
            "standoff": 15
           },
           "zerolinecolor": "white",
           "zerolinewidth": 2
          }
         }
        },
        "title": {
         "text": "Most meaningful words and Covid case totals"
        },
        "xaxis": {
         "anchor": "y",
         "domain": [
          0,
          0.94
         ]
        },
        "yaxis": {
         "anchor": "x",
         "domain": [
          0,
          1
         ],
         "title": {
          "text": "<b>Mention Counts</b>"
         }
        },
        "yaxis2": {
         "anchor": "x",
         "overlaying": "y",
         "side": "right",
         "title": {
          "text": "<b>COVID Case totals</b>"
         }
        }
       }
      },
      "text/html": [
       "<div>                            <div id=\"15999a84-9ca8-4ac7-8c22-e9462e556afd\" class=\"plotly-graph-div\" style=\"height:525px; width:100%;\"></div>            <script type=\"text/javascript\">                require([\"plotly\"], function(Plotly) {                    window.PLOTLYENV=window.PLOTLYENV || {};                                    if (document.getElementById(\"15999a84-9ca8-4ac7-8c22-e9462e556afd\")) {                    Plotly.newPlot(                        \"15999a84-9ca8-4ac7-8c22-e9462e556afd\",                        [{\"name\": \"Pandemic mentions (1)\", \"type\": \"scatter\", \"x\": [\"2020-03-19T00:00:00\", \"2020-03-20T00:00:00\", \"2020-03-21T00:00:00\", \"2020-03-22T00:00:00\", \"2020-03-23T00:00:00\", \"2020-03-24T00:00:00\", \"2020-03-25T00:00:00\", \"2020-03-26T00:00:00\", \"2020-03-27T00:00:00\", \"2020-03-28T00:00:00\", \"2020-03-29T00:00:00\", \"2020-03-30T00:00:00\", \"2020-03-31T00:00:00\", \"2020-04-01T00:00:00\", \"2020-04-02T00:00:00\", \"2020-04-03T00:00:00\", \"2020-04-04T00:00:00\", \"2020-04-05T00:00:00\", \"2020-04-06T00:00:00\", \"2020-04-07T00:00:00\", \"2020-04-08T00:00:00\", \"2020-04-09T00:00:00\", \"2020-04-10T00:00:00\", \"2020-04-11T00:00:00\", \"2020-04-12T00:00:00\", \"2020-04-13T00:00:00\", \"2020-04-14T00:00:00\", \"2020-04-15T00:00:00\", \"2020-04-16T00:00:00\", \"2020-04-17T00:00:00\", \"2020-04-18T00:00:00\", \"2020-04-19T00:00:00\", \"2020-04-20T00:00:00\", \"2020-04-21T00:00:00\", \"2020-04-22T00:00:00\", \"2020-04-23T00:00:00\", \"2020-04-24T00:00:00\", \"2020-04-25T00:00:00\", \"2020-04-26T00:00:00\", \"2020-04-27T00:00:00\", \"2020-04-28T00:00:00\", \"2020-04-29T00:00:00\", \"2020-04-30T00:00:00\", \"2020-05-01T00:00:00\", \"2020-05-02T00:00:00\", \"2020-05-03T00:00:00\", \"2020-05-04T00:00:00\", \"2020-05-05T00:00:00\", \"2020-05-06T00:00:00\", \"2020-05-07T00:00:00\", \"2020-05-08T00:00:00\", \"2020-05-09T00:00:00\", \"2020-05-10T00:00:00\", \"2020-05-11T00:00:00\", \"2020-05-12T00:00:00\", \"2020-05-13T00:00:00\", \"2020-05-14T00:00:00\", \"2020-05-15T00:00:00\", \"2020-05-16T00:00:00\", \"2020-05-17T00:00:00\", \"2020-05-18T00:00:00\", \"2020-05-19T00:00:00\", \"2020-05-20T00:00:00\", \"2020-05-21T00:00:00\", \"2020-05-22T00:00:00\", \"2020-05-23T00:00:00\", \"2020-05-24T00:00:00\", \"2020-05-25T00:00:00\", \"2020-05-26T00:00:00\", \"2020-05-27T00:00:00\", \"2020-05-28T00:00:00\", \"2020-05-29T00:00:00\", \"2020-05-30T00:00:00\", \"2020-05-31T00:00:00\", \"2020-06-01T00:00:00\", \"2020-06-02T00:00:00\", \"2020-06-03T00:00:00\", \"2020-06-04T00:00:00\", \"2020-06-05T00:00:00\", \"2020-06-06T00:00:00\", \"2020-06-07T00:00:00\", \"2020-06-08T00:00:00\", \"2020-06-09T00:00:00\", \"2020-06-10T00:00:00\", \"2020-06-11T00:00:00\", \"2020-06-12T00:00:00\", \"2020-06-13T00:00:00\", \"2020-06-14T00:00:00\", \"2020-06-15T00:00:00\", \"2020-06-16T00:00:00\", \"2020-06-17T00:00:00\", \"2020-06-18T00:00:00\", \"2020-06-19T00:00:00\", \"2020-06-20T00:00:00\", \"2020-06-21T00:00:00\", \"2020-06-22T00:00:00\", \"2020-06-23T00:00:00\", \"2020-06-24T00:00:00\", \"2020-06-25T00:00:00\", \"2020-06-26T00:00:00\", \"2020-06-27T00:00:00\", \"2020-06-28T00:00:00\", \"2020-06-29T00:00:00\", \"2020-06-30T00:00:00\", \"2020-07-01T00:00:00\", \"2020-07-02T00:00:00\", \"2020-07-03T00:00:00\", \"2020-07-04T00:00:00\", \"2020-07-05T00:00:00\", \"2020-07-06T00:00:00\", \"2020-07-07T00:00:00\", \"2020-07-08T00:00:00\", \"2020-07-09T00:00:00\", \"2020-07-10T00:00:00\", \"2020-07-11T00:00:00\", \"2020-07-12T00:00:00\", \"2020-07-13T00:00:00\", \"2020-07-14T00:00:00\", \"2020-07-15T00:00:00\", \"2020-07-16T00:00:00\", \"2020-07-17T00:00:00\", \"2020-07-18T00:00:00\", \"2020-07-19T00:00:00\", \"2020-07-20T00:00:00\", \"2020-07-21T00:00:00\", \"2020-07-22T00:00:00\", \"2020-07-23T00:00:00\", \"2020-07-24T00:00:00\", \"2020-07-25T00:00:00\", \"2020-07-26T00:00:00\", \"2020-07-27T00:00:00\", \"2020-07-28T00:00:00\", \"2020-07-29T00:00:00\", \"2020-07-30T00:00:00\", \"2020-07-31T00:00:00\", \"2020-08-01T00:00:00\", \"2020-08-02T00:00:00\", \"2020-08-03T00:00:00\", \"2020-08-04T00:00:00\", \"2020-08-05T00:00:00\", \"2020-08-06T00:00:00\", \"2020-08-07T00:00:00\", \"2020-08-08T00:00:00\", \"2020-08-09T00:00:00\", \"2020-08-10T00:00:00\", \"2020-08-11T00:00:00\", \"2020-08-12T00:00:00\", \"2020-08-13T00:00:00\", \"2020-08-14T00:00:00\", \"2020-08-15T00:00:00\", \"2020-08-16T00:00:00\", \"2020-08-17T00:00:00\", \"2020-08-18T00:00:00\", \"2020-08-19T00:00:00\", \"2020-08-20T00:00:00\", \"2020-08-21T00:00:00\", \"2020-08-22T00:00:00\", \"2020-08-23T00:00:00\", \"2020-08-24T00:00:00\", \"2020-08-25T00:00:00\", \"2020-08-26T00:00:00\", \"2020-08-27T00:00:00\", \"2020-08-28T00:00:00\", \"2020-08-29T00:00:00\", \"2020-08-30T00:00:00\", \"2020-08-31T00:00:00\", \"2020-09-01T00:00:00\"], \"xaxis\": \"x\", \"y\": [87, 370, 532, 974, 1310, 1578, 1847, 2864, 3162, 3387, 3470, 3616, 3916, 4198, 4408, 4641, 4873, 5049, 5377, 5597, 5781, 5954, 6117, 6294, 6518, 6661, 6760, 6934, 7130, 7281, 8585, 9853, 11006, 12168, 13358, 14801, 15869, 16981, 18077, 19258, 20588, 21823, 23160, 24482, 25712, 27038, 28291, 29398, 30494, 31731, 33027, 34173, 35322, 36429, 37975, 39133, 40470, 41874, 43703, 45600, 47692, 49861, 51976, 53890, 55644, 57319, 58940, 60694, 62596, 64382, 66709, 68378, 69835, 72069, 74380, 75885, 77498, 78573, 82977, 88306, 92626, 96724, 101028, 105294, 110036, 114649, 119993, 124745, 129567, 133719, 137818, 142400, 147180, 151012, 155202, 160266, 165056, 170016, 175064, 182071, 187837, 193454, 198498, 204643, 211041, 216771, 221880, 226240, 230191, 235028, 242094, 247858, 253437, 259045, 263939, 268716, 274322, 280500, 286990, 293521, 298964, 304262, 309170, 314202, 319688, 325212, 331147, 336782, 341467, 346627, 352707, 359085, 364872, 370047, 376540, 382034, 387593, 393714, 400726, 406851, 412190, 417408, 422462, 428498, 435147, 441840, 446925, 453243, 458803, 464409, 470346, 476365, 481877, 487200, 492991, 500880, 507551, 514309, 520163, 526831, 533808, 540084, 546328, 550417, 554650, 559337, 560207], \"yaxis\": \"y\"}, {\"name\": \"People mentions (3)\", \"type\": \"scatter\", \"x\": [\"2020-03-19T00:00:00\", \"2020-03-20T00:00:00\", \"2020-03-21T00:00:00\", \"2020-03-22T00:00:00\", \"2020-03-23T00:00:00\", \"2020-03-24T00:00:00\", \"2020-03-25T00:00:00\", \"2020-03-26T00:00:00\", \"2020-03-27T00:00:00\", \"2020-03-28T00:00:00\", \"2020-03-29T00:00:00\", \"2020-03-30T00:00:00\", \"2020-03-31T00:00:00\", \"2020-04-01T00:00:00\", \"2020-04-02T00:00:00\", \"2020-04-03T00:00:00\", \"2020-04-04T00:00:00\", \"2020-04-05T00:00:00\", \"2020-04-06T00:00:00\", \"2020-04-07T00:00:00\", \"2020-04-08T00:00:00\", \"2020-04-09T00:00:00\", \"2020-04-10T00:00:00\", \"2020-04-11T00:00:00\", \"2020-04-12T00:00:00\", \"2020-04-13T00:00:00\", \"2020-04-14T00:00:00\", \"2020-04-15T00:00:00\", \"2020-04-16T00:00:00\", \"2020-04-17T00:00:00\", \"2020-04-18T00:00:00\", \"2020-04-19T00:00:00\", \"2020-04-20T00:00:00\", \"2020-04-21T00:00:00\", \"2020-04-22T00:00:00\", \"2020-04-23T00:00:00\", \"2020-04-24T00:00:00\", \"2020-04-25T00:00:00\", \"2020-04-26T00:00:00\", \"2020-04-27T00:00:00\", \"2020-04-28T00:00:00\", \"2020-04-29T00:00:00\", \"2020-04-30T00:00:00\", \"2020-05-01T00:00:00\", \"2020-05-02T00:00:00\", \"2020-05-03T00:00:00\", \"2020-05-04T00:00:00\", \"2020-05-05T00:00:00\", \"2020-05-06T00:00:00\", \"2020-05-07T00:00:00\", \"2020-05-08T00:00:00\", \"2020-05-09T00:00:00\", \"2020-05-10T00:00:00\", \"2020-05-11T00:00:00\", \"2020-05-12T00:00:00\", \"2020-05-13T00:00:00\", \"2020-05-14T00:00:00\", \"2020-05-15T00:00:00\", \"2020-05-16T00:00:00\", \"2020-05-17T00:00:00\", \"2020-05-18T00:00:00\", \"2020-05-19T00:00:00\", \"2020-05-20T00:00:00\", \"2020-05-21T00:00:00\", \"2020-05-22T00:00:00\", \"2020-05-23T00:00:00\", \"2020-05-24T00:00:00\", \"2020-05-25T00:00:00\", \"2020-05-26T00:00:00\", \"2020-05-27T00:00:00\", \"2020-05-28T00:00:00\", \"2020-05-29T00:00:00\", \"2020-05-30T00:00:00\", \"2020-05-31T00:00:00\", \"2020-06-01T00:00:00\", \"2020-06-02T00:00:00\", \"2020-06-03T00:00:00\", \"2020-06-04T00:00:00\", \"2020-06-05T00:00:00\", \"2020-06-06T00:00:00\", \"2020-06-07T00:00:00\", \"2020-06-08T00:00:00\", \"2020-06-09T00:00:00\", \"2020-06-10T00:00:00\", \"2020-06-11T00:00:00\", \"2020-06-12T00:00:00\", \"2020-06-13T00:00:00\", \"2020-06-14T00:00:00\", \"2020-06-15T00:00:00\", \"2020-06-16T00:00:00\", \"2020-06-17T00:00:00\", \"2020-06-18T00:00:00\", \"2020-06-19T00:00:00\", \"2020-06-20T00:00:00\", \"2020-06-21T00:00:00\", \"2020-06-22T00:00:00\", \"2020-06-23T00:00:00\", \"2020-06-24T00:00:00\", \"2020-06-25T00:00:00\", \"2020-06-26T00:00:00\", \"2020-06-27T00:00:00\", \"2020-06-28T00:00:00\", \"2020-06-29T00:00:00\", \"2020-06-30T00:00:00\", \"2020-07-01T00:00:00\", \"2020-07-02T00:00:00\", \"2020-07-03T00:00:00\", \"2020-07-04T00:00:00\", \"2020-07-05T00:00:00\", \"2020-07-06T00:00:00\", \"2020-07-07T00:00:00\", \"2020-07-08T00:00:00\", \"2020-07-09T00:00:00\", \"2020-07-10T00:00:00\", \"2020-07-11T00:00:00\", \"2020-07-12T00:00:00\", \"2020-07-13T00:00:00\", \"2020-07-14T00:00:00\", \"2020-07-15T00:00:00\", \"2020-07-16T00:00:00\", \"2020-07-17T00:00:00\", \"2020-07-18T00:00:00\", \"2020-07-19T00:00:00\", \"2020-07-20T00:00:00\", \"2020-07-21T00:00:00\", \"2020-07-22T00:00:00\", \"2020-07-23T00:00:00\", \"2020-07-24T00:00:00\", \"2020-07-25T00:00:00\", \"2020-07-26T00:00:00\", \"2020-07-27T00:00:00\", \"2020-07-28T00:00:00\", \"2020-07-29T00:00:00\", \"2020-07-30T00:00:00\", \"2020-07-31T00:00:00\", \"2020-08-01T00:00:00\", \"2020-08-02T00:00:00\", \"2020-08-03T00:00:00\", \"2020-08-04T00:00:00\", \"2020-08-05T00:00:00\", \"2020-08-06T00:00:00\", \"2020-08-07T00:00:00\", \"2020-08-08T00:00:00\", \"2020-08-09T00:00:00\", \"2020-08-10T00:00:00\", \"2020-08-11T00:00:00\", \"2020-08-12T00:00:00\", \"2020-08-13T00:00:00\", \"2020-08-14T00:00:00\", \"2020-08-15T00:00:00\", \"2020-08-16T00:00:00\", \"2020-08-17T00:00:00\", \"2020-08-18T00:00:00\", \"2020-08-19T00:00:00\", \"2020-08-20T00:00:00\", \"2020-08-21T00:00:00\", \"2020-08-22T00:00:00\", \"2020-08-23T00:00:00\", \"2020-08-24T00:00:00\", \"2020-08-25T00:00:00\", \"2020-08-26T00:00:00\", \"2020-08-27T00:00:00\", \"2020-08-28T00:00:00\", \"2020-08-29T00:00:00\", \"2020-08-30T00:00:00\", \"2020-08-31T00:00:00\", \"2020-09-01T00:00:00\"], \"xaxis\": \"x\", \"y\": [192, 1641, 2754, 3833, 4975, 6085, 7138, 7932, 8689, 9380, 9622, 10283, 11194, 11963, 12634, 13165, 13741, 14326, 14797, 15190, 15627, 16282, 16797, 17182, 17641, 17963, 18257, 18599, 19077, 19437, 21402, 23486, 25455, 27278, 29235, 30890, 32796, 34773, 36792, 38489, 40352, 42230, 44166, 46135, 48090, 49999, 51933, 53719, 55667, 57684, 59768, 61919, 63877, 65947, 67669, 69600, 71488, 73273, 75884, 78847, 82319, 85698, 89149, 92392, 95281, 98626, 102755, 106449, 109953, 112812, 115751, 120161, 127636, 131068, 135057, 138416, 141670, 143695, 147111, 150924, 154972, 158526, 161931, 164852, 167829, 171242, 174711, 178770, 183906, 188032, 192316, 196466, 200443, 204405, 210743, 214452, 218611, 222806, 227499, 231186, 235702, 240198, 244210, 248331, 253255, 258126, 262628, 266169, 270592, 274623, 278299, 282017, 286505, 290361, 293628, 297142, 300599, 304510, 308978, 313159, 316765, 320570, 323851, 327185, 330843, 334730, 338166, 341439, 344950, 348613, 352740, 356790, 360162, 364720, 369118, 372936, 378075, 381819, 385494, 389909, 393924, 397173, 400725, 404778, 408018, 411253, 414021, 417313, 421367, 424521, 427359, 430728, 433945, 437339, 440514, 443185, 446534, 449715, 453022, 456122, 459492, 463410, 467236, 471583, 475699, 480126, 481122], \"yaxis\": \"y\"}, {\"name\": \"Case mentions (5)\", \"type\": \"scatter\", \"x\": [\"2020-03-19T00:00:00\", \"2020-03-20T00:00:00\", \"2020-03-21T00:00:00\", \"2020-03-22T00:00:00\", \"2020-03-23T00:00:00\", \"2020-03-24T00:00:00\", \"2020-03-25T00:00:00\", \"2020-03-26T00:00:00\", \"2020-03-27T00:00:00\", \"2020-03-28T00:00:00\", \"2020-03-29T00:00:00\", \"2020-03-30T00:00:00\", \"2020-03-31T00:00:00\", \"2020-04-01T00:00:00\", \"2020-04-02T00:00:00\", \"2020-04-03T00:00:00\", \"2020-04-04T00:00:00\", \"2020-04-05T00:00:00\", \"2020-04-06T00:00:00\", \"2020-04-07T00:00:00\", \"2020-04-08T00:00:00\", \"2020-04-09T00:00:00\", \"2020-04-10T00:00:00\", \"2020-04-11T00:00:00\", \"2020-04-12T00:00:00\", \"2020-04-13T00:00:00\", \"2020-04-14T00:00:00\", \"2020-04-15T00:00:00\", \"2020-04-16T00:00:00\", \"2020-04-17T00:00:00\", \"2020-04-18T00:00:00\", \"2020-04-19T00:00:00\", \"2020-04-20T00:00:00\", \"2020-04-21T00:00:00\", \"2020-04-22T00:00:00\", \"2020-04-23T00:00:00\", \"2020-04-24T00:00:00\", \"2020-04-25T00:00:00\", \"2020-04-26T00:00:00\", \"2020-04-27T00:00:00\", \"2020-04-28T00:00:00\", \"2020-04-29T00:00:00\", \"2020-04-30T00:00:00\", \"2020-05-01T00:00:00\", \"2020-05-02T00:00:00\", \"2020-05-03T00:00:00\", \"2020-05-04T00:00:00\", \"2020-05-05T00:00:00\", \"2020-05-06T00:00:00\", \"2020-05-07T00:00:00\", \"2020-05-08T00:00:00\", \"2020-05-09T00:00:00\", \"2020-05-10T00:00:00\", \"2020-05-11T00:00:00\", \"2020-05-12T00:00:00\", \"2020-05-13T00:00:00\", \"2020-05-14T00:00:00\", \"2020-05-15T00:00:00\", \"2020-05-16T00:00:00\", \"2020-05-17T00:00:00\", \"2020-05-18T00:00:00\", \"2020-05-19T00:00:00\", \"2020-05-20T00:00:00\", \"2020-05-21T00:00:00\", \"2020-05-22T00:00:00\", \"2020-05-23T00:00:00\", \"2020-05-24T00:00:00\", \"2020-05-25T00:00:00\", \"2020-05-26T00:00:00\", \"2020-05-27T00:00:00\", \"2020-05-28T00:00:00\", \"2020-05-29T00:00:00\", \"2020-05-30T00:00:00\", \"2020-05-31T00:00:00\", \"2020-06-01T00:00:00\", \"2020-06-02T00:00:00\", \"2020-06-03T00:00:00\", \"2020-06-04T00:00:00\", \"2020-06-05T00:00:00\", \"2020-06-06T00:00:00\", \"2020-06-07T00:00:00\", \"2020-06-08T00:00:00\", \"2020-06-09T00:00:00\", \"2020-06-10T00:00:00\", \"2020-06-11T00:00:00\", \"2020-06-12T00:00:00\", \"2020-06-13T00:00:00\", \"2020-06-14T00:00:00\", \"2020-06-15T00:00:00\", \"2020-06-16T00:00:00\", \"2020-06-17T00:00:00\", \"2020-06-18T00:00:00\", \"2020-06-19T00:00:00\", \"2020-06-20T00:00:00\", \"2020-06-21T00:00:00\", \"2020-06-22T00:00:00\", \"2020-06-23T00:00:00\", \"2020-06-24T00:00:00\", \"2020-06-25T00:00:00\", \"2020-06-26T00:00:00\", \"2020-06-27T00:00:00\", \"2020-06-28T00:00:00\", \"2020-06-29T00:00:00\", \"2020-06-30T00:00:00\", \"2020-07-01T00:00:00\", \"2020-07-02T00:00:00\", \"2020-07-03T00:00:00\", \"2020-07-04T00:00:00\", \"2020-07-05T00:00:00\", \"2020-07-06T00:00:00\", \"2020-07-07T00:00:00\", \"2020-07-08T00:00:00\", \"2020-07-09T00:00:00\", \"2020-07-10T00:00:00\", \"2020-07-11T00:00:00\", \"2020-07-12T00:00:00\", \"2020-07-13T00:00:00\", \"2020-07-14T00:00:00\", \"2020-07-15T00:00:00\", \"2020-07-16T00:00:00\", \"2020-07-17T00:00:00\", \"2020-07-18T00:00:00\", \"2020-07-19T00:00:00\", \"2020-07-20T00:00:00\", \"2020-07-21T00:00:00\", \"2020-07-22T00:00:00\", \"2020-07-23T00:00:00\", \"2020-07-24T00:00:00\", \"2020-07-25T00:00:00\", \"2020-07-26T00:00:00\", \"2020-07-27T00:00:00\", \"2020-07-28T00:00:00\", \"2020-07-29T00:00:00\", \"2020-07-30T00:00:00\", \"2020-07-31T00:00:00\", \"2020-08-01T00:00:00\", \"2020-08-02T00:00:00\", \"2020-08-03T00:00:00\", \"2020-08-04T00:00:00\", \"2020-08-05T00:00:00\", \"2020-08-06T00:00:00\", \"2020-08-07T00:00:00\", \"2020-08-08T00:00:00\", \"2020-08-09T00:00:00\", \"2020-08-10T00:00:00\", \"2020-08-11T00:00:00\", \"2020-08-12T00:00:00\", \"2020-08-13T00:00:00\", \"2020-08-14T00:00:00\", \"2020-08-15T00:00:00\", \"2020-08-16T00:00:00\", \"2020-08-17T00:00:00\", \"2020-08-18T00:00:00\", \"2020-08-19T00:00:00\", \"2020-08-20T00:00:00\", \"2020-08-21T00:00:00\", \"2020-08-22T00:00:00\", \"2020-08-23T00:00:00\", \"2020-08-24T00:00:00\", \"2020-08-25T00:00:00\", \"2020-08-26T00:00:00\", \"2020-08-27T00:00:00\", \"2020-08-28T00:00:00\", \"2020-08-29T00:00:00\", \"2020-08-30T00:00:00\", \"2020-08-31T00:00:00\", \"2020-09-01T00:00:00\"], \"xaxis\": \"x\", \"y\": [62, 628, 1114, 1488, 1931, 2212, 2523, 2838, 3488, 3881, 3994, 4245, 4609, 5201, 5547, 5808, 6061, 6290, 6535, 6841, 7038, 7267, 7464, 7643, 7878, 8087, 8285, 8437, 8619, 8756, 10153, 11796, 13139, 14521, 15673, 16805, 17993, 19289, 20639, 22009, 23301, 24970, 26649, 28276, 29875, 31409, 32918, 34411, 35640, 36955, 38364, 39855, 41257, 42618, 43907, 45287, 46552, 47993, 50144, 52772, 55693, 57819, 60010, 62142, 64069, 66090, 69045, 71246, 73308, 75844, 77885, 79785, 81588, 83557, 85353, 86969, 88995, 91500, 93412, 95313, 97489, 100589, 102998, 105688, 108534, 111543, 114438, 116927, 119689, 122995, 126146, 129076, 132120, 135217, 137994, 141292, 144517, 148737, 152568, 156966, 161215, 165772, 169587, 172599, 176454, 180705, 184309, 187287, 190316, 194615, 198341, 202462, 206173, 209281, 212500, 215996, 219118, 222138, 224758, 228451, 232010, 235059, 237811, 240259, 243245, 245446, 248080, 250708, 253049, 255475, 258249, 259967, 261726, 263432, 265584, 267788, 269931, 271815, 273766, 275794, 277683, 280060, 281947, 285431, 288023, 290252, 292042, 293975, 296087, 297537, 299442, 301735, 303827, 306021, 308149, 310936, 313162, 315536, 318155, 320601, 322932, 325724, 328591, 331016, 333821, 336573, 336964], \"yaxis\": \"y\"}, {\"name\": \"Trump mentions (6)\", \"type\": \"scatter\", \"x\": [\"2020-03-19T00:00:00\", \"2020-03-20T00:00:00\", \"2020-03-21T00:00:00\", \"2020-03-22T00:00:00\", \"2020-03-23T00:00:00\", \"2020-03-24T00:00:00\", \"2020-03-25T00:00:00\", \"2020-03-26T00:00:00\", \"2020-03-27T00:00:00\", \"2020-03-28T00:00:00\", \"2020-03-29T00:00:00\", \"2020-03-30T00:00:00\", \"2020-03-31T00:00:00\", \"2020-04-01T00:00:00\", \"2020-04-02T00:00:00\", \"2020-04-03T00:00:00\", \"2020-04-04T00:00:00\", \"2020-04-05T00:00:00\", \"2020-04-06T00:00:00\", \"2020-04-07T00:00:00\", \"2020-04-08T00:00:00\", \"2020-04-09T00:00:00\", \"2020-04-10T00:00:00\", \"2020-04-11T00:00:00\", \"2020-04-12T00:00:00\", \"2020-04-13T00:00:00\", \"2020-04-14T00:00:00\", \"2020-04-15T00:00:00\", \"2020-04-16T00:00:00\", \"2020-04-17T00:00:00\", \"2020-04-18T00:00:00\", \"2020-04-19T00:00:00\", \"2020-04-20T00:00:00\", \"2020-04-21T00:00:00\", \"2020-04-22T00:00:00\", \"2020-04-23T00:00:00\", \"2020-04-24T00:00:00\", \"2020-04-25T00:00:00\", \"2020-04-26T00:00:00\", \"2020-04-27T00:00:00\", \"2020-04-28T00:00:00\", \"2020-04-29T00:00:00\", \"2020-04-30T00:00:00\", \"2020-05-01T00:00:00\", \"2020-05-02T00:00:00\", \"2020-05-03T00:00:00\", \"2020-05-04T00:00:00\", \"2020-05-05T00:00:00\", \"2020-05-06T00:00:00\", \"2020-05-07T00:00:00\", \"2020-05-08T00:00:00\", \"2020-05-09T00:00:00\", \"2020-05-10T00:00:00\", \"2020-05-11T00:00:00\", \"2020-05-12T00:00:00\", \"2020-05-13T00:00:00\", \"2020-05-14T00:00:00\", \"2020-05-15T00:00:00\", \"2020-05-16T00:00:00\", \"2020-05-17T00:00:00\", \"2020-05-18T00:00:00\", \"2020-05-19T00:00:00\", \"2020-05-20T00:00:00\", \"2020-05-21T00:00:00\", \"2020-05-22T00:00:00\", \"2020-05-23T00:00:00\", \"2020-05-24T00:00:00\", \"2020-05-25T00:00:00\", \"2020-05-26T00:00:00\", \"2020-05-27T00:00:00\", \"2020-05-28T00:00:00\", \"2020-05-29T00:00:00\", \"2020-05-30T00:00:00\", \"2020-05-31T00:00:00\", \"2020-06-01T00:00:00\", \"2020-06-02T00:00:00\", \"2020-06-03T00:00:00\", \"2020-06-04T00:00:00\", \"2020-06-05T00:00:00\", \"2020-06-06T00:00:00\", \"2020-06-07T00:00:00\", \"2020-06-08T00:00:00\", \"2020-06-09T00:00:00\", \"2020-06-10T00:00:00\", \"2020-06-11T00:00:00\", \"2020-06-12T00:00:00\", \"2020-06-13T00:00:00\", \"2020-06-14T00:00:00\", \"2020-06-15T00:00:00\", \"2020-06-16T00:00:00\", \"2020-06-17T00:00:00\", \"2020-06-18T00:00:00\", \"2020-06-19T00:00:00\", \"2020-06-20T00:00:00\", \"2020-06-21T00:00:00\", \"2020-06-22T00:00:00\", \"2020-06-23T00:00:00\", \"2020-06-24T00:00:00\", \"2020-06-25T00:00:00\", \"2020-06-26T00:00:00\", \"2020-06-27T00:00:00\", \"2020-06-28T00:00:00\", \"2020-06-29T00:00:00\", \"2020-06-30T00:00:00\", \"2020-07-01T00:00:00\", \"2020-07-02T00:00:00\", \"2020-07-03T00:00:00\", \"2020-07-04T00:00:00\", \"2020-07-05T00:00:00\", \"2020-07-06T00:00:00\", \"2020-07-07T00:00:00\", \"2020-07-08T00:00:00\", \"2020-07-09T00:00:00\", \"2020-07-10T00:00:00\", \"2020-07-11T00:00:00\", \"2020-07-12T00:00:00\", \"2020-07-13T00:00:00\", \"2020-07-14T00:00:00\", \"2020-07-15T00:00:00\", \"2020-07-16T00:00:00\", \"2020-07-17T00:00:00\", \"2020-07-18T00:00:00\", \"2020-07-19T00:00:00\", \"2020-07-20T00:00:00\", \"2020-07-21T00:00:00\", \"2020-07-22T00:00:00\", \"2020-07-23T00:00:00\", \"2020-07-24T00:00:00\", \"2020-07-25T00:00:00\", \"2020-07-26T00:00:00\", \"2020-07-27T00:00:00\", \"2020-07-28T00:00:00\", \"2020-07-29T00:00:00\", \"2020-07-30T00:00:00\", \"2020-07-31T00:00:00\", \"2020-08-01T00:00:00\", \"2020-08-02T00:00:00\", \"2020-08-03T00:00:00\", \"2020-08-04T00:00:00\", \"2020-08-05T00:00:00\", \"2020-08-06T00:00:00\", \"2020-08-07T00:00:00\", \"2020-08-08T00:00:00\", \"2020-08-09T00:00:00\", \"2020-08-10T00:00:00\", \"2020-08-11T00:00:00\", \"2020-08-12T00:00:00\", \"2020-08-13T00:00:00\", \"2020-08-14T00:00:00\", \"2020-08-15T00:00:00\", \"2020-08-16T00:00:00\", \"2020-08-17T00:00:00\", \"2020-08-18T00:00:00\", \"2020-08-19T00:00:00\", \"2020-08-20T00:00:00\", \"2020-08-21T00:00:00\", \"2020-08-22T00:00:00\", \"2020-08-23T00:00:00\", \"2020-08-24T00:00:00\", \"2020-08-25T00:00:00\", \"2020-08-26T00:00:00\", \"2020-08-27T00:00:00\", \"2020-08-28T00:00:00\", \"2020-08-29T00:00:00\", \"2020-08-30T00:00:00\", \"2020-08-31T00:00:00\", \"2020-09-01T00:00:00\"], \"xaxis\": \"x\", \"y\": [172, 483, 633, 796, 916, 1109, 1267, 1452, 1598, 1745, 1800, 1941, 2299, 2560, 2716, 2829, 2978, 3116, 3275, 3425, 3609, 3830, 3942, 4085, 4190, 4247, 4362, 4457, 4615, 4698, 5914, 7575, 9247, 10850, 12300, 13850, 16607, 18683, 20187, 21439, 22921, 24425, 25709, 26735, 27895, 29113, 30559, 32081, 33663, 35162, 36807, 38407, 39842, 41400, 43132, 44372, 45677, 46957, 49081, 51748, 54071, 56824, 59351, 62023, 64478, 66703, 68626, 70166, 71782, 73640, 75623, 79011, 83018, 84501, 85622, 86918, 87811, 88278, 89449, 90764, 92117, 93378, 94342, 95590, 98168, 101232, 103321, 104326, 106419, 108364, 110543, 112932, 115594, 119751, 126492, 129678, 132907, 135791, 139287, 143091, 146258, 149623, 151618, 153402, 155364, 157628, 159994, 163163, 165291, 168295, 171445, 174401, 177134, 179346, 181441, 184124, 187194, 189952, 193221, 197625, 201349, 204104, 207582, 210260, 213385, 216481, 219372, 221610, 223690, 225731, 227946, 231021, 233827, 236884, 239297, 242919, 245374, 248347, 251648, 254379, 257701, 260205, 263583, 266747, 269229, 272204, 274262, 277597, 280364, 282104, 284544, 286737, 289726, 291188, 292723, 294483, 295769, 298059, 300183, 302375, 305121, 308253, 311706, 313965, 316337, 319186, 319940], \"yaxis\": \"y\"}, {\"name\": \"Death mentions (7)\", \"type\": \"scatter\", \"x\": [\"2020-03-19T00:00:00\", \"2020-03-20T00:00:00\", \"2020-03-21T00:00:00\", \"2020-03-22T00:00:00\", \"2020-03-23T00:00:00\", \"2020-03-24T00:00:00\", \"2020-03-25T00:00:00\", \"2020-03-26T00:00:00\", \"2020-03-27T00:00:00\", \"2020-03-28T00:00:00\", \"2020-03-29T00:00:00\", \"2020-03-30T00:00:00\", \"2020-03-31T00:00:00\", \"2020-04-01T00:00:00\", \"2020-04-02T00:00:00\", \"2020-04-03T00:00:00\", \"2020-04-04T00:00:00\", \"2020-04-05T00:00:00\", \"2020-04-06T00:00:00\", \"2020-04-07T00:00:00\", \"2020-04-08T00:00:00\", \"2020-04-09T00:00:00\", \"2020-04-10T00:00:00\", \"2020-04-11T00:00:00\", \"2020-04-12T00:00:00\", \"2020-04-13T00:00:00\", \"2020-04-14T00:00:00\", \"2020-04-15T00:00:00\", \"2020-04-16T00:00:00\", \"2020-04-17T00:00:00\", \"2020-04-18T00:00:00\", \"2020-04-19T00:00:00\", \"2020-04-20T00:00:00\", \"2020-04-21T00:00:00\", \"2020-04-22T00:00:00\", \"2020-04-23T00:00:00\", \"2020-04-24T00:00:00\", \"2020-04-25T00:00:00\", \"2020-04-26T00:00:00\", \"2020-04-27T00:00:00\", \"2020-04-28T00:00:00\", \"2020-04-29T00:00:00\", \"2020-04-30T00:00:00\", \"2020-05-01T00:00:00\", \"2020-05-02T00:00:00\", \"2020-05-03T00:00:00\", \"2020-05-04T00:00:00\", \"2020-05-05T00:00:00\", \"2020-05-06T00:00:00\", \"2020-05-07T00:00:00\", \"2020-05-08T00:00:00\", \"2020-05-09T00:00:00\", \"2020-05-10T00:00:00\", \"2020-05-11T00:00:00\", \"2020-05-12T00:00:00\", \"2020-05-13T00:00:00\", \"2020-05-14T00:00:00\", \"2020-05-15T00:00:00\", \"2020-05-16T00:00:00\", \"2020-05-17T00:00:00\", \"2020-05-18T00:00:00\", \"2020-05-19T00:00:00\", \"2020-05-20T00:00:00\", \"2020-05-21T00:00:00\", \"2020-05-22T00:00:00\", \"2020-05-23T00:00:00\", \"2020-05-24T00:00:00\", \"2020-05-25T00:00:00\", \"2020-05-26T00:00:00\", \"2020-05-27T00:00:00\", \"2020-05-28T00:00:00\", \"2020-05-29T00:00:00\", \"2020-05-30T00:00:00\", \"2020-05-31T00:00:00\", \"2020-06-01T00:00:00\", \"2020-06-02T00:00:00\", \"2020-06-03T00:00:00\", \"2020-06-04T00:00:00\", \"2020-06-05T00:00:00\", \"2020-06-06T00:00:00\", \"2020-06-07T00:00:00\", \"2020-06-08T00:00:00\", \"2020-06-09T00:00:00\", \"2020-06-10T00:00:00\", \"2020-06-11T00:00:00\", \"2020-06-12T00:00:00\", \"2020-06-13T00:00:00\", \"2020-06-14T00:00:00\", \"2020-06-15T00:00:00\", \"2020-06-16T00:00:00\", \"2020-06-17T00:00:00\", \"2020-06-18T00:00:00\", \"2020-06-19T00:00:00\", \"2020-06-20T00:00:00\", \"2020-06-21T00:00:00\", \"2020-06-22T00:00:00\", \"2020-06-23T00:00:00\", \"2020-06-24T00:00:00\", \"2020-06-25T00:00:00\", \"2020-06-26T00:00:00\", \"2020-06-27T00:00:00\", \"2020-06-28T00:00:00\", \"2020-06-29T00:00:00\", \"2020-06-30T00:00:00\", \"2020-07-01T00:00:00\", \"2020-07-02T00:00:00\", \"2020-07-03T00:00:00\", \"2020-07-04T00:00:00\", \"2020-07-05T00:00:00\", \"2020-07-06T00:00:00\", \"2020-07-07T00:00:00\", \"2020-07-08T00:00:00\", \"2020-07-09T00:00:00\", \"2020-07-10T00:00:00\", \"2020-07-11T00:00:00\", \"2020-07-12T00:00:00\", \"2020-07-13T00:00:00\", \"2020-07-14T00:00:00\", \"2020-07-15T00:00:00\", \"2020-07-16T00:00:00\", \"2020-07-17T00:00:00\", \"2020-07-18T00:00:00\", \"2020-07-19T00:00:00\", \"2020-07-20T00:00:00\", \"2020-07-21T00:00:00\", \"2020-07-22T00:00:00\", \"2020-07-23T00:00:00\", \"2020-07-24T00:00:00\", \"2020-07-25T00:00:00\", \"2020-07-26T00:00:00\", \"2020-07-27T00:00:00\", \"2020-07-28T00:00:00\", \"2020-07-29T00:00:00\", \"2020-07-30T00:00:00\", \"2020-07-31T00:00:00\", \"2020-08-01T00:00:00\", \"2020-08-02T00:00:00\", \"2020-08-03T00:00:00\", \"2020-08-04T00:00:00\", \"2020-08-05T00:00:00\", \"2020-08-06T00:00:00\", \"2020-08-07T00:00:00\", \"2020-08-08T00:00:00\", \"2020-08-09T00:00:00\", \"2020-08-10T00:00:00\", \"2020-08-11T00:00:00\", \"2020-08-12T00:00:00\", \"2020-08-13T00:00:00\", \"2020-08-14T00:00:00\", \"2020-08-15T00:00:00\", \"2020-08-16T00:00:00\", \"2020-08-17T00:00:00\", \"2020-08-18T00:00:00\", \"2020-08-19T00:00:00\", \"2020-08-20T00:00:00\", \"2020-08-21T00:00:00\", \"2020-08-22T00:00:00\", \"2020-08-23T00:00:00\", \"2020-08-24T00:00:00\", \"2020-08-25T00:00:00\", \"2020-08-26T00:00:00\", \"2020-08-27T00:00:00\", \"2020-08-28T00:00:00\", \"2020-08-29T00:00:00\", \"2020-08-30T00:00:00\", \"2020-08-31T00:00:00\", \"2020-09-01T00:00:00\"], \"xaxis\": \"x\", \"y\": [32, 222, 433, 677, 863, 1058, 1248, 1482, 1760, 1987, 2114, 2323, 2611, 2815, 3068, 3232, 3439, 3637, 4154, 4415, 4663, 4830, 4984, 5180, 5341, 5516, 5644, 5741, 5853, 6011, 7521, 9179, 10533, 11995, 13776, 15126, 16333, 18071, 19941, 21944, 23634, 25300, 27317, 29125, 31204, 33339, 35009, 37342, 39348, 41279, 42988, 44513, 46241, 47954, 49526, 51255, 52585, 54196, 56995, 59653, 62128, 64509, 67182, 69519, 72630, 75112, 77906, 80656, 83547, 86370, 90485, 93325, 95478, 98348, 100015, 101906, 103837, 105471, 107292, 108793, 110618, 112308, 113990, 115458, 117105, 118759, 120634, 122481, 124638, 126755, 128438, 129779, 131040, 132367, 134157, 136070, 137922, 139795, 141508, 143755, 145820, 148235, 149975, 151543, 153292, 155275, 157768, 159575, 161847, 164456, 167279, 169997, 172461, 174657, 176923, 179425, 182308, 185090, 187071, 189370, 192295, 194714, 197220, 199424, 201349, 203421, 205796, 208247, 210827, 213377, 215406, 217670, 219654, 222057, 223996, 225921, 228114, 230721, 233369, 235875, 237794, 239654, 241437, 242957, 245363, 247433, 249920, 252112, 253806, 255186, 257261, 259277, 262005, 263844, 265265, 266853, 268636, 270921, 272358, 273742, 275519, 277303, 278975, 280807, 285245, 289749, 290555], \"yaxis\": \"y\"}, {\"name\": \"Mask mentions (8)\", \"type\": \"scatter\", \"x\": [\"2020-03-20T00:00:00\", \"2020-03-21T00:00:00\", \"2020-03-22T00:00:00\", \"2020-03-23T00:00:00\", \"2020-03-24T00:00:00\", \"2020-03-25T00:00:00\", \"2020-03-26T00:00:00\", \"2020-03-27T00:00:00\", \"2020-03-28T00:00:00\", \"2020-03-29T00:00:00\", \"2020-03-30T00:00:00\", \"2020-03-31T00:00:00\", \"2020-04-01T00:00:00\", \"2020-04-02T00:00:00\", \"2020-04-03T00:00:00\", \"2020-04-04T00:00:00\", \"2020-04-05T00:00:00\", \"2020-04-06T00:00:00\", \"2020-04-07T00:00:00\", \"2020-04-08T00:00:00\", \"2020-04-09T00:00:00\", \"2020-04-10T00:00:00\", \"2020-04-11T00:00:00\", \"2020-04-12T00:00:00\", \"2020-04-13T00:00:00\", \"2020-04-14T00:00:00\", \"2020-04-15T00:00:00\", \"2020-04-16T00:00:00\", \"2020-04-17T00:00:00\", \"2020-04-18T00:00:00\", \"2020-04-19T00:00:00\", \"2020-04-20T00:00:00\", \"2020-04-21T00:00:00\", \"2020-04-22T00:00:00\", \"2020-04-23T00:00:00\", \"2020-04-24T00:00:00\", \"2020-04-25T00:00:00\", \"2020-04-26T00:00:00\", \"2020-04-27T00:00:00\", \"2020-04-28T00:00:00\", \"2020-04-29T00:00:00\", \"2020-04-30T00:00:00\", \"2020-05-01T00:00:00\", \"2020-05-02T00:00:00\", \"2020-05-03T00:00:00\", \"2020-05-04T00:00:00\", \"2020-05-05T00:00:00\", \"2020-05-06T00:00:00\", \"2020-05-07T00:00:00\", \"2020-05-08T00:00:00\", \"2020-05-09T00:00:00\", \"2020-05-10T00:00:00\", \"2020-05-11T00:00:00\", \"2020-05-12T00:00:00\", \"2020-05-13T00:00:00\", \"2020-05-14T00:00:00\", \"2020-05-15T00:00:00\", \"2020-05-16T00:00:00\", \"2020-05-17T00:00:00\", \"2020-05-18T00:00:00\", \"2020-05-19T00:00:00\", \"2020-05-20T00:00:00\", \"2020-05-21T00:00:00\", \"2020-05-22T00:00:00\", \"2020-05-23T00:00:00\", \"2020-05-24T00:00:00\", \"2020-05-25T00:00:00\", \"2020-05-26T00:00:00\", \"2020-05-27T00:00:00\", \"2020-05-28T00:00:00\", \"2020-05-29T00:00:00\", \"2020-05-30T00:00:00\", \"2020-05-31T00:00:00\", \"2020-06-01T00:00:00\", \"2020-06-02T00:00:00\", \"2020-06-03T00:00:00\", \"2020-06-04T00:00:00\", \"2020-06-05T00:00:00\", \"2020-06-06T00:00:00\", \"2020-06-07T00:00:00\", \"2020-06-08T00:00:00\", \"2020-06-09T00:00:00\", \"2020-06-10T00:00:00\", \"2020-06-11T00:00:00\", \"2020-06-12T00:00:00\", \"2020-06-13T00:00:00\", \"2020-06-14T00:00:00\", \"2020-06-15T00:00:00\", \"2020-06-16T00:00:00\", \"2020-06-17T00:00:00\", \"2020-06-18T00:00:00\", \"2020-06-19T00:00:00\", \"2020-06-20T00:00:00\", \"2020-06-21T00:00:00\", \"2020-06-22T00:00:00\", \"2020-06-23T00:00:00\", \"2020-06-24T00:00:00\", \"2020-06-25T00:00:00\", \"2020-06-26T00:00:00\", \"2020-06-27T00:00:00\", \"2020-06-28T00:00:00\", \"2020-06-29T00:00:00\", \"2020-06-30T00:00:00\", \"2020-07-01T00:00:00\", \"2020-07-02T00:00:00\", \"2020-07-03T00:00:00\", \"2020-07-04T00:00:00\", \"2020-07-05T00:00:00\", \"2020-07-06T00:00:00\", \"2020-07-07T00:00:00\", \"2020-07-08T00:00:00\", \"2020-07-09T00:00:00\", \"2020-07-10T00:00:00\", \"2020-07-11T00:00:00\", \"2020-07-12T00:00:00\", \"2020-07-13T00:00:00\", \"2020-07-14T00:00:00\", \"2020-07-15T00:00:00\", \"2020-07-16T00:00:00\", \"2020-07-17T00:00:00\", \"2020-07-18T00:00:00\", \"2020-07-19T00:00:00\", \"2020-07-20T00:00:00\", \"2020-07-21T00:00:00\", \"2020-07-22T00:00:00\", \"2020-07-23T00:00:00\", \"2020-07-24T00:00:00\", \"2020-07-25T00:00:00\", \"2020-07-26T00:00:00\", \"2020-07-27T00:00:00\", \"2020-07-28T00:00:00\", \"2020-07-29T00:00:00\", \"2020-07-30T00:00:00\", \"2020-07-31T00:00:00\", \"2020-08-01T00:00:00\", \"2020-08-02T00:00:00\", \"2020-08-03T00:00:00\", \"2020-08-04T00:00:00\", \"2020-08-05T00:00:00\", \"2020-08-06T00:00:00\", \"2020-08-07T00:00:00\", \"2020-08-08T00:00:00\", \"2020-08-09T00:00:00\", \"2020-08-10T00:00:00\", \"2020-08-11T00:00:00\", \"2020-08-12T00:00:00\", \"2020-08-13T00:00:00\", \"2020-08-14T00:00:00\", \"2020-08-15T00:00:00\", \"2020-08-16T00:00:00\", \"2020-08-17T00:00:00\", \"2020-08-18T00:00:00\", \"2020-08-19T00:00:00\", \"2020-08-20T00:00:00\", \"2020-08-21T00:00:00\", \"2020-08-22T00:00:00\", \"2020-08-23T00:00:00\", \"2020-08-24T00:00:00\", \"2020-08-25T00:00:00\", \"2020-08-26T00:00:00\", \"2020-08-27T00:00:00\", \"2020-08-28T00:00:00\", \"2020-08-29T00:00:00\", \"2020-08-30T00:00:00\", \"2020-08-31T00:00:00\", \"2020-09-01T00:00:00\"], \"xaxis\": \"x\", \"y\": [70, 133, 407, 548, 700, 769, 839, 915, 997, 1022, 1069, 1227, 1322, 1400, 1483, 1568, 1660, 1736, 1823, 2012, 2252, 2335, 2428, 2476, 2508, 2582, 2641, 2687, 2740, 3092, 3370, 3655, 3955, 4219, 4573, 4818, 5067, 5407, 5714, 6156, 6793, 7152, 7528, 7899, 8239, 8690, 9123, 9537, 9948, 10397, 11026, 11634, 12273, 12688, 13084, 13589, 13997, 14579, 15514, 16785, 17929, 18859, 19657, 20772, 21836, 22744, 23669, 24759, 25822, 26719, 27531, 28292, 30124, 30715, 31408, 32097, 32553, 34147, 35550, 36642, 37444, 38504, 39732, 41143, 42613, 44239, 46224, 48755, 50853, 53781, 56437, 59685, 64789, 66731, 68249, 70470, 73279, 76608, 78886, 81368, 84360, 88199, 90573, 92693, 95270, 98066, 100949, 103229, 105413, 107729, 110551, 113011, 115301, 117673, 120420, 122847, 126233, 129318, 132599, 135429, 138343, 141149, 143483, 145709, 149464, 151504, 154000, 156163, 157863, 159454, 161172, 164551, 167824, 170106, 171843, 173390, 174983, 176592, 178506, 181502, 184344, 186986, 189316, 191743, 193885, 196760, 199441, 202085, 204085, 206348, 209158, 211442, 213904, 215900, 218414, 220384, 223384, 225803, 228110, 230417, 232109, 234238, 236164, 238200, 241004, 241497], \"yaxis\": \"y\"}, {\"line\": {\"color\": \"black\", \"dash\": \"dash\", \"width\": 4}, \"name\": \"Total Covid Cases\", \"type\": \"scatter\", \"x\": [\"2020-01-22\", \"2020-01-23\", \"2020-01-24\", \"2020-01-25\", \"2020-01-26\", \"2020-01-27\", \"2020-01-28\", \"2020-01-29\", \"2020-01-30\", \"2020-01-31\", \"2020-02-01\", \"2020-02-02\", \"2020-02-03\", \"2020-02-04\", \"2020-02-05\", \"2020-02-06\", \"2020-02-07\", \"2020-02-08\", \"2020-02-09\", \"2020-02-10\", \"2020-02-11\", \"2020-02-12\", \"2020-02-13\", \"2020-02-14\", \"2020-02-15\", \"2020-02-16\", \"2020-02-17\", \"2020-02-18\", \"2020-02-19\", \"2020-02-20\", \"2020-02-21\", \"2020-02-22\", \"2020-02-23\", \"2020-02-24\", \"2020-02-25\", \"2020-02-26\", \"2020-02-27\", \"2020-02-28\", \"2020-02-29\", \"2020-03-01\", \"2020-03-02\", \"2020-03-03\", \"2020-03-04\", \"2020-03-05\", \"2020-03-06\", \"2020-03-07\", \"2020-03-08\", \"2020-03-09\", \"2020-03-10\", \"2020-03-11\", \"2020-03-12\", \"2020-03-13\", \"2020-03-14\", \"2020-03-15\", \"2020-03-16\", \"2020-03-17\", \"2020-03-18\", \"2020-03-19\", \"2020-03-20\", \"2020-03-21\", \"2020-03-22\", \"2020-03-23\", \"2020-03-24\", \"2020-03-25\", \"2020-03-26\", \"2020-03-27\", \"2020-03-28\", \"2020-03-29\", \"2020-03-30\", \"2020-03-31\", \"2020-04-01\", \"2020-04-02\", \"2020-04-03\", \"2020-04-04\", \"2020-04-05\", \"2020-04-06\", \"2020-04-07\", \"2020-04-08\", \"2020-04-09\", \"2020-04-10\", \"2020-04-11\", \"2020-04-12\", \"2020-04-13\", \"2020-04-14\", \"2020-04-15\", \"2020-04-16\", \"2020-04-17\", \"2020-04-18\", \"2020-04-19\", \"2020-04-20\", \"2020-04-21\", \"2020-04-22\", \"2020-04-23\", \"2020-04-24\", \"2020-04-25\", \"2020-04-26\", \"2020-04-27\", \"2020-04-28\", \"2020-04-29\", \"2020-04-30\", \"2020-05-01\", \"2020-05-02\", \"2020-05-03\", \"2020-05-04\", \"2020-05-05\", \"2020-05-06\", \"2020-05-07\", \"2020-05-08\", \"2020-05-09\", \"2020-05-10\", \"2020-05-11\", \"2020-05-12\", \"2020-05-13\", \"2020-05-14\", \"2020-05-15\", \"2020-05-16\", \"2020-05-17\", \"2020-05-18\", \"2020-05-19\", \"2020-05-20\", \"2020-05-21\", \"2020-05-22\", \"2020-05-23\", \"2020-05-24\", \"2020-05-25\", \"2020-05-26\", \"2020-05-27\", \"2020-05-28\", \"2020-05-29\", \"2020-05-30\", \"2020-05-31\", \"2020-06-01\", \"2020-06-02\", \"2020-06-03\", \"2020-06-04\", \"2020-06-05\", \"2020-06-06\", \"2020-06-07\", \"2020-06-08\", \"2020-06-09\", \"2020-06-10\", \"2020-06-11\", \"2020-06-12\", \"2020-06-13\", \"2020-06-14\", \"2020-06-15\", \"2020-06-16\", \"2020-06-17\", \"2020-06-18\", \"2020-06-19\", \"2020-06-20\", \"2020-06-21\", \"2020-06-22\", \"2020-06-23\", \"2020-06-24\", \"2020-06-25\", \"2020-06-26\", \"2020-06-27\", \"2020-06-28\", \"2020-06-29\", \"2020-06-30\", \"2020-07-01\", \"2020-07-02\", \"2020-07-03\", \"2020-07-04\", \"2020-07-05\", \"2020-07-06\", \"2020-07-07\", \"2020-07-08\", \"2020-07-09\", \"2020-07-10\", \"2020-07-11\", \"2020-07-12\", \"2020-07-13\", \"2020-07-14\", \"2020-07-15\", \"2020-07-16\", \"2020-07-17\", \"2020-07-18\", \"2020-07-19\", \"2020-07-20\", \"2020-07-21\", \"2020-07-22\", \"2020-07-23\", \"2020-07-24\", \"2020-07-25\", \"2020-07-26\", \"2020-07-27\", \"2020-07-28\", \"2020-07-29\", \"2020-07-30\", \"2020-07-31\", \"2020-08-01\", \"2020-08-02\", \"2020-08-03\", \"2020-08-04\", \"2020-08-05\", \"2020-08-06\", \"2020-08-07\", \"2020-08-08\", \"2020-08-09\", \"2020-08-10\", \"2020-08-11\", \"2020-08-12\", \"2020-08-13\", \"2020-08-14\", \"2020-08-15\", \"2020-08-16\", \"2020-08-17\", \"2020-08-18\", \"2020-08-19\", \"2020-08-20\", \"2020-08-21\", \"2020-08-22\", \"2020-08-23\", \"2020-08-24\", \"2020-08-25\", \"2020-08-26\", \"2020-08-27\", \"2020-08-28\", \"2020-08-29\", \"2020-08-30\", \"2020-08-31\", \"2020-09-01\", \"2020-09-02\", \"2020-09-03\", \"2020-09-04\", \"2020-09-05\", \"2020-09-06\", \"2020-09-07\", \"2020-09-08\", \"2020-09-09\", \"2020-09-10\", \"2020-09-11\", \"2020-09-12\", \"2020-09-13\", \"2020-09-14\", \"2020-09-15\", \"2020-09-16\", \"2020-09-17\", \"2020-09-18\", \"2020-09-19\", \"2020-09-20\"], \"xaxis\": \"x\", \"y\": [555, 654, 941, 1434, 2118, 2927, 5578, 6166, 8234, 9926, 12038, 16787, 19887, 23898, 27643, 30802, 34395, 37129, 40159, 42768, 44810, 45228, 60381, 66908, 69050, 71234, 73269, 75151, 75651, 76211, 76840, 78601, 78981, 79545, 80398, 81375, 82735, 84120, 86013, 88395, 90372, 92957, 95272, 98028, 102018, 106036, 109993, 113946, 118967, 126675, 132450, 146783, 157801, 169032, 183677, 199391, 218683, 245633, 275963, 307709, 341784, 384630, 425787, 476680, 539069, 603910, 671653, 731267, 795997, 872495, 948663, 1030010, 1113203, 1193711, 1265377, 1338067, 1415186, 1498895, 1585483, 1672988, 1749872, 1846819, 1916464, 1986284, 2067245, 2163941, 2251672, 2325485, 2406054, 2479522, 2554727, 2631781, 2720583, 2807495, 2892296, 2965076, 3034072, 3109425, 3186589, 3270117, 3357276, 3438689, 3516333, 3592506, 3672660, 3762727, 3851894, 3943470, 4029169, 4105292, 4181640, 4265367, 4350206, 4447281, 4543711, 4639021, 4717335, 4805823, 4902461, 5005574, 5111869, 5218664, 5323977, 5419242, 5506311, 5598982, 5701734, 5821183, 5942378, 6080002, 6187396, 6282981, 6403944, 6522099, 6649014, 6779972, 6915760, 7027674, 7130092, 7254608, 7389151, 7527086, 7656149, 7791901, 7925110, 8044663, 8186473, 8328685, 8468705, 8648774, 8806595, 8935273, 9073260, 9238052, 9409498, 9587195, 9778566, 9957498, 10119644, 10275992, 10449832, 10666930, 10874417, 11077903, 11271954, 11454850, 11620802, 11831641, 12043466, 12271553, 12503942, 12720381, 12913142, 13105192, 13326971, 13557898, 13810459, 14052261, 14290096, 14504853, 14710995, 14944726, 15225164, 15507881, 15789074, 16044757, 16258079, 16484206, 16736727, 17025889, 17306523, 17596559, 17847574, 18076718, 18278778, 18537524, 18808754, 19093901, 19374812, 19634542, 19858792, 20086280, 20341107, 20618174, 20904123, 21208474, 21456826, 21669376, 21878471, 22134679, 22408212, 22675329, 22946050, 23211563, 23417506, 23643854, 23885885, 24173746, 24452944, 24734448, 24996456, 25222709, 25484767, 25749642, 26031410, 26304856, 26617971, 26881547, 27103845, 27337760, 27570742, 27862680, 28161434, 28481322, 28758945, 28995373, 29274650, 29557942, 29861949, 30175313, 30499534, 30780755, 31021972], \"yaxis\": \"y2\"}],                        {\"template\": {\"data\": {\"bar\": [{\"error_x\": {\"color\": \"#2a3f5f\"}, \"error_y\": {\"color\": \"#2a3f5f\"}, \"marker\": {\"line\": {\"color\": \"#E5ECF6\", \"width\": 0.5}}, \"type\": \"bar\"}], \"barpolar\": [{\"marker\": {\"line\": {\"color\": \"#E5ECF6\", \"width\": 0.5}}, \"type\": \"barpolar\"}], \"carpet\": [{\"aaxis\": {\"endlinecolor\": \"#2a3f5f\", \"gridcolor\": \"white\", \"linecolor\": \"white\", \"minorgridcolor\": \"white\", \"startlinecolor\": \"#2a3f5f\"}, \"baxis\": {\"endlinecolor\": \"#2a3f5f\", \"gridcolor\": \"white\", \"linecolor\": \"white\", \"minorgridcolor\": \"white\", \"startlinecolor\": \"#2a3f5f\"}, \"type\": \"carpet\"}], \"choropleth\": [{\"colorbar\": {\"outlinewidth\": 0, \"ticks\": \"\"}, \"type\": \"choropleth\"}], \"contour\": [{\"colorbar\": {\"outlinewidth\": 0, \"ticks\": \"\"}, \"colorscale\": [[0.0, \"#0d0887\"], [0.1111111111111111, \"#46039f\"], [0.2222222222222222, \"#7201a8\"], [0.3333333333333333, \"#9c179e\"], [0.4444444444444444, \"#bd3786\"], [0.5555555555555556, \"#d8576b\"], [0.6666666666666666, \"#ed7953\"], [0.7777777777777778, \"#fb9f3a\"], [0.8888888888888888, \"#fdca26\"], [1.0, \"#f0f921\"]], \"type\": \"contour\"}], \"contourcarpet\": [{\"colorbar\": {\"outlinewidth\": 0, \"ticks\": \"\"}, \"type\": \"contourcarpet\"}], \"heatmap\": [{\"colorbar\": {\"outlinewidth\": 0, \"ticks\": \"\"}, \"colorscale\": [[0.0, \"#0d0887\"], [0.1111111111111111, \"#46039f\"], [0.2222222222222222, \"#7201a8\"], [0.3333333333333333, \"#9c179e\"], [0.4444444444444444, \"#bd3786\"], [0.5555555555555556, \"#d8576b\"], [0.6666666666666666, \"#ed7953\"], [0.7777777777777778, \"#fb9f3a\"], [0.8888888888888888, \"#fdca26\"], [1.0, \"#f0f921\"]], \"type\": \"heatmap\"}], \"heatmapgl\": [{\"colorbar\": {\"outlinewidth\": 0, \"ticks\": \"\"}, \"colorscale\": [[0.0, \"#0d0887\"], [0.1111111111111111, \"#46039f\"], [0.2222222222222222, \"#7201a8\"], [0.3333333333333333, \"#9c179e\"], [0.4444444444444444, \"#bd3786\"], [0.5555555555555556, \"#d8576b\"], [0.6666666666666666, \"#ed7953\"], [0.7777777777777778, \"#fb9f3a\"], [0.8888888888888888, \"#fdca26\"], [1.0, \"#f0f921\"]], \"type\": \"heatmapgl\"}], \"histogram\": [{\"marker\": {\"colorbar\": {\"outlinewidth\": 0, \"ticks\": \"\"}}, \"type\": \"histogram\"}], \"histogram2d\": [{\"colorbar\": {\"outlinewidth\": 0, \"ticks\": \"\"}, \"colorscale\": [[0.0, \"#0d0887\"], [0.1111111111111111, \"#46039f\"], [0.2222222222222222, \"#7201a8\"], [0.3333333333333333, \"#9c179e\"], [0.4444444444444444, \"#bd3786\"], [0.5555555555555556, \"#d8576b\"], [0.6666666666666666, \"#ed7953\"], [0.7777777777777778, \"#fb9f3a\"], [0.8888888888888888, \"#fdca26\"], [1.0, \"#f0f921\"]], \"type\": \"histogram2d\"}], \"histogram2dcontour\": [{\"colorbar\": {\"outlinewidth\": 0, \"ticks\": \"\"}, \"colorscale\": [[0.0, \"#0d0887\"], [0.1111111111111111, \"#46039f\"], [0.2222222222222222, \"#7201a8\"], [0.3333333333333333, \"#9c179e\"], [0.4444444444444444, \"#bd3786\"], [0.5555555555555556, \"#d8576b\"], [0.6666666666666666, \"#ed7953\"], [0.7777777777777778, \"#fb9f3a\"], [0.8888888888888888, \"#fdca26\"], [1.0, \"#f0f921\"]], \"type\": \"histogram2dcontour\"}], \"mesh3d\": [{\"colorbar\": {\"outlinewidth\": 0, \"ticks\": \"\"}, \"type\": \"mesh3d\"}], \"parcoords\": [{\"line\": {\"colorbar\": {\"outlinewidth\": 0, \"ticks\": \"\"}}, \"type\": \"parcoords\"}], \"pie\": [{\"automargin\": true, \"type\": \"pie\"}], \"scatter\": [{\"marker\": {\"colorbar\": {\"outlinewidth\": 0, \"ticks\": \"\"}}, \"type\": \"scatter\"}], \"scatter3d\": [{\"line\": {\"colorbar\": {\"outlinewidth\": 0, \"ticks\": \"\"}}, \"marker\": {\"colorbar\": {\"outlinewidth\": 0, \"ticks\": \"\"}}, \"type\": \"scatter3d\"}], \"scattercarpet\": [{\"marker\": {\"colorbar\": {\"outlinewidth\": 0, \"ticks\": \"\"}}, \"type\": \"scattercarpet\"}], \"scattergeo\": [{\"marker\": {\"colorbar\": {\"outlinewidth\": 0, \"ticks\": \"\"}}, \"type\": \"scattergeo\"}], \"scattergl\": [{\"marker\": {\"colorbar\": {\"outlinewidth\": 0, \"ticks\": \"\"}}, \"type\": \"scattergl\"}], \"scattermapbox\": [{\"marker\": {\"colorbar\": {\"outlinewidth\": 0, \"ticks\": \"\"}}, \"type\": \"scattermapbox\"}], \"scatterpolar\": [{\"marker\": {\"colorbar\": {\"outlinewidth\": 0, \"ticks\": \"\"}}, \"type\": \"scatterpolar\"}], \"scatterpolargl\": [{\"marker\": {\"colorbar\": {\"outlinewidth\": 0, \"ticks\": \"\"}}, \"type\": \"scatterpolargl\"}], \"scatterternary\": [{\"marker\": {\"colorbar\": {\"outlinewidth\": 0, \"ticks\": \"\"}}, \"type\": \"scatterternary\"}], \"surface\": [{\"colorbar\": {\"outlinewidth\": 0, \"ticks\": \"\"}, \"colorscale\": [[0.0, \"#0d0887\"], [0.1111111111111111, \"#46039f\"], [0.2222222222222222, \"#7201a8\"], [0.3333333333333333, \"#9c179e\"], [0.4444444444444444, \"#bd3786\"], [0.5555555555555556, \"#d8576b\"], [0.6666666666666666, \"#ed7953\"], [0.7777777777777778, \"#fb9f3a\"], [0.8888888888888888, \"#fdca26\"], [1.0, \"#f0f921\"]], \"type\": \"surface\"}], \"table\": [{\"cells\": {\"fill\": {\"color\": \"#EBF0F8\"}, \"line\": {\"color\": \"white\"}}, \"header\": {\"fill\": {\"color\": \"#C8D4E3\"}, \"line\": {\"color\": \"white\"}}, \"type\": \"table\"}]}, \"layout\": {\"annotationdefaults\": {\"arrowcolor\": \"#2a3f5f\", \"arrowhead\": 0, \"arrowwidth\": 1}, \"coloraxis\": {\"colorbar\": {\"outlinewidth\": 0, \"ticks\": \"\"}}, \"colorscale\": {\"diverging\": [[0, \"#8e0152\"], [0.1, \"#c51b7d\"], [0.2, \"#de77ae\"], [0.3, \"#f1b6da\"], [0.4, \"#fde0ef\"], [0.5, \"#f7f7f7\"], [0.6, \"#e6f5d0\"], [0.7, \"#b8e186\"], [0.8, \"#7fbc41\"], [0.9, \"#4d9221\"], [1, \"#276419\"]], \"sequential\": [[0.0, \"#0d0887\"], [0.1111111111111111, \"#46039f\"], [0.2222222222222222, \"#7201a8\"], [0.3333333333333333, \"#9c179e\"], [0.4444444444444444, \"#bd3786\"], [0.5555555555555556, \"#d8576b\"], [0.6666666666666666, \"#ed7953\"], [0.7777777777777778, \"#fb9f3a\"], [0.8888888888888888, \"#fdca26\"], [1.0, \"#f0f921\"]], \"sequentialminus\": [[0.0, \"#0d0887\"], [0.1111111111111111, \"#46039f\"], [0.2222222222222222, \"#7201a8\"], [0.3333333333333333, \"#9c179e\"], [0.4444444444444444, \"#bd3786\"], [0.5555555555555556, \"#d8576b\"], [0.6666666666666666, \"#ed7953\"], [0.7777777777777778, \"#fb9f3a\"], [0.8888888888888888, \"#fdca26\"], [1.0, \"#f0f921\"]]}, \"colorway\": [\"#636efa\", \"#EF553B\", \"#00cc96\", \"#ab63fa\", \"#FFA15A\", \"#19d3f3\", \"#FF6692\", \"#B6E880\", \"#FF97FF\", \"#FECB52\"], \"font\": {\"color\": \"#2a3f5f\"}, \"geo\": {\"bgcolor\": \"white\", \"lakecolor\": \"white\", \"landcolor\": \"#E5ECF6\", \"showlakes\": true, \"showland\": true, \"subunitcolor\": \"white\"}, \"hoverlabel\": {\"align\": \"left\"}, \"hovermode\": \"closest\", \"mapbox\": {\"style\": \"light\"}, \"paper_bgcolor\": \"white\", \"plot_bgcolor\": \"#E5ECF6\", \"polar\": {\"angularaxis\": {\"gridcolor\": \"white\", \"linecolor\": \"white\", \"ticks\": \"\"}, \"bgcolor\": \"#E5ECF6\", \"radialaxis\": {\"gridcolor\": \"white\", \"linecolor\": \"white\", \"ticks\": \"\"}}, \"scene\": {\"xaxis\": {\"backgroundcolor\": \"#E5ECF6\", \"gridcolor\": \"white\", \"gridwidth\": 2, \"linecolor\": \"white\", \"showbackground\": true, \"ticks\": \"\", \"zerolinecolor\": \"white\"}, \"yaxis\": {\"backgroundcolor\": \"#E5ECF6\", \"gridcolor\": \"white\", \"gridwidth\": 2, \"linecolor\": \"white\", \"showbackground\": true, \"ticks\": \"\", \"zerolinecolor\": \"white\"}, \"zaxis\": {\"backgroundcolor\": \"#E5ECF6\", \"gridcolor\": \"white\", \"gridwidth\": 2, \"linecolor\": \"white\", \"showbackground\": true, \"ticks\": \"\", \"zerolinecolor\": \"white\"}}, \"shapedefaults\": {\"line\": {\"color\": \"#2a3f5f\"}}, \"ternary\": {\"aaxis\": {\"gridcolor\": \"white\", \"linecolor\": \"white\", \"ticks\": \"\"}, \"baxis\": {\"gridcolor\": \"white\", \"linecolor\": \"white\", \"ticks\": \"\"}, \"bgcolor\": \"#E5ECF6\", \"caxis\": {\"gridcolor\": \"white\", \"linecolor\": \"white\", \"ticks\": \"\"}}, \"title\": {\"x\": 0.05}, \"xaxis\": {\"automargin\": true, \"gridcolor\": \"white\", \"linecolor\": \"white\", \"ticks\": \"\", \"title\": {\"standoff\": 15}, \"zerolinecolor\": \"white\", \"zerolinewidth\": 2}, \"yaxis\": {\"automargin\": true, \"gridcolor\": \"white\", \"linecolor\": \"white\", \"ticks\": \"\", \"title\": {\"standoff\": 15}, \"zerolinecolor\": \"white\", \"zerolinewidth\": 2}}}, \"title\": {\"text\": \"Most meaningful words and Covid case totals\"}, \"xaxis\": {\"anchor\": \"y\", \"domain\": [0.0, 0.94]}, \"yaxis\": {\"anchor\": \"x\", \"domain\": [0.0, 1.0], \"title\": {\"text\": \"<b>Mention Counts</b>\"}}, \"yaxis2\": {\"anchor\": \"x\", \"overlaying\": \"y\", \"side\": \"right\", \"title\": {\"text\": \"<b>COVID Case totals</b>\"}}},                        {\"responsive\": true}                    ).then(function(){\n",
       "                            \n",
       "var gd = document.getElementById('15999a84-9ca8-4ac7-8c22-e9462e556afd');\n",
       "var x = new MutationObserver(function (mutations, observer) {{\n",
       "        var display = window.getComputedStyle(gd).display;\n",
       "        if (!display || display === 'none') {{\n",
       "            console.log([gd, 'removed!']);\n",
       "            Plotly.purge(gd);\n",
       "            observer.disconnect();\n",
       "        }}\n",
       "}});\n",
       "\n",
       "// Listen for the removal of the full notebook cells\n",
       "var notebookContainer = gd.closest('#notebook-container');\n",
       "if (notebookContainer) {{\n",
       "    x.observe(notebookContainer, {childList: true});\n",
       "}}\n",
       "\n",
       "// Listen for the clearing of the current output cell\n",
       "var outputEl = gd.closest('.output');\n",
       "if (outputEl) {{\n",
       "    x.observe(outputEl, {childList: true});\n",
       "}}\n",
       "\n",
       "                        })                };                });            </script>        </div>"
      ]
     },
     "metadata": {},
     "output_type": "display_data"
    }
   ],
   "source": [
    "gp1.words_linechart_two()"
   ]
  },
  {
   "cell_type": "markdown",
   "metadata": {},
   "source": [
    "## Daily Percentage Change of Most Mention Words\n",
    "- Expanded version of the chart in the slidedoc. \n",
    "- **Note:** Due to a change in the way that the Tweet ID's were originally aggregated on IEEE-Dataport we have removed April 18, 2020 from the below heatmap. There was a significant change in the volume of tweets collected from that point forward."
   ]
  },
  {
   "cell_type": "code",
   "execution_count": 7,
   "metadata": {
    "ExecuteTime": {
     "end_time": "2020-09-28T02:01:13.028559Z",
     "start_time": "2020-09-28T02:01:07.715601Z"
    }
   },
   "outputs": [
    {
     "data": {
      "application/vnd.plotly.v1+json": {
       "config": {
        "plotlyServerURL": "https://plot.ly"
       },
       "data": [
        {
         "coloraxis": "coloraxis",
         "hovertemplate": "Percent Change of Most Mentioned Words: %{x}<br>Date: %{y}<br>% Change: %{z}<extra></extra>",
         "type": "heatmap",
         "x": [
          "case",
          "death",
          "health",
          "lockdown",
          "mask",
          "pandemic",
          "people",
          "state",
          "trump",
          "virus"
         ],
         "y": [
          "2020-03-21T00:00:00",
          "2020-03-22T00:00:00",
          "2020-03-23T00:00:00",
          "2020-03-24T00:00:00",
          "2020-03-25T00:00:00",
          "2020-03-26T00:00:00",
          "2020-03-27T00:00:00",
          "2020-03-28T00:00:00",
          "2020-03-29T00:00:00",
          "2020-03-30T00:00:00",
          "2020-03-31T00:00:00",
          "2020-04-01T00:00:00",
          "2020-04-02T00:00:00",
          "2020-04-03T00:00:00",
          "2020-04-04T00:00:00",
          "2020-04-05T00:00:00",
          "2020-04-06T00:00:00",
          "2020-04-07T00:00:00",
          "2020-04-08T00:00:00",
          "2020-04-09T00:00:00",
          "2020-04-10T00:00:00",
          "2020-04-11T00:00:00",
          "2020-04-12T00:00:00",
          "2020-04-13T00:00:00",
          "2020-04-14T00:00:00",
          "2020-04-15T00:00:00",
          "2020-04-16T00:00:00",
          "2020-04-17T00:00:00",
          "2020-04-19T00:00:00",
          "2020-04-20T00:00:00",
          "2020-04-21T00:00:00",
          "2020-04-22T00:00:00",
          "2020-04-23T00:00:00",
          "2020-04-24T00:00:00",
          "2020-04-25T00:00:00",
          "2020-04-26T00:00:00",
          "2020-04-27T00:00:00",
          "2020-04-28T00:00:00",
          "2020-04-29T00:00:00",
          "2020-04-30T00:00:00",
          "2020-05-01T00:00:00",
          "2020-05-02T00:00:00",
          "2020-05-03T00:00:00",
          "2020-05-04T00:00:00",
          "2020-05-05T00:00:00",
          "2020-05-06T00:00:00",
          "2020-05-07T00:00:00",
          "2020-05-08T00:00:00",
          "2020-05-09T00:00:00",
          "2020-05-10T00:00:00",
          "2020-05-11T00:00:00",
          "2020-05-12T00:00:00",
          "2020-05-13T00:00:00",
          "2020-05-14T00:00:00",
          "2020-05-15T00:00:00",
          "2020-05-16T00:00:00",
          "2020-05-17T00:00:00",
          "2020-05-18T00:00:00",
          "2020-05-19T00:00:00",
          "2020-05-20T00:00:00",
          "2020-05-21T00:00:00",
          "2020-05-22T00:00:00",
          "2020-05-23T00:00:00",
          "2020-05-24T00:00:00",
          "2020-05-25T00:00:00",
          "2020-05-26T00:00:00",
          "2020-05-27T00:00:00",
          "2020-05-28T00:00:00",
          "2020-05-29T00:00:00",
          "2020-05-30T00:00:00",
          "2020-05-31T00:00:00",
          "2020-06-01T00:00:00",
          "2020-06-02T00:00:00",
          "2020-06-03T00:00:00",
          "2020-06-04T00:00:00",
          "2020-06-05T00:00:00",
          "2020-06-06T00:00:00",
          "2020-06-07T00:00:00",
          "2020-06-08T00:00:00",
          "2020-06-09T00:00:00",
          "2020-06-10T00:00:00",
          "2020-06-11T00:00:00",
          "2020-06-12T00:00:00",
          "2020-06-13T00:00:00",
          "2020-06-14T00:00:00",
          "2020-06-15T00:00:00",
          "2020-06-16T00:00:00",
          "2020-06-17T00:00:00",
          "2020-06-18T00:00:00",
          "2020-06-19T00:00:00",
          "2020-06-20T00:00:00",
          "2020-06-21T00:00:00",
          "2020-06-22T00:00:00",
          "2020-06-23T00:00:00",
          "2020-06-24T00:00:00",
          "2020-06-25T00:00:00",
          "2020-06-26T00:00:00",
          "2020-06-27T00:00:00",
          "2020-06-28T00:00:00",
          "2020-06-29T00:00:00",
          "2020-06-30T00:00:00",
          "2020-07-01T00:00:00",
          "2020-07-02T00:00:00",
          "2020-07-03T00:00:00",
          "2020-07-04T00:00:00",
          "2020-07-05T00:00:00",
          "2020-07-06T00:00:00",
          "2020-07-07T00:00:00",
          "2020-07-08T00:00:00",
          "2020-07-09T00:00:00",
          "2020-07-10T00:00:00",
          "2020-07-11T00:00:00",
          "2020-07-12T00:00:00",
          "2020-07-13T00:00:00",
          "2020-07-14T00:00:00",
          "2020-07-15T00:00:00",
          "2020-07-16T00:00:00",
          "2020-07-17T00:00:00",
          "2020-07-18T00:00:00",
          "2020-07-19T00:00:00",
          "2020-07-20T00:00:00",
          "2020-07-21T00:00:00",
          "2020-07-22T00:00:00",
          "2020-07-23T00:00:00",
          "2020-07-24T00:00:00",
          "2020-07-25T00:00:00",
          "2020-07-26T00:00:00",
          "2020-07-27T00:00:00",
          "2020-07-28T00:00:00",
          "2020-07-29T00:00:00",
          "2020-07-30T00:00:00",
          "2020-07-31T00:00:00",
          "2020-08-01T00:00:00",
          "2020-08-02T00:00:00",
          "2020-08-03T00:00:00",
          "2020-08-04T00:00:00",
          "2020-08-05T00:00:00",
          "2020-08-06T00:00:00",
          "2020-08-07T00:00:00",
          "2020-08-08T00:00:00",
          "2020-08-09T00:00:00",
          "2020-08-10T00:00:00",
          "2020-08-11T00:00:00",
          "2020-08-12T00:00:00",
          "2020-08-13T00:00:00",
          "2020-08-14T00:00:00",
          "2020-08-15T00:00:00",
          "2020-08-16T00:00:00",
          "2020-08-17T00:00:00",
          "2020-08-18T00:00:00",
          "2020-08-19T00:00:00",
          "2020-08-20T00:00:00",
          "2020-08-21T00:00:00",
          "2020-08-22T00:00:00",
          "2020-08-23T00:00:00",
          "2020-08-24T00:00:00",
          "2020-08-25T00:00:00",
          "2020-08-26T00:00:00",
          "2020-08-27T00:00:00",
          "2020-08-28T00:00:00",
          "2020-08-29T00:00:00",
          "2020-08-30T00:00:00",
          "2020-08-31T00:00:00",
          "2020-09-01T00:00:00"
         ],
         "z": [
          [
           -0.1413427561837456,
           0.11052631578947358,
           -0.28125,
           0.26436781609195403,
           -0.09999999999999998,
           -0.42756183745583043,
           -0.23188405797101452,
           1.4609929078014185,
           -0.517684887459807,
           -0.004544163589889183
          ],
          [
           -0.2304526748971193,
           0.1563981042654028,
           0.4608695652173913,
           0.4545454545454546,
           3.349206349206349,
           1.7283950617283952,
           -0.030548068283917318,
           -0.28242074927953886,
           0.08666666666666667,
           0.22054208273894438
          ],
          [
           0.18449197860962574,
           -0.23770491803278693,
           -0.023809523809523836,
           0.7,
           -0.4854014598540146,
           -0.23981900452488691,
           0.0583873957367933,
           0.26907630522088355,
           -0.2638036809815951,
           0.09093034128097233
          ],
          [
           -0.3656884875846501,
           0.048387096774193505,
           0.14939024390243905,
           0.12132352941176472,
           0.07801418439716312,
           -0.20238095238095233,
           -0.028021015761821366,
           -0.310126582278481,
           0.6083333333333334,
           -0.05613884722519824
          ],
          [
           0.10676156583629903,
           -0.02564102564102566,
           -0.48806366047745353,
           0.08852459016393444,
           -0.5460526315789473,
           0.003731343283582156,
           -0.05135135135135138,
           0.03669724770642202,
           -0.18134715025906734,
           -0.36231555051078324
          ],
          [
           0.012861736334405238,
           0.2315789473684211,
           0.30569948186528495,
           -0.2349397590361446,
           0.01449275362318847,
           2.7806691449814127,
           -0.24596391263057926,
           -0.22123893805309736,
           0.1708860759493671,
           -0.14489142043431824
          ],
          [
           1.0634920634920637,
           0.18803418803418803,
           -0.2936507936507936,
           -0.12992125984251968,
           0.08571428571428563,
           -0.7069813176007866,
           -0.046599496221662484,
           -0.022727272727272707,
           -0.21081081081081077,
           0.10574521232306422
          ],
          [
           -0.39538461538461533,
           -0.1834532374100719,
           0.5730337078651686,
           0.28959276018099556,
           0.07894736842105265,
           -0.24496644295302017,
           -0.08718626155878473,
           0.2383720930232558,
           0.006849315068493178,
           -0.25150602409638556
          ],
          [
           -0.7124681933842238,
           -0.44052863436123346,
           -0.8,
           -0.6912280701754385,
           -0.6951219512195121,
           -0.6311111111111112,
           -0.6497829232995658,
           -0.7793427230046949,
           -0.6258503401360545,
           -0.630281690140845
          ],
          [
           1.2212389380530975,
           0.6456692913385826,
           0.9285714285714286,
           1.4545454545454546,
           0.8799999999999999,
           0.7590361445783131,
           1.731404958677686,
           3.4893617021276597,
           1.5636363636363635,
           0.6421768707482993
          ],
          [
           0.45019920318725104,
           0.37799043062200965,
           0.6203703703703705,
           0.27314814814814814,
           2.3617021276595747,
           1.0547945205479454,
           0.37821482602117995,
           0.06635071090047395,
           1.5390070921985815,
           0.3272576636288318
          ],
          [
           0.6263736263736264,
           -0.29166666666666663,
           0.44571428571428573,
           -0.036363636363636376,
           -0.3987341772151899,
           -0.06000000000000005,
           -0.15587266739846328,
           -0.22666666666666668,
           -0.270949720670391,
           0.2921348314606742
          ],
          [
           -0.41554054054054057,
           0.24019607843137258,
           -0.24505928853754944,
           0.29433962264150937,
           -0.17894736842105263,
           -0.25531914893617025,
           -0.12743823146944078,
           -0.06896551724137934,
           -0.4022988505747126,
           -0.22512077294685995
          ],
          [
           -0.24566473988439308,
           -0.3517786561264822,
           -0.24083769633507857,
           -0.5160349854227405,
           0.0641025641025641,
           0.10952380952380958,
           -0.20864381520119224,
           -0.19753086419753085,
           -0.27564102564102566,
           -0.05112219451371569
          ],
          [
           -0.03065134099616862,
           0.2621951219512195,
           -0.5310344827586206,
           0.47590361445783125,
           0.024096385542168752,
           -0.0042918454935622075,
           0.0847457627118644,
           -0.05384615384615388,
           0.31858407079646023,
           -0.14520367936925094
          ],
          [
           -0.09486166007905139,
           -0.04347826086956519,
           0.11764705882352944,
           -0.21224489795918366,
           0.08235294117647052,
           -0.24137931034482762,
           0.015625,
           -0.2845528455284553,
           -0.0738255033557047,
           -0.015372790161414351
          ],
          [
           0.06986899563318771,
           1.6111111111111112,
           0.9736842105263157,
           0.17098445595854916,
           -0.17391304347826086,
           0.8636363636363635,
           -0.19487179487179485,
           0.6590909090909092,
           0.15217391304347827,
           0.09914129586260745
          ],
          [
           0.2489795918367348,
           -0.495164410058027,
           -0.033333333333333326,
           -0.21238938053097345,
           0.14473684210526305,
           -0.3292682926829268,
           -0.16560509554140124,
           -0.17808219178082196,
           -0.05660377358490565,
           -0.2897727272727273
          ],
          [
           -0.35620915032679734,
           -0.04980842911877392,
           -0.22758620689655173,
           -0.1460674157303371,
           1.1724137931034484,
           -0.1636363636363637,
           0.1119592875318065,
           0.008333333333333304,
           0.22666666666666657,
           0.14500000000000002
          ],
          [
           0.1624365482233503,
           -0.3266129032258065,
           -0.0535714285714286,
           -0.24342105263157898,
           0.26984126984126977,
           -0.05978260869565222,
           0.49885583524027455,
           0.03305785123966931,
           0.20108695652173902,
           -0.019213973799126594
          ],
          [
           -0.13973799126637554,
           -0.07784431137724546,
           0.679245283018868,
           1.0521739130434784,
           -0.6541666666666667,
           -0.05780346820809246,
           -0.2137404580152672,
           1.3439999999999999,
           -0.49321266968325794,
           -0.011576135351736405
          ],
          [
           -0.09137055837563457,
           0.2727272727272727,
           -0.5280898876404494,
           -0.05508474576271183,
           0.12048192771084332,
           0.08588957055214719,
           -0.2524271844660194,
           -0.552901023890785,
           0.2767857142857142,
           -0.1216216216216216
          ],
          [
           0.3128491620111731,
           -0.1785714285714286,
           0.023809523809523725,
           0.452914798206278,
           -0.4838709677419355,
           0.2655367231638419,
           0.19220779220779227,
           0.03816793893129766,
           -0.26573426573426573,
           -0.08512820512820518
          ],
          [
           -0.11063829787234047,
           0.08695652173913038,
           0.13953488372093026,
           -0.38888888888888884,
           -0.33333333333333337,
           -0.3616071428571429,
           -0.2984749455337691,
           -0.34558823529411764,
           -0.4571428571428572,
           -0.24103139013452912
          ],
          [
           -0.052631578947368474,
           -0.26857142857142857,
           0.1020408163265305,
           0.16666666666666674,
           1.3125,
           -0.3076923076923077,
           -0.08695652173913049,
           0.2359550561797752,
           1.0175438596491229,
           0.028064992614475592
          ],
          [
           -0.23232323232323238,
           -0.2421875,
           -0.05555555555555558,
           -0.4285714285714286,
           -0.20270270270270274,
           0.7575757575757576,
           0.16326530612244894,
           0,
           -0.17391304347826086,
           0.13074712643678166
          ],
          [
           0.19736842105263164,
           0.15463917525773185,
           -0.10784313725490191,
           0.5303030303030303,
           -0.22033898305084743,
           0.12643678160919536,
           0.39766081871345027,
           -0.027272727272727226,
           0.6631578947368422,
           0.007623888182973326
          ],
          [
           -0.24725274725274726,
           0.4107142857142858,
           -0.09890109890109888,
           -0.37623762376237624,
           0.15217391304347827,
           -0.22959183673469385,
           -0.2468619246861925,
           0.39252336448598135,
           -0.47468354430379744,
           -0.19167717528373263
          ],
          [
           0.17609162491052244,
           0.0980132450331126,
           -0.053772766695576735,
           0.0910596026490067,
           -0.2102272727272727,
           -0.027607361963190136,
           0.060559796437658964,
           0.18947368421052624,
           0.365953947368421,
           -0.04188034188034184
          ],
          [
           -0.18259281801582472,
           -0.18335343787696023,
           -0.1750687442713107,
           0.3474962063732929,
           0.02517985611510798,
           -0.09069400630914826,
           -0.05518234165067182,
           -0.052212389380530966,
           0.0066225165562914245,
           -0.16324710080285454
          ],
          [
           0.02903946388682055,
           0.07976366322008865,
           -0.053333333333333344,
           -0.12725225225225223,
           0.05263157894736836,
           0.007805724197744945,
           -0.07414931437277805,
           0.03548085901027087,
           -0.04126794258373201,
           -0.07036247334754797
          ],
          [
           -0.16642547033285093,
           0.21819425444596452,
           0.2417840375586855,
           -0.2154838709677419,
           -0.12,
           0.024096385542168752,
           0.07350521119034559,
           -0.07303877366997291,
           -0.0954460386774797,
           -0.010321100917431214
          ],
          [
           -0.01736111111111116,
           -0.24199887703537337,
           -0.032136105860113395,
           0.04276315789473695,
           0.34090909090909083,
           0.21260504201680663,
           -0.1543178334184977,
           0.2616731517509727,
           0.06896551724137923,
           0.13209733487833142
          ],
          [
           0.04946996466431086,
           -0.10592592592592598,
           -0.2294921875,
           -0.13564668769716093,
           -0.307909604519774,
           -0.25987525987525983,
           0.1516616314199395,
           -0.27062451811873556,
           0.7787096774193549,
           -0.03480040941658136
          ],
          [
           0.09090909090909083,
           0.43993371996686004,
           0.16476552598225602,
           0.14233576642335777,
           0.01632653061224487,
           0.04119850187265928,
           0.03725078698845752,
           -0.014799154334038,
           -0.24700761697497275,
           0.07529162248144217
          ],
          [
           0.04166666666666674,
           0.07594936708860756,
           -0.11534276387377584,
           0.23961661341853024,
           0.36546184738955834,
           -0.014388489208633115,
           0.02124430955993928,
           -0.0740343347639485,
           -0.2755298651252408,
           0.17159763313609466
          ],
          [
           0.014814814814814836,
           0.07112299465240635,
           0.0036900369003689537,
           0,
           -0.09705882352941175,
           0.07755474452554734,
           -0.15948489351163941,
           0.03476245654692933,
           -0.16755319148936165,
           -0.09343434343434343
          ],
          [
           -0.05693430656934306,
           -0.1562656015976036,
           0.09068627450980382,
           -0.010309278350515427,
           0.43973941368078173,
           0.126164267569856,
           0.09781968179139655,
           0.14109742441209416,
           0.18370607028753994,
           -0.09749303621169914
          ],
          [
           0.29179566563467496,
           -0.014201183431952646,
           -0.022471910112359605,
           -0.21875,
           0.4411764705882353,
           -0.0714285714285714,
           0.008051529790660261,
           0.09813542688910704,
           0.014844804318488558,
           -0.048353909465020606
          ],
          [
           0.005991611743559,
           0.21068427370948384,
           -0.10689655172413792,
           0.1416666666666666,
           -0.4364207221350078,
           0.08259109311740898,
           0.03088391906283272,
           -0.022341376228775744,
           -0.14627659574468088,
           0.15567567567567564
          ],
          [
           -0.030970815961882114,
           -0.1036192364898364,
           0.03474903474903468,
           0.13722627737226278,
           0.0473537604456824,
           -0.011219147344801783,
           0.017045454545454586,
           0.003656307129798808,
           -0.2009345794392523,
           0.016838166510757757
          ],
          [
           -0.017209588199139536,
           0.14988938053097356,
           -0.03731343283582089,
           -0.0012836970474967568,
           -0.013297872340425565,
           -0.06959152798789714,
           -0.007110208227526615,
           -0.04644808743169404,
           0.13060428849902528,
           -0.20607175712971482
          ],
          [
           -0.04065040650406504,
           0.026936026936027035,
           -0.14341085271317833,
           0.13367609254498714,
           -0.0835579514824798,
           0.07804878048780495,
           -0.02352941176470591,
           0.2340019102196753,
           0.050000000000000044,
           0.13209733487833142
          ],
          [
           -0.01629726205997395,
           -0.2177985948477752,
           0.08295625942684759,
           -0.1167800453514739,
           0.32647058823529407,
           -0.05505279034690802,
           0.013095861707700385,
           -0.1965944272445821,
           0.18719211822660098,
           0.15967246673490276
          ],
          [
           -0.010603048376408242,
           0.39700598802395204,
           0.14623955431754876,
           -0.16302952503209245,
           -0.039911308203991136,
           -0.1165203511572227,
           -0.0765253360910031,
           0.15895953757225434,
           0.052558782849239316,
           -0.12180052956751986
          ],
          [
           -0.17682518419290016,
           -0.1401628804114874,
           0.12879708383961108,
           0.15644171779141103,
           -0.04387990762124716,
           -0.009936766034327027,
           0.0907054871220605,
           -0.1363258520365752,
           0.03942181340341655,
           -0.24321608040201004
          ],
          [
           0.06997558991049635,
           -0.03738783649052846,
           0.09149623250807326,
           -0.01591511936339518,
           -0.007246376811594235,
           0.1286496350364963,
           0.03542094455852163,
           -0.012512030798844997,
           -0.05246523388116309,
           0.031872509960159334
          ],
          [
           0.0714828897338402,
           -0.11496633868461936,
           -0.26725838264299806,
           0.025606469002695365,
           0.09245742092457432,
           0.047696038803556995,
           0.03321764997521082,
           -0.15204678362573099,
           0.09739826551034025,
           0.25482625482625476
          ],
          [
           0.0581973030518097,
           -0.10766530134581631,
           0.044414535666218,
           -0.059132720105124825,
           0.40089086859688194,
           -0.1157407407407407,
           0.03214971209213058,
           0.04597701149425282,
           -0.027355623100303927,
           0.00512820512820511
          ],
          [
           -0.059691482226693515,
           0.1331147540983606,
           -0.10695876288659789,
           0.2905027932960893,
           -0.03338632750397452,
           0.002617801047120505,
           -0.08972570897257093,
           -0.038461538461538436,
           -0.10312500000000002,
           0.04795918367346941
          ],
          [
           -0.02924393723252494,
           -0.00868055555555558,
           0.16305916305916313,
           -0.04978354978354982,
           0.05098684210526305,
           -0.036553524804177506,
           0.05720122574055164,
           -0.013714285714285679,
           0.08571428571428563,
           -0.19279454722492695
          ],
          [
           -0.0529022777369581,
           -0.08231173380035028,
           0.04590570719602982,
           -0.21526195899772205,
           -0.3505477308294209,
           0.39656729900632337,
           -0.1681159420289855,
           0,
           0.11168164313222073,
           -0.04463208685162845
          ],
          [
           0.07059736229635383,
           0.09987277353689561,
           0.07829181494661919,
           0.11611030478954998,
           -0.04578313253012045,
           -0.25097024579560157,
           0.12137049941927991,
           0.09849362688296637,
           -0.2840646651270208,
           0.18308080808080818
          ],
          [
           -0.08333333333333337,
           -0.23076923076923073,
           0.13531353135313529,
           -0.17425227568270485,
           0.2752525252525253,
           0.15457685664939547,
           -0.022268254790264064,
           -0.022151898734177222,
           0.05241935483870974,
           -0.08751334044823911
          ],
          [
           0.13913043478260878,
           0.21127819548872173,
           -0.04457364341085268,
           0.21732283464566926,
           -0.19207920792079203,
           0.05011219147344792,
           -0.05455508474576276,
           -0.133764832793959,
           -0.019157088122605415,
           0.08538011695906422
          ],
          [
           0.49271339347675225,
           0.7374301675977655,
           0.25152129817444213,
           0.32341526520051755,
           0.42647058823529416,
           0.30270655270655267,
           0.4627450980392156,
           0.7173100871731009,
           0.659375,
           0.2144396551724137
          ],
          [
           0.2217573221757323,
           -0.05037513397642013,
           -0.00972447325769854,
           0.2590420332355816,
           0.6065292096219932,
           0.03717878622197923,
           0.13481424741478354,
           0.3270485859318346,
           0.25564971751412435,
           0.0452528837622006
          ],
          [
           0.11149162861491635,
           -0.06884875846501126,
           0.3543371522094927,
           -0.09161490683229812,
           0.3593582887700535,
           0.10279388508170806,
           0.17178535268309147,
           0.19781420765027313,
           -0.12898387701537306,
           0.12903225806451624
          ],
          [
           -0.2721670660732626,
           -0.037979797979798,
           0.14320241691842894,
           -0.1264957264957265,
           -0.09992132179386315,
           0.03680688336520066,
           -0.0267857142857143,
           -0.20164233576642332,
           0.185105467068446,
           -0.03082706766917298
          ],
          [
           0.0305738476011288,
           0.12263754724905507,
           -0.05708245243128962,
           -0.09686888454011744,
           -0.18706293706293708,
           -0.024896265560165998,
           0.02130807931340639,
           0.0040000000000000036,
           -0.08209226298583361,
           -0.028704422032583388
          ],
          [
           -0.026928343222272888,
           -0.12570145903479235,
           -0.1434977578475336,
           0.1354279523293609,
           -0.14193548387096777,
           -0.09503546099290783,
           -0.060272384815995395,
           -0.022196926579396647,
           0.05738029283735657,
           0.08626198083067083
          ],
          [
           -0.09615384615384615,
           0.3311938382541719,
           -0.10143979057591623,
           0.30916030534351147,
           0.3972431077694236,
           -0.08359456635318707,
           -0.1091581868640148,
           -0.12805587892898718,
           -0.08121257485029942,
           -0.10514705882352937
          ],
          [
           0.04878048780487809,
           -0.20218579234972678,
           0.04879825200291332,
           0.2208454810495626,
           -0.045739910313901344,
           -0.04503990877993158,
           0.15784008307372788,
           -0.1295060080106809,
           -0.09368635437881878,
           0.20295809367296624
          ],
          [
           0.46214745175655625,
           0.12570507655116847,
           -0.32638888888888884,
           -0.23880597014925375,
           -0.14661654135338342,
           -0.032238805970149276,
           0.23437967115097158,
           0.25920245398773,
           -0.13573033707865167,
           -0.08811475409836067
          ],
          [
           -0.255160744500846,
           -0.015748031496062964,
           0.10618556701030935,
           0.09333333333333327,
           0.018722466960352513,
           0.08204811844540405,
           -0.10535238556551219,
           -0.029841656516443327,
           -0.19916796671866877,
           0.19625468164794002
          ],
          [
           -0.06315311222171738,
           0.05127272727272736,
           0.055917986952469745,
           -0.2195121951219512,
           0.17837837837837833,
           0.08437856328392246,
           -0.05143475906876016,
           0.2366603892027621,
           0.049350649350649256,
           -0.13337507827175954
          ],
          [
           0.22987390882638215,
           -0.02352127291594608,
           0.21359223300970864,
           -0.08915441176470584,
           -0.02477064220183489,
           -0.060988433228180816,
           -0.1840753424657534,
           -0.18629441624365484,
           0.14975247524752477,
           -0.020231213872832332
          ],
          [
           -0.19518927444794953,
           0.4576691462982643,
           0.06472727272727274,
           0.09182643794147327,
           -0.1561618062088429,
           0.3029115341545352,
           0.027981811822315406,
           0.09107922645040545,
           0.06727664155005386,
           0.16740412979351027
          ],
          [
           -0.06908378245957869,
           -0.3098420413122722,
           -0.23155737704918034,
           0.08964879852125685,
           -0.09476031215161651,
           -0.28276751181779114,
           0.5005103776794828,
           -0.35391652372784443,
           0.708522440746344,
           0.7220467466835123
          ],
          [
           -0.05105263157894735,
           -0.24190140845070418,
           0.01244444444444448,
           0.3944020356234097,
           -0.06280788177339902,
           -0.1270221689634512,
           0.6950113378684808,
           -0.26725663716814163,
           0.18270365997638716,
           0.702494497432135
          ],
          [
           0.09206877426511362,
           0.33302368787738046,
           0.9288849868305531,
           -0.3126520681265207,
           1.407358738501971,
           0.5332875772134522,
           -0.5408695652173914,
           0.020531400966183666,
           -0.6298976790616422,
           -0.726567550096962
          ],
          [
           -0.08786185881157949,
           -0.41916376306620207,
           -0.42603550295857984,
           0.04159292035398221,
           -0.6774017467248908,
           0.034467323187108434,
           0.16229603729603737,
           -0.0650887573964497,
           -0.24409979770735002,
           -0.07092198581560283
          ],
          [
           -0.10022271714922049,
           0.13437312537492496,
           -0.13243457573354478,
           -0.13169073916737473,
           0.17258883248730972,
           -0.34876676763305925,
           -0.15793431937829028,
           0.04177215189873418,
           0.15611061552185546,
           0.12468193384223913
          ],
          [
           0.2537128712871286,
           0.02115282919090422,
           0.01188299817184646,
           -0.007827788649706457,
           -0.005772005772005762,
           0.07176079734219276,
           -0.031259303364096436,
           0.018226002430133725,
           -0.3109567901234568,
           0.2880844645550529
          ],
          [
           0.23642645607107604,
           -0.1538063179699638,
           -0.22583559168925027,
           -0.383629191321499,
           -0.33817126269956455,
           -0.333539987600744,
           -0.37768899815611556,
           -0.29116945107398573,
           -0.477043673012318,
           -0.5040983606557377
          ],
          [
           -0.23672654690618766,
           0.11444308445532436,
           0.6347724620770128,
           0.32319999999999993,
           2.495614035087719,
           3.0967441860465117,
           0.6869135802469135,
           0.4191919191919191,
           1.507494646680942,
           -0.038961038961038974
          ],
          [
           -0.005753138075313857,
           -0.17572762218561233,
           -0.11634546752319774,
           0.071342200725514,
           -0.11982434127979924,
           0.21003633060853777,
           0.11621779859484782,
           0.11981020166073542,
           0.12297181895815545,
           -0.033169533169533194
          ],
          [
           0.14466070489216198,
           0.2158560959360427,
           -0.16478190630048462,
           -0.08803611738148986,
           -0.22166785459729155,
           -0.1893413398386189,
           0.061631261473904964,
           0.22457627118644075,
           0.02889733840304176,
           0.006353240152477735
          ],
          [
           0.4246323529411764,
           -0.07397260273972606,
           0.026112185686653744,
           -0.07549504950495045,
           -0.2655677655677655,
           -0.05138888888888893,
           -0.12203557312252966,
           0.1487889273356402,
           -0.0679970436067997,
           0.1464646464646464
          ],
          [
           -0.2229032258064516,
           -0.004733727810650845,
           0.16965127238454292,
           0.07228915662650603,
           0.3216957605985038,
           0.0502684236212787,
           -0.04192459200900389,
           -0.14231927710843373,
           -0.2355273592386995,
           -0.05726872246696035
          ],
          [
           0.11664591116645906,
           -0.12722948870392392,
           -0.11200644641418211,
           0.04494382022471921,
           0.1584905660377358,
           -0.008828996282527868,
           -0.14214390602055804,
           0.0035118525021948788,
           0.29460580912863077,
           -0.04322429906542058
          ],
          [
           0.057992565055762,
           0.12193460490463215,
           0.03539019963702361,
           -0.13022700119474317,
           0.14902280130293155,
           0.11157993436474456,
           0.019171516603902816,
           0.3980752405949257,
           1.0657051282051282,
           0.05860805860805862
          ],
          [
           0.057273366127898795,
           0.004250151791135304,
           0.7125328659070991,
           -0.11675824175824179,
           0.041814316087881,
           -0.027203711514129036,
           0.14645616392341276,
           0.0563204005006257,
           0.18851823118696664,
           0.2399077277970012
          ],
          [
           -0.03788634097706878,
           0.13361547762998782,
           0.004605936540429845,
           0.04043545878693622,
           0.10612244897959178,
           0.15846520702362898,
           0.016407852329328954,
           -0.20793838862559244,
           -0.3182114882506527,
           0.22883720930232565
          ],
          [
           -0.14024179620034538,
           -0.014933333333333354,
           -0.45491594498217014,
           -0.03736920777279518,
           0.22078720787207873,
           -0.1107784431137725,
           0.17007783222830786,
           -0.07928197456993269,
           -0.5189085686931546,
           0.651778955336866
          ],
          [
           0.10968260345520298,
           0.16783974011911207,
           0.174766355140187,
           2.703416149068323,
           0.27506297229219134,
           0.014730639730639705,
           0.26533628972653367,
           0.7936636880584891,
           1.0825870646766167,
           -0.23510540788267642
          ],
          [
           0.19695872556118754,
           -0.018544274455261966,
           0.09307875894988071,
           0.13542976939203344,
           -0.17107862504938764,
           -0.13894649523019498,
           -0.19665109034267914,
           -0.2934782608695652,
           -0.07071189679885337,
           -0.3175554224086279
          ],
          [
           -0.046884452510586816,
           -0.20500708549834668,
           0.024017467248908186,
           0.048744460856720906,
           0.3956148713060057,
           -0.012764932562620457,
           0.03829374697043142,
           0.09487179487179498,
           0.12030848329048838,
           0.35469710272168564
          ],
          [
           -0.07013646461440814,
           -0.20320855614973266,
           -0.16346837242359635,
           -0.14718309859154932,
           -0.09289617486338797,
           0.11783361795559899,
           -0.03127917833800187,
           -0.032786885245901676,
           0.09637448370812307,
           -0.2650680492546986
          ],
          [
           0.03890784982935158,
           -0.05965697240865031,
           0.401019541206457,
           -0.09867877786952928,
           0.22289156626506035,
           0.04321257092972508,
           -0.04168674698795183,
           -0.24394673123486688,
           0.1142737547090833,
           0.10846560846560838
          ],
          [
           0.01741130091984222,
           0.05233941316415547,
           -0.3117040630685264,
           -0.19193770041227665,
           0.5714285714285714,
           -0.19832635983263602,
           -0.0037716872014080804,
           -0.2089671737389912,
           0.5616078136739293,
           -0.11296738265712014
          ],
          [
           -0.1033257991604779,
           0.3489073097211757,
           0.07400881057268727,
           -0.1167800453514739,
           -0.619514106583072,
           0.09342379958246338,
           0.5996971226653205,
           -0.22874493927125505,
           0.621602116911234,
           -0.12645739910313902
          ],
          [
           0.1876125315088224,
           0.06871508379888258,
           -0.03937653814602138,
           0.08664955070603342,
           -0.2183316168898043,
           0.2085918854415274,
           -0.4147996213316504,
           0.7611548556430445,
           -0.527369826435247,
           0.12628336755646807
          ],
          [
           -0.022134627046695,
           -0.03188708834291687,
           0,
           0.18665091553455415,
           0.46310935441370216,
           -0.05410742496050558,
           0.12132650310056614,
           0.139344262295082,
           0.01349654739485251,
           -0.021877848678213296
          ],
          [
           0.30852713178294566,
           0.011339092872570289,
           0.19214346712211783,
           -0.006470881035340992,
           0.264745610085547,
           0.035490605427974886,
           0.008655926905506206,
           0.25245258338783527,
           -0.1068442242180242,
           0.16775396085740923
          ],
          [
           -0.09218009478672984,
           -0.08542445274959953,
           0.19484240687679089,
           -0.14779559118236474,
           0.18511925952296182,
           0.01774193548387104,
           0.11871275327771147,
           0.002088772845953102,
           0.21220527045769755,
           0.05426975259377498
          ],
          [
           0.14800313234142526,
           0.31173380035026277,
           0.2589928057553956,
           -0.003527336860670194,
           -0.31571042355061585,
           0.38807448494453256,
           -0.21436181546984867,
           -0.11360083376758734,
           0.08810068649885583,
           -0.10522331566994703
          ],
          [
           -0.03387903592542063,
           -0.0809968847352025,
           -0.25571428571428567,
           0.15575221238938064,
           0.08955223880597019,
           -0.17710860568003428,
           0.22484404665039337,
           -0.07407407407407407,
           -0.16745531019978965,
           0.20050761421319807
          ],
          [
           0.07248764415156517,
           0.1694915254237288,
           -0.24056301983365325,
           0.16079632465543647,
           0.20547945205479445,
           -0.025841137703780825,
           -0.004428697962798989,
           -0.09333333333333338,
           0.06251973476476169,
           -0.01127554615926707
          ],
          [
           -0.16282642089093702,
           -0.2795031055900621,
           0.11457455770850888,
           0.40721196130167114,
           0.28308823529411775,
           -0.1020117500445078,
           -0.10765124555160144,
           -0.20868347338935578,
           -0.40713224368499257,
           -0.23663578047042055
          ],
          [
           -0.2104849279161206,
           -0.09885057471264369,
           -0.08616780045351469,
           -0.15749999999999997,
           -0.38160979421724406,
           0.2182791435368754,
           0.02716849451645076,
           0.3309734513274336,
           -0.10576441102756895,
           0.5994397759103642
          ],
          [
           0.2798804780876494,
           0.11543367346938771,
           0.10587262200165437,
           -0.12314540059347179,
           -0.10699241786015168,
           0.04117168429617579,
           0.1948556175685514,
           0.17154255319148937,
           0.09977578475336313,
           -0.23642732049036774
          ],
          [
           0.10272373540856039,
           0.13379073756432236,
           0.38294689603590126,
           -0.05668358714043997,
           0.21556603773584904,
           -0.10440762738355736,
           -0.010763606823720573,
           -0.040295119182746864,
           0.15392456676860355,
           -0.0718654434250765
          ],
          [
           -0.15219948247471182,
           0.2571860816944025,
           -0.01730665224445649,
           0.024663677130044803,
           0.08498253783469156,
           -0.1083769633507854,
           -0.07575446520221718,
           -0.24600827912477818,
           0.045053003533569,
           0.2652388797364085
          ],
          [
           -0.17369589345172032,
           -0.2751704773365423,
           -0.36268574573472756,
           0.1277899343544857,
           0.0311158798283262,
           -0.14660403210021533,
           -0.2134606841403821,
           -0.06509803921568624,
           0.3393913778529163,
           0.177734375
          ],
          [
           0.017125587642713214,
           0.257332595462092,
           -0.113126079447323,
           -0.15754753589445092,
           -0.2091571279916753,
           -0.09380733944954134,
           0.24908218017509176,
           0.005872483221476488,
           -0.3284947933101925,
           -0.03095632946379212
          ],
          [
           0.41928029052492577,
           0.1483274647887325,
           0.24148003894839332,
           -0.20589590050667894,
           -0.04210526315789476,
           0.22424702606934943,
           -0.08862762830657922,
           0.2835696413678066,
           0.41165413533834583,
           0.16942384483742146
          ],
          [
           -0.1332868108862526,
           0.08202376389421229,
           1.0054901960784313,
           0.09338747099767986,
           0.06043956043956045,
           0.4608228240645027,
           -0.08806747705284046,
           0.04028589993502285,
           0.048601864181091914,
           -0.12634146341463415
          ],
          [
           0.10601180891035966,
           -0.03719447396386821,
           -0.22252639812280017,
           -0.011140583554376637,
           0.21848013816925738,
           -0.18426266628927257,
           0.011425462459194735,
           0.24047470331043108,
           -0.061587301587301635,
           -0.1306532663316583
          ],
          [
           -0.09949041494782818,
           -0.0934510669610007,
           -0.20171026156941652,
           0.17381974248927046,
           -0.12827781715095676,
           -0.03209576682859128,
           0.20710059171597628,
           -0.17220543806646527,
           -0.07543978349120428,
           -0.17212588310854204
          ],
          [
           -0.16248989490703314,
           -0.10876623376623373,
           -0.17517328292375556,
           -0.06992687385740404,
           -0.06910569105691056,
           0.005198064169205985,
           -0.14081996434937616,
           -0.06326034063260344,
           -0.19063300402488104,
           0.05430566330488751
          ],
          [
           0.03571428571428581,
           0.031876138433515555,
           -0.16806722689075626,
           -0.01523341523341526,
           0.03580786026200866,
           -0.1273181169757489,
           -0.15274896265560167,
           0,
           -0.05289330922242319,
           0.008830022075055233
          ],
          [
           0.0860515688101895,
           0.10414827890556055,
           0.3112947658402203,
           -0.06387225548902198,
           0.15809443507588528,
           -0.023906824683285643,
           0.0756045301499848,
           0.018181818181818077,
           0.28066825775656334,
           0.003646973012399801
          ],
          [
           -0.1069794050343249,
           0.15227817745803351,
           0.2724089635854341,
           0.002132196162046851,
           -0.11649071714597747,
           0.17353987858488584,
           -0.016220830961866772,
           -0.06313775510204078,
           0.14424152068579943,
           0.0879360465116279
          ],
          [
           -0.03267136450992958,
           -0.0350329517863337,
           -0.02421574023115025,
           0.12127659574468086,
           0.39513803049031737,
           0.10203353549768113,
           0.13132774081573628,
           0.17154526889040156,
           -0.10162866449511399,
           -0.10287241148964599
          ],
          [
           -0.13245033112582782,
           -0.287922358015816,
           0.08121827411167515,
           -0.19117647058823528,
           -0.08889545186060244,
           0.050501780511492456,
           0.1424188187164408,
           -0.15630447414294013,
           0.18527918781725883,
           -0.2010424422933731
          ],
          [
           0.4095419847328243,
           0.16052498738011112,
           -0.17683881064162754,
           0.44633431085043984,
           0.06353322528363048,
           0.006317411402157136,
           -0.06423455684870183,
           0.8236914600550964,
           0.3472009788926278,
           0.08760484622553588
          ],
          [
           -0.0362848632548064,
           0.272292301000435,
           0.03612167300380231,
           -0.19667477696674773,
           -0.13745809204510817,
           -0.16659010871229518,
           -0.1375269074384119,
           -0.23489425981873113,
           -0.15440508628519523,
           0.07969151670951158
          ],
          [
           -0.14329867940432706,
           -0.17299145299145302,
           -0.20550458715596331,
           -0.21756688541140834,
           0.029681978798586472,
           -0.02663972074223775,
           0.055185801442040994,
           0.12931885488647588,
           -0.2602040816326531,
           0.11269841269841274
          ],
          [
           -0.09740898655296815,
           0.03596527490698631,
           0.0007698229407235857,
           0.10193548387096785,
           -0.03706245710363765,
           -0.07361268403171006,
           -0.13771353482260185,
           -0.25087412587412583,
           0.26243194192377506,
           0.040656205420827485
          ],
          [
           -0.11046511627906974,
           -0.12051077414205902,
           -0.0823076923076923,
           -0.041569086651053855,
           -0.16821097647897365,
           0.02526487367563157,
           0.01615361170374885,
           -0.16744457409568259,
           -0.2300172512938471,
           0.039753255654557895
          ],
          [
           0.21977124183006547,
           -0.12658802177858441,
           0.20117351215423307,
           0.14172266340867434,
           -0.046272493573264795,
           0.09022257551669322,
           0.09718056388722252,
           0.16187806587245968,
           0.16691560866318156,
           0.14436387607119316
          ],
          [
           -0.26289350301406567,
           0.07636363636363641,
           -0.0983949755757153,
           -0.11289459604066343,
           0.6868823000898472,
           0.006926722566533039,
           0.06260251503553849,
           -0.16887816646562126,
           -0.009279999999999955,
           -0.03686635944700456
          ],
          [
           0.1967287596547025,
           0.1462355212355213,
           0.0007739938080495445,
           0.05006031363088059,
           -0.4567243675099867,
           0.07440260680666189,
           -0.11602778492410604,
           0.12336719883889691,
           -0.06621447028423777,
           -0.159688995215311
          ],
          [
           -0.002277904328018221,
           0.03200000000000003,
           -0.07347254447022433,
           0.008041355542791395,
           0.22352941176470598,
           -0.05054759898904804,
           -0.04743888242142025,
           -0.21705426356589153,
           -0.22587340020754065,
           -0.016370106761565806
          ],
          [
           -0.10920852359208522,
           0.05263157894736836,
           -0.1869782971619366,
           -0.07350427350427347,
           -0.13341346153846156,
           -0.16858917480035496,
           0.0727161625420103,
           0.47029702970297027,
           -0.07059874888293116,
           0.10419681620839372
          ],
          [
           0.036309269542930345,
           -0.011627906976744207,
           -0.01848049281314168,
           0.04674046740467408,
           -0.21405455386037908,
           0.1013874066168623,
           0.04329250925662209,
           -0.2485970819304153,
           -0.018750000000000044,
           -0.07404980340760159
          ],
          [
           0.1434460016488046,
           -0.2043137254901961,
           0.24163179916318,
           -0.18566392479435956,
           -0.0641176470588235,
           0.17829457364341095,
           0.12667212667212668,
           -0.050037341299477234,
           0.08525232729054388,
           0.08987968860580331
          ],
          [
           -0.38067772170151404,
           0.11582060128141936,
           0.05812973883740513,
           0.038239538239538184,
           0.07982401005656814,
           0.049013157894736814,
           -0.01865762054761333,
           -0.14386792452830188,
           0.38826185101580135,
           -0.21623376623376622
          ],
          [
           0.023864959254947582,
           -0.12367491166077738,
           -0.05015923566878977,
           -0.04656011118832526,
           0.9668218859138533,
           -0.09266227657572912,
           -0.16740740740740745,
           0.18732782369145995,
           -0.08747967479674801,
           0.06296603148301583
          ],
          [
           -0.030130756111426904,
           0.21118951612903225,
           0.14165968147527241,
           0.18586005830903796,
           -0.03137022787807042,
           -0.10575427682737171,
           0.35172004744958474,
           0,
           0.08945117605131858,
           0.26812159002338265
          ],
          [
           0.26143024618991784,
           -0.19309196837286724,
           -0.08223201174743022,
           0.35771358328211433,
           -0.30278032386190035,
           0.2546859903381642,
           -0.03510311540149191,
           0.22583139984532097,
           -0.21066404972194963,
           0.011063306699446773
          ],
          [
           0.024163568773234223,
           -0.0072202166064981865,
           -0.11919999999999997,
           -0.2738795835219556,
           -0.23882559158632777,
           -0.1538580009240721,
           -0.13187812642110053,
           0.4157728706624606,
           0.5010360547036883,
           0.07112462006079023
          ],
          [
           -0.027676950998185124,
           0.13922077922077913,
           0.12988192552225253,
           0.5891521197007481,
           -0.10938399539435806,
           0.01183108846013825,
           0.34599266631744374,
           -0.24688057040998213,
           -0.3221976808393153,
           -0.15380249716231553
          ],
          [
           -0.12085860942603821,
           0.18878248974008205,
           0.03938906752411575,
           -0.22832483326794817,
           0.029734970911441394,
           0.10109731966180968,
           -0.2714535901926445,
           0.023076923076922995,
           0.21099796334012222,
           -0.12139503688799469
          ],
          [
           0.035562632696390706,
           0.015726889144610734,
           0.01314771848414531,
           -0.1037112353838332,
           0.010043942247332183,
           0.1455644502532265,
           -0.018429487179487225,
           0.11972238288027759,
           0.11032626976118398,
           0.025954198473282508
          ],
          [
           0.03946694003075346,
           -0.0536253776435045,
           0.23816793893129762,
           0.07033465683494033,
           0.1895587321317589,
           -0.12649743297204796,
           0.20136054421768712,
           -0.045454545454545414,
           -0.1726749469857619,
           -0.17336309523809523
          ],
          [
           -0.06854043392504927,
           -0.23423782920989622,
           -0.11220715166461159,
           -0.17488076311605727,
           0.5653082549634274,
           -0.12832653061224486,
           -0.0906002265005662,
           0.0027056277056276556,
           0.21640424752837784,
           0.2790279027902791
          ],
          [
           0.2583377448385389,
           -0.030745179781136,
           0.008333333333333304,
           0.12973667308927417,
           -0.051401869158878455,
           -0.022663420116126654,
           -0.19078455790784554,
           -0.24284943335132214,
           -0.24623720650210712,
           -0.05137227304714986
          ],
          [
           -0.20614219604543538,
           -0.04139784946236558,
           -0.20179063360881544,
           -0.15918135304150083,
           -0.07037297677691767,
           -0.03142966653890378,
           0.09325946445060018,
           -0.13399857448325014,
           0.34904153354632594,
           -0.16097922848664692
          ],
          [
           0.8463169051404345,
           -0.14750420639371842,
           0.04572907679033644,
           0.1588911426639621,
           -0.11809235427706288,
           0.19430154333201433,
           0.14104729729729737,
           0.08395061728395059,
           -0.06335109532267613,
           0.14323607427055696
          ],
          [
           -0.25602755453501724,
           0.5828947368421054,
           0.18481848184818483,
           -0.06651108518086346,
           0.041630901287553757,
           0.10155732273028506,
           -0.2005921539600296,
           -0.09111617312072895,
           -0.2155499367888748,
           -0.0007733952049496784
          ],
          [
           -0.14004629629629628,
           -0.13965087281795507,
           0.13161559888579388,
           0.15937500000000004,
           -0.11742892459826948,
           0.006617536471649865,
           -0.0015432098765432167,
           0.00417710944026739,
           0.19863013698630128,
           -0.037151702786377694
          ],
          [
           -0.1969493046209062,
           0.20144927536231894,
           -0.2670769230769231,
           0.0938005390835579,
           0.3422035480859009,
           -0.2402510085163604,
           -0.14435857805255026,
           -0.10732113144758737,
           -0.30823529411764705,
           -0.10691318327974275
          ],
          [
           0.07988826815642458,
           -0.11861680739847202,
           0.15533165407220828,
           -0.16904879250862492,
           -0.06747826086956521,
           0.24247787610619476,
           0.1893063583815029,
           0.055917986952469745,
           0.620505344995141,
           0.045004500450045004
          ],
          [
           0.09260217278841187,
           -0.2271897810218978,
           0.10029069767441867,
           -0.06227758007117434,
           -0.013800820589332297,
           -0.11997467553023111,
           0.23147023086269747,
           0.17122683142100614,
           -0.17031484257871066,
           0.09646856158484063
          ],
          [
           -0.3134469696969697,
           -0.18536009445100354,
           -0.3243064729194187,
           -0.11764705882352944,
           -0.24357034795764,
           0.008273381294964022,
           -0.22200296003946718,
           -0.27128862094951023,
           -0.37116010119262743,
           -0.06284367635506682
          ],
          [
           0.31379310344827593,
           0.5036231884057971,
           0.4105571847507332,
           0.022939068100358506,
           0.13149999999999995,
           0.05904388155547635,
           -0.10019023462270138,
           -0.24095139607032057,
           0.4022988505747127,
           -0.0871751886001676
          ],
          [
           0.20367454068241475,
           -0.02843373493975898,
           0.057519057519057615,
           0.21723896285914512,
           0.241714538223597,
           0.013811689405423655,
           0.18710359408033828,
           0.30381471389645776,
           -0.10122950819672127,
           0.06611570247933884
          ],
          [
           -0.08765808983863932,
           0.35317460317460325,
           0.050458715596330306,
           -0.04317789291882557,
           -0.1871886120996441,
           -0.08423326133909292,
           -0.04511724547343421,
           0.37826541274817127,
           0.3629730962152302,
           0.5030146425495263
          ],
          [
           0.04875717017208414,
           -0.32587976539589447,
           -0.11790393013100442,
           -0.030084235860409092,
           0.07793345008756569,
           -0.03428882438316405,
           0.05502020516008699,
           0.08263836239575428,
           -0.5108732017397123,
           -0.11690544412607451
          ],
          [
           -0.03008204193254327,
           -0.22729744426318654,
           -0.05940594059405946,
           -0.00496277915632759,
           -0.18927701056051993,
           0.08792034566973506,
           -0.06452563347083085,
           -0.3298319327731093,
           0.0499316005471957,
           -0.20960415314730696
          ],
          [
           0.3096804511278195,
           0.11752287121745253,
           0.32330827067669166,
           -0.016832917705735695,
           0.2595190380761523,
           0.3622863063374202,
           -0.158740157480315,
           0.4566353187042842,
           0.14657980456026065,
           -0.20197044334975367
          ],
          [
           -0.20129171151776104,
           0.12279596977329965,
           0.07045454545454555,
           0.11414077362079889,
           -0.21638822593476537,
           -0.15439219165927243,
           0.2538375140396856,
           0.11262553802008601,
           -0.2693181818181818,
           -0.057613168724279795
          ],
          [
           0.06648697214734955,
           0.2815479528883904,
           -0.18205944798301488,
           0.00512236767216856,
           0.5228426395939085,
           0.013041523010043576,
           -0.050164228127799304,
           -0.12894906511927784,
           0.7807153965785381,
           0.25764192139737996
          ],
          [
           0.10320134793597302,
           -0.3711159737417943,
           -0.14211550940947437,
           0.19875424688561716,
           -0.19366666666666665,
           -0.13376738680082867,
           0.03961018547626538,
           0.44485566247224284,
           -0.07248908296943235,
           -0.05034722222222221
          ],
          [
           -0.06605574646811763,
           -0.03688239387613079,
           0.17170953101361563,
           -0.278696268304204,
           -0.04630012401818928,
           0.13905022207037931,
           -0.06259449652252802,
           -0.20645491803278693,
           0.03201506591337089,
           0.26508226691042047
          ],
          [
           -0.04701553556827476,
           0.28395953757225434,
           0.09877340219496444,
           0.1407989521938442,
           0,
           0.0463407318536293,
           0.08709677419354844,
           0.5041962556488058,
           0.25273722627737216,
           -0.07875722543352603
          ],
          [
           0.19776919776919777,
           0.003939223410241999,
           -0.1533490011750881,
           -0.20091848450057403,
           -0.2665799739921977,
           -0.10047298265730253,
           0.16261127596439162,
           -0.09313304721030047,
           0.14056809905316814,
           -0.06666666666666665
          ],
          [
           0.026862464183381007,
           -0.06278026905829592,
           -0.019430950728660634,
           0.13002873563218387,
           0.25827423167848695,
           -0.005098789037603524,
           -0.023481368044920847,
           -0.3644107903454804,
           0.10249042145593878,
           -0.04537815126050415
          ],
          [
           -0.15416811998604818,
           0.09569377990430628,
           -0.06652512384996456,
           0.3197711379529562,
           -0.09534992954438704,
           -0.3451313260730301,
           0.13617354939885007,
           0.24646314221891297,
           -0.3457862728062554,
           0.11795774647887325
          ],
          [
           0.15670103092783516,
           1.4224890829694323,
           0.09476876421531455,
           -0.26300578034682076,
           0.05711318795430942,
           0.035216434336023505,
           -0.0531400966183575,
           0.22520908004778972,
           0.050022133687472436,
           0.30944881889763787
          ],
          [
           -0.018894830659536566,
           0.014871563767462792,
           0.0865650969529086,
           0.05555555555555558,
           0.3772102161100197,
           0.10725253957004499,
           0.07555879494655016,
           -0.2408581179912238,
           0.2010961214165261,
           0.021647624774503882
          ],
          [
           -0.857921511627907,
           -0.8210479573712256,
           -0.8789037603569152,
           -0.874922600619195,
           -0.8241797432239657,
           -0.8143802005547258,
           -0.7750169414953694,
           -0.8060372511239563,
           -0.7353457353457353,
           -0.8675691583284285
          ]
         ]
        }
       ],
       "layout": {
        "coloraxis": {
         "cmax": 1,
         "cmin": -1,
         "colorbar": {
          "title": {
           "text": "% Change"
          }
         },
         "colorscale": [
          [
           0,
           "#0d0887"
          ],
          [
           0.1111111111111111,
           "#46039f"
          ],
          [
           0.2222222222222222,
           "#7201a8"
          ],
          [
           0.3333333333333333,
           "#9c179e"
          ],
          [
           0.4444444444444444,
           "#bd3786"
          ],
          [
           0.5555555555555556,
           "#d8576b"
          ],
          [
           0.6666666666666666,
           "#ed7953"
          ],
          [
           0.7777777777777778,
           "#fb9f3a"
          ],
          [
           0.8888888888888888,
           "#fdca26"
          ],
          [
           1,
           "#f0f921"
          ]
         ]
        },
        "height": 1100,
        "margin": {
         "t": 60
        },
        "template": {
         "data": {
          "bar": [
           {
            "error_x": {
             "color": "#2a3f5f"
            },
            "error_y": {
             "color": "#2a3f5f"
            },
            "marker": {
             "line": {
              "color": "#E5ECF6",
              "width": 0.5
             }
            },
            "type": "bar"
           }
          ],
          "barpolar": [
           {
            "marker": {
             "line": {
              "color": "#E5ECF6",
              "width": 0.5
             }
            },
            "type": "barpolar"
           }
          ],
          "carpet": [
           {
            "aaxis": {
             "endlinecolor": "#2a3f5f",
             "gridcolor": "white",
             "linecolor": "white",
             "minorgridcolor": "white",
             "startlinecolor": "#2a3f5f"
            },
            "baxis": {
             "endlinecolor": "#2a3f5f",
             "gridcolor": "white",
             "linecolor": "white",
             "minorgridcolor": "white",
             "startlinecolor": "#2a3f5f"
            },
            "type": "carpet"
           }
          ],
          "choropleth": [
           {
            "colorbar": {
             "outlinewidth": 0,
             "ticks": ""
            },
            "type": "choropleth"
           }
          ],
          "contour": [
           {
            "colorbar": {
             "outlinewidth": 0,
             "ticks": ""
            },
            "colorscale": [
             [
              0,
              "#0d0887"
             ],
             [
              0.1111111111111111,
              "#46039f"
             ],
             [
              0.2222222222222222,
              "#7201a8"
             ],
             [
              0.3333333333333333,
              "#9c179e"
             ],
             [
              0.4444444444444444,
              "#bd3786"
             ],
             [
              0.5555555555555556,
              "#d8576b"
             ],
             [
              0.6666666666666666,
              "#ed7953"
             ],
             [
              0.7777777777777778,
              "#fb9f3a"
             ],
             [
              0.8888888888888888,
              "#fdca26"
             ],
             [
              1,
              "#f0f921"
             ]
            ],
            "type": "contour"
           }
          ],
          "contourcarpet": [
           {
            "colorbar": {
             "outlinewidth": 0,
             "ticks": ""
            },
            "type": "contourcarpet"
           }
          ],
          "heatmap": [
           {
            "colorbar": {
             "outlinewidth": 0,
             "ticks": ""
            },
            "colorscale": [
             [
              0,
              "#0d0887"
             ],
             [
              0.1111111111111111,
              "#46039f"
             ],
             [
              0.2222222222222222,
              "#7201a8"
             ],
             [
              0.3333333333333333,
              "#9c179e"
             ],
             [
              0.4444444444444444,
              "#bd3786"
             ],
             [
              0.5555555555555556,
              "#d8576b"
             ],
             [
              0.6666666666666666,
              "#ed7953"
             ],
             [
              0.7777777777777778,
              "#fb9f3a"
             ],
             [
              0.8888888888888888,
              "#fdca26"
             ],
             [
              1,
              "#f0f921"
             ]
            ],
            "type": "heatmap"
           }
          ],
          "heatmapgl": [
           {
            "colorbar": {
             "outlinewidth": 0,
             "ticks": ""
            },
            "colorscale": [
             [
              0,
              "#0d0887"
             ],
             [
              0.1111111111111111,
              "#46039f"
             ],
             [
              0.2222222222222222,
              "#7201a8"
             ],
             [
              0.3333333333333333,
              "#9c179e"
             ],
             [
              0.4444444444444444,
              "#bd3786"
             ],
             [
              0.5555555555555556,
              "#d8576b"
             ],
             [
              0.6666666666666666,
              "#ed7953"
             ],
             [
              0.7777777777777778,
              "#fb9f3a"
             ],
             [
              0.8888888888888888,
              "#fdca26"
             ],
             [
              1,
              "#f0f921"
             ]
            ],
            "type": "heatmapgl"
           }
          ],
          "histogram": [
           {
            "marker": {
             "colorbar": {
              "outlinewidth": 0,
              "ticks": ""
             }
            },
            "type": "histogram"
           }
          ],
          "histogram2d": [
           {
            "colorbar": {
             "outlinewidth": 0,
             "ticks": ""
            },
            "colorscale": [
             [
              0,
              "#0d0887"
             ],
             [
              0.1111111111111111,
              "#46039f"
             ],
             [
              0.2222222222222222,
              "#7201a8"
             ],
             [
              0.3333333333333333,
              "#9c179e"
             ],
             [
              0.4444444444444444,
              "#bd3786"
             ],
             [
              0.5555555555555556,
              "#d8576b"
             ],
             [
              0.6666666666666666,
              "#ed7953"
             ],
             [
              0.7777777777777778,
              "#fb9f3a"
             ],
             [
              0.8888888888888888,
              "#fdca26"
             ],
             [
              1,
              "#f0f921"
             ]
            ],
            "type": "histogram2d"
           }
          ],
          "histogram2dcontour": [
           {
            "colorbar": {
             "outlinewidth": 0,
             "ticks": ""
            },
            "colorscale": [
             [
              0,
              "#0d0887"
             ],
             [
              0.1111111111111111,
              "#46039f"
             ],
             [
              0.2222222222222222,
              "#7201a8"
             ],
             [
              0.3333333333333333,
              "#9c179e"
             ],
             [
              0.4444444444444444,
              "#bd3786"
             ],
             [
              0.5555555555555556,
              "#d8576b"
             ],
             [
              0.6666666666666666,
              "#ed7953"
             ],
             [
              0.7777777777777778,
              "#fb9f3a"
             ],
             [
              0.8888888888888888,
              "#fdca26"
             ],
             [
              1,
              "#f0f921"
             ]
            ],
            "type": "histogram2dcontour"
           }
          ],
          "mesh3d": [
           {
            "colorbar": {
             "outlinewidth": 0,
             "ticks": ""
            },
            "type": "mesh3d"
           }
          ],
          "parcoords": [
           {
            "line": {
             "colorbar": {
              "outlinewidth": 0,
              "ticks": ""
             }
            },
            "type": "parcoords"
           }
          ],
          "pie": [
           {
            "automargin": true,
            "type": "pie"
           }
          ],
          "scatter": [
           {
            "marker": {
             "colorbar": {
              "outlinewidth": 0,
              "ticks": ""
             }
            },
            "type": "scatter"
           }
          ],
          "scatter3d": [
           {
            "line": {
             "colorbar": {
              "outlinewidth": 0,
              "ticks": ""
             }
            },
            "marker": {
             "colorbar": {
              "outlinewidth": 0,
              "ticks": ""
             }
            },
            "type": "scatter3d"
           }
          ],
          "scattercarpet": [
           {
            "marker": {
             "colorbar": {
              "outlinewidth": 0,
              "ticks": ""
             }
            },
            "type": "scattercarpet"
           }
          ],
          "scattergeo": [
           {
            "marker": {
             "colorbar": {
              "outlinewidth": 0,
              "ticks": ""
             }
            },
            "type": "scattergeo"
           }
          ],
          "scattergl": [
           {
            "marker": {
             "colorbar": {
              "outlinewidth": 0,
              "ticks": ""
             }
            },
            "type": "scattergl"
           }
          ],
          "scattermapbox": [
           {
            "marker": {
             "colorbar": {
              "outlinewidth": 0,
              "ticks": ""
             }
            },
            "type": "scattermapbox"
           }
          ],
          "scatterpolar": [
           {
            "marker": {
             "colorbar": {
              "outlinewidth": 0,
              "ticks": ""
             }
            },
            "type": "scatterpolar"
           }
          ],
          "scatterpolargl": [
           {
            "marker": {
             "colorbar": {
              "outlinewidth": 0,
              "ticks": ""
             }
            },
            "type": "scatterpolargl"
           }
          ],
          "scatterternary": [
           {
            "marker": {
             "colorbar": {
              "outlinewidth": 0,
              "ticks": ""
             }
            },
            "type": "scatterternary"
           }
          ],
          "surface": [
           {
            "colorbar": {
             "outlinewidth": 0,
             "ticks": ""
            },
            "colorscale": [
             [
              0,
              "#0d0887"
             ],
             [
              0.1111111111111111,
              "#46039f"
             ],
             [
              0.2222222222222222,
              "#7201a8"
             ],
             [
              0.3333333333333333,
              "#9c179e"
             ],
             [
              0.4444444444444444,
              "#bd3786"
             ],
             [
              0.5555555555555556,
              "#d8576b"
             ],
             [
              0.6666666666666666,
              "#ed7953"
             ],
             [
              0.7777777777777778,
              "#fb9f3a"
             ],
             [
              0.8888888888888888,
              "#fdca26"
             ],
             [
              1,
              "#f0f921"
             ]
            ],
            "type": "surface"
           }
          ],
          "table": [
           {
            "cells": {
             "fill": {
              "color": "#EBF0F8"
             },
             "line": {
              "color": "white"
             }
            },
            "header": {
             "fill": {
              "color": "#C8D4E3"
             },
             "line": {
              "color": "white"
             }
            },
            "type": "table"
           }
          ]
         },
         "layout": {
          "annotationdefaults": {
           "arrowcolor": "#2a3f5f",
           "arrowhead": 0,
           "arrowwidth": 1
          },
          "coloraxis": {
           "colorbar": {
            "outlinewidth": 0,
            "ticks": ""
           }
          },
          "colorscale": {
           "diverging": [
            [
             0,
             "#8e0152"
            ],
            [
             0.1,
             "#c51b7d"
            ],
            [
             0.2,
             "#de77ae"
            ],
            [
             0.3,
             "#f1b6da"
            ],
            [
             0.4,
             "#fde0ef"
            ],
            [
             0.5,
             "#f7f7f7"
            ],
            [
             0.6,
             "#e6f5d0"
            ],
            [
             0.7,
             "#b8e186"
            ],
            [
             0.8,
             "#7fbc41"
            ],
            [
             0.9,
             "#4d9221"
            ],
            [
             1,
             "#276419"
            ]
           ],
           "sequential": [
            [
             0,
             "#0d0887"
            ],
            [
             0.1111111111111111,
             "#46039f"
            ],
            [
             0.2222222222222222,
             "#7201a8"
            ],
            [
             0.3333333333333333,
             "#9c179e"
            ],
            [
             0.4444444444444444,
             "#bd3786"
            ],
            [
             0.5555555555555556,
             "#d8576b"
            ],
            [
             0.6666666666666666,
             "#ed7953"
            ],
            [
             0.7777777777777778,
             "#fb9f3a"
            ],
            [
             0.8888888888888888,
             "#fdca26"
            ],
            [
             1,
             "#f0f921"
            ]
           ],
           "sequentialminus": [
            [
             0,
             "#0d0887"
            ],
            [
             0.1111111111111111,
             "#46039f"
            ],
            [
             0.2222222222222222,
             "#7201a8"
            ],
            [
             0.3333333333333333,
             "#9c179e"
            ],
            [
             0.4444444444444444,
             "#bd3786"
            ],
            [
             0.5555555555555556,
             "#d8576b"
            ],
            [
             0.6666666666666666,
             "#ed7953"
            ],
            [
             0.7777777777777778,
             "#fb9f3a"
            ],
            [
             0.8888888888888888,
             "#fdca26"
            ],
            [
             1,
             "#f0f921"
            ]
           ]
          },
          "colorway": [
           "#636efa",
           "#EF553B",
           "#00cc96",
           "#ab63fa",
           "#FFA15A",
           "#19d3f3",
           "#FF6692",
           "#B6E880",
           "#FF97FF",
           "#FECB52"
          ],
          "font": {
           "color": "#2a3f5f"
          },
          "geo": {
           "bgcolor": "white",
           "lakecolor": "white",
           "landcolor": "#E5ECF6",
           "showlakes": true,
           "showland": true,
           "subunitcolor": "white"
          },
          "hoverlabel": {
           "align": "left"
          },
          "hovermode": "closest",
          "mapbox": {
           "style": "light"
          },
          "paper_bgcolor": "white",
          "plot_bgcolor": "#E5ECF6",
          "polar": {
           "angularaxis": {
            "gridcolor": "white",
            "linecolor": "white",
            "ticks": ""
           },
           "bgcolor": "#E5ECF6",
           "radialaxis": {
            "gridcolor": "white",
            "linecolor": "white",
            "ticks": ""
           }
          },
          "scene": {
           "xaxis": {
            "backgroundcolor": "#E5ECF6",
            "gridcolor": "white",
            "gridwidth": 2,
            "linecolor": "white",
            "showbackground": true,
            "ticks": "",
            "zerolinecolor": "white"
           },
           "yaxis": {
            "backgroundcolor": "#E5ECF6",
            "gridcolor": "white",
            "gridwidth": 2,
            "linecolor": "white",
            "showbackground": true,
            "ticks": "",
            "zerolinecolor": "white"
           },
           "zaxis": {
            "backgroundcolor": "#E5ECF6",
            "gridcolor": "white",
            "gridwidth": 2,
            "linecolor": "white",
            "showbackground": true,
            "ticks": "",
            "zerolinecolor": "white"
           }
          },
          "shapedefaults": {
           "line": {
            "color": "#2a3f5f"
           }
          },
          "ternary": {
           "aaxis": {
            "gridcolor": "white",
            "linecolor": "white",
            "ticks": ""
           },
           "baxis": {
            "gridcolor": "white",
            "linecolor": "white",
            "ticks": ""
           },
           "bgcolor": "#E5ECF6",
           "caxis": {
            "gridcolor": "white",
            "linecolor": "white",
            "ticks": ""
           }
          },
          "title": {
           "x": 0.05
          },
          "xaxis": {
           "automargin": true,
           "gridcolor": "white",
           "linecolor": "white",
           "ticks": "",
           "title": {
            "standoff": 15
           },
           "zerolinecolor": "white",
           "zerolinewidth": 2
          },
          "yaxis": {
           "automargin": true,
           "gridcolor": "white",
           "linecolor": "white",
           "ticks": "",
           "title": {
            "standoff": 15
           },
           "zerolinecolor": "white",
           "zerolinewidth": 2
          }
         }
        },
        "width": 900,
        "xaxis": {
         "constrain": "domain",
         "scaleanchor": "y",
         "side": "top",
         "title": {
          "text": "Percent Change of Most Mentioned Words"
         }
        },
        "yaxis": {
         "autorange": "reversed",
         "constrain": "domain",
         "title": {
          "text": "Date"
         }
        }
       }
      },
      "text/html": [
       "<div>                            <div id=\"7e2b90d8-ecd4-4a92-b04f-c84649343921\" class=\"plotly-graph-div\" style=\"height:1100px; width:900px;\"></div>            <script type=\"text/javascript\">                require([\"plotly\"], function(Plotly) {                    window.PLOTLYENV=window.PLOTLYENV || {};                                    if (document.getElementById(\"7e2b90d8-ecd4-4a92-b04f-c84649343921\")) {                    Plotly.newPlot(                        \"7e2b90d8-ecd4-4a92-b04f-c84649343921\",                        [{\"coloraxis\": \"coloraxis\", \"hovertemplate\": \"Percent Change of Most Mentioned Words: %{x}<br>Date: %{y}<br>% Change: %{z}<extra></extra>\", \"type\": \"heatmap\", \"x\": [\"case\", \"death\", \"health\", \"lockdown\", \"mask\", \"pandemic\", \"people\", \"state\", \"trump\", \"virus\"], \"y\": [\"2020-03-21T00:00:00\", \"2020-03-22T00:00:00\", \"2020-03-23T00:00:00\", \"2020-03-24T00:00:00\", \"2020-03-25T00:00:00\", \"2020-03-26T00:00:00\", \"2020-03-27T00:00:00\", \"2020-03-28T00:00:00\", \"2020-03-29T00:00:00\", \"2020-03-30T00:00:00\", \"2020-03-31T00:00:00\", \"2020-04-01T00:00:00\", \"2020-04-02T00:00:00\", \"2020-04-03T00:00:00\", \"2020-04-04T00:00:00\", \"2020-04-05T00:00:00\", \"2020-04-06T00:00:00\", \"2020-04-07T00:00:00\", \"2020-04-08T00:00:00\", \"2020-04-09T00:00:00\", \"2020-04-10T00:00:00\", \"2020-04-11T00:00:00\", \"2020-04-12T00:00:00\", \"2020-04-13T00:00:00\", \"2020-04-14T00:00:00\", \"2020-04-15T00:00:00\", \"2020-04-16T00:00:00\", \"2020-04-17T00:00:00\", \"2020-04-19T00:00:00\", \"2020-04-20T00:00:00\", \"2020-04-21T00:00:00\", \"2020-04-22T00:00:00\", \"2020-04-23T00:00:00\", \"2020-04-24T00:00:00\", \"2020-04-25T00:00:00\", \"2020-04-26T00:00:00\", \"2020-04-27T00:00:00\", \"2020-04-28T00:00:00\", \"2020-04-29T00:00:00\", \"2020-04-30T00:00:00\", \"2020-05-01T00:00:00\", \"2020-05-02T00:00:00\", \"2020-05-03T00:00:00\", \"2020-05-04T00:00:00\", \"2020-05-05T00:00:00\", \"2020-05-06T00:00:00\", \"2020-05-07T00:00:00\", \"2020-05-08T00:00:00\", \"2020-05-09T00:00:00\", \"2020-05-10T00:00:00\", \"2020-05-11T00:00:00\", \"2020-05-12T00:00:00\", \"2020-05-13T00:00:00\", \"2020-05-14T00:00:00\", \"2020-05-15T00:00:00\", \"2020-05-16T00:00:00\", \"2020-05-17T00:00:00\", \"2020-05-18T00:00:00\", \"2020-05-19T00:00:00\", \"2020-05-20T00:00:00\", \"2020-05-21T00:00:00\", \"2020-05-22T00:00:00\", \"2020-05-23T00:00:00\", \"2020-05-24T00:00:00\", \"2020-05-25T00:00:00\", \"2020-05-26T00:00:00\", \"2020-05-27T00:00:00\", \"2020-05-28T00:00:00\", \"2020-05-29T00:00:00\", \"2020-05-30T00:00:00\", \"2020-05-31T00:00:00\", \"2020-06-01T00:00:00\", \"2020-06-02T00:00:00\", \"2020-06-03T00:00:00\", \"2020-06-04T00:00:00\", \"2020-06-05T00:00:00\", \"2020-06-06T00:00:00\", \"2020-06-07T00:00:00\", \"2020-06-08T00:00:00\", \"2020-06-09T00:00:00\", \"2020-06-10T00:00:00\", \"2020-06-11T00:00:00\", \"2020-06-12T00:00:00\", \"2020-06-13T00:00:00\", \"2020-06-14T00:00:00\", \"2020-06-15T00:00:00\", \"2020-06-16T00:00:00\", \"2020-06-17T00:00:00\", \"2020-06-18T00:00:00\", \"2020-06-19T00:00:00\", \"2020-06-20T00:00:00\", \"2020-06-21T00:00:00\", \"2020-06-22T00:00:00\", \"2020-06-23T00:00:00\", \"2020-06-24T00:00:00\", \"2020-06-25T00:00:00\", \"2020-06-26T00:00:00\", \"2020-06-27T00:00:00\", \"2020-06-28T00:00:00\", \"2020-06-29T00:00:00\", \"2020-06-30T00:00:00\", \"2020-07-01T00:00:00\", \"2020-07-02T00:00:00\", \"2020-07-03T00:00:00\", \"2020-07-04T00:00:00\", \"2020-07-05T00:00:00\", \"2020-07-06T00:00:00\", \"2020-07-07T00:00:00\", \"2020-07-08T00:00:00\", \"2020-07-09T00:00:00\", \"2020-07-10T00:00:00\", \"2020-07-11T00:00:00\", \"2020-07-12T00:00:00\", \"2020-07-13T00:00:00\", \"2020-07-14T00:00:00\", \"2020-07-15T00:00:00\", \"2020-07-16T00:00:00\", \"2020-07-17T00:00:00\", \"2020-07-18T00:00:00\", \"2020-07-19T00:00:00\", \"2020-07-20T00:00:00\", \"2020-07-21T00:00:00\", \"2020-07-22T00:00:00\", \"2020-07-23T00:00:00\", \"2020-07-24T00:00:00\", \"2020-07-25T00:00:00\", \"2020-07-26T00:00:00\", \"2020-07-27T00:00:00\", \"2020-07-28T00:00:00\", \"2020-07-29T00:00:00\", \"2020-07-30T00:00:00\", \"2020-07-31T00:00:00\", \"2020-08-01T00:00:00\", \"2020-08-02T00:00:00\", \"2020-08-03T00:00:00\", \"2020-08-04T00:00:00\", \"2020-08-05T00:00:00\", \"2020-08-06T00:00:00\", \"2020-08-07T00:00:00\", \"2020-08-08T00:00:00\", \"2020-08-09T00:00:00\", \"2020-08-10T00:00:00\", \"2020-08-11T00:00:00\", \"2020-08-12T00:00:00\", \"2020-08-13T00:00:00\", \"2020-08-14T00:00:00\", \"2020-08-15T00:00:00\", \"2020-08-16T00:00:00\", \"2020-08-17T00:00:00\", \"2020-08-18T00:00:00\", \"2020-08-19T00:00:00\", \"2020-08-20T00:00:00\", \"2020-08-21T00:00:00\", \"2020-08-22T00:00:00\", \"2020-08-23T00:00:00\", \"2020-08-24T00:00:00\", \"2020-08-25T00:00:00\", \"2020-08-26T00:00:00\", \"2020-08-27T00:00:00\", \"2020-08-28T00:00:00\", \"2020-08-29T00:00:00\", \"2020-08-30T00:00:00\", \"2020-08-31T00:00:00\", \"2020-09-01T00:00:00\"], \"z\": [[-0.1413427561837456, 0.11052631578947358, -0.28125, 0.26436781609195403, -0.09999999999999998, -0.42756183745583043, -0.23188405797101452, 1.4609929078014185, -0.517684887459807, -0.004544163589889183], [-0.2304526748971193, 0.1563981042654028, 0.4608695652173913, 0.4545454545454546, 3.349206349206349, 1.7283950617283952, -0.030548068283917318, -0.28242074927953886, 0.08666666666666667, 0.22054208273894438], [0.18449197860962574, -0.23770491803278693, -0.023809523809523836, 0.7, -0.4854014598540146, -0.23981900452488691, 0.0583873957367933, 0.26907630522088355, -0.2638036809815951, 0.09093034128097233], [-0.3656884875846501, 0.048387096774193505, 0.14939024390243905, 0.12132352941176472, 0.07801418439716312, -0.20238095238095233, -0.028021015761821366, -0.310126582278481, 0.6083333333333334, -0.05613884722519824], [0.10676156583629903, -0.02564102564102566, -0.48806366047745353, 0.08852459016393444, -0.5460526315789473, 0.003731343283582156, -0.05135135135135138, 0.03669724770642202, -0.18134715025906734, -0.36231555051078324], [0.012861736334405238, 0.2315789473684211, 0.30569948186528495, -0.2349397590361446, 0.01449275362318847, 2.7806691449814127, -0.24596391263057926, -0.22123893805309736, 0.1708860759493671, -0.14489142043431824], [1.0634920634920637, 0.18803418803418803, -0.2936507936507936, -0.12992125984251968, 0.08571428571428563, -0.7069813176007866, -0.046599496221662484, -0.022727272727272707, -0.21081081081081077, 0.10574521232306422], [-0.39538461538461533, -0.1834532374100719, 0.5730337078651686, 0.28959276018099556, 0.07894736842105265, -0.24496644295302017, -0.08718626155878473, 0.2383720930232558, 0.006849315068493178, -0.25150602409638556], [-0.7124681933842238, -0.44052863436123346, -0.8, -0.6912280701754385, -0.6951219512195121, -0.6311111111111112, -0.6497829232995658, -0.7793427230046949, -0.6258503401360545, -0.630281690140845], [1.2212389380530975, 0.6456692913385826, 0.9285714285714286, 1.4545454545454546, 0.8799999999999999, 0.7590361445783131, 1.731404958677686, 3.4893617021276597, 1.5636363636363635, 0.6421768707482993], [0.45019920318725104, 0.37799043062200965, 0.6203703703703705, 0.27314814814814814, 2.3617021276595747, 1.0547945205479454, 0.37821482602117995, 0.06635071090047395, 1.5390070921985815, 0.3272576636288318], [0.6263736263736264, -0.29166666666666663, 0.44571428571428573, -0.036363636363636376, -0.3987341772151899, -0.06000000000000005, -0.15587266739846328, -0.22666666666666668, -0.270949720670391, 0.2921348314606742], [-0.41554054054054057, 0.24019607843137258, -0.24505928853754944, 0.29433962264150937, -0.17894736842105263, -0.25531914893617025, -0.12743823146944078, -0.06896551724137934, -0.4022988505747126, -0.22512077294685995], [-0.24566473988439308, -0.3517786561264822, -0.24083769633507857, -0.5160349854227405, 0.0641025641025641, 0.10952380952380958, -0.20864381520119224, -0.19753086419753085, -0.27564102564102566, -0.05112219451371569], [-0.03065134099616862, 0.2621951219512195, -0.5310344827586206, 0.47590361445783125, 0.024096385542168752, -0.0042918454935622075, 0.0847457627118644, -0.05384615384615388, 0.31858407079646023, -0.14520367936925094], [-0.09486166007905139, -0.04347826086956519, 0.11764705882352944, -0.21224489795918366, 0.08235294117647052, -0.24137931034482762, 0.015625, -0.2845528455284553, -0.0738255033557047, -0.015372790161414351], [0.06986899563318771, 1.6111111111111112, 0.9736842105263157, 0.17098445595854916, -0.17391304347826086, 0.8636363636363635, -0.19487179487179485, 0.6590909090909092, 0.15217391304347827, 0.09914129586260745], [0.2489795918367348, -0.495164410058027, -0.033333333333333326, -0.21238938053097345, 0.14473684210526305, -0.3292682926829268, -0.16560509554140124, -0.17808219178082196, -0.05660377358490565, -0.2897727272727273], [-0.35620915032679734, -0.04980842911877392, -0.22758620689655173, -0.1460674157303371, 1.1724137931034484, -0.1636363636363637, 0.1119592875318065, 0.008333333333333304, 0.22666666666666657, 0.14500000000000002], [0.1624365482233503, -0.3266129032258065, -0.0535714285714286, -0.24342105263157898, 0.26984126984126977, -0.05978260869565222, 0.49885583524027455, 0.03305785123966931, 0.20108695652173902, -0.019213973799126594], [-0.13973799126637554, -0.07784431137724546, 0.679245283018868, 1.0521739130434784, -0.6541666666666667, -0.05780346820809246, -0.2137404580152672, 1.3439999999999999, -0.49321266968325794, -0.011576135351736405], [-0.09137055837563457, 0.2727272727272727, -0.5280898876404494, -0.05508474576271183, 0.12048192771084332, 0.08588957055214719, -0.2524271844660194, -0.552901023890785, 0.2767857142857142, -0.1216216216216216], [0.3128491620111731, -0.1785714285714286, 0.023809523809523725, 0.452914798206278, -0.4838709677419355, 0.2655367231638419, 0.19220779220779227, 0.03816793893129766, -0.26573426573426573, -0.08512820512820518], [-0.11063829787234047, 0.08695652173913038, 0.13953488372093026, -0.38888888888888884, -0.33333333333333337, -0.3616071428571429, -0.2984749455337691, -0.34558823529411764, -0.4571428571428572, -0.24103139013452912], [-0.052631578947368474, -0.26857142857142857, 0.1020408163265305, 0.16666666666666674, 1.3125, -0.3076923076923077, -0.08695652173913049, 0.2359550561797752, 1.0175438596491229, 0.028064992614475592], [-0.23232323232323238, -0.2421875, -0.05555555555555558, -0.4285714285714286, -0.20270270270270274, 0.7575757575757576, 0.16326530612244894, 0.0, -0.17391304347826086, 0.13074712643678166], [0.19736842105263164, 0.15463917525773185, -0.10784313725490191, 0.5303030303030303, -0.22033898305084743, 0.12643678160919536, 0.39766081871345027, -0.027272727272727226, 0.6631578947368422, 0.007623888182973326], [-0.24725274725274726, 0.4107142857142858, -0.09890109890109888, -0.37623762376237624, 0.15217391304347827, -0.22959183673469385, -0.2468619246861925, 0.39252336448598135, -0.47468354430379744, -0.19167717528373263], [0.17609162491052244, 0.0980132450331126, -0.053772766695576735, 0.0910596026490067, -0.2102272727272727, -0.027607361963190136, 0.060559796437658964, 0.18947368421052624, 0.365953947368421, -0.04188034188034184], [-0.18259281801582472, -0.18335343787696023, -0.1750687442713107, 0.3474962063732929, 0.02517985611510798, -0.09069400630914826, -0.05518234165067182, -0.052212389380530966, 0.0066225165562914245, -0.16324710080285454], [0.02903946388682055, 0.07976366322008865, -0.053333333333333344, -0.12725225225225223, 0.05263157894736836, 0.007805724197744945, -0.07414931437277805, 0.03548085901027087, -0.04126794258373201, -0.07036247334754797], [-0.16642547033285093, 0.21819425444596452, 0.2417840375586855, -0.2154838709677419, -0.12, 0.024096385542168752, 0.07350521119034559, -0.07303877366997291, -0.0954460386774797, -0.010321100917431214], [-0.01736111111111116, -0.24199887703537337, -0.032136105860113395, 0.04276315789473695, 0.34090909090909083, 0.21260504201680663, -0.1543178334184977, 0.2616731517509727, 0.06896551724137923, 0.13209733487833142], [0.04946996466431086, -0.10592592592592598, -0.2294921875, -0.13564668769716093, -0.307909604519774, -0.25987525987525983, 0.1516616314199395, -0.27062451811873556, 0.7787096774193549, -0.03480040941658136], [0.09090909090909083, 0.43993371996686004, 0.16476552598225602, 0.14233576642335777, 0.01632653061224487, 0.04119850187265928, 0.03725078698845752, -0.014799154334038, -0.24700761697497275, 0.07529162248144217], [0.04166666666666674, 0.07594936708860756, -0.11534276387377584, 0.23961661341853024, 0.36546184738955834, -0.014388489208633115, 0.02124430955993928, -0.0740343347639485, -0.2755298651252408, 0.17159763313609466], [0.014814814814814836, 0.07112299465240635, 0.0036900369003689537, 0.0, -0.09705882352941175, 0.07755474452554734, -0.15948489351163941, 0.03476245654692933, -0.16755319148936165, -0.09343434343434343], [-0.05693430656934306, -0.1562656015976036, 0.09068627450980382, -0.010309278350515427, 0.43973941368078173, 0.126164267569856, 0.09781968179139655, 0.14109742441209416, 0.18370607028753994, -0.09749303621169914], [0.29179566563467496, -0.014201183431952646, -0.022471910112359605, -0.21875, 0.4411764705882353, -0.0714285714285714, 0.008051529790660261, 0.09813542688910704, 0.014844804318488558, -0.048353909465020606], [0.005991611743559, 0.21068427370948384, -0.10689655172413792, 0.1416666666666666, -0.4364207221350078, 0.08259109311740898, 0.03088391906283272, -0.022341376228775744, -0.14627659574468088, 0.15567567567567564], [-0.030970815961882114, -0.1036192364898364, 0.03474903474903468, 0.13722627737226278, 0.0473537604456824, -0.011219147344801783, 0.017045454545454586, 0.003656307129798808, -0.2009345794392523, 0.016838166510757757], [-0.017209588199139536, 0.14988938053097356, -0.03731343283582089, -0.0012836970474967568, -0.013297872340425565, -0.06959152798789714, -0.007110208227526615, -0.04644808743169404, 0.13060428849902528, -0.20607175712971482], [-0.04065040650406504, 0.026936026936027035, -0.14341085271317833, 0.13367609254498714, -0.0835579514824798, 0.07804878048780495, -0.02352941176470591, 0.2340019102196753, 0.050000000000000044, 0.13209733487833142], [-0.01629726205997395, -0.2177985948477752, 0.08295625942684759, -0.1167800453514739, 0.32647058823529407, -0.05505279034690802, 0.013095861707700385, -0.1965944272445821, 0.18719211822660098, 0.15967246673490276], [-0.010603048376408242, 0.39700598802395204, 0.14623955431754876, -0.16302952503209245, -0.039911308203991136, -0.1165203511572227, -0.0765253360910031, 0.15895953757225434, 0.052558782849239316, -0.12180052956751986], [-0.17682518419290016, -0.1401628804114874, 0.12879708383961108, 0.15644171779141103, -0.04387990762124716, -0.009936766034327027, 0.0907054871220605, -0.1363258520365752, 0.03942181340341655, -0.24321608040201004], [0.06997558991049635, -0.03738783649052846, 0.09149623250807326, -0.01591511936339518, -0.007246376811594235, 0.1286496350364963, 0.03542094455852163, -0.012512030798844997, -0.05246523388116309, 0.031872509960159334], [0.0714828897338402, -0.11496633868461936, -0.26725838264299806, 0.025606469002695365, 0.09245742092457432, 0.047696038803556995, 0.03321764997521082, -0.15204678362573099, 0.09739826551034025, 0.25482625482625476], [0.0581973030518097, -0.10766530134581631, 0.044414535666218, -0.059132720105124825, 0.40089086859688194, -0.1157407407407407, 0.03214971209213058, 0.04597701149425282, -0.027355623100303927, 0.00512820512820511], [-0.059691482226693515, 0.1331147540983606, -0.10695876288659789, 0.2905027932960893, -0.03338632750397452, 0.002617801047120505, -0.08972570897257093, -0.038461538461538436, -0.10312500000000002, 0.04795918367346941], [-0.02924393723252494, -0.00868055555555558, 0.16305916305916313, -0.04978354978354982, 0.05098684210526305, -0.036553524804177506, 0.05720122574055164, -0.013714285714285679, 0.08571428571428563, -0.19279454722492695], [-0.0529022777369581, -0.08231173380035028, 0.04590570719602982, -0.21526195899772205, -0.3505477308294209, 0.39656729900632337, -0.1681159420289855, 0.0, 0.11168164313222073, -0.04463208685162845], [0.07059736229635383, 0.09987277353689561, 0.07829181494661919, 0.11611030478954998, -0.04578313253012045, -0.25097024579560157, 0.12137049941927991, 0.09849362688296637, -0.2840646651270208, 0.18308080808080818], [-0.08333333333333337, -0.23076923076923073, 0.13531353135313529, -0.17425227568270485, 0.2752525252525253, 0.15457685664939547, -0.022268254790264064, -0.022151898734177222, 0.05241935483870974, -0.08751334044823911], [0.13913043478260878, 0.21127819548872173, -0.04457364341085268, 0.21732283464566926, -0.19207920792079203, 0.05011219147344792, -0.05455508474576276, -0.133764832793959, -0.019157088122605415, 0.08538011695906422], [0.49271339347675225, 0.7374301675977655, 0.25152129817444213, 0.32341526520051755, 0.42647058823529416, 0.30270655270655267, 0.4627450980392156, 0.7173100871731009, 0.659375, 0.2144396551724137], [0.2217573221757323, -0.05037513397642013, -0.00972447325769854, 0.2590420332355816, 0.6065292096219932, 0.03717878622197923, 0.13481424741478354, 0.3270485859318346, 0.25564971751412435, 0.0452528837622006], [0.11149162861491635, -0.06884875846501126, 0.3543371522094927, -0.09161490683229812, 0.3593582887700535, 0.10279388508170806, 0.17178535268309147, 0.19781420765027313, -0.12898387701537306, 0.12903225806451624], [-0.2721670660732626, -0.037979797979798, 0.14320241691842894, -0.1264957264957265, -0.09992132179386315, 0.03680688336520066, -0.0267857142857143, -0.20164233576642332, 0.185105467068446, -0.03082706766917298], [0.0305738476011288, 0.12263754724905507, -0.05708245243128962, -0.09686888454011744, -0.18706293706293708, -0.024896265560165998, 0.02130807931340639, 0.0040000000000000036, -0.08209226298583361, -0.028704422032583388], [-0.026928343222272888, -0.12570145903479235, -0.1434977578475336, 0.1354279523293609, -0.14193548387096777, -0.09503546099290783, -0.060272384815995395, -0.022196926579396647, 0.05738029283735657, 0.08626198083067083], [-0.09615384615384615, 0.3311938382541719, -0.10143979057591623, 0.30916030534351147, 0.3972431077694236, -0.08359456635318707, -0.1091581868640148, -0.12805587892898718, -0.08121257485029942, -0.10514705882352937], [0.04878048780487809, -0.20218579234972678, 0.04879825200291332, 0.2208454810495626, -0.045739910313901344, -0.04503990877993158, 0.15784008307372788, -0.1295060080106809, -0.09368635437881878, 0.20295809367296624], [0.46214745175655625, 0.12570507655116847, -0.32638888888888884, -0.23880597014925375, -0.14661654135338342, -0.032238805970149276, 0.23437967115097158, 0.25920245398773, -0.13573033707865167, -0.08811475409836067], [-0.255160744500846, -0.015748031496062964, 0.10618556701030935, 0.09333333333333327, 0.018722466960352513, 0.08204811844540405, -0.10535238556551219, -0.029841656516443327, -0.19916796671866877, 0.19625468164794002], [-0.06315311222171738, 0.05127272727272736, 0.055917986952469745, -0.2195121951219512, 0.17837837837837833, 0.08437856328392246, -0.05143475906876016, 0.2366603892027621, 0.049350649350649256, -0.13337507827175954], [0.22987390882638215, -0.02352127291594608, 0.21359223300970864, -0.08915441176470584, -0.02477064220183489, -0.060988433228180816, -0.1840753424657534, -0.18629441624365484, 0.14975247524752477, -0.020231213872832332], [-0.19518927444794953, 0.4576691462982643, 0.06472727272727274, 0.09182643794147327, -0.1561618062088429, 0.3029115341545352, 0.027981811822315406, 0.09107922645040545, 0.06727664155005386, 0.16740412979351027], [-0.06908378245957869, -0.3098420413122722, -0.23155737704918034, 0.08964879852125685, -0.09476031215161651, -0.28276751181779114, 0.5005103776794828, -0.35391652372784443, 0.708522440746344, 0.7220467466835123], [-0.05105263157894735, -0.24190140845070418, 0.01244444444444448, 0.3944020356234097, -0.06280788177339902, -0.1270221689634512, 0.6950113378684808, -0.26725663716814163, 0.18270365997638716, 0.702494497432135], [0.09206877426511362, 0.33302368787738046, 0.9288849868305531, -0.3126520681265207, 1.407358738501971, 0.5332875772134522, -0.5408695652173914, 0.020531400966183666, -0.6298976790616422, -0.726567550096962], [-0.08786185881157949, -0.41916376306620207, -0.42603550295857984, 0.04159292035398221, -0.6774017467248908, 0.034467323187108434, 0.16229603729603737, -0.0650887573964497, -0.24409979770735002, -0.07092198581560283], [-0.10022271714922049, 0.13437312537492496, -0.13243457573354478, -0.13169073916737473, 0.17258883248730972, -0.34876676763305925, -0.15793431937829028, 0.04177215189873418, 0.15611061552185546, 0.12468193384223913], [0.2537128712871286, 0.02115282919090422, 0.01188299817184646, -0.007827788649706457, -0.005772005772005762, 0.07176079734219276, -0.031259303364096436, 0.018226002430133725, -0.3109567901234568, 0.2880844645550529], [0.23642645607107604, -0.1538063179699638, -0.22583559168925027, -0.383629191321499, -0.33817126269956455, -0.333539987600744, -0.37768899815611556, -0.29116945107398573, -0.477043673012318, -0.5040983606557377], [-0.23672654690618766, 0.11444308445532436, 0.6347724620770128, 0.32319999999999993, 2.495614035087719, 3.0967441860465117, 0.6869135802469135, 0.4191919191919191, 1.507494646680942, -0.038961038961038974], [-0.005753138075313857, -0.17572762218561233, -0.11634546752319774, 0.071342200725514, -0.11982434127979924, 0.21003633060853777, 0.11621779859484782, 0.11981020166073542, 0.12297181895815545, -0.033169533169533194], [0.14466070489216198, 0.2158560959360427, -0.16478190630048462, -0.08803611738148986, -0.22166785459729155, -0.1893413398386189, 0.061631261473904964, 0.22457627118644075, 0.02889733840304176, 0.006353240152477735], [0.4246323529411764, -0.07397260273972606, 0.026112185686653744, -0.07549504950495045, -0.2655677655677655, -0.05138888888888893, -0.12203557312252966, 0.1487889273356402, -0.0679970436067997, 0.1464646464646464], [-0.2229032258064516, -0.004733727810650845, 0.16965127238454292, 0.07228915662650603, 0.3216957605985038, 0.0502684236212787, -0.04192459200900389, -0.14231927710843373, -0.2355273592386995, -0.05726872246696035], [0.11664591116645906, -0.12722948870392392, -0.11200644641418211, 0.04494382022471921, 0.1584905660377358, -0.008828996282527868, -0.14214390602055804, 0.0035118525021948788, 0.29460580912863077, -0.04322429906542058], [0.057992565055762, 0.12193460490463215, 0.03539019963702361, -0.13022700119474317, 0.14902280130293155, 0.11157993436474456, 0.019171516603902816, 0.3980752405949257, 1.0657051282051282, 0.05860805860805862], [0.057273366127898795, 0.004250151791135304, 0.7125328659070991, -0.11675824175824179, 0.041814316087881, -0.027203711514129036, 0.14645616392341276, 0.0563204005006257, 0.18851823118696664, 0.2399077277970012], [-0.03788634097706878, 0.13361547762998782, 0.004605936540429845, 0.04043545878693622, 0.10612244897959178, 0.15846520702362898, 0.016407852329328954, -0.20793838862559244, -0.3182114882506527, 0.22883720930232565], [-0.14024179620034538, -0.014933333333333354, -0.45491594498217014, -0.03736920777279518, 0.22078720787207873, -0.1107784431137725, 0.17007783222830786, -0.07928197456993269, -0.5189085686931546, 0.651778955336866], [0.10968260345520298, 0.16783974011911207, 0.174766355140187, 2.703416149068323, 0.27506297229219134, 0.014730639730639705, 0.26533628972653367, 0.7936636880584891, 1.0825870646766167, -0.23510540788267642], [0.19695872556118754, -0.018544274455261966, 0.09307875894988071, 0.13542976939203344, -0.17107862504938764, -0.13894649523019498, -0.19665109034267914, -0.2934782608695652, -0.07071189679885337, -0.3175554224086279], [-0.046884452510586816, -0.20500708549834668, 0.024017467248908186, 0.048744460856720906, 0.3956148713060057, -0.012764932562620457, 0.03829374697043142, 0.09487179487179498, 0.12030848329048838, 0.35469710272168564], [-0.07013646461440814, -0.20320855614973266, -0.16346837242359635, -0.14718309859154932, -0.09289617486338797, 0.11783361795559899, -0.03127917833800187, -0.032786885245901676, 0.09637448370812307, -0.2650680492546986], [0.03890784982935158, -0.05965697240865031, 0.401019541206457, -0.09867877786952928, 0.22289156626506035, 0.04321257092972508, -0.04168674698795183, -0.24394673123486688, 0.1142737547090833, 0.10846560846560838], [0.01741130091984222, 0.05233941316415547, -0.3117040630685264, -0.19193770041227665, 0.5714285714285714, -0.19832635983263602, -0.0037716872014080804, -0.2089671737389912, 0.5616078136739293, -0.11296738265712014], [-0.1033257991604779, 0.3489073097211757, 0.07400881057268727, -0.1167800453514739, -0.619514106583072, 0.09342379958246338, 0.5996971226653205, -0.22874493927125505, 0.621602116911234, -0.12645739910313902], [0.1876125315088224, 0.06871508379888258, -0.03937653814602138, 0.08664955070603342, -0.2183316168898043, 0.2085918854415274, -0.4147996213316504, 0.7611548556430445, -0.527369826435247, 0.12628336755646807], [-0.022134627046695, -0.03188708834291687, 0.0, 0.18665091553455415, 0.46310935441370216, -0.05410742496050558, 0.12132650310056614, 0.139344262295082, 0.01349654739485251, -0.021877848678213296], [0.30852713178294566, 0.011339092872570289, 0.19214346712211783, -0.006470881035340992, 0.264745610085547, 0.035490605427974886, 0.008655926905506206, 0.25245258338783527, -0.1068442242180242, 0.16775396085740923], [-0.09218009478672984, -0.08542445274959953, 0.19484240687679089, -0.14779559118236474, 0.18511925952296182, 0.01774193548387104, 0.11871275327771147, 0.002088772845953102, 0.21220527045769755, 0.05426975259377498], [0.14800313234142526, 0.31173380035026277, 0.2589928057553956, -0.003527336860670194, -0.31571042355061585, 0.38807448494453256, -0.21436181546984867, -0.11360083376758734, 0.08810068649885583, -0.10522331566994703], [-0.03387903592542063, -0.0809968847352025, -0.25571428571428567, 0.15575221238938064, 0.08955223880597019, -0.17710860568003428, 0.22484404665039337, -0.07407407407407407, -0.16745531019978965, 0.20050761421319807], [0.07248764415156517, 0.1694915254237288, -0.24056301983365325, 0.16079632465543647, 0.20547945205479445, -0.025841137703780825, -0.004428697962798989, -0.09333333333333338, 0.06251973476476169, -0.01127554615926707], [-0.16282642089093702, -0.2795031055900621, 0.11457455770850888, 0.40721196130167114, 0.28308823529411775, -0.1020117500445078, -0.10765124555160144, -0.20868347338935578, -0.40713224368499257, -0.23663578047042055], [-0.2104849279161206, -0.09885057471264369, -0.08616780045351469, -0.15749999999999997, -0.38160979421724406, 0.2182791435368754, 0.02716849451645076, 0.3309734513274336, -0.10576441102756895, 0.5994397759103642], [0.2798804780876494, 0.11543367346938771, 0.10587262200165437, -0.12314540059347179, -0.10699241786015168, 0.04117168429617579, 0.1948556175685514, 0.17154255319148937, 0.09977578475336313, -0.23642732049036774], [0.10272373540856039, 0.13379073756432236, 0.38294689603590126, -0.05668358714043997, 0.21556603773584904, -0.10440762738355736, -0.010763606823720573, -0.040295119182746864, 0.15392456676860355, -0.0718654434250765], [-0.15219948247471182, 0.2571860816944025, -0.01730665224445649, 0.024663677130044803, 0.08498253783469156, -0.1083769633507854, -0.07575446520221718, -0.24600827912477818, 0.045053003533569, 0.2652388797364085], [-0.17369589345172032, -0.2751704773365423, -0.36268574573472756, 0.1277899343544857, 0.0311158798283262, -0.14660403210021533, -0.2134606841403821, -0.06509803921568624, 0.3393913778529163, 0.177734375], [0.017125587642713214, 0.257332595462092, -0.113126079447323, -0.15754753589445092, -0.2091571279916753, -0.09380733944954134, 0.24908218017509176, 0.005872483221476488, -0.3284947933101925, -0.03095632946379212], [0.41928029052492577, 0.1483274647887325, 0.24148003894839332, -0.20589590050667894, -0.04210526315789476, 0.22424702606934943, -0.08862762830657922, 0.2835696413678066, 0.41165413533834583, 0.16942384483742146], [-0.1332868108862526, 0.08202376389421229, 1.0054901960784313, 0.09338747099767986, 0.06043956043956045, 0.4608228240645027, -0.08806747705284046, 0.04028589993502285, 0.048601864181091914, -0.12634146341463415], [0.10601180891035966, -0.03719447396386821, -0.22252639812280017, -0.011140583554376637, 0.21848013816925738, -0.18426266628927257, 0.011425462459194735, 0.24047470331043108, -0.061587301587301635, -0.1306532663316583], [-0.09949041494782818, -0.0934510669610007, -0.20171026156941652, 0.17381974248927046, -0.12827781715095676, -0.03209576682859128, 0.20710059171597628, -0.17220543806646527, -0.07543978349120428, -0.17212588310854204], [-0.16248989490703314, -0.10876623376623373, -0.17517328292375556, -0.06992687385740404, -0.06910569105691056, 0.005198064169205985, -0.14081996434937616, -0.06326034063260344, -0.19063300402488104, 0.05430566330488751], [0.03571428571428581, 0.031876138433515555, -0.16806722689075626, -0.01523341523341526, 0.03580786026200866, -0.1273181169757489, -0.15274896265560167, 0.0, -0.05289330922242319, 0.008830022075055233], [0.0860515688101895, 0.10414827890556055, 0.3112947658402203, -0.06387225548902198, 0.15809443507588528, -0.023906824683285643, 0.0756045301499848, 0.018181818181818077, 0.28066825775656334, 0.003646973012399801], [-0.1069794050343249, 0.15227817745803351, 0.2724089635854341, 0.002132196162046851, -0.11649071714597747, 0.17353987858488584, -0.016220830961866772, -0.06313775510204078, 0.14424152068579943, 0.0879360465116279], [-0.03267136450992958, -0.0350329517863337, -0.02421574023115025, 0.12127659574468086, 0.39513803049031737, 0.10203353549768113, 0.13132774081573628, 0.17154526889040156, -0.10162866449511399, -0.10287241148964599], [-0.13245033112582782, -0.287922358015816, 0.08121827411167515, -0.19117647058823528, -0.08889545186060244, 0.050501780511492456, 0.1424188187164408, -0.15630447414294013, 0.18527918781725883, -0.2010424422933731], [0.4095419847328243, 0.16052498738011112, -0.17683881064162754, 0.44633431085043984, 0.06353322528363048, 0.006317411402157136, -0.06423455684870183, 0.8236914600550964, 0.3472009788926278, 0.08760484622553588], [-0.0362848632548064, 0.272292301000435, 0.03612167300380231, -0.19667477696674773, -0.13745809204510817, -0.16659010871229518, -0.1375269074384119, -0.23489425981873113, -0.15440508628519523, 0.07969151670951158], [-0.14329867940432706, -0.17299145299145302, -0.20550458715596331, -0.21756688541140834, 0.029681978798586472, -0.02663972074223775, 0.055185801442040994, 0.12931885488647588, -0.2602040816326531, 0.11269841269841274], [-0.09740898655296815, 0.03596527490698631, 0.0007698229407235857, 0.10193548387096785, -0.03706245710363765, -0.07361268403171006, -0.13771353482260185, -0.25087412587412583, 0.26243194192377506, 0.040656205420827485], [-0.11046511627906974, -0.12051077414205902, -0.0823076923076923, -0.041569086651053855, -0.16821097647897365, 0.02526487367563157, 0.01615361170374885, -0.16744457409568259, -0.2300172512938471, 0.039753255654557895], [0.21977124183006547, -0.12658802177858441, 0.20117351215423307, 0.14172266340867434, -0.046272493573264795, 0.09022257551669322, 0.09718056388722252, 0.16187806587245968, 0.16691560866318156, 0.14436387607119316], [-0.26289350301406567, 0.07636363636363641, -0.0983949755757153, -0.11289459604066343, 0.6868823000898472, 0.006926722566533039, 0.06260251503553849, -0.16887816646562126, -0.009279999999999955, -0.03686635944700456], [0.1967287596547025, 0.1462355212355213, 0.0007739938080495445, 0.05006031363088059, -0.4567243675099867, 0.07440260680666189, -0.11602778492410604, 0.12336719883889691, -0.06621447028423777, -0.159688995215311], [-0.002277904328018221, 0.03200000000000003, -0.07347254447022433, 0.008041355542791395, 0.22352941176470598, -0.05054759898904804, -0.04743888242142025, -0.21705426356589153, -0.22587340020754065, -0.016370106761565806], [-0.10920852359208522, 0.05263157894736836, -0.1869782971619366, -0.07350427350427347, -0.13341346153846156, -0.16858917480035496, 0.0727161625420103, 0.47029702970297027, -0.07059874888293116, 0.10419681620839372], [0.036309269542930345, -0.011627906976744207, -0.01848049281314168, 0.04674046740467408, -0.21405455386037908, 0.1013874066168623, 0.04329250925662209, -0.2485970819304153, -0.018750000000000044, -0.07404980340760159], [0.1434460016488046, -0.2043137254901961, 0.24163179916318, -0.18566392479435956, -0.0641176470588235, 0.17829457364341095, 0.12667212667212668, -0.050037341299477234, 0.08525232729054388, 0.08987968860580331], [-0.38067772170151404, 0.11582060128141936, 0.05812973883740513, 0.038239538239538184, 0.07982401005656814, 0.049013157894736814, -0.01865762054761333, -0.14386792452830188, 0.38826185101580135, -0.21623376623376622], [0.023864959254947582, -0.12367491166077738, -0.05015923566878977, -0.04656011118832526, 0.9668218859138533, -0.09266227657572912, -0.16740740740740745, 0.18732782369145995, -0.08747967479674801, 0.06296603148301583], [-0.030130756111426904, 0.21118951612903225, 0.14165968147527241, 0.18586005830903796, -0.03137022787807042, -0.10575427682737171, 0.35172004744958474, 0.0, 0.08945117605131858, 0.26812159002338265], [0.26143024618991784, -0.19309196837286724, -0.08223201174743022, 0.35771358328211433, -0.30278032386190035, 0.2546859903381642, -0.03510311540149191, 0.22583139984532097, -0.21066404972194963, 0.011063306699446773], [0.024163568773234223, -0.0072202166064981865, -0.11919999999999997, -0.2738795835219556, -0.23882559158632777, -0.1538580009240721, -0.13187812642110053, 0.4157728706624606, 0.5010360547036883, 0.07112462006079023], [-0.027676950998185124, 0.13922077922077913, 0.12988192552225253, 0.5891521197007481, -0.10938399539435806, 0.01183108846013825, 0.34599266631744374, -0.24688057040998213, -0.3221976808393153, -0.15380249716231553], [-0.12085860942603821, 0.18878248974008205, 0.03938906752411575, -0.22832483326794817, 0.029734970911441394, 0.10109731966180968, -0.2714535901926445, 0.023076923076922995, 0.21099796334012222, -0.12139503688799469], [0.035562632696390706, 0.015726889144610734, 0.01314771848414531, -0.1037112353838332, 0.010043942247332183, 0.1455644502532265, -0.018429487179487225, 0.11972238288027759, 0.11032626976118398, 0.025954198473282508], [0.03946694003075346, -0.0536253776435045, 0.23816793893129762, 0.07033465683494033, 0.1895587321317589, -0.12649743297204796, 0.20136054421768712, -0.045454545454545414, -0.1726749469857619, -0.17336309523809523], [-0.06854043392504927, -0.23423782920989622, -0.11220715166461159, -0.17488076311605727, 0.5653082549634274, -0.12832653061224486, -0.0906002265005662, 0.0027056277056276556, 0.21640424752837784, 0.2790279027902791], [0.2583377448385389, -0.030745179781136, 0.008333333333333304, 0.12973667308927417, -0.051401869158878455, -0.022663420116126654, -0.19078455790784554, -0.24284943335132214, -0.24623720650210712, -0.05137227304714986], [-0.20614219604543538, -0.04139784946236558, -0.20179063360881544, -0.15918135304150083, -0.07037297677691767, -0.03142966653890378, 0.09325946445060018, -0.13399857448325014, 0.34904153354632594, -0.16097922848664692], [0.8463169051404345, -0.14750420639371842, 0.04572907679033644, 0.1588911426639621, -0.11809235427706288, 0.19430154333201433, 0.14104729729729737, 0.08395061728395059, -0.06335109532267613, 0.14323607427055696], [-0.25602755453501724, 0.5828947368421054, 0.18481848184818483, -0.06651108518086346, 0.041630901287553757, 0.10155732273028506, -0.2005921539600296, -0.09111617312072895, -0.2155499367888748, -0.0007733952049496784], [-0.14004629629629628, -0.13965087281795507, 0.13161559888579388, 0.15937500000000004, -0.11742892459826948, 0.006617536471649865, -0.0015432098765432167, 0.00417710944026739, 0.19863013698630128, -0.037151702786377694], [-0.1969493046209062, 0.20144927536231894, -0.2670769230769231, 0.0938005390835579, 0.3422035480859009, -0.2402510085163604, -0.14435857805255026, -0.10732113144758737, -0.30823529411764705, -0.10691318327974275], [0.07988826815642458, -0.11861680739847202, 0.15533165407220828, -0.16904879250862492, -0.06747826086956521, 0.24247787610619476, 0.1893063583815029, 0.055917986952469745, 0.620505344995141, 0.045004500450045004], [0.09260217278841187, -0.2271897810218978, 0.10029069767441867, -0.06227758007117434, -0.013800820589332297, -0.11997467553023111, 0.23147023086269747, 0.17122683142100614, -0.17031484257871066, 0.09646856158484063], [-0.3134469696969697, -0.18536009445100354, -0.3243064729194187, -0.11764705882352944, -0.24357034795764, 0.008273381294964022, -0.22200296003946718, -0.27128862094951023, -0.37116010119262743, -0.06284367635506682], [0.31379310344827593, 0.5036231884057971, 0.4105571847507332, 0.022939068100358506, 0.13149999999999995, 0.05904388155547635, -0.10019023462270138, -0.24095139607032057, 0.4022988505747127, -0.0871751886001676], [0.20367454068241475, -0.02843373493975898, 0.057519057519057615, 0.21723896285914512, 0.241714538223597, 0.013811689405423655, 0.18710359408033828, 0.30381471389645776, -0.10122950819672127, 0.06611570247933884], [-0.08765808983863932, 0.35317460317460325, 0.050458715596330306, -0.04317789291882557, -0.1871886120996441, -0.08423326133909292, -0.04511724547343421, 0.37826541274817127, 0.3629730962152302, 0.5030146425495263], [0.04875717017208414, -0.32587976539589447, -0.11790393013100442, -0.030084235860409092, 0.07793345008756569, -0.03428882438316405, 0.05502020516008699, 0.08263836239575428, -0.5108732017397123, -0.11690544412607451], [-0.03008204193254327, -0.22729744426318654, -0.05940594059405946, -0.00496277915632759, -0.18927701056051993, 0.08792034566973506, -0.06452563347083085, -0.3298319327731093, 0.0499316005471957, -0.20960415314730696], [0.3096804511278195, 0.11752287121745253, 0.32330827067669166, -0.016832917705735695, 0.2595190380761523, 0.3622863063374202, -0.158740157480315, 0.4566353187042842, 0.14657980456026065, -0.20197044334975367], [-0.20129171151776104, 0.12279596977329965, 0.07045454545454555, 0.11414077362079889, -0.21638822593476537, -0.15439219165927243, 0.2538375140396856, 0.11262553802008601, -0.2693181818181818, -0.057613168724279795], [0.06648697214734955, 0.2815479528883904, -0.18205944798301488, 0.00512236767216856, 0.5228426395939085, 0.013041523010043576, -0.050164228127799304, -0.12894906511927784, 0.7807153965785381, 0.25764192139737996], [0.10320134793597302, -0.3711159737417943, -0.14211550940947437, 0.19875424688561716, -0.19366666666666665, -0.13376738680082867, 0.03961018547626538, 0.44485566247224284, -0.07248908296943235, -0.05034722222222221], [-0.06605574646811763, -0.03688239387613079, 0.17170953101361563, -0.278696268304204, -0.04630012401818928, 0.13905022207037931, -0.06259449652252802, -0.20645491803278693, 0.03201506591337089, 0.26508226691042047], [-0.04701553556827476, 0.28395953757225434, 0.09877340219496444, 0.1407989521938442, 0.0, 0.0463407318536293, 0.08709677419354844, 0.5041962556488058, 0.25273722627737216, -0.07875722543352603], [0.19776919776919777, 0.003939223410241999, -0.1533490011750881, -0.20091848450057403, -0.2665799739921977, -0.10047298265730253, 0.16261127596439162, -0.09313304721030047, 0.14056809905316814, -0.06666666666666665], [0.026862464183381007, -0.06278026905829592, -0.019430950728660634, 0.13002873563218387, 0.25827423167848695, -0.005098789037603524, -0.023481368044920847, -0.3644107903454804, 0.10249042145593878, -0.04537815126050415], [-0.15416811998604818, 0.09569377990430628, -0.06652512384996456, 0.3197711379529562, -0.09534992954438704, -0.3451313260730301, 0.13617354939885007, 0.24646314221891297, -0.3457862728062554, 0.11795774647887325], [0.15670103092783516, 1.4224890829694323, 0.09476876421531455, -0.26300578034682076, 0.05711318795430942, 0.035216434336023505, -0.0531400966183575, 0.22520908004778972, 0.050022133687472436, 0.30944881889763787], [-0.018894830659536566, 0.014871563767462792, 0.0865650969529086, 0.05555555555555558, 0.3772102161100197, 0.10725253957004499, 0.07555879494655016, -0.2408581179912238, 0.2010961214165261, 0.021647624774503882], [-0.857921511627907, -0.8210479573712256, -0.8789037603569152, -0.874922600619195, -0.8241797432239657, -0.8143802005547258, -0.7750169414953694, -0.8060372511239563, -0.7353457353457353, -0.8675691583284285]]}],                        {\"coloraxis\": {\"cmax\": 1, \"cmin\": -1, \"colorbar\": {\"title\": {\"text\": \"% Change\"}}, \"colorscale\": [[0.0, \"#0d0887\"], [0.1111111111111111, \"#46039f\"], [0.2222222222222222, \"#7201a8\"], [0.3333333333333333, \"#9c179e\"], [0.4444444444444444, \"#bd3786\"], [0.5555555555555556, \"#d8576b\"], [0.6666666666666666, \"#ed7953\"], [0.7777777777777778, \"#fb9f3a\"], [0.8888888888888888, \"#fdca26\"], [1.0, \"#f0f921\"]]}, \"height\": 1100, \"margin\": {\"t\": 60}, \"template\": {\"data\": {\"bar\": [{\"error_x\": {\"color\": \"#2a3f5f\"}, \"error_y\": {\"color\": \"#2a3f5f\"}, \"marker\": {\"line\": {\"color\": \"#E5ECF6\", \"width\": 0.5}}, \"type\": \"bar\"}], \"barpolar\": [{\"marker\": {\"line\": {\"color\": \"#E5ECF6\", \"width\": 0.5}}, \"type\": \"barpolar\"}], \"carpet\": [{\"aaxis\": {\"endlinecolor\": \"#2a3f5f\", \"gridcolor\": \"white\", \"linecolor\": \"white\", \"minorgridcolor\": \"white\", \"startlinecolor\": \"#2a3f5f\"}, \"baxis\": {\"endlinecolor\": \"#2a3f5f\", \"gridcolor\": \"white\", \"linecolor\": \"white\", \"minorgridcolor\": \"white\", \"startlinecolor\": \"#2a3f5f\"}, \"type\": \"carpet\"}], \"choropleth\": [{\"colorbar\": {\"outlinewidth\": 0, \"ticks\": \"\"}, \"type\": \"choropleth\"}], \"contour\": [{\"colorbar\": {\"outlinewidth\": 0, \"ticks\": \"\"}, \"colorscale\": [[0.0, \"#0d0887\"], [0.1111111111111111, \"#46039f\"], [0.2222222222222222, \"#7201a8\"], [0.3333333333333333, \"#9c179e\"], [0.4444444444444444, \"#bd3786\"], [0.5555555555555556, \"#d8576b\"], [0.6666666666666666, \"#ed7953\"], [0.7777777777777778, \"#fb9f3a\"], [0.8888888888888888, \"#fdca26\"], [1.0, \"#f0f921\"]], \"type\": \"contour\"}], \"contourcarpet\": [{\"colorbar\": {\"outlinewidth\": 0, \"ticks\": \"\"}, \"type\": \"contourcarpet\"}], \"heatmap\": [{\"colorbar\": {\"outlinewidth\": 0, \"ticks\": \"\"}, \"colorscale\": [[0.0, \"#0d0887\"], [0.1111111111111111, \"#46039f\"], [0.2222222222222222, \"#7201a8\"], [0.3333333333333333, \"#9c179e\"], [0.4444444444444444, \"#bd3786\"], [0.5555555555555556, \"#d8576b\"], [0.6666666666666666, \"#ed7953\"], [0.7777777777777778, \"#fb9f3a\"], [0.8888888888888888, \"#fdca26\"], [1.0, \"#f0f921\"]], \"type\": \"heatmap\"}], \"heatmapgl\": [{\"colorbar\": {\"outlinewidth\": 0, \"ticks\": \"\"}, \"colorscale\": [[0.0, \"#0d0887\"], [0.1111111111111111, \"#46039f\"], [0.2222222222222222, \"#7201a8\"], [0.3333333333333333, \"#9c179e\"], [0.4444444444444444, \"#bd3786\"], [0.5555555555555556, \"#d8576b\"], [0.6666666666666666, \"#ed7953\"], [0.7777777777777778, \"#fb9f3a\"], [0.8888888888888888, \"#fdca26\"], [1.0, \"#f0f921\"]], \"type\": \"heatmapgl\"}], \"histogram\": [{\"marker\": {\"colorbar\": {\"outlinewidth\": 0, \"ticks\": \"\"}}, \"type\": \"histogram\"}], \"histogram2d\": [{\"colorbar\": {\"outlinewidth\": 0, \"ticks\": \"\"}, \"colorscale\": [[0.0, \"#0d0887\"], [0.1111111111111111, \"#46039f\"], [0.2222222222222222, \"#7201a8\"], [0.3333333333333333, \"#9c179e\"], [0.4444444444444444, \"#bd3786\"], [0.5555555555555556, \"#d8576b\"], [0.6666666666666666, \"#ed7953\"], [0.7777777777777778, \"#fb9f3a\"], [0.8888888888888888, \"#fdca26\"], [1.0, \"#f0f921\"]], \"type\": \"histogram2d\"}], \"histogram2dcontour\": [{\"colorbar\": {\"outlinewidth\": 0, \"ticks\": \"\"}, \"colorscale\": [[0.0, \"#0d0887\"], [0.1111111111111111, \"#46039f\"], [0.2222222222222222, \"#7201a8\"], [0.3333333333333333, \"#9c179e\"], [0.4444444444444444, \"#bd3786\"], [0.5555555555555556, \"#d8576b\"], [0.6666666666666666, \"#ed7953\"], [0.7777777777777778, \"#fb9f3a\"], [0.8888888888888888, \"#fdca26\"], [1.0, \"#f0f921\"]], \"type\": \"histogram2dcontour\"}], \"mesh3d\": [{\"colorbar\": {\"outlinewidth\": 0, \"ticks\": \"\"}, \"type\": \"mesh3d\"}], \"parcoords\": [{\"line\": {\"colorbar\": {\"outlinewidth\": 0, \"ticks\": \"\"}}, \"type\": \"parcoords\"}], \"pie\": [{\"automargin\": true, \"type\": \"pie\"}], \"scatter\": [{\"marker\": {\"colorbar\": {\"outlinewidth\": 0, \"ticks\": \"\"}}, \"type\": \"scatter\"}], \"scatter3d\": [{\"line\": {\"colorbar\": {\"outlinewidth\": 0, \"ticks\": \"\"}}, \"marker\": {\"colorbar\": {\"outlinewidth\": 0, \"ticks\": \"\"}}, \"type\": \"scatter3d\"}], \"scattercarpet\": [{\"marker\": {\"colorbar\": {\"outlinewidth\": 0, \"ticks\": \"\"}}, \"type\": \"scattercarpet\"}], \"scattergeo\": [{\"marker\": {\"colorbar\": {\"outlinewidth\": 0, \"ticks\": \"\"}}, \"type\": \"scattergeo\"}], \"scattergl\": [{\"marker\": {\"colorbar\": {\"outlinewidth\": 0, \"ticks\": \"\"}}, \"type\": \"scattergl\"}], \"scattermapbox\": [{\"marker\": {\"colorbar\": {\"outlinewidth\": 0, \"ticks\": \"\"}}, \"type\": \"scattermapbox\"}], \"scatterpolar\": [{\"marker\": {\"colorbar\": {\"outlinewidth\": 0, \"ticks\": \"\"}}, \"type\": \"scatterpolar\"}], \"scatterpolargl\": [{\"marker\": {\"colorbar\": {\"outlinewidth\": 0, \"ticks\": \"\"}}, \"type\": \"scatterpolargl\"}], \"scatterternary\": [{\"marker\": {\"colorbar\": {\"outlinewidth\": 0, \"ticks\": \"\"}}, \"type\": \"scatterternary\"}], \"surface\": [{\"colorbar\": {\"outlinewidth\": 0, \"ticks\": \"\"}, \"colorscale\": [[0.0, \"#0d0887\"], [0.1111111111111111, \"#46039f\"], [0.2222222222222222, \"#7201a8\"], [0.3333333333333333, \"#9c179e\"], [0.4444444444444444, \"#bd3786\"], [0.5555555555555556, \"#d8576b\"], [0.6666666666666666, \"#ed7953\"], [0.7777777777777778, \"#fb9f3a\"], [0.8888888888888888, \"#fdca26\"], [1.0, \"#f0f921\"]], \"type\": \"surface\"}], \"table\": [{\"cells\": {\"fill\": {\"color\": \"#EBF0F8\"}, \"line\": {\"color\": \"white\"}}, \"header\": {\"fill\": {\"color\": \"#C8D4E3\"}, \"line\": {\"color\": \"white\"}}, \"type\": \"table\"}]}, \"layout\": {\"annotationdefaults\": {\"arrowcolor\": \"#2a3f5f\", \"arrowhead\": 0, \"arrowwidth\": 1}, \"coloraxis\": {\"colorbar\": {\"outlinewidth\": 0, \"ticks\": \"\"}}, \"colorscale\": {\"diverging\": [[0, \"#8e0152\"], [0.1, \"#c51b7d\"], [0.2, \"#de77ae\"], [0.3, \"#f1b6da\"], [0.4, \"#fde0ef\"], [0.5, \"#f7f7f7\"], [0.6, \"#e6f5d0\"], [0.7, \"#b8e186\"], [0.8, \"#7fbc41\"], [0.9, \"#4d9221\"], [1, \"#276419\"]], \"sequential\": [[0.0, \"#0d0887\"], [0.1111111111111111, \"#46039f\"], [0.2222222222222222, \"#7201a8\"], [0.3333333333333333, \"#9c179e\"], [0.4444444444444444, \"#bd3786\"], [0.5555555555555556, \"#d8576b\"], [0.6666666666666666, \"#ed7953\"], [0.7777777777777778, \"#fb9f3a\"], [0.8888888888888888, \"#fdca26\"], [1.0, \"#f0f921\"]], \"sequentialminus\": [[0.0, \"#0d0887\"], [0.1111111111111111, \"#46039f\"], [0.2222222222222222, \"#7201a8\"], [0.3333333333333333, \"#9c179e\"], [0.4444444444444444, \"#bd3786\"], [0.5555555555555556, \"#d8576b\"], [0.6666666666666666, \"#ed7953\"], [0.7777777777777778, \"#fb9f3a\"], [0.8888888888888888, \"#fdca26\"], [1.0, \"#f0f921\"]]}, \"colorway\": [\"#636efa\", \"#EF553B\", \"#00cc96\", \"#ab63fa\", \"#FFA15A\", \"#19d3f3\", \"#FF6692\", \"#B6E880\", \"#FF97FF\", \"#FECB52\"], \"font\": {\"color\": \"#2a3f5f\"}, \"geo\": {\"bgcolor\": \"white\", \"lakecolor\": \"white\", \"landcolor\": \"#E5ECF6\", \"showlakes\": true, \"showland\": true, \"subunitcolor\": \"white\"}, \"hoverlabel\": {\"align\": \"left\"}, \"hovermode\": \"closest\", \"mapbox\": {\"style\": \"light\"}, \"paper_bgcolor\": \"white\", \"plot_bgcolor\": \"#E5ECF6\", \"polar\": {\"angularaxis\": {\"gridcolor\": \"white\", \"linecolor\": \"white\", \"ticks\": \"\"}, \"bgcolor\": \"#E5ECF6\", \"radialaxis\": {\"gridcolor\": \"white\", \"linecolor\": \"white\", \"ticks\": \"\"}}, \"scene\": {\"xaxis\": {\"backgroundcolor\": \"#E5ECF6\", \"gridcolor\": \"white\", \"gridwidth\": 2, \"linecolor\": \"white\", \"showbackground\": true, \"ticks\": \"\", \"zerolinecolor\": \"white\"}, \"yaxis\": {\"backgroundcolor\": \"#E5ECF6\", \"gridcolor\": \"white\", \"gridwidth\": 2, \"linecolor\": \"white\", \"showbackground\": true, \"ticks\": \"\", \"zerolinecolor\": \"white\"}, \"zaxis\": {\"backgroundcolor\": \"#E5ECF6\", \"gridcolor\": \"white\", \"gridwidth\": 2, \"linecolor\": \"white\", \"showbackground\": true, \"ticks\": \"\", \"zerolinecolor\": \"white\"}}, \"shapedefaults\": {\"line\": {\"color\": \"#2a3f5f\"}}, \"ternary\": {\"aaxis\": {\"gridcolor\": \"white\", \"linecolor\": \"white\", \"ticks\": \"\"}, \"baxis\": {\"gridcolor\": \"white\", \"linecolor\": \"white\", \"ticks\": \"\"}, \"bgcolor\": \"#E5ECF6\", \"caxis\": {\"gridcolor\": \"white\", \"linecolor\": \"white\", \"ticks\": \"\"}}, \"title\": {\"x\": 0.05}, \"xaxis\": {\"automargin\": true, \"gridcolor\": \"white\", \"linecolor\": \"white\", \"ticks\": \"\", \"title\": {\"standoff\": 15}, \"zerolinecolor\": \"white\", \"zerolinewidth\": 2}, \"yaxis\": {\"automargin\": true, \"gridcolor\": \"white\", \"linecolor\": \"white\", \"ticks\": \"\", \"title\": {\"standoff\": 15}, \"zerolinecolor\": \"white\", \"zerolinewidth\": 2}}}, \"width\": 900, \"xaxis\": {\"constrain\": \"domain\", \"scaleanchor\": \"y\", \"side\": \"top\", \"title\": {\"text\": \"Percent Change of Most Mentioned Words\"}}, \"yaxis\": {\"autorange\": \"reversed\", \"constrain\": \"domain\", \"title\": {\"text\": \"Date\"}}},                        {\"responsive\": true}                    ).then(function(){\n",
       "                            \n",
       "var gd = document.getElementById('7e2b90d8-ecd4-4a92-b04f-c84649343921');\n",
       "var x = new MutationObserver(function (mutations, observer) {{\n",
       "        var display = window.getComputedStyle(gd).display;\n",
       "        if (!display || display === 'none') {{\n",
       "            console.log([gd, 'removed!']);\n",
       "            Plotly.purge(gd);\n",
       "            observer.disconnect();\n",
       "        }}\n",
       "}});\n",
       "\n",
       "// Listen for the removal of the full notebook cells\n",
       "var notebookContainer = gd.closest('#notebook-container');\n",
       "if (notebookContainer) {{\n",
       "    x.observe(notebookContainer, {childList: true});\n",
       "}}\n",
       "\n",
       "// Listen for the clearing of the current output cell\n",
       "var outputEl = gd.closest('.output');\n",
       "if (outputEl) {{\n",
       "    x.observe(outputEl, {childList: true});\n",
       "}}\n",
       "\n",
       "                        })                };                });            </script>        </div>"
      ]
     },
     "metadata": {},
     "output_type": "display_data"
    }
   ],
   "source": [
    "gp1.heatmap()"
   ]
  },
  {
   "cell_type": "code",
   "execution_count": 8,
   "metadata": {
    "ExecuteTime": {
     "end_time": "2020-09-28T02:01:18.304538Z",
     "start_time": "2020-09-28T02:01:13.031260Z"
    }
   },
   "outputs": [
    {
     "data": {
      "application/vnd.plotly.v1+json": {
       "config": {
        "plotlyServerURL": "https://plot.ly"
       },
       "data": [
        {
         "alignmentgroup": "True",
         "hovertemplate": "Term=anger<br>Phase=%{x}<br>Mentions=%{y}<extra></extra>",
         "legendgroup": "",
         "marker": {
          "color": "rgba(89, 171, 227, 1)"
         },
         "name": "",
         "offsetgroup": "",
         "opacity": 0.6,
         "orientation": "v",
         "showlegend": false,
         "textposition": "auto",
         "type": "bar",
         "x": [
          "2",
          "3",
          "4"
         ],
         "xaxis": "x",
         "y": [
          138,
          1238,
          619
         ],
         "yaxis": "y"
        },
        {
         "alignmentgroup": "True",
         "hovertemplate": "Term=bored<br>Phase=%{x}<br>Mentions=%{y}<extra></extra>",
         "legendgroup": "",
         "marker": {
          "color": "rgba(89, 171, 227, 1)"
         },
         "name": "",
         "offsetgroup": "",
         "opacity": 0.6,
         "orientation": "v",
         "showlegend": false,
         "textposition": "auto",
         "type": "bar",
         "x": [
          "1",
          "2",
          "3",
          "4"
         ],
         "xaxis": "x2",
         "y": [
          66,
          436,
          1142,
          200
         ],
         "yaxis": "y2"
        },
        {
         "alignmentgroup": "True",
         "hovertemplate": "Term=depressed<br>Phase=%{x}<br>Mentions=%{y}<extra></extra>",
         "legendgroup": "",
         "marker": {
          "color": "rgba(89, 171, 227, 1)"
         },
         "name": "",
         "offsetgroup": "",
         "opacity": 0.6,
         "orientation": "v",
         "showlegend": false,
         "textposition": "auto",
         "type": "bar",
         "x": [
          "3",
          "4"
         ],
         "xaxis": "x3",
         "y": [
          255,
          230
         ],
         "yaxis": "y3"
        },
        {
         "alignmentgroup": "True",
         "hovertemplate": "Term=miserable<br>Phase=%{x}<br>Mentions=%{y}<extra></extra>",
         "legendgroup": "",
         "marker": {
          "color": "rgba(89, 171, 227, 1)"
         },
         "name": "",
         "offsetgroup": "",
         "opacity": 0.6,
         "orientation": "v",
         "showlegend": false,
         "textposition": "auto",
         "type": "bar",
         "x": [
          "3",
          "4"
         ],
         "xaxis": "x4",
         "y": [
          149,
          24
         ],
         "yaxis": "y4"
        },
        {
         "alignmentgroup": "True",
         "hovertemplate": "Term=sad<br>Phase=%{x}<br>Mentions=%{y}<extra></extra>",
         "legendgroup": "",
         "marker": {
          "color": "rgba(89, 171, 227, 1)"
         },
         "name": "",
         "offsetgroup": "",
         "opacity": 0.6,
         "orientation": "v",
         "showlegend": false,
         "textposition": "auto",
         "type": "bar",
         "x": [
          "1",
          "2",
          "3",
          "4"
         ],
         "xaxis": "x5",
         "y": [
          538,
          1512,
          7660,
          3771
         ],
         "yaxis": "y5"
        },
        {
         "alignmentgroup": "True",
         "hovertemplate": "Term=worry<br>Phase=%{x}<br>Mentions=%{y}<extra></extra>",
         "legendgroup": "",
         "marker": {
          "color": "rgba(89, 171, 227, 1)"
         },
         "name": "",
         "offsetgroup": "",
         "opacity": 0.6,
         "orientation": "v",
         "showlegend": false,
         "textposition": "auto",
         "type": "bar",
         "x": [
          "1",
          "2",
          "3",
          "4"
         ],
         "xaxis": "x6",
         "y": [
          171,
          932,
          5734,
          2665
         ],
         "yaxis": "y6"
        }
       ],
       "layout": {
        "annotations": [
         {
          "font": {},
          "showarrow": false,
          "text": "Term=anger",
          "x": 0.075,
          "xanchor": "center",
          "xref": "paper",
          "y": 1,
          "yanchor": "bottom",
          "yref": "paper"
         },
         {
          "font": {},
          "showarrow": false,
          "text": "Term=bored",
          "x": 0.24499999999999997,
          "xanchor": "center",
          "xref": "paper",
          "y": 1,
          "yanchor": "bottom",
          "yref": "paper"
         },
         {
          "font": {},
          "showarrow": false,
          "text": "Term=depressed",
          "x": 0.415,
          "xanchor": "center",
          "xref": "paper",
          "y": 1,
          "yanchor": "bottom",
          "yref": "paper"
         },
         {
          "font": {},
          "showarrow": false,
          "text": "Term=miserable",
          "x": 0.585,
          "xanchor": "center",
          "xref": "paper",
          "y": 1,
          "yanchor": "bottom",
          "yref": "paper"
         },
         {
          "font": {},
          "showarrow": false,
          "text": "Term=sad",
          "x": 0.7549999999999999,
          "xanchor": "center",
          "xref": "paper",
          "y": 1,
          "yanchor": "bottom",
          "yref": "paper"
         },
         {
          "font": {},
          "showarrow": false,
          "text": "Term=worry",
          "x": 0.925,
          "xanchor": "center",
          "xref": "paper",
          "y": 1,
          "yanchor": "bottom",
          "yref": "paper"
         }
        ],
        "barmode": "relative",
        "legend": {
         "tracegroupgap": 0
        },
        "margin": {
         "t": 60
        },
        "template": {
         "data": {
          "bar": [
           {
            "error_x": {
             "color": "#2a3f5f"
            },
            "error_y": {
             "color": "#2a3f5f"
            },
            "marker": {
             "line": {
              "color": "#E5ECF6",
              "width": 0.5
             }
            },
            "type": "bar"
           }
          ],
          "barpolar": [
           {
            "marker": {
             "line": {
              "color": "#E5ECF6",
              "width": 0.5
             }
            },
            "type": "barpolar"
           }
          ],
          "carpet": [
           {
            "aaxis": {
             "endlinecolor": "#2a3f5f",
             "gridcolor": "white",
             "linecolor": "white",
             "minorgridcolor": "white",
             "startlinecolor": "#2a3f5f"
            },
            "baxis": {
             "endlinecolor": "#2a3f5f",
             "gridcolor": "white",
             "linecolor": "white",
             "minorgridcolor": "white",
             "startlinecolor": "#2a3f5f"
            },
            "type": "carpet"
           }
          ],
          "choropleth": [
           {
            "colorbar": {
             "outlinewidth": 0,
             "ticks": ""
            },
            "type": "choropleth"
           }
          ],
          "contour": [
           {
            "colorbar": {
             "outlinewidth": 0,
             "ticks": ""
            },
            "colorscale": [
             [
              0,
              "#0d0887"
             ],
             [
              0.1111111111111111,
              "#46039f"
             ],
             [
              0.2222222222222222,
              "#7201a8"
             ],
             [
              0.3333333333333333,
              "#9c179e"
             ],
             [
              0.4444444444444444,
              "#bd3786"
             ],
             [
              0.5555555555555556,
              "#d8576b"
             ],
             [
              0.6666666666666666,
              "#ed7953"
             ],
             [
              0.7777777777777778,
              "#fb9f3a"
             ],
             [
              0.8888888888888888,
              "#fdca26"
             ],
             [
              1,
              "#f0f921"
             ]
            ],
            "type": "contour"
           }
          ],
          "contourcarpet": [
           {
            "colorbar": {
             "outlinewidth": 0,
             "ticks": ""
            },
            "type": "contourcarpet"
           }
          ],
          "heatmap": [
           {
            "colorbar": {
             "outlinewidth": 0,
             "ticks": ""
            },
            "colorscale": [
             [
              0,
              "#0d0887"
             ],
             [
              0.1111111111111111,
              "#46039f"
             ],
             [
              0.2222222222222222,
              "#7201a8"
             ],
             [
              0.3333333333333333,
              "#9c179e"
             ],
             [
              0.4444444444444444,
              "#bd3786"
             ],
             [
              0.5555555555555556,
              "#d8576b"
             ],
             [
              0.6666666666666666,
              "#ed7953"
             ],
             [
              0.7777777777777778,
              "#fb9f3a"
             ],
             [
              0.8888888888888888,
              "#fdca26"
             ],
             [
              1,
              "#f0f921"
             ]
            ],
            "type": "heatmap"
           }
          ],
          "heatmapgl": [
           {
            "colorbar": {
             "outlinewidth": 0,
             "ticks": ""
            },
            "colorscale": [
             [
              0,
              "#0d0887"
             ],
             [
              0.1111111111111111,
              "#46039f"
             ],
             [
              0.2222222222222222,
              "#7201a8"
             ],
             [
              0.3333333333333333,
              "#9c179e"
             ],
             [
              0.4444444444444444,
              "#bd3786"
             ],
             [
              0.5555555555555556,
              "#d8576b"
             ],
             [
              0.6666666666666666,
              "#ed7953"
             ],
             [
              0.7777777777777778,
              "#fb9f3a"
             ],
             [
              0.8888888888888888,
              "#fdca26"
             ],
             [
              1,
              "#f0f921"
             ]
            ],
            "type": "heatmapgl"
           }
          ],
          "histogram": [
           {
            "marker": {
             "colorbar": {
              "outlinewidth": 0,
              "ticks": ""
             }
            },
            "type": "histogram"
           }
          ],
          "histogram2d": [
           {
            "colorbar": {
             "outlinewidth": 0,
             "ticks": ""
            },
            "colorscale": [
             [
              0,
              "#0d0887"
             ],
             [
              0.1111111111111111,
              "#46039f"
             ],
             [
              0.2222222222222222,
              "#7201a8"
             ],
             [
              0.3333333333333333,
              "#9c179e"
             ],
             [
              0.4444444444444444,
              "#bd3786"
             ],
             [
              0.5555555555555556,
              "#d8576b"
             ],
             [
              0.6666666666666666,
              "#ed7953"
             ],
             [
              0.7777777777777778,
              "#fb9f3a"
             ],
             [
              0.8888888888888888,
              "#fdca26"
             ],
             [
              1,
              "#f0f921"
             ]
            ],
            "type": "histogram2d"
           }
          ],
          "histogram2dcontour": [
           {
            "colorbar": {
             "outlinewidth": 0,
             "ticks": ""
            },
            "colorscale": [
             [
              0,
              "#0d0887"
             ],
             [
              0.1111111111111111,
              "#46039f"
             ],
             [
              0.2222222222222222,
              "#7201a8"
             ],
             [
              0.3333333333333333,
              "#9c179e"
             ],
             [
              0.4444444444444444,
              "#bd3786"
             ],
             [
              0.5555555555555556,
              "#d8576b"
             ],
             [
              0.6666666666666666,
              "#ed7953"
             ],
             [
              0.7777777777777778,
              "#fb9f3a"
             ],
             [
              0.8888888888888888,
              "#fdca26"
             ],
             [
              1,
              "#f0f921"
             ]
            ],
            "type": "histogram2dcontour"
           }
          ],
          "mesh3d": [
           {
            "colorbar": {
             "outlinewidth": 0,
             "ticks": ""
            },
            "type": "mesh3d"
           }
          ],
          "parcoords": [
           {
            "line": {
             "colorbar": {
              "outlinewidth": 0,
              "ticks": ""
             }
            },
            "type": "parcoords"
           }
          ],
          "pie": [
           {
            "automargin": true,
            "type": "pie"
           }
          ],
          "scatter": [
           {
            "marker": {
             "colorbar": {
              "outlinewidth": 0,
              "ticks": ""
             }
            },
            "type": "scatter"
           }
          ],
          "scatter3d": [
           {
            "line": {
             "colorbar": {
              "outlinewidth": 0,
              "ticks": ""
             }
            },
            "marker": {
             "colorbar": {
              "outlinewidth": 0,
              "ticks": ""
             }
            },
            "type": "scatter3d"
           }
          ],
          "scattercarpet": [
           {
            "marker": {
             "colorbar": {
              "outlinewidth": 0,
              "ticks": ""
             }
            },
            "type": "scattercarpet"
           }
          ],
          "scattergeo": [
           {
            "marker": {
             "colorbar": {
              "outlinewidth": 0,
              "ticks": ""
             }
            },
            "type": "scattergeo"
           }
          ],
          "scattergl": [
           {
            "marker": {
             "colorbar": {
              "outlinewidth": 0,
              "ticks": ""
             }
            },
            "type": "scattergl"
           }
          ],
          "scattermapbox": [
           {
            "marker": {
             "colorbar": {
              "outlinewidth": 0,
              "ticks": ""
             }
            },
            "type": "scattermapbox"
           }
          ],
          "scatterpolar": [
           {
            "marker": {
             "colorbar": {
              "outlinewidth": 0,
              "ticks": ""
             }
            },
            "type": "scatterpolar"
           }
          ],
          "scatterpolargl": [
           {
            "marker": {
             "colorbar": {
              "outlinewidth": 0,
              "ticks": ""
             }
            },
            "type": "scatterpolargl"
           }
          ],
          "scatterternary": [
           {
            "marker": {
             "colorbar": {
              "outlinewidth": 0,
              "ticks": ""
             }
            },
            "type": "scatterternary"
           }
          ],
          "surface": [
           {
            "colorbar": {
             "outlinewidth": 0,
             "ticks": ""
            },
            "colorscale": [
             [
              0,
              "#0d0887"
             ],
             [
              0.1111111111111111,
              "#46039f"
             ],
             [
              0.2222222222222222,
              "#7201a8"
             ],
             [
              0.3333333333333333,
              "#9c179e"
             ],
             [
              0.4444444444444444,
              "#bd3786"
             ],
             [
              0.5555555555555556,
              "#d8576b"
             ],
             [
              0.6666666666666666,
              "#ed7953"
             ],
             [
              0.7777777777777778,
              "#fb9f3a"
             ],
             [
              0.8888888888888888,
              "#fdca26"
             ],
             [
              1,
              "#f0f921"
             ]
            ],
            "type": "surface"
           }
          ],
          "table": [
           {
            "cells": {
             "fill": {
              "color": "#EBF0F8"
             },
             "line": {
              "color": "white"
             }
            },
            "header": {
             "fill": {
              "color": "#C8D4E3"
             },
             "line": {
              "color": "white"
             }
            },
            "type": "table"
           }
          ]
         },
         "layout": {
          "annotationdefaults": {
           "arrowcolor": "#2a3f5f",
           "arrowhead": 0,
           "arrowwidth": 1
          },
          "coloraxis": {
           "colorbar": {
            "outlinewidth": 0,
            "ticks": ""
           }
          },
          "colorscale": {
           "diverging": [
            [
             0,
             "#8e0152"
            ],
            [
             0.1,
             "#c51b7d"
            ],
            [
             0.2,
             "#de77ae"
            ],
            [
             0.3,
             "#f1b6da"
            ],
            [
             0.4,
             "#fde0ef"
            ],
            [
             0.5,
             "#f7f7f7"
            ],
            [
             0.6,
             "#e6f5d0"
            ],
            [
             0.7,
             "#b8e186"
            ],
            [
             0.8,
             "#7fbc41"
            ],
            [
             0.9,
             "#4d9221"
            ],
            [
             1,
             "#276419"
            ]
           ],
           "sequential": [
            [
             0,
             "#0d0887"
            ],
            [
             0.1111111111111111,
             "#46039f"
            ],
            [
             0.2222222222222222,
             "#7201a8"
            ],
            [
             0.3333333333333333,
             "#9c179e"
            ],
            [
             0.4444444444444444,
             "#bd3786"
            ],
            [
             0.5555555555555556,
             "#d8576b"
            ],
            [
             0.6666666666666666,
             "#ed7953"
            ],
            [
             0.7777777777777778,
             "#fb9f3a"
            ],
            [
             0.8888888888888888,
             "#fdca26"
            ],
            [
             1,
             "#f0f921"
            ]
           ],
           "sequentialminus": [
            [
             0,
             "#0d0887"
            ],
            [
             0.1111111111111111,
             "#46039f"
            ],
            [
             0.2222222222222222,
             "#7201a8"
            ],
            [
             0.3333333333333333,
             "#9c179e"
            ],
            [
             0.4444444444444444,
             "#bd3786"
            ],
            [
             0.5555555555555556,
             "#d8576b"
            ],
            [
             0.6666666666666666,
             "#ed7953"
            ],
            [
             0.7777777777777778,
             "#fb9f3a"
            ],
            [
             0.8888888888888888,
             "#fdca26"
            ],
            [
             1,
             "#f0f921"
            ]
           ]
          },
          "colorway": [
           "#636efa",
           "#EF553B",
           "#00cc96",
           "#ab63fa",
           "#FFA15A",
           "#19d3f3",
           "#FF6692",
           "#B6E880",
           "#FF97FF",
           "#FECB52"
          ],
          "font": {
           "color": "#2a3f5f"
          },
          "geo": {
           "bgcolor": "white",
           "lakecolor": "white",
           "landcolor": "#E5ECF6",
           "showlakes": true,
           "showland": true,
           "subunitcolor": "white"
          },
          "hoverlabel": {
           "align": "left"
          },
          "hovermode": "closest",
          "mapbox": {
           "style": "light"
          },
          "paper_bgcolor": "white",
          "plot_bgcolor": "#E5ECF6",
          "polar": {
           "angularaxis": {
            "gridcolor": "white",
            "linecolor": "white",
            "ticks": ""
           },
           "bgcolor": "#E5ECF6",
           "radialaxis": {
            "gridcolor": "white",
            "linecolor": "white",
            "ticks": ""
           }
          },
          "scene": {
           "xaxis": {
            "backgroundcolor": "#E5ECF6",
            "gridcolor": "white",
            "gridwidth": 2,
            "linecolor": "white",
            "showbackground": true,
            "ticks": "",
            "zerolinecolor": "white"
           },
           "yaxis": {
            "backgroundcolor": "#E5ECF6",
            "gridcolor": "white",
            "gridwidth": 2,
            "linecolor": "white",
            "showbackground": true,
            "ticks": "",
            "zerolinecolor": "white"
           },
           "zaxis": {
            "backgroundcolor": "#E5ECF6",
            "gridcolor": "white",
            "gridwidth": 2,
            "linecolor": "white",
            "showbackground": true,
            "ticks": "",
            "zerolinecolor": "white"
           }
          },
          "shapedefaults": {
           "line": {
            "color": "#2a3f5f"
           }
          },
          "ternary": {
           "aaxis": {
            "gridcolor": "white",
            "linecolor": "white",
            "ticks": ""
           },
           "baxis": {
            "gridcolor": "white",
            "linecolor": "white",
            "ticks": ""
           },
           "bgcolor": "#E5ECF6",
           "caxis": {
            "gridcolor": "white",
            "linecolor": "white",
            "ticks": ""
           }
          },
          "title": {
           "x": 0.05
          },
          "xaxis": {
           "automargin": true,
           "gridcolor": "white",
           "linecolor": "white",
           "ticks": "",
           "title": {
            "standoff": 15
           },
           "zerolinecolor": "white",
           "zerolinewidth": 2
          },
          "yaxis": {
           "automargin": true,
           "gridcolor": "white",
           "linecolor": "white",
           "ticks": "",
           "title": {
            "standoff": 15
           },
           "zerolinecolor": "white",
           "zerolinewidth": 2
          }
         }
        },
        "title": {
         "text": "Emotionally indicative word mentions during each Phase"
        },
        "xaxis": {
         "anchor": "y",
         "domain": [
          0,
          0.15
         ],
         "title": {
          "text": "Phase"
         }
        },
        "xaxis2": {
         "anchor": "y2",
         "domain": [
          0.16999999999999998,
          0.31999999999999995
         ],
         "matches": "x",
         "title": {
          "text": "Phase"
         }
        },
        "xaxis3": {
         "anchor": "y3",
         "domain": [
          0.33999999999999997,
          0.49
         ],
         "matches": "x",
         "title": {
          "text": "Phase"
         }
        },
        "xaxis4": {
         "anchor": "y4",
         "domain": [
          0.51,
          0.66
         ],
         "matches": "x",
         "title": {
          "text": "Phase"
         }
        },
        "xaxis5": {
         "anchor": "y5",
         "domain": [
          0.6799999999999999,
          0.83
         ],
         "matches": "x",
         "title": {
          "text": "Phase"
         }
        },
        "xaxis6": {
         "anchor": "y6",
         "domain": [
          0.85,
          1
         ],
         "matches": "x",
         "title": {
          "text": "Phase"
         }
        },
        "yaxis": {
         "anchor": "x",
         "domain": [
          0,
          1
         ],
         "title": {
          "text": "Mentions"
         }
        },
        "yaxis2": {
         "anchor": "x2",
         "domain": [
          0,
          1
         ],
         "matches": "y",
         "showticklabels": false
        },
        "yaxis3": {
         "anchor": "x3",
         "domain": [
          0,
          1
         ],
         "matches": "y",
         "showticklabels": false
        },
        "yaxis4": {
         "anchor": "x4",
         "domain": [
          0,
          1
         ],
         "matches": "y",
         "showticklabels": false
        },
        "yaxis5": {
         "anchor": "x5",
         "domain": [
          0,
          1
         ],
         "matches": "y",
         "showticklabels": false
        },
        "yaxis6": {
         "anchor": "x6",
         "domain": [
          0,
          1
         ],
         "matches": "y",
         "showticklabels": false
        }
       }
      },
      "text/html": [
       "<div>                            <div id=\"c10ed0d0-c70a-451a-9080-4953632213f3\" class=\"plotly-graph-div\" style=\"height:525px; width:100%;\"></div>            <script type=\"text/javascript\">                require([\"plotly\"], function(Plotly) {                    window.PLOTLYENV=window.PLOTLYENV || {};                                    if (document.getElementById(\"c10ed0d0-c70a-451a-9080-4953632213f3\")) {                    Plotly.newPlot(                        \"c10ed0d0-c70a-451a-9080-4953632213f3\",                        [{\"alignmentgroup\": \"True\", \"hovertemplate\": \"Term=anger<br>Phase=%{x}<br>Mentions=%{y}<extra></extra>\", \"legendgroup\": \"\", \"marker\": {\"color\": \"rgba(89, 171, 227, 1)\"}, \"name\": \"\", \"offsetgroup\": \"\", \"opacity\": 0.6, \"orientation\": \"v\", \"showlegend\": false, \"textposition\": \"auto\", \"type\": \"bar\", \"x\": [\"2\", \"3\", \"4\"], \"xaxis\": \"x\", \"y\": [138, 1238, 619], \"yaxis\": \"y\"}, {\"alignmentgroup\": \"True\", \"hovertemplate\": \"Term=bored<br>Phase=%{x}<br>Mentions=%{y}<extra></extra>\", \"legendgroup\": \"\", \"marker\": {\"color\": \"rgba(89, 171, 227, 1)\"}, \"name\": \"\", \"offsetgroup\": \"\", \"opacity\": 0.6, \"orientation\": \"v\", \"showlegend\": false, \"textposition\": \"auto\", \"type\": \"bar\", \"x\": [\"1\", \"2\", \"3\", \"4\"], \"xaxis\": \"x2\", \"y\": [66, 436, 1142, 200], \"yaxis\": \"y2\"}, {\"alignmentgroup\": \"True\", \"hovertemplate\": \"Term=depressed<br>Phase=%{x}<br>Mentions=%{y}<extra></extra>\", \"legendgroup\": \"\", \"marker\": {\"color\": \"rgba(89, 171, 227, 1)\"}, \"name\": \"\", \"offsetgroup\": \"\", \"opacity\": 0.6, \"orientation\": \"v\", \"showlegend\": false, \"textposition\": \"auto\", \"type\": \"bar\", \"x\": [\"3\", \"4\"], \"xaxis\": \"x3\", \"y\": [255, 230], \"yaxis\": \"y3\"}, {\"alignmentgroup\": \"True\", \"hovertemplate\": \"Term=miserable<br>Phase=%{x}<br>Mentions=%{y}<extra></extra>\", \"legendgroup\": \"\", \"marker\": {\"color\": \"rgba(89, 171, 227, 1)\"}, \"name\": \"\", \"offsetgroup\": \"\", \"opacity\": 0.6, \"orientation\": \"v\", \"showlegend\": false, \"textposition\": \"auto\", \"type\": \"bar\", \"x\": [\"3\", \"4\"], \"xaxis\": \"x4\", \"y\": [149, 24], \"yaxis\": \"y4\"}, {\"alignmentgroup\": \"True\", \"hovertemplate\": \"Term=sad<br>Phase=%{x}<br>Mentions=%{y}<extra></extra>\", \"legendgroup\": \"\", \"marker\": {\"color\": \"rgba(89, 171, 227, 1)\"}, \"name\": \"\", \"offsetgroup\": \"\", \"opacity\": 0.6, \"orientation\": \"v\", \"showlegend\": false, \"textposition\": \"auto\", \"type\": \"bar\", \"x\": [\"1\", \"2\", \"3\", \"4\"], \"xaxis\": \"x5\", \"y\": [538, 1512, 7660, 3771], \"yaxis\": \"y5\"}, {\"alignmentgroup\": \"True\", \"hovertemplate\": \"Term=worry<br>Phase=%{x}<br>Mentions=%{y}<extra></extra>\", \"legendgroup\": \"\", \"marker\": {\"color\": \"rgba(89, 171, 227, 1)\"}, \"name\": \"\", \"offsetgroup\": \"\", \"opacity\": 0.6, \"orientation\": \"v\", \"showlegend\": false, \"textposition\": \"auto\", \"type\": \"bar\", \"x\": [\"1\", \"2\", \"3\", \"4\"], \"xaxis\": \"x6\", \"y\": [171, 932, 5734, 2665], \"yaxis\": \"y6\"}],                        {\"annotations\": [{\"font\": {}, \"showarrow\": false, \"text\": \"Term=anger\", \"x\": 0.075, \"xanchor\": \"center\", \"xref\": \"paper\", \"y\": 1.0, \"yanchor\": \"bottom\", \"yref\": \"paper\"}, {\"font\": {}, \"showarrow\": false, \"text\": \"Term=bored\", \"x\": 0.24499999999999997, \"xanchor\": \"center\", \"xref\": \"paper\", \"y\": 1.0, \"yanchor\": \"bottom\", \"yref\": \"paper\"}, {\"font\": {}, \"showarrow\": false, \"text\": \"Term=depressed\", \"x\": 0.415, \"xanchor\": \"center\", \"xref\": \"paper\", \"y\": 1.0, \"yanchor\": \"bottom\", \"yref\": \"paper\"}, {\"font\": {}, \"showarrow\": false, \"text\": \"Term=miserable\", \"x\": 0.585, \"xanchor\": \"center\", \"xref\": \"paper\", \"y\": 1.0, \"yanchor\": \"bottom\", \"yref\": \"paper\"}, {\"font\": {}, \"showarrow\": false, \"text\": \"Term=sad\", \"x\": 0.7549999999999999, \"xanchor\": \"center\", \"xref\": \"paper\", \"y\": 1.0, \"yanchor\": \"bottom\", \"yref\": \"paper\"}, {\"font\": {}, \"showarrow\": false, \"text\": \"Term=worry\", \"x\": 0.925, \"xanchor\": \"center\", \"xref\": \"paper\", \"y\": 1.0, \"yanchor\": \"bottom\", \"yref\": \"paper\"}], \"barmode\": \"relative\", \"legend\": {\"tracegroupgap\": 0}, \"margin\": {\"t\": 60}, \"template\": {\"data\": {\"bar\": [{\"error_x\": {\"color\": \"#2a3f5f\"}, \"error_y\": {\"color\": \"#2a3f5f\"}, \"marker\": {\"line\": {\"color\": \"#E5ECF6\", \"width\": 0.5}}, \"type\": \"bar\"}], \"barpolar\": [{\"marker\": {\"line\": {\"color\": \"#E5ECF6\", \"width\": 0.5}}, \"type\": \"barpolar\"}], \"carpet\": [{\"aaxis\": {\"endlinecolor\": \"#2a3f5f\", \"gridcolor\": \"white\", \"linecolor\": \"white\", \"minorgridcolor\": \"white\", \"startlinecolor\": \"#2a3f5f\"}, \"baxis\": {\"endlinecolor\": \"#2a3f5f\", \"gridcolor\": \"white\", \"linecolor\": \"white\", \"minorgridcolor\": \"white\", \"startlinecolor\": \"#2a3f5f\"}, \"type\": \"carpet\"}], \"choropleth\": [{\"colorbar\": {\"outlinewidth\": 0, \"ticks\": \"\"}, \"type\": \"choropleth\"}], \"contour\": [{\"colorbar\": {\"outlinewidth\": 0, \"ticks\": \"\"}, \"colorscale\": [[0.0, \"#0d0887\"], [0.1111111111111111, \"#46039f\"], [0.2222222222222222, \"#7201a8\"], [0.3333333333333333, \"#9c179e\"], [0.4444444444444444, \"#bd3786\"], [0.5555555555555556, \"#d8576b\"], [0.6666666666666666, \"#ed7953\"], [0.7777777777777778, \"#fb9f3a\"], [0.8888888888888888, \"#fdca26\"], [1.0, \"#f0f921\"]], \"type\": \"contour\"}], \"contourcarpet\": [{\"colorbar\": {\"outlinewidth\": 0, \"ticks\": \"\"}, \"type\": \"contourcarpet\"}], \"heatmap\": [{\"colorbar\": {\"outlinewidth\": 0, \"ticks\": \"\"}, \"colorscale\": [[0.0, \"#0d0887\"], [0.1111111111111111, \"#46039f\"], [0.2222222222222222, \"#7201a8\"], [0.3333333333333333, \"#9c179e\"], [0.4444444444444444, \"#bd3786\"], [0.5555555555555556, \"#d8576b\"], [0.6666666666666666, \"#ed7953\"], [0.7777777777777778, \"#fb9f3a\"], [0.8888888888888888, \"#fdca26\"], [1.0, \"#f0f921\"]], \"type\": \"heatmap\"}], \"heatmapgl\": [{\"colorbar\": {\"outlinewidth\": 0, \"ticks\": \"\"}, \"colorscale\": [[0.0, \"#0d0887\"], [0.1111111111111111, \"#46039f\"], [0.2222222222222222, \"#7201a8\"], [0.3333333333333333, \"#9c179e\"], [0.4444444444444444, \"#bd3786\"], [0.5555555555555556, \"#d8576b\"], [0.6666666666666666, \"#ed7953\"], [0.7777777777777778, \"#fb9f3a\"], [0.8888888888888888, \"#fdca26\"], [1.0, \"#f0f921\"]], \"type\": \"heatmapgl\"}], \"histogram\": [{\"marker\": {\"colorbar\": {\"outlinewidth\": 0, \"ticks\": \"\"}}, \"type\": \"histogram\"}], \"histogram2d\": [{\"colorbar\": {\"outlinewidth\": 0, \"ticks\": \"\"}, \"colorscale\": [[0.0, \"#0d0887\"], [0.1111111111111111, \"#46039f\"], [0.2222222222222222, \"#7201a8\"], [0.3333333333333333, \"#9c179e\"], [0.4444444444444444, \"#bd3786\"], [0.5555555555555556, \"#d8576b\"], [0.6666666666666666, \"#ed7953\"], [0.7777777777777778, \"#fb9f3a\"], [0.8888888888888888, \"#fdca26\"], [1.0, \"#f0f921\"]], \"type\": \"histogram2d\"}], \"histogram2dcontour\": [{\"colorbar\": {\"outlinewidth\": 0, \"ticks\": \"\"}, \"colorscale\": [[0.0, \"#0d0887\"], [0.1111111111111111, \"#46039f\"], [0.2222222222222222, \"#7201a8\"], [0.3333333333333333, \"#9c179e\"], [0.4444444444444444, \"#bd3786\"], [0.5555555555555556, \"#d8576b\"], [0.6666666666666666, \"#ed7953\"], [0.7777777777777778, \"#fb9f3a\"], [0.8888888888888888, \"#fdca26\"], [1.0, \"#f0f921\"]], \"type\": \"histogram2dcontour\"}], \"mesh3d\": [{\"colorbar\": {\"outlinewidth\": 0, \"ticks\": \"\"}, \"type\": \"mesh3d\"}], \"parcoords\": [{\"line\": {\"colorbar\": {\"outlinewidth\": 0, \"ticks\": \"\"}}, \"type\": \"parcoords\"}], \"pie\": [{\"automargin\": true, \"type\": \"pie\"}], \"scatter\": [{\"marker\": {\"colorbar\": {\"outlinewidth\": 0, \"ticks\": \"\"}}, \"type\": \"scatter\"}], \"scatter3d\": [{\"line\": {\"colorbar\": {\"outlinewidth\": 0, \"ticks\": \"\"}}, \"marker\": {\"colorbar\": {\"outlinewidth\": 0, \"ticks\": \"\"}}, \"type\": \"scatter3d\"}], \"scattercarpet\": [{\"marker\": {\"colorbar\": {\"outlinewidth\": 0, \"ticks\": \"\"}}, \"type\": \"scattercarpet\"}], \"scattergeo\": [{\"marker\": {\"colorbar\": {\"outlinewidth\": 0, \"ticks\": \"\"}}, \"type\": \"scattergeo\"}], \"scattergl\": [{\"marker\": {\"colorbar\": {\"outlinewidth\": 0, \"ticks\": \"\"}}, \"type\": \"scattergl\"}], \"scattermapbox\": [{\"marker\": {\"colorbar\": {\"outlinewidth\": 0, \"ticks\": \"\"}}, \"type\": \"scattermapbox\"}], \"scatterpolar\": [{\"marker\": {\"colorbar\": {\"outlinewidth\": 0, \"ticks\": \"\"}}, \"type\": \"scatterpolar\"}], \"scatterpolargl\": [{\"marker\": {\"colorbar\": {\"outlinewidth\": 0, \"ticks\": \"\"}}, \"type\": \"scatterpolargl\"}], \"scatterternary\": [{\"marker\": {\"colorbar\": {\"outlinewidth\": 0, \"ticks\": \"\"}}, \"type\": \"scatterternary\"}], \"surface\": [{\"colorbar\": {\"outlinewidth\": 0, \"ticks\": \"\"}, \"colorscale\": [[0.0, \"#0d0887\"], [0.1111111111111111, \"#46039f\"], [0.2222222222222222, \"#7201a8\"], [0.3333333333333333, \"#9c179e\"], [0.4444444444444444, \"#bd3786\"], [0.5555555555555556, \"#d8576b\"], [0.6666666666666666, \"#ed7953\"], [0.7777777777777778, \"#fb9f3a\"], [0.8888888888888888, \"#fdca26\"], [1.0, \"#f0f921\"]], \"type\": \"surface\"}], \"table\": [{\"cells\": {\"fill\": {\"color\": \"#EBF0F8\"}, \"line\": {\"color\": \"white\"}}, \"header\": {\"fill\": {\"color\": \"#C8D4E3\"}, \"line\": {\"color\": \"white\"}}, \"type\": \"table\"}]}, \"layout\": {\"annotationdefaults\": {\"arrowcolor\": \"#2a3f5f\", \"arrowhead\": 0, \"arrowwidth\": 1}, \"coloraxis\": {\"colorbar\": {\"outlinewidth\": 0, \"ticks\": \"\"}}, \"colorscale\": {\"diverging\": [[0, \"#8e0152\"], [0.1, \"#c51b7d\"], [0.2, \"#de77ae\"], [0.3, \"#f1b6da\"], [0.4, \"#fde0ef\"], [0.5, \"#f7f7f7\"], [0.6, \"#e6f5d0\"], [0.7, \"#b8e186\"], [0.8, \"#7fbc41\"], [0.9, \"#4d9221\"], [1, \"#276419\"]], \"sequential\": [[0.0, \"#0d0887\"], [0.1111111111111111, \"#46039f\"], [0.2222222222222222, \"#7201a8\"], [0.3333333333333333, \"#9c179e\"], [0.4444444444444444, \"#bd3786\"], [0.5555555555555556, \"#d8576b\"], [0.6666666666666666, \"#ed7953\"], [0.7777777777777778, \"#fb9f3a\"], [0.8888888888888888, \"#fdca26\"], [1.0, \"#f0f921\"]], \"sequentialminus\": [[0.0, \"#0d0887\"], [0.1111111111111111, \"#46039f\"], [0.2222222222222222, \"#7201a8\"], [0.3333333333333333, \"#9c179e\"], [0.4444444444444444, \"#bd3786\"], [0.5555555555555556, \"#d8576b\"], [0.6666666666666666, \"#ed7953\"], [0.7777777777777778, \"#fb9f3a\"], [0.8888888888888888, \"#fdca26\"], [1.0, \"#f0f921\"]]}, \"colorway\": [\"#636efa\", \"#EF553B\", \"#00cc96\", \"#ab63fa\", \"#FFA15A\", \"#19d3f3\", \"#FF6692\", \"#B6E880\", \"#FF97FF\", \"#FECB52\"], \"font\": {\"color\": \"#2a3f5f\"}, \"geo\": {\"bgcolor\": \"white\", \"lakecolor\": \"white\", \"landcolor\": \"#E5ECF6\", \"showlakes\": true, \"showland\": true, \"subunitcolor\": \"white\"}, \"hoverlabel\": {\"align\": \"left\"}, \"hovermode\": \"closest\", \"mapbox\": {\"style\": \"light\"}, \"paper_bgcolor\": \"white\", \"plot_bgcolor\": \"#E5ECF6\", \"polar\": {\"angularaxis\": {\"gridcolor\": \"white\", \"linecolor\": \"white\", \"ticks\": \"\"}, \"bgcolor\": \"#E5ECF6\", \"radialaxis\": {\"gridcolor\": \"white\", \"linecolor\": \"white\", \"ticks\": \"\"}}, \"scene\": {\"xaxis\": {\"backgroundcolor\": \"#E5ECF6\", \"gridcolor\": \"white\", \"gridwidth\": 2, \"linecolor\": \"white\", \"showbackground\": true, \"ticks\": \"\", \"zerolinecolor\": \"white\"}, \"yaxis\": {\"backgroundcolor\": \"#E5ECF6\", \"gridcolor\": \"white\", \"gridwidth\": 2, \"linecolor\": \"white\", \"showbackground\": true, \"ticks\": \"\", \"zerolinecolor\": \"white\"}, \"zaxis\": {\"backgroundcolor\": \"#E5ECF6\", \"gridcolor\": \"white\", \"gridwidth\": 2, \"linecolor\": \"white\", \"showbackground\": true, \"ticks\": \"\", \"zerolinecolor\": \"white\"}}, \"shapedefaults\": {\"line\": {\"color\": \"#2a3f5f\"}}, \"ternary\": {\"aaxis\": {\"gridcolor\": \"white\", \"linecolor\": \"white\", \"ticks\": \"\"}, \"baxis\": {\"gridcolor\": \"white\", \"linecolor\": \"white\", \"ticks\": \"\"}, \"bgcolor\": \"#E5ECF6\", \"caxis\": {\"gridcolor\": \"white\", \"linecolor\": \"white\", \"ticks\": \"\"}}, \"title\": {\"x\": 0.05}, \"xaxis\": {\"automargin\": true, \"gridcolor\": \"white\", \"linecolor\": \"white\", \"ticks\": \"\", \"title\": {\"standoff\": 15}, \"zerolinecolor\": \"white\", \"zerolinewidth\": 2}, \"yaxis\": {\"automargin\": true, \"gridcolor\": \"white\", \"linecolor\": \"white\", \"ticks\": \"\", \"title\": {\"standoff\": 15}, \"zerolinecolor\": \"white\", \"zerolinewidth\": 2}}}, \"title\": {\"text\": \"Emotionally indicative word mentions during each Phase\"}, \"xaxis\": {\"anchor\": \"y\", \"domain\": [0.0, 0.15], \"title\": {\"text\": \"Phase\"}}, \"xaxis2\": {\"anchor\": \"y2\", \"domain\": [0.16999999999999998, 0.31999999999999995], \"matches\": \"x\", \"title\": {\"text\": \"Phase\"}}, \"xaxis3\": {\"anchor\": \"y3\", \"domain\": [0.33999999999999997, 0.49], \"matches\": \"x\", \"title\": {\"text\": \"Phase\"}}, \"xaxis4\": {\"anchor\": \"y4\", \"domain\": [0.51, 0.66], \"matches\": \"x\", \"title\": {\"text\": \"Phase\"}}, \"xaxis5\": {\"anchor\": \"y5\", \"domain\": [0.6799999999999999, 0.83], \"matches\": \"x\", \"title\": {\"text\": \"Phase\"}}, \"xaxis6\": {\"anchor\": \"y6\", \"domain\": [0.85, 1.0], \"matches\": \"x\", \"title\": {\"text\": \"Phase\"}}, \"yaxis\": {\"anchor\": \"x\", \"domain\": [0.0, 1.0], \"title\": {\"text\": \"Mentions\"}}, \"yaxis2\": {\"anchor\": \"x2\", \"domain\": [0.0, 1.0], \"matches\": \"y\", \"showticklabels\": false}, \"yaxis3\": {\"anchor\": \"x3\", \"domain\": [0.0, 1.0], \"matches\": \"y\", \"showticklabels\": false}, \"yaxis4\": {\"anchor\": \"x4\", \"domain\": [0.0, 1.0], \"matches\": \"y\", \"showticklabels\": false}, \"yaxis5\": {\"anchor\": \"x5\", \"domain\": [0.0, 1.0], \"matches\": \"y\", \"showticklabels\": false}, \"yaxis6\": {\"anchor\": \"x6\", \"domain\": [0.0, 1.0], \"matches\": \"y\", \"showticklabels\": false}},                        {\"responsive\": true}                    ).then(function(){\n",
       "                            \n",
       "var gd = document.getElementById('c10ed0d0-c70a-451a-9080-4953632213f3');\n",
       "var x = new MutationObserver(function (mutations, observer) {{\n",
       "        var display = window.getComputedStyle(gd).display;\n",
       "        if (!display || display === 'none') {{\n",
       "            console.log([gd, 'removed!']);\n",
       "            Plotly.purge(gd);\n",
       "            observer.disconnect();\n",
       "        }}\n",
       "}});\n",
       "\n",
       "// Listen for the removal of the full notebook cells\n",
       "var notebookContainer = gd.closest('#notebook-container');\n",
       "if (notebookContainer) {{\n",
       "    x.observe(notebookContainer, {childList: true});\n",
       "}}\n",
       "\n",
       "// Listen for the clearing of the current output cell\n",
       "var outputEl = gd.closest('.output');\n",
       "if (outputEl) {{\n",
       "    x.observe(outputEl, {childList: true});\n",
       "}}\n",
       "\n",
       "                        })                };                });            </script>        </div>"
      ]
     },
     "metadata": {},
     "output_type": "display_data"
    }
   ],
   "source": [
    "gp1.emotion_facet()"
   ]
  },
  {
   "cell_type": "code",
   "execution_count": null,
   "metadata": {},
   "outputs": [],
   "source": []
  }
 ],
 "metadata": {
  "kernelspec": {
   "display_name": "Python 3",
   "language": "python",
   "name": "python3"
  },
  "language_info": {
   "codemirror_mode": {
    "name": "ipython",
    "version": 3
   },
   "file_extension": ".py",
   "mimetype": "text/x-python",
   "name": "python",
   "nbconvert_exporter": "python",
   "pygments_lexer": "ipython3",
   "version": "3.6.10"
  }
 },
 "nbformat": 4,
 "nbformat_minor": 4
}
