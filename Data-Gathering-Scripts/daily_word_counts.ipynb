{
 "cells": [
  {
   "cell_type": "code",
   "execution_count": 1,
   "metadata": {},
   "outputs": [],
   "source": [
    "import string\n",
    "import pandas as pd\n",
    "from nltk.stem.wordnet import WordNetLemmatizer\n",
    "from nltk.tokenize import TweetTokenizer\n",
    "from nltk.corpus import stopwords"
   ]
  },
  {
   "cell_type": "code",
   "execution_count": 2,
   "metadata": {},
   "outputs": [],
   "source": [
    "def token_lem_tweets(tweet):\n",
    "    '''Cleans the raw Tweets and produces 3 word ngrams of the Tweets.\n",
    "    \n",
    "    Keyword argument:\n",
    "    tweet -- the Tweet to be processed\n",
    "    \n",
    "    Return:\n",
    "    tokenized words from the tweet text\n",
    "\n",
    "    ''' \n",
    "    # Create the tokenizer and lemmatizer\n",
    "    tokenizer = TweetTokenizer(strip_handles=True, reduce_len=True)\n",
    "    lemmatizer = WordNetLemmatizer()\n",
    "\n",
    "    # Tokenize the Tweet\n",
    "    tokenized = tokenizer.tokenize(tweet)\n",
    "    \n",
    "    # Some of the below code was found here: \n",
    "    # https://www.youtube.com/watch?v=7N_2OsLXFlA&list=PLmcBskOCOOFW1SNrz6_yzCEKGvh65wYb9&index=19\n",
    "    # Create variables that store the punctuation and stopwords to be removed\n",
    "    punctuation = list(string.punctuation)\n",
    "    swords = stopwords.words('english') + punctuation + ['rt', 'via', \n",
    "                                                         '...', 'u', \n",
    "                                                         'ur', 'r', \n",
    "                                                         'covid', 'coronavirus', \n",
    "                                                         'covid19'\n",
    "                                                        ]\n",
    "\n",
    "    # Create a list of lemmatized words, remove punctuation, stopwords and numbers\n",
    "    token_list = [lemmatizer.lemmatize(word) \n",
    "                  for word in tokenized \n",
    "                  if word not in swords \n",
    "                  and not word.isdigit()]\n",
    "    \n",
    "    return token_list\n",
    "\n"
   ]
  },
  {
   "cell_type": "code",
   "execution_count": 3,
   "metadata": {},
   "outputs": [],
   "source": [
    "reduced_df = pd.DataFrame(columns=['date', 'words', 'id'])"
   ]
  },
  {
   "cell_type": "code",
   "execution_count": 4,
   "metadata": {},
   "outputs": [
    {
     "name": "stderr",
     "output_type": "stream",
     "text": [
      "/Applications/anaconda3/lib/python3.6/site-packages/ipykernel_launcher.py:9: SettingWithCopyWarning: \n",
      "A value is trying to be set on a copy of a slice from a DataFrame.\n",
      "Try using .loc[row_indexer,col_indexer] = value instead\n",
      "\n",
      "See the caveats in the documentation: https://pandas.pydata.org/pandas-docs/stable/user_guide/indexing.html#returning-a-view-versus-a-copy\n",
      "  if __name__ == '__main__':\n",
      "/Applications/anaconda3/lib/python3.6/site-packages/ipykernel_launcher.py:10: SettingWithCopyWarning: \n",
      "A value is trying to be set on a copy of a slice from a DataFrame.\n",
      "Try using .loc[row_indexer,col_indexer] = value instead\n",
      "\n",
      "See the caveats in the documentation: https://pandas.pydata.org/pandas-docs/stable/user_guide/indexing.html#returning-a-view-versus-a-copy\n",
      "  # Remove the CWD from sys.path while we load stuff.\n",
      "/Applications/anaconda3/lib/python3.6/site-packages/ipykernel_launcher.py:16: SettingWithCopyWarning: \n",
      "A value is trying to be set on a copy of a slice from a DataFrame.\n",
      "Try using .loc[row_indexer,col_indexer] = value instead\n",
      "\n",
      "See the caveats in the documentation: https://pandas.pydata.org/pandas-docs/stable/user_guide/indexing.html#returning-a-view-versus-a-copy\n",
      "  app.launch_new_instance()\n"
     ]
    },
    {
     "name": "stdout",
     "output_type": "stream",
     "text": [
      "12698\n",
      "25502\n",
      "38006\n",
      "49778\n"
     ]
    },
    {
     "name": "stderr",
     "output_type": "stream",
     "text": [
      "/Applications/anaconda3/lib/python3.6/site-packages/ipykernel_launcher.py:9: SettingWithCopyWarning: \n",
      "A value is trying to be set on a copy of a slice from a DataFrame.\n",
      "Try using .loc[row_indexer,col_indexer] = value instead\n",
      "\n",
      "See the caveats in the documentation: https://pandas.pydata.org/pandas-docs/stable/user_guide/indexing.html#returning-a-view-versus-a-copy\n",
      "  if __name__ == '__main__':\n",
      "/Applications/anaconda3/lib/python3.6/site-packages/ipykernel_launcher.py:10: SettingWithCopyWarning: \n",
      "A value is trying to be set on a copy of a slice from a DataFrame.\n",
      "Try using .loc[row_indexer,col_indexer] = value instead\n",
      "\n",
      "See the caveats in the documentation: https://pandas.pydata.org/pandas-docs/stable/user_guide/indexing.html#returning-a-view-versus-a-copy\n",
      "  # Remove the CWD from sys.path while we load stuff.\n",
      "/Applications/anaconda3/lib/python3.6/site-packages/ipykernel_launcher.py:16: SettingWithCopyWarning: \n",
      "A value is trying to be set on a copy of a slice from a DataFrame.\n",
      "Try using .loc[row_indexer,col_indexer] = value instead\n",
      "\n",
      "See the caveats in the documentation: https://pandas.pydata.org/pandas-docs/stable/user_guide/indexing.html#returning-a-view-versus-a-copy\n",
      "  app.launch_new_instance()\n"
     ]
    },
    {
     "name": "stdout",
     "output_type": "stream",
     "text": [
      "62330\n",
      "74317\n",
      "85421\n",
      "96888\n"
     ]
    },
    {
     "name": "stderr",
     "output_type": "stream",
     "text": [
      "/Applications/anaconda3/lib/python3.6/site-packages/ipykernel_launcher.py:9: SettingWithCopyWarning: \n",
      "A value is trying to be set on a copy of a slice from a DataFrame.\n",
      "Try using .loc[row_indexer,col_indexer] = value instead\n",
      "\n",
      "See the caveats in the documentation: https://pandas.pydata.org/pandas-docs/stable/user_guide/indexing.html#returning-a-view-versus-a-copy\n",
      "  if __name__ == '__main__':\n",
      "/Applications/anaconda3/lib/python3.6/site-packages/ipykernel_launcher.py:10: SettingWithCopyWarning: \n",
      "A value is trying to be set on a copy of a slice from a DataFrame.\n",
      "Try using .loc[row_indexer,col_indexer] = value instead\n",
      "\n",
      "See the caveats in the documentation: https://pandas.pydata.org/pandas-docs/stable/user_guide/indexing.html#returning-a-view-versus-a-copy\n",
      "  # Remove the CWD from sys.path while we load stuff.\n",
      "/Applications/anaconda3/lib/python3.6/site-packages/ipykernel_launcher.py:16: SettingWithCopyWarning: \n",
      "A value is trying to be set on a copy of a slice from a DataFrame.\n",
      "Try using .loc[row_indexer,col_indexer] = value instead\n",
      "\n",
      "See the caveats in the documentation: https://pandas.pydata.org/pandas-docs/stable/user_guide/indexing.html#returning-a-view-versus-a-copy\n",
      "  app.launch_new_instance()\n"
     ]
    },
    {
     "name": "stdout",
     "output_type": "stream",
     "text": [
      "108797\n",
      "120854\n",
      "132240\n",
      "144578\n"
     ]
    },
    {
     "name": "stderr",
     "output_type": "stream",
     "text": [
      "/Applications/anaconda3/lib/python3.6/site-packages/ipykernel_launcher.py:9: SettingWithCopyWarning: \n",
      "A value is trying to be set on a copy of a slice from a DataFrame.\n",
      "Try using .loc[row_indexer,col_indexer] = value instead\n",
      "\n",
      "See the caveats in the documentation: https://pandas.pydata.org/pandas-docs/stable/user_guide/indexing.html#returning-a-view-versus-a-copy\n",
      "  if __name__ == '__main__':\n",
      "/Applications/anaconda3/lib/python3.6/site-packages/ipykernel_launcher.py:10: SettingWithCopyWarning: \n",
      "A value is trying to be set on a copy of a slice from a DataFrame.\n",
      "Try using .loc[row_indexer,col_indexer] = value instead\n",
      "\n",
      "See the caveats in the documentation: https://pandas.pydata.org/pandas-docs/stable/user_guide/indexing.html#returning-a-view-versus-a-copy\n",
      "  # Remove the CWD from sys.path while we load stuff.\n",
      "/Applications/anaconda3/lib/python3.6/site-packages/ipykernel_launcher.py:16: SettingWithCopyWarning: \n",
      "A value is trying to be set on a copy of a slice from a DataFrame.\n",
      "Try using .loc[row_indexer,col_indexer] = value instead\n",
      "\n",
      "See the caveats in the documentation: https://pandas.pydata.org/pandas-docs/stable/user_guide/indexing.html#returning-a-view-versus-a-copy\n",
      "  app.launch_new_instance()\n"
     ]
    },
    {
     "name": "stdout",
     "output_type": "stream",
     "text": [
      "156388\n",
      "169260\n"
     ]
    },
    {
     "name": "stderr",
     "output_type": "stream",
     "text": [
      "/Applications/anaconda3/lib/python3.6/site-packages/ipykernel_launcher.py:9: SettingWithCopyWarning: \n",
      "A value is trying to be set on a copy of a slice from a DataFrame.\n",
      "Try using .loc[row_indexer,col_indexer] = value instead\n",
      "\n",
      "See the caveats in the documentation: https://pandas.pydata.org/pandas-docs/stable/user_guide/indexing.html#returning-a-view-versus-a-copy\n",
      "  if __name__ == '__main__':\n",
      "/Applications/anaconda3/lib/python3.6/site-packages/ipykernel_launcher.py:10: SettingWithCopyWarning: \n",
      "A value is trying to be set on a copy of a slice from a DataFrame.\n",
      "Try using .loc[row_indexer,col_indexer] = value instead\n",
      "\n",
      "See the caveats in the documentation: https://pandas.pydata.org/pandas-docs/stable/user_guide/indexing.html#returning-a-view-versus-a-copy\n",
      "  # Remove the CWD from sys.path while we load stuff.\n",
      "/Applications/anaconda3/lib/python3.6/site-packages/ipykernel_launcher.py:16: SettingWithCopyWarning: \n",
      "A value is trying to be set on a copy of a slice from a DataFrame.\n",
      "Try using .loc[row_indexer,col_indexer] = value instead\n",
      "\n",
      "See the caveats in the documentation: https://pandas.pydata.org/pandas-docs/stable/user_guide/indexing.html#returning-a-view-versus-a-copy\n",
      "  app.launch_new_instance()\n"
     ]
    },
    {
     "name": "stdout",
     "output_type": "stream",
     "text": [
      "181410\n",
      "191753\n",
      "202211\n",
      "212443\n",
      "222698\n",
      "233275\n",
      "243799\n",
      "254352\n",
      "264545\n",
      "274792\n",
      "285220\n",
      "295663\n",
      "306513\n",
      "316832\n",
      "326805\n"
     ]
    },
    {
     "name": "stderr",
     "output_type": "stream",
     "text": [
      "/Applications/anaconda3/lib/python3.6/site-packages/ipykernel_launcher.py:9: SettingWithCopyWarning: \n",
      "A value is trying to be set on a copy of a slice from a DataFrame.\n",
      "Try using .loc[row_indexer,col_indexer] = value instead\n",
      "\n",
      "See the caveats in the documentation: https://pandas.pydata.org/pandas-docs/stable/user_guide/indexing.html#returning-a-view-versus-a-copy\n",
      "  if __name__ == '__main__':\n",
      "/Applications/anaconda3/lib/python3.6/site-packages/ipykernel_launcher.py:10: SettingWithCopyWarning: \n",
      "A value is trying to be set on a copy of a slice from a DataFrame.\n",
      "Try using .loc[row_indexer,col_indexer] = value instead\n",
      "\n",
      "See the caveats in the documentation: https://pandas.pydata.org/pandas-docs/stable/user_guide/indexing.html#returning-a-view-versus-a-copy\n",
      "  # Remove the CWD from sys.path while we load stuff.\n",
      "/Applications/anaconda3/lib/python3.6/site-packages/ipykernel_launcher.py:16: SettingWithCopyWarning: \n",
      "A value is trying to be set on a copy of a slice from a DataFrame.\n",
      "Try using .loc[row_indexer,col_indexer] = value instead\n",
      "\n",
      "See the caveats in the documentation: https://pandas.pydata.org/pandas-docs/stable/user_guide/indexing.html#returning-a-view-versus-a-copy\n",
      "  app.launch_new_instance()\n"
     ]
    },
    {
     "name": "stdout",
     "output_type": "stream",
     "text": [
      "337268\n"
     ]
    },
    {
     "name": "stderr",
     "output_type": "stream",
     "text": [
      "/Applications/anaconda3/lib/python3.6/site-packages/ipykernel_launcher.py:9: SettingWithCopyWarning: \n",
      "A value is trying to be set on a copy of a slice from a DataFrame.\n",
      "Try using .loc[row_indexer,col_indexer] = value instead\n",
      "\n",
      "See the caveats in the documentation: https://pandas.pydata.org/pandas-docs/stable/user_guide/indexing.html#returning-a-view-versus-a-copy\n",
      "  if __name__ == '__main__':\n",
      "/Applications/anaconda3/lib/python3.6/site-packages/ipykernel_launcher.py:10: SettingWithCopyWarning: \n",
      "A value is trying to be set on a copy of a slice from a DataFrame.\n",
      "Try using .loc[row_indexer,col_indexer] = value instead\n",
      "\n",
      "See the caveats in the documentation: https://pandas.pydata.org/pandas-docs/stable/user_guide/indexing.html#returning-a-view-versus-a-copy\n",
      "  # Remove the CWD from sys.path while we load stuff.\n",
      "/Applications/anaconda3/lib/python3.6/site-packages/ipykernel_launcher.py:16: SettingWithCopyWarning: \n",
      "A value is trying to be set on a copy of a slice from a DataFrame.\n",
      "Try using .loc[row_indexer,col_indexer] = value instead\n",
      "\n",
      "See the caveats in the documentation: https://pandas.pydata.org/pandas-docs/stable/user_guide/indexing.html#returning-a-view-versus-a-copy\n",
      "  app.launch_new_instance()\n"
     ]
    },
    {
     "name": "stdout",
     "output_type": "stream",
     "text": [
      "347911\n",
      "358110\n",
      "368382\n",
      "379442\n",
      "390594\n",
      "400810\n",
      "411111\n",
      "422178\n",
      "433188\n"
     ]
    },
    {
     "name": "stderr",
     "output_type": "stream",
     "text": [
      "/Applications/anaconda3/lib/python3.6/site-packages/ipykernel_launcher.py:9: SettingWithCopyWarning: \n",
      "A value is trying to be set on a copy of a slice from a DataFrame.\n",
      "Try using .loc[row_indexer,col_indexer] = value instead\n",
      "\n",
      "See the caveats in the documentation: https://pandas.pydata.org/pandas-docs/stable/user_guide/indexing.html#returning-a-view-versus-a-copy\n",
      "  if __name__ == '__main__':\n",
      "/Applications/anaconda3/lib/python3.6/site-packages/ipykernel_launcher.py:10: SettingWithCopyWarning: \n",
      "A value is trying to be set on a copy of a slice from a DataFrame.\n",
      "Try using .loc[row_indexer,col_indexer] = value instead\n",
      "\n",
      "See the caveats in the documentation: https://pandas.pydata.org/pandas-docs/stable/user_guide/indexing.html#returning-a-view-versus-a-copy\n",
      "  # Remove the CWD from sys.path while we load stuff.\n",
      "/Applications/anaconda3/lib/python3.6/site-packages/ipykernel_launcher.py:16: SettingWithCopyWarning: \n",
      "A value is trying to be set on a copy of a slice from a DataFrame.\n",
      "Try using .loc[row_indexer,col_indexer] = value instead\n",
      "\n",
      "See the caveats in the documentation: https://pandas.pydata.org/pandas-docs/stable/user_guide/indexing.html#returning-a-view-versus-a-copy\n",
      "  app.launch_new_instance()\n"
     ]
    },
    {
     "name": "stdout",
     "output_type": "stream",
     "text": [
      "444177\n",
      "454695\n",
      "464946\n",
      "466985\n"
     ]
    }
   ],
   "source": [
    "# bump up chunksize on final go and get rid of nrows arg\n",
    "# alltweetsdata is of length 4217125, 100k chunk size in theory leads to about 43 loops. \n",
    "\n",
    "cols = ['id', 'timestamp', 'text']\n",
    "for chunk in pd.read_csv(\"allTweetData.csv\", usecols=cols, chunksize=10**5):\n",
    "    all_tweets = chunk.drop_duplicates()\n",
    "\n",
    "    # Change the timestamp to datetime and create a date column\n",
    "    all_tweets['timestamp'] = pd.to_datetime(all_tweets['timestamp'])\n",
    "    all_tweets['date']  = all_tweets['timestamp'].dt.date\n",
    "\n",
    "    # Change all tweets to lowercase and remove any non-ASCII characters\n",
    "    # Found code from: \n",
    "    # https://stackoverflow.com/questions/36340627/remove-non-ascii-characters-from-pandas-column\n",
    "    all_tweets['text'] = all_tweets['text'].str.lower().str.encode('ascii', 'ignore'\n",
    "                                                                  ).str.decode('ascii')\n",
    "\n",
    "    # Remove all links and multiple hashes for one hashtagged word\n",
    "    all_tweets = all_tweets.replace({'text': {r\"http\\S+\": \"\", '#{1,}': \"\"}}, regex=True)\n",
    "\n",
    "    # Add the tokenized words column\n",
    "    all_tweets['words'] = all_tweets['text'].apply(token_lem_tweets)\n",
    "\n",
    "    # drop columns and explode the tokens to their own rows\n",
    "    all_tweets.drop(columns=['text', 'timestamp'], inplace=True)\n",
    "    all_tweets = all_tweets.explode('words')\n",
    "\n",
    "    # groupby stage\n",
    "    all_tweets = all_tweets.groupby(['date', 'words']).count()\n",
    "    all_tweets.reset_index(inplace=True)\n",
    "\n",
    "    # reduce stage\n",
    "    reduced = all_tweets[all_tweets['id'] > 20]\n",
    "    \n",
    "    reduced_df = reduced_df.append(reduced, ignore_index=True)\n",
    "    print(len(reduced_df))"
   ]
  },
  {
   "cell_type": "code",
   "execution_count": 5,
   "metadata": {},
   "outputs": [
    {
     "data": {
      "text/html": [
       "<div>\n",
       "<style scoped>\n",
       "    .dataframe tbody tr th:only-of-type {\n",
       "        vertical-align: middle;\n",
       "    }\n",
       "\n",
       "    .dataframe tbody tr th {\n",
       "        vertical-align: top;\n",
       "    }\n",
       "\n",
       "    .dataframe thead th {\n",
       "        text-align: right;\n",
       "    }\n",
       "</style>\n",
       "<table border=\"1\" class=\"dataframe\">\n",
       "  <thead>\n",
       "    <tr style=\"text-align: right;\">\n",
       "      <th></th>\n",
       "      <th>date</th>\n",
       "      <th>words</th>\n",
       "      <th>id</th>\n",
       "    </tr>\n",
       "  </thead>\n",
       "  <tbody>\n",
       "    <tr>\n",
       "      <th>133546</th>\n",
       "      <td>2020-03-22</td>\n",
       "      <td>corona</td>\n",
       "      <td>12592</td>\n",
       "    </tr>\n",
       "    <tr>\n",
       "      <th>145058</th>\n",
       "      <td>2020-03-20</td>\n",
       "      <td>corona</td>\n",
       "      <td>10670</td>\n",
       "    </tr>\n",
       "    <tr>\n",
       "      <th>147719</th>\n",
       "      <td>2020-03-24</td>\n",
       "      <td>corona</td>\n",
       "      <td>9905</td>\n",
       "    </tr>\n",
       "    <tr>\n",
       "      <th>146471</th>\n",
       "      <td>2020-03-23</td>\n",
       "      <td>corona</td>\n",
       "      <td>9679</td>\n",
       "    </tr>\n",
       "    <tr>\n",
       "      <th>354574</th>\n",
       "      <td>2020-08-26</td>\n",
       "      <td>exam</td>\n",
       "      <td>7699</td>\n",
       "    </tr>\n",
       "    <tr>\n",
       "      <th>...</th>\n",
       "      <td>...</td>\n",
       "      <td>...</td>\n",
       "      <td>...</td>\n",
       "    </tr>\n",
       "    <tr>\n",
       "      <th>387031</th>\n",
       "      <td>2020-06-13</td>\n",
       "      <td>strength</td>\n",
       "      <td>21</td>\n",
       "    </tr>\n",
       "    <tr>\n",
       "      <th>214126</th>\n",
       "      <td>2020-07-16</td>\n",
       "      <td>praise</td>\n",
       "      <td>21</td>\n",
       "    </tr>\n",
       "    <tr>\n",
       "      <th>214114</th>\n",
       "      <td>2020-07-16</td>\n",
       "      <td>postive</td>\n",
       "      <td>21</td>\n",
       "    </tr>\n",
       "    <tr>\n",
       "      <th>214091</th>\n",
       "      <td>2020-07-16</td>\n",
       "      <td>poisoned</td>\n",
       "      <td>21</td>\n",
       "    </tr>\n",
       "    <tr>\n",
       "      <th>466984</th>\n",
       "      <td>2020-07-04</td>\n",
       "      <td>wrong</td>\n",
       "      <td>21</td>\n",
       "    </tr>\n",
       "  </tbody>\n",
       "</table>\n",
       "<p>466985 rows × 3 columns</p>\n",
       "</div>"
      ],
      "text/plain": [
       "              date     words     id\n",
       "133546  2020-03-22    corona  12592\n",
       "145058  2020-03-20    corona  10670\n",
       "147719  2020-03-24    corona   9905\n",
       "146471  2020-03-23    corona   9679\n",
       "354574  2020-08-26      exam   7699\n",
       "...            ...       ...    ...\n",
       "387031  2020-06-13  strength     21\n",
       "214126  2020-07-16    praise     21\n",
       "214114  2020-07-16   postive     21\n",
       "214091  2020-07-16  poisoned     21\n",
       "466984  2020-07-04     wrong     21\n",
       "\n",
       "[466985 rows x 3 columns]"
      ]
     },
     "execution_count": 5,
     "metadata": {},
     "output_type": "execute_result"
    }
   ],
   "source": [
    "reduced_df.sort_values(by='id', ascending=False)"
   ]
  },
  {
   "cell_type": "code",
   "execution_count": 19,
   "metadata": {},
   "outputs": [],
   "source": [
    "x = list(reduced_df['date'].unique())"
   ]
  },
  {
   "cell_type": "code",
   "execution_count": 7,
   "metadata": {},
   "outputs": [
    {
     "name": "stdout",
     "output_type": "stream",
     "text": [
      "<class 'pandas.core.frame.DataFrame'>\n",
      "RangeIndex: 466985 entries, 0 to 466984\n",
      "Data columns (total 3 columns):\n",
      " #   Column  Non-Null Count   Dtype \n",
      "---  ------  --------------   ----- \n",
      " 0   date    466985 non-null  object\n",
      " 1   words   466985 non-null  object\n",
      " 2   id      466985 non-null  object\n",
      "dtypes: object(3)\n",
      "memory usage: 10.7+ MB\n"
     ]
    }
   ],
   "source": [
    "reduced_df.info()"
   ]
  },
  {
   "cell_type": "code",
   "execution_count": 22,
   "metadata": {},
   "outputs": [],
   "source": [
    "reduced_df.to_csv('word_counts_data.csv')"
   ]
  },
  {
   "cell_type": "code",
   "execution_count": 8,
   "metadata": {},
   "outputs": [],
   "source": [
    "# read in first 100k rows test\n",
    "\n",
    "# cols = ['id', 'timestamp', 'text']\n",
    "# chunk = pd.read_csv(\"allTweetData.csv\", usecols=cols, nrows=10**5)\n",
    "# chunk.columns\n",
    "\n",
    "# all_tweets = chunk.drop_duplicates()\n",
    "\n",
    "# # Change the timestamp to datetime and create a date column\n",
    "# all_tweets['timestamp'] = pd.to_datetime(all_tweets['timestamp'])\n",
    "# all_tweets['date']  = all_tweets['timestamp'].dt.date\n",
    "\n",
    "# # Change all tweets to lowercase and remove any non-ASCII characters\n",
    "# # Found code from: \n",
    "# # https://stackoverflow.com/questions/36340627/remove-non-ascii-characters-from-pandas-column\n",
    "# all_tweets['text'] = all_tweets['text'].str.lower().str.encode('ascii', 'ignore'\n",
    "#                                                               ).str.decode('ascii')\n",
    "\n",
    "# # Remove all links and multiple hashes for one hashtagged word\n",
    "# all_tweets = all_tweets.replace({'text': {r\"http\\S+\": \"\", '#{1,}': \"\"}}, regex=True)\n",
    "\n",
    "# # Add the tokenized words column\n",
    "# all_tweets['words'] = all_tweets['text'].apply(token_lem_tweets)\n",
    "\n",
    "# # drop columns and explode the tokens to their own rows\n",
    "# all_tweets.drop(columns=['text', 'timestamp'], inplace=True)\n",
    "# all_tweets = all_tweets.explode('words')\n",
    "\n",
    "# # groupby stage\n",
    "# all_tweets = all_tweets.groupby(['date', 'words']).count()\n",
    "# all_tweets.reset_index(inplace=True)\n",
    "\n",
    "# # reduce stage\n",
    "# all_tweets = all_tweets[all_tweets['id'] > 10]"
   ]
  },
  {
   "cell_type": "code",
   "execution_count": 9,
   "metadata": {},
   "outputs": [],
   "source": [
    "# print('length: ', len(all_tweets), 'column names: ', all_tweets.colummns)\n",
    "# all_tweets.sort_values(by='id', ascending=False)\n",
    "# all_tweets.info()"
   ]
  }
 ],
 "metadata": {
  "kernelspec": {
   "display_name": "Python 3",
   "language": "python",
   "name": "python3"
  },
  "language_info": {
   "codemirror_mode": {
    "name": "ipython",
    "version": 3
   },
   "file_extension": ".py",
   "mimetype": "text/x-python",
   "name": "python",
   "nbconvert_exporter": "python",
   "pygments_lexer": "ipython3",
   "version": "3.6.10"
  }
 },
 "nbformat": 4,
 "nbformat_minor": 4
}
